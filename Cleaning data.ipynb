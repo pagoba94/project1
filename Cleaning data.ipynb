{
 "cells": [
  {
   "cell_type": "markdown",
   "id": "f5e99045",
   "metadata": {},
   "source": [
    "Análisis de la especie de tiburón: examinar las especies de tiburones implicadas en los ataques para entender cuáles son las más agresivas y peligrosas para los seres humanos. ¿Es realmente el tiburón blanco el más peligroso? ¿Cual es el porcentaje de tiburones que atacan respecto al total de especies del mundo? ¿que porcentaje de tiburones ha atacado siendo provocado?"
   ]
  },
  {
   "cell_type": "markdown",
   "id": "310368b2",
   "metadata": {},
   "source": [
    "Analizar el perfil de las personas que han sido atacadas por tiburones, como su edad, género y actividad que realizaban cuando ocurrió el ataque."
   ]
  },
  {
   "cell_type": "code",
   "execution_count": 1,
   "id": "4832822e",
   "metadata": {},
   "outputs": [],
   "source": [
    "import pandas as pd\n",
    "df=pd.read_csv('data/attacks.csv', encoding='latin')"
   ]
  },
  {
   "cell_type": "code",
   "execution_count": 2,
   "id": "0acad87d",
   "metadata": {},
   "outputs": [
    {
     "data": {
      "text/html": [
       "<div>\n",
       "<style scoped>\n",
       "    .dataframe tbody tr th:only-of-type {\n",
       "        vertical-align: middle;\n",
       "    }\n",
       "\n",
       "    .dataframe tbody tr th {\n",
       "        vertical-align: top;\n",
       "    }\n",
       "\n",
       "    .dataframe thead th {\n",
       "        text-align: right;\n",
       "    }\n",
       "</style>\n",
       "<table border=\"1\" class=\"dataframe\">\n",
       "  <thead>\n",
       "    <tr style=\"text-align: right;\">\n",
       "      <th></th>\n",
       "      <th>Case Number</th>\n",
       "      <th>Date</th>\n",
       "      <th>Year</th>\n",
       "      <th>Type</th>\n",
       "      <th>Country</th>\n",
       "      <th>Area</th>\n",
       "      <th>Location</th>\n",
       "      <th>Activity</th>\n",
       "      <th>Name</th>\n",
       "      <th>Sex</th>\n",
       "      <th>...</th>\n",
       "      <th>Species</th>\n",
       "      <th>Investigator or Source</th>\n",
       "      <th>pdf</th>\n",
       "      <th>href formula</th>\n",
       "      <th>href</th>\n",
       "      <th>Case Number.1</th>\n",
       "      <th>Case Number.2</th>\n",
       "      <th>original order</th>\n",
       "      <th>Unnamed: 22</th>\n",
       "      <th>Unnamed: 23</th>\n",
       "    </tr>\n",
       "  </thead>\n",
       "  <tbody>\n",
       "    <tr>\n",
       "      <th>5599</th>\n",
       "      <td>1898.00.00.e</td>\n",
       "      <td>1898 (soon after the close of the Spanish-Amer...</td>\n",
       "      <td>1898.0</td>\n",
       "      <td>Unprovoked</td>\n",
       "      <td>CUBA</td>\n",
       "      <td>Santiago de Cuba Province</td>\n",
       "      <td>Off Santiago de Cuba</td>\n",
       "      <td>13 men in the water after sailboat capsized &amp; ...</td>\n",
       "      <td>seamen</td>\n",
       "      <td>M</td>\n",
       "      <td>...</td>\n",
       "      <td>NaN</td>\n",
       "      <td>J. E. Kirby, letter to Captain Dinning, dated ...</td>\n",
       "      <td>1898.00.00.e-13-men.pdf</td>\n",
       "      <td>http://sharkattackfile.net/spreadsheets/pdf_di...</td>\n",
       "      <td>http://sharkattackfile.net/spreadsheets/pdf_di...</td>\n",
       "      <td>1898.00.00.e</td>\n",
       "      <td>1898.00.00.e</td>\n",
       "      <td>704.0</td>\n",
       "      <td>NaN</td>\n",
       "      <td>NaN</td>\n",
       "    </tr>\n",
       "  </tbody>\n",
       "</table>\n",
       "<p>1 rows × 24 columns</p>\n",
       "</div>"
      ],
      "text/plain": [
       "       Case Number                                               Date    Year   \n",
       "5599  1898.00.00.e  1898 (soon after the close of the Spanish-Amer...  1898.0  \\\n",
       "\n",
       "            Type Country                       Area              Location   \n",
       "5599  Unprovoked    CUBA  Santiago de Cuba Province  Off Santiago de Cuba  \\\n",
       "\n",
       "                                               Activity    Name Sex   ...   \n",
       "5599  13 men in the water after sailboat capsized & ...  seamen    M  ...  \\\n",
       "\n",
       "     Species                              Investigator or Source   \n",
       "5599      NaN  J. E. Kirby, letter to Captain Dinning, dated ...  \\\n",
       "\n",
       "                          pdf   \n",
       "5599  1898.00.00.e-13-men.pdf  \\\n",
       "\n",
       "                                           href formula   \n",
       "5599  http://sharkattackfile.net/spreadsheets/pdf_di...  \\\n",
       "\n",
       "                                                   href Case Number.1   \n",
       "5599  http://sharkattackfile.net/spreadsheets/pdf_di...  1898.00.00.e  \\\n",
       "\n",
       "     Case Number.2 original order Unnamed: 22 Unnamed: 23  \n",
       "5599  1898.00.00.e          704.0         NaN         NaN  \n",
       "\n",
       "[1 rows x 24 columns]"
      ]
     },
     "execution_count": 2,
     "metadata": {},
     "output_type": "execute_result"
    }
   ],
   "source": [
    "df.sample()"
   ]
  },
  {
   "cell_type": "code",
   "execution_count": 3,
   "id": "cb84b4c0",
   "metadata": {},
   "outputs": [
    {
     "name": "stdout",
     "output_type": "stream",
     "text": [
      "['White shark', nan, '2 m shark', 'Tiger shark, 3m', 'Tiger shark', \"Lemon shark, 3'\", \"Bull shark, 6'\", 'Grey reef shark', 'Invalid incident', 'Tawny nurse shark, 2m', 'Shark involvement not confirmed', 'Questionable', '3 m shark', 'White shark, 3.5 m', 'White shark, 2.5 m', \"6' shark\", 'Juvenile bull shark', 'Bull shark', \"Tiger shark, 12'\", 'Wobbegong shark', '3.5 m shark', '1.8 m shark', 'Blacktip shark', 'Juvenile white shark,  2.7 to 3.2 m', 'Bull shark, 2 m', 'Possibly a wobbegong', 'Injury believed caused by an eel, not a shark', 'Galapagos shark?', '2m shark', 'Bull shark, 3 m ', 'Grey reef shark. 2 m', 'small shark', 'Wobbegong shark?', 'Juvenile nurse shark', \"Nurse shark. 5'\", 'Tiger shark, female', 'Some drowned but other may have been killed by blue sharks', 'White shark, 4.6 m', 'Cookiecutter shark', 'Wobbegong shark, 1 m', 'White shark, 4.5 m', 'Spinner shark, 4 to 5 feet', 'Tiger shark, 8 to 10 feet', \"8' shark\", 'Death may have been due to drowning', \"5' shark\", \"4' to 5' shark\", 'Porbeagle, 1.5 m', 'White shark, 3.5m', \"5' to 6' shark\", 'White shark, 3 to 3.5m ', 'Nurse shark', 'White shark, 3 m', 'Shark involvement questionable', \"White shark, 5' to 7'\", 'Possibly a juvenile blacktip shark', 'Oceanic whitetip shark, 1.8 to 2 m', \"4' shark\", \"White shark, 10'\", 'A small shark', \"Sandtiger shark  2'\", \"Blue shark 6'\", '\"A small shark\"', \"White shark, 11' to 13'\", \"White shark, 8' to 10'\", \"White shark, 9'\", \"Bull shark, 4' to 5'\", 'Tiger shark, 100 kg', 'Shark involvement prior to death not confirmed', 'No shark invovlement ', 'Bull shark, 2m', 'White shark, 4 m', 'Seven-gill shark', '3m shark, probably a smooth hound', \"3' shark\", \"9' shark\", 'Shark involvement highly doubtful', 'No shark invovlement - it ws a publicity stunt', \"Bull shark, 5' to 7'\", \"10' shark\", 'Lemon shark', 'Bull shark, 1.5', 'Lemon shark pup', \"White shark, female, 14'\", 'Caribbean reef shark', 'Bull shark, 4 m', 'Bull shark, 1 m', 'a small shark', 'Wobbegong shark, 2m', 'Broadnose sevengill shark, 1.5 m', \" 6' to 8' shark\", \"3' to 4' shark\", \"Tiger shark, 10'\", 'Invalid', 'Bull shark, 3.5 m', \"Tiger shark, 10' \", 'Blue shark', \"Nurse shark, 4'\", 'reef shark, 1m', \"White shark, 10' to 12'\", \"Lemon shark, 9'\", 'Angel shark', 'dogfish shark', 'Tawny nurse shark', \"Caribbean reef shark, 4.5'\", \"3' to 5' shark\", \"Said to involve an 8' shark but more likely damage caused by debris\", '3+ m shark', 'Mako shark', 'Bronze whaler sharks x 3', \"Blacktip shark, 4'\", \"Nurse shark, 2'\", \"Mako shark, 1.5 m [5'] \", 'Grey reef shark, 2 m', \"Bull shark, 7'\", 'Tiger shark, 2.5 m', 'Nurse shark, 2.5-ft', 'Bronze whaler', 'Sandtiger shark', 'No shark involvement', \"Reef shark, 5'\", 'Bull sharks x 2', \"Tiger shark, 14'\", \"Silky shark, 6.5'\", \"Bronze whaler shark, 6'\", 'Tiger shark, 1.5 m ', 'Galapagos shark', \"Spinner shark, 7'\", 'Bull shark, 2.8 to 3.1 m', \"Spinner shark, 5'\", \"Tiger shark, 7'\", 'Hammerhead sp.', \"Tiger shark, 13' \", \"Blacktip shark, 4' to 5'\", \"Blacktip shark, 5' to 6'\", \"White shark, 19'\", 'juvenile shark', \"Tiger shark, 13'\", 'Hammerhead shark', \"White shark, 11' to 12'\", 'Hammerhead shark.', \"4' shark?\", \"White shark, 10' to 12' \", \"White shark, 13'\", \"Hammerhead shark. 6' to 7'\", \"Blacktip or spinner shark, 4'\", \"Thought to involve a 3' to 4' shark, but shark involvement not confirmed\", 'White shark, 3.9 to 4.2 m', 'Mako shark, 100-lb', 'Bronze whaler shark, 1.5m', \"White shark, 7'\", 'Shark involvement not cofirmed', \"6' to 7' shark\", 'White shark, 2m to 3 m', \"Bull shark, 5'\", 'small nurse shark', 'Bull shark, 2.5 m', '1m to 1.2 m shark', '3- to 4-foot shark', 'White shark, 6 m', 'Blue shark, 8 to 9 feet', 'Tiger shark, 8 to 12 feet', 'Blacktip Reef shark ', 'Tiger shark, 3.5 m', '3.5 to 4 m shark', '2 m to  3 m shark', 'Bull shark, 1.3 m', '5 m shark', '1.5 m shark', 'White shark or oceanic whitetip shark', 'Raggedtooth shark, 1.3 m', 'White shark, 4 to 5 m', 'Shark involvement prior to death still to be determined', 'Shark involvement not confirmed & highly unlikely', 'Goblin shark', \"2' shark\", \"12' to 14' shark\", '1 m shark', \"Bull shark, 3' to 4'\", \"White shark, 18' to 20'\", \"8' to 10' shark\", '2 white shark: 13\\' & 9\"8\"', \"7' shark\", \"White shark, 12' to 14'\", 'Spinner shark', 'Spinner shark or blacktip shark', \"4' to 6' shark\", \"Bull shark, 4.5' \", 'reef shark', \" Bull shark, 8'\", \"Bull shark, 9' to 10'\", \" Bull shark, 5'\", \"4' tp 5' shark\", 'Possibly juvenile tiger shark', '1.8 metre shark', \"6' to 8' shark\", \" White shark, 7' \", \"Oceanic whitetip shark'\", \"Caribbean reef shark, 7' to 8'\", ' Lemon shark, 3.5 m', \" Sandbar shark, 3' to 4'\", ' Bull shark, 1.2m ', '3m shark', ' Tawney nurse shark, 1m', \" white shark, 15' \", 'Cow shark', 'reef shark?', ' Raggedtooth shark, 2m', '3 m to 4 m white shark', 'Blacktip or spinner shark?', 'Blacktip reef shark ', '7-gill shark?', '1m shark', '7-gill shark', 'Oceanic whitetip shark', 'Reported to involve a bull shark', 'White shark, 3m ', \"Tiger shark, 10' to 12'\", ' Wobbegong shark, 1.6 to 1.8m ', 'Tiger shark, 3m ', 'Thought to involve a white shark', \"White shark, 10 '\", 'Reported to involve a white shark', 'Blacktip reef shark, 1m', 'Thought to involve a bull shark', 'Reported to involve a 4 m white shark', \"Whitetip reef shark, 4' to 6'\", 'Nurse shark?', 'Small bull shark', 'Salmon shark', \"Mako shark, 5'\", 'Tiger shark?', \"Bull shark, 8'\", \"Bull shark, 6' to 8'\", \"Tiger shark, 8' to 10' \", \"Possibly a Bull shark, 3'\", \"Lemon shark, 4'\", 'Wobbegong, 2m', 'Grey nurse shark, 3m', 'Possibly a blacktip reef shark', 'shark involvement not confirmed', 'Raggedtooth shark, 1.5 m', 'Tiger shark, 4.8 m', 'Bronze whaler shark, 2.5m', '\"small sharks\"', 'White shark, 4m', 'White shark, 5m', \"Tiger shark, 15'\", 'Bronze whaler shark, 3m', '2.5 m shark', 'Bull shark, 2m ', \"Tiger shark, 6'\", \"2' to 3' shark\", \"Tiger shark, 8'\", \"Tiger shark, 10' to 12' \", \"White shark, 15' to 16' \", 'Possibly a 3 m bull shark', \"3.5' to 4' shark\", \"Porbeagle shark, 7'\", '4.5 m shark', \"Lemon shark, 4' to 5' \", 'Lemon shark, 2.5m to 3m ', 'White shark or bronze whaler', 'Salmon shark suspected, but unlikely', \"14' to 18'shark\", \"15' shark\", 'possibly a bull shark', 'a small reef shark', 'small blacktip shark?', 'Blacktip shark ', 'Blue shark, 2.5m', 'White shark, 2 m', '18\" to 24\" shark', 'Bull shark, 3m', \"Tiger shark, 8' to 9' \", 'White shark, 4 m to 5m ', 'White shark, 6m ', \"Tiger shark, 10'  \", 'White shark, 4m ', 'Possibly a bull shark', \"Possibly a 5' to 6' bull shark\", 'Tawny nurse shark, 40cm', 'Grey nurse shark', 'White shark, 7m', 'Blue shark, 70-kg blue shark', 'White shark, 2.7 m', 'Allegedly a 4 m tiger shark', \"7' to 8' shark \", 'White shark, 2.5m', \"White shark, 15' to 16'\", 'Raggedtooth shark', \"White shark, 15'\", 'Port Jackson shark, 1m', \"10' to 12' shark\", '2 to 2.5 m shark', 'Tiger shark, 2m', \"6' shark, possibly a blactip or spinner shark\", \"White shark, >6'\", \"Possibly a 5' to 6' sandtiger shark\", '4 m shark', 'Grey reef shark ', 'White shark, 3m to 4m', 'Bull shark, 3m female', \"White shark, 5' k\", \"Oceanic whitetip shark, 7'\", \"Sevengill shark, 6' to 8'\", 'Zambesi shark', ' Tiger shark, 2.8m', \"Sandbar shark, 8'\", \"Bull shark, 12'\", 'reef shark, 1.5m', \"1' to 2' shark\", 'possibly a bronze whaler shark', ' Bull shark, 2.5 m', 'Blacktip shark pup', 'Bull shark, 2.5m', '3 m to 4 m shark', 'White shark x 2', 'Oceanic whitetip shark, 2.5m ', 'Mako shark ', 'Oceanic whitetip shark, 2.5m, female', \"Porbeagle shark, 8' \", \"White shark, 14' to 18' \", 'Bull shark, 1.4m ', \"Possibly a 6' lemon shark\", 'Shark involvement prior to death was not confirmed', 'Possibly a small blacktip shark', \"Sandtiger shark, 4' to 5'\", 'A small spinner shark', 'Nurse shark, juvenile ', \"Blue shark, 7'\", '20 to 30kg shark', \"Lemon shark, 6'\", \"14' shark\", \"Oceanic whitetip shark, 6'\", 'Possibly a blue shark', 'Wobbegong shark, 1.6m', '2 m to 3 m shark', \"Spinner shark, 6'\", 'Thought to involve a juvenile hammerhead shark', 'Whitetip reef shark, 1m', 'Zambesi shark, 2m ', 'White shark, 2.8 to 3 m ', \"Sandtiger shark, 8'\", 'Thresher shark', \"Bull shark, 10'\", 'Spurdog', \"White shark, 5' to 6' juvenile \", 'White shark, 2m', 'Tiger shark, 12', 'Bull shark?', \"Caribbean reef shark, 6'\", \"Nurse shark, 6'\", 'Thought to involve a Bronze whale shark, 2m', 'Shark involvement probable, but not confirmed', 'Oceanic whitetip shark, 2.5 to 3m', '80 kg shark', \"5' to 8' shark\", 'blacktip or spinner shark', \"White shark, 12' to 15' female\", 'Bronze whaler shark?', 'Blacktip reef shark pup', 'Thought to involve a cookie cutter shark', 'Wobbegong shark, 60cm', 'Blue shark, 1m', '2.6 m shark', 'White shark, 2.5m ', 'Bull shark, 2.7 m ', \"White shark, 12' \", 'White shark, 5.5 m ', 'White sharks', 'Dusky shark, 2m', 'Mako shark, 3m', 'Broadnose sevengill shark', 'White shark, 4m to 5m ', '4 to 5m white shark', 'Raggedtooth shark, 2m', 'White shark, 4.5 to 5 m ', 'Zambesi shark?', 'Bronze whaler shark', ' reef shark, 1.8m', '5 m white shark', \"+3' shark\", \"2' to 3' juvenile shark\", \"White shark, 14' to 16' \", \"8' bull shark or Caribbean reef shark\", \"8' white shark or 7-gill shark\", \"3'  shark\", \"2'  shark\", \"2' to 3' reef shark\", 'Starry smoothhound shark, 1m', \"Bull shark, 6' to 7'\", 'White shark, 4.5m', \"4.5 to 5' shark\", 'Basking shark', 'Tiger sharks in area', '2 small bull sharks', 'Bull shark, 1.8m', \"White shark, 12' to 15'\", 'Tiger shark, 2.3m ', \"Tiger shark, 13' female\", 'Reported by media as shark attack, but shark involvement prior to death was not confirmed', 'Shark involvement not confirmed; thought to be a barracuda bite', \"1.5' to 2' shark\", \"2.5' shark\", 'A bull shark, according to some of the divers on the boat', \"Goblin shark, 4.2'\", 'Blacktip shark, 2m', 'Mako shark, 90kg', 'Bronze whaler shark, 4m', \"Nurse shark, 10'\", 'Possibly a hammerhead shark', '\"a small shark\"', 'Not a shark attack; it was a hoax', '2.27 m shark', '1.5 to 2 m shark', \"Blacktip shark, 5'\", 'Oceanic whitetip sharks were in the vicinity', 'Gray reef shark', \"9.5' shark?\", \"Nurse shark, 2' to 3' \", 'Possibly a spinner shark', \"White shark, 12'\", 'Sand shark', \"Possibly a 6' bull shark\", ' ', \"Possibly a 10' bull shark\", 'Bronze whaler shark, 1.5 m ', \"3' small spotted catshark, Scyliorhinus canicula\", \"Bull shark, 5' \", 'Questionable Incident', \"Lemon shark, 6' female \", 'A 10-year-old 94-pound pregnant blacktip reef shark', 'Lesser spotted dogfish, Scyliorhinus canicula, less than 80 cm in length', 'White shark, 2m ', \"Tiger shark, 14' \", 'Lemon shark, >1 m ', \"Bull shark, 10' \", 'White shark, 3m', '2.4 m shark', '24\" to 30\" shark', \"6' to 8' shark, possibly a tiger shark\", '2.5 to 3 m shark', '2 to 3 m shark', \"White shark, 12' to 15' \", 'Raggedtooth shark, 150-kg', 'White shark, 5m ', 'Bull shark, 1.5m ', \"White shark, 16' \", \"1' to 4' shark\", \"3' to 3.5' shark\", 'White shark, 3.5m ', 'small catsharks', 'White shark?', 'Thought to involve a mako shark, but possibly a sea lion', \"Bull shark, 4' to 5' \", 'Angel shark, 1.2m ', 'Shark involvement not confirmed, injury may have been caused by a bluefish', 'Bull or tiger shark', \"5' to 6' spinner or bull shark\", '1.8 m blacktip \"reef\" shark', \"Possibly a 1' to 3' blacktip or spinner shark\", \"14' white shark\", \"Tiger shark, 8' to 12'\", \"Tiger shark, 15' female\", \"Grey reef shark, 5' to 8' \", 'Wobbegong shark, 2 m ', \"Bull shark, 4' to bull shark\", 'Bronze whaler shark, a  juvenile ', 'Raggedtooth shark, 2.5 m to 3 m ', '3 m, 600-kg shark', \"Tiger shark, 5' \", 'Bronze whaler shark, 2 m', \"5' to 7' shark\", '4.5 m white shark', \"12' to 18' shark\", \"12' shark\", '3.5 m white shark', 'Said to involve a 1.5 m shark', 'Whitetip reef shark', '4 m white shark', '3 m white shark', 'Raggedtooth shark, 2.5m ', \"12' to 14' white shark\", \"18' white shark\", \"Tiger shark, less than 10'\", 'Caribbean reef sharks', 'Tiger shark, 3 m ', \"14' to 16' white shark\", \"4 m [13'] white shark\", \"2 m [6.75'] shark, 200-kg shark T\", 'juvenile white shark', 'Possibly a sandbar shark or small blacktip shark', \"1.8 m [6'] shark\", \"3.5 m [11.5']shark\", \"[4.5' to 5'] shark\", \"[4' to 5']\", \"1.8 m [6'] bull shark\", 'On 8/13/2005 anglers from New Zealand caught a 2.8 m [9\\'3\"], 140-kg [309-lb] shark at the same spot. It was believed this was the same shark that killed Alysha', 'Unknown, but it was reported that a shark tooth was recovered from the wound', \"3 m [10'] white shark\", \"Mr. Burgess of ISAF announced the injury was the bite of a 1.8 m [6'], 2- to 3-year old white shark. Subsequent investigation revealed there was  no shark involvement in this incident\", '\"small shark\"', '18\" to 36\" shark', \"Tiger shark, 3 m [10']\", \"2 m [6.75'] copper shark\", \"1.8 m [6'] blacktip shark\", 'small hammerhead shark', \"4 m [13'] shark\", \"6 m [20'] white shark\", \"Sandtiger shark, 2.1 m [7'] \", \"Bronze whaler shark, 4.3 m [14'] \", \"Nurse shark, 3' \", \"Tiger shark, 2.4 m [8']\", \"1.8 m [6'] Caribbean reef shark\", \"3 m [10'] shark\", \"Bronze whaler shark, 2 m to 3 m [6.75' to 10']  \", '4.5 m & 5 m white shark ', \"5.5 m [18'] white shark\", \"2.5 m [8.25'] bull shark\", \"2 m [6.75'] white shark\", \"Bronze whaler shark, 2.4 m [8'] \", \"1.8 m to 2.4 m [6' to 8'] white shark\", \"Tiger shark, 2.4 m to 3.7 m [8' to 12'] \", \"Raggedtooth shark, 1.5 to 2 m [5' to 6.75']\", 'Thought to involve a 2.5 m bull or tiger shark', \"Tiger shark, 3 m [10'] \", \"2.4 m [8'] shark\", \"0.9 m to 1.2 m [3' to 4'] white shark\", \"4.9 m to 5.5 m [16' to 18'] white shark\", \"1.2 m [4'] shark\", \"3 m to 4 m [10' to 13']  white shark\", \"1.2 m to 1.5 m [4' to 5'] shark\", \"Longfin mako shark, 3.5 m [11.5'], 350-kg [772-lb] \", '2 sharks, 4.5 m & 3 m ', '\"black tipped\" shark', '9\\'2\" white shark', \"Bronze whaler shark, 2.5 m [8.25'] \", \"0.9 m to 1.5 m [3' to 5'] shark\", \"2.4 m to 3.7 m [8' to 12'] shark\", \"1,5 m [5'] Caribbean reef shark (Carcharhinus  perezi)\", \"Mako shark, 1.8 m [6']\", \"Wobbegong shark, 1.2 m [4'] k\", \"White shark, 5.5 m [18']\", 'small sharks', \"5 m [16.5'] white shark\", \"1.2 m [4'] bull shark\", 'bull shark', \"Tiger shark, 2.4 m to 3 m [8' to 10'] \", \"Bronze whaler shark, 1.5 m [5'] \", \"2 m [6.75'] sevengill  shark\", '60 cm [23.6\"] blind or brown shark', \"4 m to 5 m [13' to 16.5'] white shark\", 'Possibily a  1.5 to 2 m sandtiger shark', 'Shark involvement doubtful', 'Bull shark, 1.65 m [5\\'5\"] was speared & killed', 'Bull shark, 132-kg [291-lb] ', \"Mako shark, 3 m to 4 m [10' to 13'] \", \"Raggedtooth shark, 3.5 m [11.5'] \", 'Shortfin mako shark', \"Wobbegong shark, 1.2 m [4'] \", \"Tiger shark, 4 m [13']  ?\", '2.5 oceanic whitetip shark', \"Nurse shark, 60 cm to 90 cm [2' to 3'] \", \"1.5 m [5'] shark, either a bronze whaler or a grey nurse shark\", '1.2 m [4\\'] \"grey-colored shark\"', '2 m cow shark', \"4.5 m to 5.5 m [15' to 18'] white shark\", \"3.5 m [11.5'] white shark\", 'Unidentified species', \"1.5 m to 1.8 m [5' to 6'] shark\", \"2.1 m  [7'] bull shark\", \"8' great hammerhead shark\", \"106 cm [3.5']  shark\", '\\x93small brown shark\\x94', \"3.7 m to 4.3 m [12' to 14'] shark\", '\"sand shark\"', \"1.8 m [6'] reef shark - or a 2.1 m to 2.4 m [7' to 8'] grey-colored shark\", \"0.9 m to 1.2 m [3' to 4'] shark\", 'A \\x93small\\x94 shark', '15 cm to 20 cm [6\" to 8\"] bite diameter just below left knee', \"Mako shark, 3 m [10']\", \"60 cm [2'] captive shark\", \"2.5 m [8.25'] white shark\", 'Species unidentified', \"Thought to involve a 2 m [6.75'] grey nurse shark\", \"Thought to involve a >2 m [6.75'] bull shark\", 'Reported to involve a hammerhead shark', 'White shark, 4 m white shark', 'Wobbegong shark, 1m', 'Shark involvement not confirmed, injury may be due to a stingray', \"3 m to 4.5 m [10' to 15'] white shark\", \"2.4 m to 3 m [8' to 10'] grey colored shark\", \"1.8 m to 2.1 m [6' to 7']\\xa0 Caribbean Reef Shark \", 'Possibly a bull shark or tiger shark', 'Blacktip or spinner shark', \"3.5' to 4.5' shark\", \"1.2 m [4'] blacktip shark\", \"Tiger shark, 1.5 m [5']k\", \"3 m to 3.7 m [10' to 12'] shark\", \"1' to 2' hammerhead or bonnethed shark\", \"0.9 m  to 1.2 m [3' to 4'] shark\", \"Nurse shark, 1.5 m [5'] \", \"Sandtiger shark, 3 m [10'] \", \"1.2 m [4'] blacktip or sandbar shark\", \"Bull shark, 1.8 m to 2.1 m [6' to 7'] \", 'Mako shark, 400-lb ', \"1.2 m to 1.5 m [4' to 5'] shark, possibly a bull shark\", \"Tiger shark, 2.4 m to 2.7 m [8' to 9']  \", \"0.9 m to 1.2 m [3' to 4'] shark; Tooth fragment recovered from hand\", '\\xa0 ', \"1.5 to 2.5 m [5' to 8.25'] copper shark\", \"3.7 m to 4.3 m [12' to 14'] white shark\", '1 m  shark', \"3' blacktip shark\", \"2.1 m to 2.4 m [7' to 8'] shark\", \"White shark, 6m [20']\", 'Bull shark, 400-lb ', \"0.9 m [3'] shark\", 'Nurse shark, 1m ', \"Spinner shark, 3' to 4' \", 'Shark involvement prior to death unconfired', '1.5 m [5\\'] \"whaler shark\"', 'C. leucas tooth fragment recovered from kayak', 'Unidentified', \"Tiger shark, 1.8 m [6'] \", \"Mako shark, 2 m [6.75'] \", \"Tiger shark, 1.8 m [6']\", 'Questionable incident - shark bite may have precipitated drowning', \"2' to 3.5' shark\", \"12' sandtiger shark\", 'A large white shark was filmed by divers on a local wreck 2 days prior to the incident.', \"1.5 m [5'] shark\", \"3 m [10'] bull shark\", 'Possibly  a blacktip or spinner shark', \"3' shark, possibly  a blacktip or spinner shark\", \"Blacktip shark, 5' to 6' \", \"1.9 m [6.5'] bull shark\", \"Mako shark, 14' \", \"0.9 m  [3'] shark\", \"Bull shark, 2.3 m [7.5'] \", \"White shark, 2.4 m to 3 m [8' to 10'] \", \"1.2 m to 1.5 m [4.5' to 5'] shark\", \"White shark, 2.7 m to 3 m [9' to 10'] \", 'Possibly a juvenile blacktip or spinner shark', \"Possibly a 1.5 m [5'] blacktip or spinner shark\", '1 m shark, possibly whitetip reef shark', \"White shark, 2.7 m [9'] \", \"Spinner shark, 1.2 m to 1.5 m [4' to 5'] \", \"Tiger shark, 8' \", \"White shark, 5 m [16.5'] \", \"Bronze whaler shark, 2.5 m [8.25']  k\", \"2 m [6.75'] shark\", \"White shark, 4.3 m [14'] \", '1.8 m to 2.4 m [6\\' to 8\\'] \"black finned shark\"', \"6 m [20'] shark\", 'White shark, 4.5 m [14\\'9\"] ', \"Porbeagle shark, 3 m [10']rk\", 'Tiger shark, 4 m ', \"1.2 m to 1.8 m [4' to 6'] shark\", \"White shark, 4.9 m [16'] \", \"Tiger shark, 1.8 m to 2.4 m [6' to 8'] \", \"2.1 to 2.4 m [7' to 8'] shark\", \"Blacktip shark, 2' \", \"White shark, 4.3 m [14']\", \"White shark, 4 m to 5 m [13' to 16.5'] \", '100-kg [221-lb] dead blue shark', 'White shark, 2.5 m ', \"60 cm to 90 cm [2' to 3'] shark\", \"White shark, 3.5 m [11.5']  male \", 'Thought to involve a Zambesi shark', \"A 2' shark was seen in the area by witnesses\", \"Thought to involve a 2.7 m [9'], 400-lb bull shark\", 'Tiger shark, 3.7 m to 4.5 m [12\\' to 14\\'9\"]  ', \"Blacktip shark, 2.4 m to 3 m [8' to 10'] \", 'Shark involvement  not confirmed', \"Nurse shark, 1.5 m [5']\", \"1.8 m [6'] grey-colored shark\", \"Grey reef shark, 2 m [6.75'] \", \"Lemon shark, 2.1  m to 2.4 m [7' to 8'] \", \"Tiger shark, 0.9 m to 1.5 m [3' to 5'] ?\", \"Nurse shark, 1.2 m [4'] \", \"0.9 m [3'] shark,  probably a blacktip or spinner shark\", \"Bull shark, 2.4 m [8']\", \"Blacktip shark, 1.2 m to 1.8 m [4' to 6'] \", 'Tiger sharks & bull sharks (20 sharks in all)', \"Tiger shark, 4 m [13'] ?\", \"2 m to 2.5 m [6.75'  to 8.25'] shark\", 'Shark involvement  questionable', \"Shortfin mako shark, 3 m to 3.4 m [10' to 11'] \", 'Miami, a 60 cm blacktip  shark and two 60 cm bamboo catsharks', 'Sevengill shark', 'Thought to involve a white, bull or tiger shark', \"White shark, 3 m [10'] \", '1.3 to 1.6 m shark', \"Grey reef shark, 1.2 m [4'] \", \"Lemon shark, 2.7 m [9'] \", \"Said to involve a 7 m [23'] white shark\", \"2.7 m [9']  bull shark or Caribbean reef shark\", \"White shark, 3 m to 5 m [10' to 16.5'] \", \"Bull shark, 2.1 m [7']\", \"Blacktip shark, 1.8 m [6'] \", \"White shark, 4 m [13'] \", \"Tiger shark, 2.5 m [8.25']\", 'Grey reef shark, 1.5 m ', '3 bull sharks', \"Sevengill shark, 2.4 m [8'] \", '200 to 300 kg shark', 'Mako shark, 1.3 m gaffed ', \"3.7 m to 4.6 m [12' to 15'] shark seen in the vicinity\", 'Bronze whaler or tiger shark', \"White shark, 4.6 m [15'] \", 'Possibly a white shark', 'A \"small shark\"', \"White shark, 5 m  to 6 m [16.5' to 20'] \", 'Though to involve a white shark', \"White shark, 5 m to 6 m [16.5' to 20'] \", \"Dusky shark, 12' \", \"Caribbean reef shark, 1.2 m to 1.5 m [4' to 5'] \", \"4.5' to 5' shark\", 'Sandtiger shark, 2 m, male ', \"White shark, 4.9 m [16']\", \"Raggedtooth shark, 1.2 m [4'] \", 'Thought to involve a 5.5 m white shark named Kong', \"3 m to 4 m [10' to 13'] white shark\", \"Lemon shark, 1.5 m [5'], identified  by the surfer\", \"1.8 m [6'] shark, possibly a blacktip\", \"Nurse shark, 0.9 m [3'] \", \"5' spinner shark\", '1.7 m shark', 'Small dusky shark or blackfin shark', 'sandtiger shark', 'Shark involvement prior to death suspected but not confirmed', \"Tiger shark, 4 m to 4.3 m [13' to 14'] \", 'Possibly a blacktip shark', 'Soupfin shark', 'small blacktip shark', \"Tiger shark, 5.2 m [17']\", 'Thought to involve an oceanic whitetip shark or a white shark', '\"juvenile shark\"', \"Tiger shark, 2.7m  [9']\", \"1.2 m [4'] shark (spinner shark?)\", 'Possibly a sand shark', 'Possibly a Caribbean reef shark', '3.7m  to 4.2 m white shark', 'Tiger shark, 2m to 3m ', \"1.8 m to 2.1 m [6' to 7'] shark\", 'Tiger shark, 4.5 m [14\\'9\"]', \"3 m to 5 m [10' to 16.5'] white shark\", \"5.5 m to 6 m [18' to 20'] white shark\", '\"a young shark\"', \"Tiger shark, 2.4 m [8'] \", \"1.8 m to 2.1 m [6' to 7'] hammerhead shark\", 'said to involve an oceanic whitetip shark', \"2.5 m [8.25'] white shark \", \"60 cm to 90 cm [2' to 3'] blacktip or spinner shark\", 'nurse shark', '\"reef shark\"', \"Nurse shark, 0.9 m  [3'] \", 'Possibly a tiger shark', \"Mako shark, 4.3 m [14']\", 'Tiger shark, 300-kg [662-lb] ', \"Tiger shark, 2.5 m [8.25'] \", \"1.2 m to 1.5 m [4' to 5']   shark\", \"1.5 to 1.8 m [5' to 6'] shark\", \"3 m to 3.7 m [10' to 12'] bull shark\", '\"sand\" shark', \"Two 1.2 m to 1.5 m [4' to 5'] sharks\", 'White shark (tooth fragment recovered)', \"Tiger shark, 3.7 m [12'] \", 'Though to involve a tiger shark', \"3.7 m [12'] shark\", 'Bronze whaler shark, 2 m ', 'Leopard shark', \"5 m to 5.5 m [16.5' to 18'] white shark\", \"Raggedtooth shark, 2.7 m [9'] \", \"2.7 m [9'] shark\", 'Thought to involve a small sand shark', 'Small shark', \"3 to 3.5 m [10' to 11.5'] bull shark\", \"1.2 m [4'] spinner shark\", \"2.1 m [7'] shark\", \">1.8 m [6'] shark\", \"3 m [10'], 200-kg [441-lb] bull shark\", '4.9 m white shark', '3.6 m [11\\'9\"] white shark', \"Lemon shark, 4' \", '1.3 m [4\\'3\"] shark', \"Tiger shark said to be 5 to 7 m [16.5' to 23'] \", \"On 11-Jan-1994, his remains washed ashore. A 2.4 m [8'] tiger shark thought to be involved\", 'Tiger shark caught 6 days later with diver\\x92s remains in its gut', \">6 m [20'] white shark\", \"3.7 m [12'] white shark\", \"1.8 m [6'] blacktip shark or Caribbean reef shark\", '>6 m white shark, according to witnesses', \"5.5 m to 6 m [18' to 20']  white shark\", \"1.8 m to 2.4 m [6' to 8'] shark, tooth fragments recovered \", 'Thought to involve a tiger shark', \"Remains recovered from 5.5 m [18'] white shark\", 'Possiby white shark', \"Tiger shark, 3.7 m [12'], (tooth fragment recovered from wound)\", \"Two 3 m [10'] oceanic whitetip sharks\", \"Tiger shark, 3 m to 4.9 m [10' to 16'] \", \"Mako shark, 1.8 m [6']  \", \"6' to 7' blacktip shark\", '5 m to 6 m white shark', '3 m hammerhead shark', 'Unidentified shark', \"Tiger shark, 3 m to 3.7 m [10' to 12'] \", \"Tiger shark, 4.3 m [14'] \", '4.2 m white shark', \"4 m to 5 m [13' to 16.5']  white shark \", 'Questionable incident', \"Nurse shark, 3', 20-lb \", 'Bull shark or lemon shark', 'White shark, identification by K. Nakaya', \"Tiger shark, 3 m to 4 m [10' to 13'] \", \"4 m [13'], 590-kg white shark\", '>2 m shark', 'Bronze whaler shark, 3 m', \"5 m [16.5'] white shark, identification by K. Nakaya\", \"Said to involve a 6 m to 7 m [20' to 23'] white shark\", \"5 m [16.5'] shark\", '1.8 m grey shark', \"Bronze whaler shark, 2.3 m [7.5'] \", \"Zambesi shark, 1.7 m [5.5'] \", \"Possibly a 1.5 m [5'] blacktip shark\", \"Tiger shark, 2.4 m 3.4 m [8' to 11']  \", \"5 m to 6 m [16.5' to 20'] white shark\", \"3 m [10'], 270- kg [595-lb] shark\", 'sand shark', 'Lemon shark, 30-lb ', \"2.1 m [7'], 140-lb reef shark\", \"Tiger shark, 3 to 4 m [10' to 13'] \", \"2.7 m [9'] bull or lemon shark\", \"Tiger shark, >3 m [10']\", '3.5 m [11.5\\'] female white shark named \"Notchfin\"', '170-kg, 2.8 m shark', \"7' female shark\", '\"Shark had a very large girth\"', 'Grey nurse shark, 2 m', \"1.8 m [6'] shark \", \"4' spinner shark\", \"1.8 m to 2.4 m [6' to 8'] shark\", \"5 m  [16.5'] white shark\", \"2.5 m to 3 m [8.25' to 10']  white shark\", 'Shark involvement prior to death could not be determined', '4.5 m [14\\'9\"] white shark', '6 m, 600-kg shark', '2 m hammerhead', \"5.5 m [18'] white shark, identified by witnesses & tooth marks\", \"2.3 m [7.5'] white shark, identified by M. Smale\", \"Two sharks seen in vicinity: 2.4 m & 4.25 m  [8' & 14'] TL\", 'Tiger shark, 2m ', '2 m shark, possibly a bronze whaler', \"2.7 m [9'] white shark\", 'Shark involvement suspected but not confirmed', 'White shark, identified by tooth pattern', '150-lb shark', '4 to 5 m white shark', \"4 m to 5 m [13' to 16.5']  white shark\", 'Sandbar shark', 'Blue Shark ', \">3.4 m [11'] white shark\", \"Bronze whaler shark, 3 m [10'] \", \"1.8 m [6'] sandtiger shark\", '5 m to 7 m white shark', 'Tiger shark, 3.5 m ', \"3 m [10'] gaffed shark\", \"1.8 m to 2.4 m [6' to 8'] hammerhead shark\", \"Tiger shark, 4 m [13'] \", \"7' silvertip shark\", \"16' white shark\", \"2.4 m to 3 m [8' to 10'] white shark\", '2 m to 2.5 m shark', \"1.5 m [5'] Caribbean reef shark\", 'Sand shark?', \"1.5 m to 2 m [5' to 6.75'] shark\", 'Raggedtooth shark, 2 m ', '1 m \"grey-colored\" shark', 'Zambezi shark (tooth fragments recovered)', \"Mako shark, 3 m [10'], 200-kg [441-lb] \", '1.5 m copper shark', '6 m shark', '40 to 50 sharks attacked survivors in the water', \"3.5 m [11.5']  white shark\", '5.7 m white shark', \"1.5 m [5'] blacktip shark\", '4.3 m shark', 'Bronze whaler shark, 2 m to 3 m ', \">2.5 m [8.25'] white shark\", 'Doubtful / Unconfirmed attack / Unable to verify in local records', \"Raggedtooth shark, 2.5 m [8.25'] \", \"1.8 m to 2.1 m [6' to 7'] spinner or blacktip shark\", 'Raggedtooth shark, 1.96 m, 140-kg ', \"Lemon shark, 1.8 m to 2.4 m [6' to 8'], tooth fragment recovered\", '1.6 m shark', \"Tooth fragment of a white shark recovered. Authorities believed shark was 6 m [20']  total length\", \"1.2 m [4'] dusky shark\", '>1 m shark', \">2.4 m [8'] white shark\", \"Raggedtooth shark, 2 m [6.75'] \", 'Bronze whaler shark, 3.5 m ', '5.2 to 5.8 m white shark', \"2 m to 2.5 m [6.75'  to 8.25'] sixgill or sevengill shark\", \"Thought to involve a Tiger shark,  3.7 m [12'] \", \"6', 100-lb shark\", '1.8 m silky shark', 'Possibly a small hammerhead shark', \"Tiger shark, 2.4 m to 2.7 m [8' to 9'] \", '3 m to 3.6 m  [10\\' to 11\\'9\"] white shark', '30-kg [66-lb] shark', '3.5 m white shark, tooth fragments recovered', \"1.5 m [5'] dusky shark\", 'Shark involvement not confirmed; officials considered barracua', 'Hammerhead shark?+O2356', 'small blue shark', '4.5 m to 5 m white shark', '4.5 m to 5.5m white shark', 'Raggedtooth shark ', \"2.4 m [8'] white shark\", \"1.2 m to 1.5 m [4' to 5'] hammerhead shark\", \"2.5 m [8.25'] shark\", 'Raggedtooth shark, 56-kg [123-lb] ', \" 1.5 m [5'] dusky shark\", '1.5 m white-tipped reef shark', 'Raggedtooth shark, 1 m ', \"12' white shark\", 'Raggedtooth shark, >1 m ', '.5 m shark', \"4.5' shark\", \"6' to 8' bull shark\", \"Tiger shark, 5 m [16.5']\", \"3 m to 4 m [10' to 13'] shark\", \"3.5' hammerhead shark\", \"6' blacktip shark\", \"Raggedtooth shark, 1.5 m [5'] (tooth fragment recovered)\", \"1.8 m [6'] Zambezi shark\", 'Blue sharks', 'Believed to involve a 2.8 m [9\\'3\"] white shark', 'Questionable incident; reported as shark attack but thought to involve a pinniped instead ', \"2.1 m [7'] shark, possibly a spinner shark\", \"2.4 m [8'] white shark, species identity confirmed by tooth fragment\", \"4.5 m to 5.5 m [14.7' to 18'] white shark\", 'Reported as a shark attack, the story was a hoax', \"2.4 m [8'] white shark, species identity confirmed by witnesses & tooth pattern in surfboard\", 'Lemon shark, 2 m [6\\'9\"]', '1.2 m to 1.5 m [4\\' to 5\\'] \"reef shark\"', \"5.5 m [18''] white shark\", \"7 m [23'] white shark\", \"Tiger shark, 3.7 m [12']\", \"3.5 m [11.5'], 510-kg [1125-lb] hooked & shot white shark\", '2.1 m [7\\'] shark with \"a very flat head\\x94 that had followed the boat for 3 days', 'Said to involve a tiger shark or a hammerhead shark', \"1.8 m [6'] shark, species identity questionable\", 'Shark involvement prior to death remains unconfirmed', 'Mako shark (tooth fragments recovered)', '\"sandshark\"', \"Possibly a  1.8 m [6'] Zambezi shark\", '\"gray shark\"', \"13', 400-lb thresher shark\", '6 m  white shark', \"Tiger shark, 2.1 m [7']\", \"1.2 m to 1.5 m [4' to 5'] bull, sandbar or dusky shark\", 'C. maculpinnis or C. limbatus', 'Juvenile dusky or blacktip shark', '1 m hammerhead shark', 'Tiger shark, 2.5 m ', \"3.5 m [11.5'] shark\", \"1.8 m [6'] white shark\", \"4' to 8' shark\", \"1.5 m [5'] hammerhead shark\", '2.8 m [9\\'3\"] white shark', '2.2 m shark', '2 m [6\\'9\"] Zambesi shark', 'Raggedtooth shark, 2 m [6\\'9\"] ', \"1.8 m [6'] dogfish\", 'Said to involve a white shark but shark involvement not confirmed', 'White shark, 5 m ', \"Raggedtooth shark, 50-kg [110-lb], 2 m [6.75'] gaffed \", \"White shark, 2.5 m [8.25']  \", \"White shark, 2.3 m [7.5'], tooth fragment recovered\", \"White shark, 3.7 m [12'] \", '2 m [6\\'9\"] shark', 'Sevengill shark, 2.4 m', '270 kg shark', 'Thought to involve a blacktip shark', \"3 m [10'] white shark (Tooth  recovered from boat)\", \"1.5 to 2 m [5' to 6.75'] shark\", \"White shark, 5.5 m to 6 m [18' to 20']  \", 'Bull shark, 8', 'Mako shark, 2.3 m, 150-kg  ', \"White shark, 5.5 m [18'] \", \"White shark, 3 m [10'] k\", \"2.1 m [7'] lemon shark or bull shark\", 'White shark, 4.8 m ', \"White shark, 3 m to 4 m [10' to 13'] \", \"White shark, 3.5 m [11.5'], species identity confirmed by tooth fragment\", \"2.7 m  [9'] shark\", \"Tiger shark, 6' \", 'White shark, 4.5 m ', 'Blue shark, 2m ', 'Mako shark, 180-kg [397-lb]', 'Whale shark', 'White shark named \\x93Spotty\\x94', \"Grey nurse shark, 10' \", 'Juvenile dusky shark', 'Shark involvement unconfirmed', \"White shark, 2.4 m [8']\", \"White shark, 5.8 m [19'] \", 'White shark, 5m to 6m', \"2.4 m [8'] whaler shark\", 'White shark, 600-kg [1323-lb]', \"1.5 m [5']  shark\", \"Mako shark, 3 m [10'] \", \"Carpet shark, 10' \", 'Copper shark, 50-kg [110-b] ', \"8' blue shark\", \"White shark, 5.5 m to 6 m [18' to 20'] \", 'White shark, 4 m to 5 m ', \"Shortfin mako shark, 2.3 m [7.5'] \", \"White shark, 5 m to 6 m [16.5 to 20'] \", \"small sharks'\", \"3.7 m [12'] sharks\", \"White shark, 5 m [16.5']\", \"Raggedtooth shark, 1.5 m [5'] \", \"Bronze whaler shark, 4' \", \"7' to 8' bull shark\", \"1.5 m to 1.8 m [5' to 6']  blacktip shark\", '2 m shark, possibly a dusky or blacktip shark', \"1.2 m to 1.8 m [4' to 6'] shark observed in area\", \"White shark, > 3 m [10']\", \"Bronze whaler shark, 10' \", 'Oceanic whitetip shark x 2', \"White shark, 6 m [20'] \", \"White shark, 4.4 m to 5 m [14.5' to 16.5'] \", '1.5 m grey reef shark', \"White shark, 2.5 m [8.25'] \", \"1.8 m [6'] grey reef shark\", \"White shark, 3 m [10']rk\", '1.5 m to 2 m shark', \"White shark, 5 m to 6 m [16.5' to 20']  \", \"Grey nurse shark, 11'\", \"White shark, 3 m [10'], species identity confirmed by witnesses & tooth pattern in leg & board \", '3.6 m  porbeagle shark', 'White shark according to tooth pattern and witnesses', '1.8 to 2 m C. albimarginatus', '\"Dog shark\"', \"7.5' shark\", 'Raggedtooth shark, 2 m [6\\'9\"], 5-year-old, captive female ', 'Wobbegong shark ', 'Carpet shark', \">2.4 m [8'] shark\", \"White shark, 4.3 m 4.9 m [14' to 16'] \", 'Considered a \"Doubtful\" incident', \"Lemon shark, 9' \", 'White shark, identified by tooth fragments in surfboard', \"2 scalloped hammerhead sharks, 1.5 m & 1.8 m [5' & 6']\", '90-kg \"blackfin\" shark', \"White shark, 4.3 m [14'], (tooth fragment recovered)\", 'a small hammerhead shark', \"4m [13'] shark\", 'Not authenticated', \"1.5 m to 2 m [5' to 6.75'] Caribbean reef shark \", \"2.7 m [9'] silky shark\", \"Bronze whaler shark, 1.8 m [6'] \", '\"Blue whaler\" (Galeolamna)', \"1.5 m to 1.8m [5' to 6'] shark\", \"5' blue shark\", 'Nurse shark, 106 cm, 28-lb, male ', \"1.5 m to 1.8 m [5' to 6'] sandbar shark\", 'Nurse shark, 1 m ', \"White shark, 4 to 5 m [13' to 16.5'] \", 'White shark or thresher shark', \"2.1 m [7'] sandtiger shark\", \"Grey nurse shark, 1.5 m [5'] \", \"Grey nurse shark, 1.5 m [5']\", \"Bronze whaler shark, 2.1 m [7'], a tooth was embedded in the speargun \", \"Mako shark, 1.9 m [6.5'] \", \"Nurse shark, 2.5' \", 'A pack of 6 sharks', \"1.5 m to 2.1 m  [5' to 7'] shark\", 'Spinner or blacktip sharks', 'Lemon shark or sandtiger shark', \"Local authorities speculated that the water was too cold for sharks, but a 2.1 m [7'], 200-lb pregnant sandbar shark was caught next day\", \"1.2 m [4'] hammerhead shark\", 'Believed white shark and other smaller species of sharks involved.', \"Alleged to involve a White shark, 7.6 m [25'] \", \"White shark, 2.5 m [8.25'], an immature female, previously injured\", 'Copper shark', \"Wobbegong shark, 5' \", \"1.5 m to 1.8 m [5' to 6'] Zambesi shark\", \"76 cm [2.5'] carpet shark\", '1.8 m to 2 m [6\\' to 6\\'9\"] shark', \"1.8 m [6'] carpet shark\", \"4.6 m [15'] shark\", \"Grey nurse shark, 2.4 m [8'] \", \"1.8 m [6'], 180-lb shark\", '2 sharks involved', '300-kg [662-lb] shark', 'Lemon shark, 0.5 m', 'Tiger shark, tooth fragment recovered', \"1.8 m [6'], 136-kg [300-lb] shark \", \"4.9 m [16'] whaler\", \"Nurse shark, 0.94 m to 1.2 m [3' to 4'] \", 'Small shark with white-tipped dorsal fin', \"1.5 m to 2.1 m [5' to 7'] shark, possibly a mako shark\", \"White shark, 2.4 m [8'] \", 'White shark, 2.7 m [9\\'1\"], 750-lb ', \"Grey nurse shark, 1.8 m [6']\", \"1.8 to 2.4 m [6' to 8'] shark\", \"Less than 1.2 m [4']\", 'white shark', 'Lemon shark ', \"1.7 m [5.5'] shark\", 'Tiger shark, 3.5 m, 250-lb female', \"White shark, 1.5 m [5'] k\", \"White shark, 3 m to 3.7 m [10' to 12'] \", 'White shark, 3.6 m [11\\'9\"] ', 'Wobbegong', \"2.1 m to 2.4 m  [7' to 8'] shark\", \"Zambesi shark, 1.8 m [6'] \", \"1.8 m [6']  shark\", \"4.3 m [14'], 1000-lb shark\", 'Dusky shark, 1 m ', \"Wobbegong shark, 3' \", \"White shark, 1.7 m [5.5']\", '300- to 400-lb Zambesi shark', 'Possibly a broadnose 7-gill shark', \">1.2 m [4'] tiger shark\", 'White shark, 15\\'2\" ', \"Silky shark, 1.9 m [6.5']\", 'Dooley believed his Injury was caused by stingray (Dasyatidae family)', '500-lb shark', \"White shark, 4 m [13'] rk\", \"5.5 m [18'] shark\", '8 sharks', 'White shark, 3 m ', 'Hand found in gut of 2.9 m to 3.3 m [9\\'7\" to 10\\'11\"] Galapagos shark, C. galapagensis', \"1.8 m to 2.4 m  [6' to 8'] shark\", \"3.7 to 4.5 m [12' to 15'] shark seen in vicinity\", \"White shark, 2.1 m [7'] \", 'Tooth fragments of \\x93whaler\\x94 shark were recovered, a bull shark, according to Edwards', '193-lb shark', \"Grey nurse shark, 1.8 m [6'] \", '<1.5 m shark', 'Zambesi shark, 2 m [6\\'9\"] ', \"White shark, 16', 2,312-lb \", \"White shark, 4.3 m [14'] (or bronze whaler)\", '2 m [6\\'9\"], 87.5-kg [193-lb]  shark', \"White shark, 4.3 m to 4.9m [14' to 16']\", \"3 m [10'] blue whaler\", \" Blacktip shark, C. maculipinnis. 1.9 m to 2.1 m [6.5' to 7'] \", '\"A long thin brown-colored shark\"', \"Horn shar,k Heterodontus francisci, 1.2 m [4'] \", \"4.3 m [14'] shark\", 'Unknown', \"2.7 m to 3 m [9' to 10'] sharks\", 'Possibly a bronze whaler shark', \" Sevengill  shark, 1.2 m [4'] \", \"Bronze whaler shark, 3.7 m [12'] \", \"Zambesi shark, 1.2 m [4'] \", \"4.9 m [16']shark\", \"Bronze whaler shark, 4.6 m [15'] \", \"1.2 m  [4'] shark\", '60 cm  shark ', \"Bronze whaler shark,  3m [10'] \", 'Said to involve a 4.9 m [16\\'] \"red shark\"', \" Grey nurse shark,  3 m [10'] \", \"Bronze whaler shark, 2.1 m [7'] shark\", \"Said to involve a Grey nurse shark 3.7 m [12'] \", '36\"  shark', \"Next morning a 3 m [10'] shark was caught that had Andrews' leg in its gut\", \"Two shark's teeth recovered from canoe\", 'Oceanic whitetip shar,; identified by Dr. W.C. Schoeder on photograph & Dr. L.P. L. Schultz on sketch by observer', \"1.5 m to 1.8 m  [5' to 6'] shark\", \"Blacktip shark, 1.8 m to 2.1 m [6' to 7'] \", '43\" shark', \"White shark, 5.2 m [17'], 2500-lb \", \"2.7 m [9']shark\", 'Hammerhead shark, 500-llb ', 'Wobbegong shark, 1.4 m [4\\'6\"] ', '2 m  \"yellow belly\" captive shark. Shark destroyed by aquarium staff next day', \"Wobbegong shark, O. barbatus,  1.8 m [6'], identified by G.P. Whitley\", ' \"gummy\" shark (Rhizoprionodon or Loxodon) 1.2 m [4\\']', \"Grey nurse shark, 2,7 m [9'], 200-lb \", \"Wobbegong shark, 1.4 m [4.6'] \", \"Bronze whaler shark, 2.4 m [8'] Identified by Clyde Buttery\", \"Grey reef shark, 1.8 m [6'] grey reef shark, identified by Dr. L.P. L. Schultz based on photographs; identified as C. melanopterus by Stewart\", 'Zambesi shark, 4\\'9\"', '2\\' \"banjo shark\"', \"2.1 m [7'], 90-kg shark\", \"Grey nurse shark, 2.7 m [9'] \", \"Wobbegong shark, 1.5 m [5'] \", 'White shark, based on bite pattern', \"Hammerhead shark, 1.8 m [6'] \", \"Six Zambesi sharks seen to 1.5 m [5'] in length\", '> 3 m shark', \"White shark, 3 m [10'], tooth fragment from wounds identified as that of a white shark\", 'Grey nurse shark, 1m ', 'Bull shark, 1m ', \"Wobbegong shark, 1.8 m [6'] \", 'White shark (tooth fragments recovered from hull of boat)', '1.4 m [4\\'6\"] blacktip shark', \"White shark, 3.7 m to 4.6 m [12' to 15'] \", 'White shark, 18 mm tooth fragment  recovered from the hull', \"2.4 m [8'], 600-lb shark\", 'Lemon shark, 1164 mm, immature male, identified by  V.G. Springer', '80-lb hooked shark', \"Mako shark, 1.8 m to 2.1 m [6' to 7']  with hook & wire leader caught in mouth\", \"Dusky shark, 2.7 m [9'] dusky shark C. obscurus identified by S. Springer on tooth recovered\", 'Lemon shark, 1.8 m [6\\'] male, N. breviostris, identified by W.A. Stark II, later the same day a 6\\'8\" pregnant female lemon shark bit the bow of the boat', \"White shark, 2.1 m [7']  based on tooth pattern\", \"Bronze whaler shark, 3 m [10'], 200-lb\", 'Raggedtooth shark, 100-lb ', \"Bronze whaler shark, 3.7 m [12'] identified by G.P. Whitley based on description\", 'White shark (tooth fragments recovered)', \"1.2 m [4'], possibly  larger shark\", \"Two 2.1 m [7'] sharks\", \"Bronze whaler shark,4 m [13'] \", 'According to Benjamin, the injury was inflicted by a barracuda, not a shark', \"Tiger shark, 3.4 m [11'] captured\", 'Grey nurse shark, 2.9 m [9\\'6\"] ', 'Shark involvement prior to deaths was not confirmed', '3.5 m [11\\'6\"] shark captured', 'Blue pointer', \"4.9 m [16'] shark\", \"3.7 m to 4.6 m [12' to 15'] shark\", 'Blacktail reef shark', 'Blacktip reef shark', \"3.7 m [12'] tiger shark\", \"2.4 m  [8'] shark\", \"2.7 m [9']  shark\", \"3 m to 4.3 m [10' to 14'] shark\", \"Thresher shark, 3.7 m [12'] \", \"Blue shark, 1.5 m [5'] \", \"Carpet shark, 1.5 m [5']\", \"White shark, 5 m [16.5'], identified by Dr. W. I. Follett on tooth marks\", 'A hammerhead shark, then 8 to 10 other sharks were said to be  involved', 'Said to involve white shark, but species identify questionable', \"White shark, 3.5 m [11.5'], identified by W. I.  Follett on tooth fragments\", 'White shark, based on 2 teeth retrieved from rudder', \"5.5' shark\", \"Hammerhead shark, 9' \", '20 kg shark', \"Blue shark, 3 m [10']\", \"White shark, 3 m to 5 m [10' to 15'] \", \"Hammerhead shark, 1.8 m [6'] S. zygena identified by C. Limbaugh on description\", 'Blue shark?', \"Hammerhead shark, 2.4 m [8'] \", \"Hammerhead shark, 3 m [10'] \", \"Blue shark, 1.8 m [6'] \", 'Nurse shark, 60 cm [24\"], identified by Dr. L.P. L. Schultz on photograph', \"Oceanic whitetip shark,1.8 m [6'] \", \"Reported to involve a White shark, 6 m to 7m [20' to 23'] \", \"White shark, 2.7 m [9'], 280-lb \", \"White shark, 3 m [10']; identifed by Dr. W.I. Follett on tooth marks\", \"Tiger shark 4.3 m [14'] \", \"Mako shark, 2.4 m [8'], <300-lb, identified by Dr. L.P. L. Schultz on photograph\", \"1.8 to 2.1 m [6' to 7'] shark\", \"Bitten by several 1.8 m [6'] sharks\", \"Said to involve 2 sharks: 5.2 m & 6 m [17' & 20'] \", \"White shark, 1.8 m to 2.1 m [6' to 7']  according to Shreuder and a witness\", \"1.4 m [4.5'] shark\", \"1.5 m to 1.8 m [5' to 6'] sharks\", \"Tiger shark, 12' ?\", \"Tiger shark, 4.6 m to 7.6 m [15' to 25'] \", '200-lb shark', \"Hammerhead shark, 5.2 m [17'] \", \"Tiger shark, 1.5 m to 1.8 m [5' to 6'] \", \"Sharks averaged 1.8 m [6'] in length\", \"Nurse shark, 1.5 m [5']  identified by Dr. E. Clark on description of shark\", 'Tiger shark, <2 m TL', \"Nurse shark, 2.1 m [7']  identified by Dr. E. Clark on color & tooth impressions\", \"Nurse shark, 1.1 m [3.5'] \", 'Mako shark, 100-kg [221-lb] ', '<1 m shark', 'Several sharks involved', \">3 m [10'] shark\", 'Identified as carcharinid shark (based on its behavior) by Dr. D.P. L. Schultz; mako shark according to Huges', \"2.7 m [9'] bull shark, identified by Capt. W. Gray\", 'Said to involve a 1 m  white shark, but thought  that it was more likely a blue shark', 'Shark seen feeding on turtle scraps thrown overboard prior to incident.', 'Said to involve a large mako shark', \"3.7 m [12'] shark \", \"2.4 m [8'] tiger shark caught 40 hours later with shorts of the boy in its gut\", 'Mako shark, 125-lb ', 'White shark, according to witnesses', 'a sand shark', 'White shark, 13\\'10\", 1320-lb female ', \"Wobbegong shark, 4' \", 'Porbeagle or white shark', \"2.3 m [7'] shark\", '8-lb shark', \"3.7 m [12'] shark & may have been another shark nearby\", '40-lb sand shark', 'Survivors said 2 species of sharks were involved:  oceanic whitetip sharks and another species', 'Survivors said 2 species of sharks were involved:  oceanic whitetip sharks and another species,', \"5' thresher or blue shark. The shark  was killed following the incident\", 'Tooth fragments recovered from hull', \"0.7 m [2.5'] sand shark\", 'White shark, 6.5 m ', \"2.4 m [8']  shark\", '\"small brown-colored shark\"', \"Leopard shark, 3' Triakis semifasciata, identified by J.W. DeWitt (1955)\", \"White shark, 5 m to 6 m [16.5' to 20] \", '3.6 m  white shark  (or bronze whaler)', \"4 m [13'] shark x 6\", \"Bronze whaler shark,3.7 m [12'] \", '\"a little shark\"', \"Blacktip reef shark, 1.5 m [5'] \", \"20' shark\", 'Nurse shark, 58\", 34-lb ', '5m shark', \"2.4 m [8'] shark, possibly a dusky shark\", 'White shark tooth fragment recovered from ankle & identified by Dr. W. I. Follett', 'Bull shark suspected due to freshwater habitat', \"Nurse shark, 1.8 m [6'] \", \"a small shark'\", \"Said to involve a >4 m [13'] shark\", \"3.7 [12'] shark\", '80-lb sand shark', \"Hammerhead shark, 1.5 m [5'] \", \"3 m [10'] shark seen in vicinity\", \"White shark, 3.7 m [12'], 500 to 500-kg [1,200 lb], identified by W. C. Shroeder based on tooth fragment ebedded in gunwale\", '2 m [6\\'9\"] shark ', \"1.5 m [5'] shark, probable bull shark\", \"White shark,4.6 m [15'] \", \">6.7 m [22']  shark\", \"Hammerhead shark, 5' \", \"Tiger shark, 1.5 m [5'] \", 'White shark, 2 m to 4 m [6\\'9\" to 13\\'] ', \"Carpet shark, 5' \", '\"A 2\\' (0.6 m) brown shark\"', 'White shark, 15\\'3\", 2,333-lb ', 'a \"small slim brown shark\"', \"Bull shark, 2.7 m [9'] was captured & dragged on the sand where tissue taken from Eggink was found in its gut. Species identification  was made by S. Springer based on 4 photographs of the shark. \", '\"Attacked by a number of sharks\"', \"White shark, 1.8 m [6'] \", \"Wobbegong shark, 4'\", '136-kg [300-lb] shark', \"Nurse shark, 10' \", \"Wobbegong shark, 6'\", 'White shark, 3m, seen in area and hooked 3 days later', '1,100-lb shark', \"17' white shark\", \"0.7 m [2.5'] shark\", 'unknown, possibly a white shark', '2.13 m shark', \"1.5 m to 1.8 m [5' to 6'] \\x93spear-eye\\x94 shark \", 'small carpet shark', \"White shark, 3.7 m [12']  according to witnesses\", 'White shark, 3.6 m,  420 kg male', 'Possibly a lemon shark', 'Whtietip reef shark', \"Tiger shark, 3.7 m to 4.3 m  [12' to 14']\", 'Alleged to involve a white shark \"with little yellow eyes\"', \"2.7 m [9'] shark with black-tipped pectoral fins\", \"Grey nurse shark, 2.6 m [8.5']  \", 'Bonita sharkk, 200-lb', \"Whaler shark, 2.7 m [9'], 350- to 450-lb  identified by G.P. Whitley\", '3.3 m [10\\'9\"] shark', \"His hand was found in a 2.4 m [8'] tiger shark caught 1/5/1949\", \"Said to be 6.4 m [21'] shark\", '\"grey shark\"', 'Possibly C. leucas', 'Most likely, a small shark', '1.5 m, 45-kg shark', \"Blacktip shark, 2 m [6.75'] \", '4.5  m [14\\'9\"] shark', '>1.6 m shark', \"6 m [20']  shark\", 'White shark, 4.2 m [13\\'9\"] ', 'Tiger shark, 4.5 to 5.5 m [14\\'9\" to 18\\'], 2000-lb  ', \"1.8 m [6'] blacktip shark or spinner shark\", \"Bull sharks to 1.5 m [5']  in length\", 'Shark involvement prior to death unconfirmed', 'White shark, 2 m [6\\'9\"]  (Tooth fragment recovered from victim\\'s shoulder & identified by J.T. Nicholls)', 'White shark, 3.9 m, 550 kg, male', \"1.8 m to 2.4 m [6' to 8'] sharks, most were oceanic whitetip sharks\", 'White shark, 4.5 m  to 6 m [14\\'9\" to 20\\'] according to witnesses', 'Tiger shark & others', 'Porbeagle shark', \"Bull shark, 4 m [13'] \", \"Said to involve a 6.5 m [21.5'] shark\", 'Said to be \\x93leopard sharks\\x94, more probably tiger sharks', 'Reportedly: oceanic whitetip sharks, blue sharks, tiger sharks & bull sharks', '100-lb shark', \"Mako shark (aka bonito shark) 1.2 m [4'] \", 'White shark, species identity confirmed by tooth pattern', 'White shark, 160-kg [353-lb], identity confirmed by tooth pattern', ' White shark', \"Questionable incident, said to involve a 6' shark\", \"2.6 m [8.5'] shark landed 2 hours later\", \"Blue pointer, 16'\", 'whaler shark', \"Tiger shark, 4.3 m [14'], 3 tooth fragments retrieved from his wounds\", \"Nurse shark, 2.1 m [7']\", \"18' shark\", '\"a large shark\"', 'Thought to involve bull sharks', \" Tiger shark, 3'\", '\"grey-colored shark\"', 'Tiger shark,  3.6 m [11\\'9\"], 850-kg [1874-lb] female, contained Girvan\\'s remains ', \"2.6 m [8.5'] shark\", \"Tiger shark, 9' to 10' \", \"Whaler shark, 4 m [13'] \", '2 days later a 600-lb shark was caught 100 yards from the site', '3\\' \"blue nosed\" shark', \"Grey nurse shark, 8'\", \"Thought to involve a 12' white shark\", \"0.9 m [3']  shark\", 'Large tiger shark seen in the vicinity the following morning', \"Shovelnose shark, 6 m [20'] \", 'White shark (identified by Dr. Hugh Smith) ', \"Blue shark, 8' [2.4 m], 500-lb \", \"Tiger shark, 4.6 m [15'] \", '650-lb shark', 'White shark, 246-kg ', \"Tiger shark 3 m  [10'] \", '\"Blue nose shark\"', \"White shark, 3.5 m to 4 m [11.5' to 13'] \", \"Tiger shark, 12' \", '2 sharks', \"Blue pointer, 11' \", 'A 6.5\\' \"blue-nosed shark\"', \"4.3 m [14'] shark seen in vicinity\", \"4 m [13'] shark seen in vicinity\", \"Mako shark, 3.7 m [12'] identified by tooth fragments by G.P. Whitley\", \"3.4 m [11']  tiger shark & a 5' shark\", \"4.3 m [14'] shark seen in area previous week\", \"Tiger shark, 3.4 m [11'] \", '3 sharks', 'Blue shark, 4.5 m [14\\'9\"]', \"Thought to involve a 2.4 m [8'] lemon shark; two 2.4 m lemon sharks caught within 100 yds of the site a week prior to & a week after this incident\", \"7' to 8' shark\", \"4.4 m [14'] shark\", 'Thought to involve a mako or grey nurse shark', \"16' 800-lb shark\", \"Teeth in hull identified as those from a white shark 4.6 m [15'] in length\", '250-lb \"dog shark\"', \"Raggedtooth shark, 1.2 m to 1.5 m [4' to 5'] \", \"Hammerhead shark, 2.4 m [8'], according to lifeguard Sam Barrows\", '\"a school of sharks\"', '1.8 m [6\\'] \"cocktail shark', \"7 shark's teeth found embedded in the woodwork of the boat\", \"White shark 4.9 m [16'] \", 'White shark, 4.5 m [14\\'9\"], identity confirmed by witness & tooth pattern', '9-foot shark', \"Grey nurse shark, 4' \", '\"a dog shark\"', \"Blue pointer, 12'\", '\"Blue nose sharks\"', \"Moreno\\x92s leg  & part of his swim suit found in 9' shark caught two hours after the attack. Identified as carcharhinid shark by L. Schultz & C. Limbaugh on photograph\", 'Species unknown, possibly a white shark', \"White shark, 4.4 m [14.5'] . \", 'Grey nurse shark?', \"Grey nurse shark, 4'\", \"Said to involve 6 to 7 m [20' to 23'] white shark\", '\"whiptail shark\" (thresher shark?)', \"1.5 m [5'] white shark or sevengill shark\", 'Questionable, 2m shark suspected', \"White shark, 3.8 m [12.5']  \", \"According to Carlsmith, the shark's mouth was 3' wide\", \"White shark, 3.7 m [12']  \", '\"a blue shark\"', \"Tiger shark, 4 m [13'] female\", 'Said to be a \\x93small shark\\x94', \"Mako shark, 1.9 m [6.5']. Tooth fragment recovered & identified by J.T. Nichols.\", '\"a very large shark\"', \"Atkins' remains were recovered from a dusky shark, C. obscurus, by Capt. W. F. Young, shark fisherman\", '2.7 m [9\\'] \"blue\" shark', '\"A pack of 6 sharks\"', \"White shark, 12', identity confirmed by tooth fragment, witness and photograph of captured shark \", \"2.7 m [9'] shark later captured by Mitchell-Hedges\", \"Blue shark, 4' \", \"Comrades saw shark's tail appear about 5' away\", '15* to 24\" dog shark', \"15'\", \"3.7 m [12'], 1200-lb shark. Shark caught & its jaw exhibited at the Carnegie Museum\", \"3.7 m to 4.3 m [12' to 14']  shark\", \"13' shark\", \"Tiger sharks, 2.4 m to 4.9 m [8' to 16'] \", \"Said to involve a 2.7 m [9'] shark\", \"Thought to involve a 2.6 m [8.5'] white shark\", \"Reported to involve a 3.7 m [12'] shark, possibly a white shark\", 'A 20\\' shark known as \"Old Tom\"', 'said to involve a tiger shark', \"Said to involve a 2.4 m [8'] hammerhead shark\", 'Tiger shark ', '2.8 m [9\\'3\"] whaler shark captured 3 days later with his remains in its gut', 'C. macrurus captured 48 hours after attack with tissue removed from man in its gut; species identified by G.P. Whitley,  reported as C. obscurus by  R. Steel', \"Said to involve  9' blue shark\", \"5.5' to 6' shark\", '18-foot shark', 'Remains recovered from 3 sharks', 'Species unknown, possible white shark', 'Allegedly a 33-foot shark', 'Shark involvement probable', 'White shark, 6 m ', 'Shortfin mako shark, 175-lb ', 'Remains recovered 5 days later', 'Fishermen recovered partial remains from shark a week later', \"1.8 m to 2.7 m [6' to 9'] shark\", 'Tiger shark, 3.9 m', '70 kg shark', '13\\'10\" shark', \"Shovelnose shark, 5'\", \"16' shark\", '5\\'7\" shark', \"Sevengill shark, 14', was caught in the vicinity\", '5m, 3500 kg female shark', 'Unknown, but the shark was caught and put on exhibition', \"4.7 m [15.5'] shark\", 'Shark was said to \\x93have a very rough ½\\x94-thick skin\\x94', \"3 m [10'] sharks\", 'Said to involve 2 sharks', 'a school of sharks', ' a small shark', 'Blue or porbeagle shark', '68\" shark', 'Wobbegongs', 'Identified as C. gangeticus by Dr. J. Fayrer', '\"Shark caught later\"', '4\\' \"ground shark\"', 'Remains recovered from shark caught days later', 'Shark involvement prior to deaths unconfirmed', 'Tiger shark (pregnant)', '234-lb shark', \"Said to involve a 6 m to 7.3 m [20' to 24'] shark\", \"Said to be a 7.6 m [25'] shark\", 'Thought to involve a porbeagle or mako shark', 'Description of shark does not ring true', '\"The fish was harpooned, dried, and presented to the sailor, who went round Europe exhibiting it  It was said to be 20 feet long.', 'White shark, 1600-lb female ', 'Possibly white sharks', \" Galapagos shark, 6'\", 'said to involve 2.5 m hammerhead sharks', 'Silvertip shark', 'A large hammerhead shark', \"Nurse shark, 2.1 m [7'] \", 'Shovelnose guitarfish, adult male ', '\"A pack of sharks\"', \"White shark, 7' to 8'\", 'White shark, 1,900-lb ', \"Bull shark caught, leg recovered & buried beside the man's body\", '\"a black-tipped shark\"', \"12' tiger shark\", 'Blue pointers', 'Said to involve a grey nurse shark that leapt out of the water and  seized the boy but species identification is questionable']\n"
     ]
    }
   ],
   "source": [
    "Species_list= []\n",
    "for i in df[\"Species \"].unique():\n",
    "    Species_list.append(i)\n",
    "print(Species_list)"
   ]
  },
  {
   "cell_type": "code",
   "execution_count": 4,
   "id": "6d25f456",
   "metadata": {},
   "outputs": [
    {
     "data": {
      "text/plain": [
       "Activity\n",
       "Surfing                                   971\n",
       "Swimming                                  869\n",
       "Fishing                                   431\n",
       "Spearfishing                              333\n",
       "Bathing                                   162\n",
       "                                         ... \n",
       "Playing with a frisbee in the shallows      1\n",
       "Sinking of the ferryboat Dumaguete          1\n",
       "Wreck of the Storm King                     1\n",
       "Feeding mullet to sharks                    1\n",
       "Wreck of  large double sailing canoe        1\n",
       "Name: count, Length: 1532, dtype: int64"
      ]
     },
     "execution_count": 4,
     "metadata": {},
     "output_type": "execute_result"
    }
   ],
   "source": [
    "df[\"Activity\"].value_counts()"
   ]
  },
  {
   "cell_type": "code",
   "execution_count": 5,
   "id": "72feaeea",
   "metadata": {},
   "outputs": [
    {
     "data": {
      "text/plain": [
       "Species \n",
       "White shark                                                                                                                      163\n",
       "Shark involvement prior to death was not confirmed                                                                               105\n",
       "Invalid                                                                                                                          102\n",
       "Shark involvement not confirmed                                                                                                   88\n",
       "Tiger shark                                                                                                                       73\n",
       "                                                                                                                                ... \n",
       "1.2 m to 1.5 m [4.5' to 5'] shark                                                                                                  1\n",
       "Bull shark, 2.3 m [7.5']                                                                                                           1\n",
       "0.9 m  [3'] shark                                                                                                                  1\n",
       "Mako shark, 14'                                                                                                                    1\n",
       "Said to involve a grey nurse shark that leapt out of the water and  seized the boy but species identification is questionable      1\n",
       "Name: count, Length: 1549, dtype: int64"
      ]
     },
     "execution_count": 5,
     "metadata": {},
     "output_type": "execute_result"
    }
   ],
   "source": [
    "df[\"Species \"].value_counts()"
   ]
  },
  {
   "cell_type": "code",
   "execution_count": 6,
   "id": "2e540827",
   "metadata": {},
   "outputs": [
    {
     "data": {
      "text/plain": [
       "Sex \n",
       "M      5094\n",
       "F       637\n",
       "M         2\n",
       "N         2\n",
       "lli       1\n",
       ".         1\n",
       "Name: count, dtype: int64"
      ]
     },
     "execution_count": 6,
     "metadata": {},
     "output_type": "execute_result"
    }
   ],
   "source": [
    "df[\"Sex \"].value_counts()"
   ]
  },
  {
   "cell_type": "code",
   "execution_count": 7,
   "id": "4775c783",
   "metadata": {},
   "outputs": [
    {
     "data": {
      "text/plain": [
       "0            White shark\n",
       "1                    NaN\n",
       "2                    NaN\n",
       "3              2 m shark\n",
       "4        Tiger shark, 3m\n",
       "              ...       \n",
       "25718                NaN\n",
       "25719                NaN\n",
       "25720                NaN\n",
       "25721                NaN\n",
       "25722                NaN\n",
       "Name: Species , Length: 25723, dtype: object"
      ]
     },
     "execution_count": 7,
     "metadata": {},
     "output_type": "execute_result"
    }
   ],
   "source": [
    "df[\"Species \"]"
   ]
  },
  {
   "cell_type": "code",
   "execution_count": 8,
   "id": "64b25ebc",
   "metadata": {},
   "outputs": [],
   "source": [
    "df.columns = [i.lower().replace(\" \", \"_\") for i in df.columns]"
   ]
  },
  {
   "cell_type": "code",
   "execution_count": 9,
   "id": "4962fcd0",
   "metadata": {},
   "outputs": [],
   "source": [
    "df1=df"
   ]
  },
  {
   "cell_type": "code",
   "execution_count": 10,
   "id": "101a8935",
   "metadata": {},
   "outputs": [
    {
     "data": {
      "text/html": [
       "<div>\n",
       "<style scoped>\n",
       "    .dataframe tbody tr th:only-of-type {\n",
       "        vertical-align: middle;\n",
       "    }\n",
       "\n",
       "    .dataframe tbody tr th {\n",
       "        vertical-align: top;\n",
       "    }\n",
       "\n",
       "    .dataframe thead th {\n",
       "        text-align: right;\n",
       "    }\n",
       "</style>\n",
       "<table border=\"1\" class=\"dataframe\">\n",
       "  <thead>\n",
       "    <tr style=\"text-align: right;\">\n",
       "      <th></th>\n",
       "      <th>case_number</th>\n",
       "      <th>date</th>\n",
       "      <th>year</th>\n",
       "      <th>type</th>\n",
       "      <th>country</th>\n",
       "      <th>area</th>\n",
       "      <th>location</th>\n",
       "      <th>activity</th>\n",
       "      <th>name</th>\n",
       "      <th>sex_</th>\n",
       "      <th>...</th>\n",
       "      <th>species_</th>\n",
       "      <th>investigator_or_source</th>\n",
       "      <th>pdf</th>\n",
       "      <th>href_formula</th>\n",
       "      <th>href</th>\n",
       "      <th>case_number.1</th>\n",
       "      <th>case_number.2</th>\n",
       "      <th>original_order</th>\n",
       "      <th>unnamed:_22</th>\n",
       "      <th>unnamed:_23</th>\n",
       "    </tr>\n",
       "  </thead>\n",
       "  <tbody>\n",
       "    <tr>\n",
       "      <th>0</th>\n",
       "      <td>2018.06.25</td>\n",
       "      <td>25-Jun-2018</td>\n",
       "      <td>2018.0</td>\n",
       "      <td>Boating</td>\n",
       "      <td>USA</td>\n",
       "      <td>California</td>\n",
       "      <td>Oceanside, San Diego County</td>\n",
       "      <td>Paddling</td>\n",
       "      <td>Julie Wolfe</td>\n",
       "      <td>F</td>\n",
       "      <td>...</td>\n",
       "      <td>White shark</td>\n",
       "      <td>R. Collier, GSAF</td>\n",
       "      <td>2018.06.25-Wolfe.pdf</td>\n",
       "      <td>http://sharkattackfile.net/spreadsheets/pdf_di...</td>\n",
       "      <td>http://sharkattackfile.net/spreadsheets/pdf_di...</td>\n",
       "      <td>2018.06.25</td>\n",
       "      <td>2018.06.25</td>\n",
       "      <td>6303.0</td>\n",
       "      <td>NaN</td>\n",
       "      <td>NaN</td>\n",
       "    </tr>\n",
       "    <tr>\n",
       "      <th>1</th>\n",
       "      <td>2018.06.18</td>\n",
       "      <td>18-Jun-2018</td>\n",
       "      <td>2018.0</td>\n",
       "      <td>Unprovoked</td>\n",
       "      <td>USA</td>\n",
       "      <td>Georgia</td>\n",
       "      <td>St. Simon Island, Glynn County</td>\n",
       "      <td>Standing</td>\n",
       "      <td>Adyson McNeely</td>\n",
       "      <td>F</td>\n",
       "      <td>...</td>\n",
       "      <td>NaN</td>\n",
       "      <td>K.McMurray, TrackingSharks.com</td>\n",
       "      <td>2018.06.18-McNeely.pdf</td>\n",
       "      <td>http://sharkattackfile.net/spreadsheets/pdf_di...</td>\n",
       "      <td>http://sharkattackfile.net/spreadsheets/pdf_di...</td>\n",
       "      <td>2018.06.18</td>\n",
       "      <td>2018.06.18</td>\n",
       "      <td>6302.0</td>\n",
       "      <td>NaN</td>\n",
       "      <td>NaN</td>\n",
       "    </tr>\n",
       "    <tr>\n",
       "      <th>2</th>\n",
       "      <td>2018.06.09</td>\n",
       "      <td>09-Jun-2018</td>\n",
       "      <td>2018.0</td>\n",
       "      <td>Invalid</td>\n",
       "      <td>USA</td>\n",
       "      <td>Hawaii</td>\n",
       "      <td>Habush, Oahu</td>\n",
       "      <td>Surfing</td>\n",
       "      <td>John Denges</td>\n",
       "      <td>M</td>\n",
       "      <td>...</td>\n",
       "      <td>NaN</td>\n",
       "      <td>K.McMurray, TrackingSharks.com</td>\n",
       "      <td>2018.06.09-Denges.pdf</td>\n",
       "      <td>http://sharkattackfile.net/spreadsheets/pdf_di...</td>\n",
       "      <td>http://sharkattackfile.net/spreadsheets/pdf_di...</td>\n",
       "      <td>2018.06.09</td>\n",
       "      <td>2018.06.09</td>\n",
       "      <td>6301.0</td>\n",
       "      <td>NaN</td>\n",
       "      <td>NaN</td>\n",
       "    </tr>\n",
       "    <tr>\n",
       "      <th>3</th>\n",
       "      <td>2018.06.08</td>\n",
       "      <td>08-Jun-2018</td>\n",
       "      <td>2018.0</td>\n",
       "      <td>Unprovoked</td>\n",
       "      <td>AUSTRALIA</td>\n",
       "      <td>New South Wales</td>\n",
       "      <td>Arrawarra Headland</td>\n",
       "      <td>Surfing</td>\n",
       "      <td>male</td>\n",
       "      <td>M</td>\n",
       "      <td>...</td>\n",
       "      <td>2 m shark</td>\n",
       "      <td>B. Myatt, GSAF</td>\n",
       "      <td>2018.06.08-Arrawarra.pdf</td>\n",
       "      <td>http://sharkattackfile.net/spreadsheets/pdf_di...</td>\n",
       "      <td>http://sharkattackfile.net/spreadsheets/pdf_di...</td>\n",
       "      <td>2018.06.08</td>\n",
       "      <td>2018.06.08</td>\n",
       "      <td>6300.0</td>\n",
       "      <td>NaN</td>\n",
       "      <td>NaN</td>\n",
       "    </tr>\n",
       "    <tr>\n",
       "      <th>4</th>\n",
       "      <td>2018.06.04</td>\n",
       "      <td>04-Jun-2018</td>\n",
       "      <td>2018.0</td>\n",
       "      <td>Provoked</td>\n",
       "      <td>MEXICO</td>\n",
       "      <td>Colima</td>\n",
       "      <td>La Ticla</td>\n",
       "      <td>Free diving</td>\n",
       "      <td>Gustavo Ramos</td>\n",
       "      <td>M</td>\n",
       "      <td>...</td>\n",
       "      <td>Tiger shark, 3m</td>\n",
       "      <td>A .Kipper</td>\n",
       "      <td>2018.06.04-Ramos.pdf</td>\n",
       "      <td>http://sharkattackfile.net/spreadsheets/pdf_di...</td>\n",
       "      <td>http://sharkattackfile.net/spreadsheets/pdf_di...</td>\n",
       "      <td>2018.06.04</td>\n",
       "      <td>2018.06.04</td>\n",
       "      <td>6299.0</td>\n",
       "      <td>NaN</td>\n",
       "      <td>NaN</td>\n",
       "    </tr>\n",
       "    <tr>\n",
       "      <th>...</th>\n",
       "      <td>...</td>\n",
       "      <td>...</td>\n",
       "      <td>...</td>\n",
       "      <td>...</td>\n",
       "      <td>...</td>\n",
       "      <td>...</td>\n",
       "      <td>...</td>\n",
       "      <td>...</td>\n",
       "      <td>...</td>\n",
       "      <td>...</td>\n",
       "      <td>...</td>\n",
       "      <td>...</td>\n",
       "      <td>...</td>\n",
       "      <td>...</td>\n",
       "      <td>...</td>\n",
       "      <td>...</td>\n",
       "      <td>...</td>\n",
       "      <td>...</td>\n",
       "      <td>...</td>\n",
       "      <td>...</td>\n",
       "      <td>...</td>\n",
       "    </tr>\n",
       "    <tr>\n",
       "      <th>25718</th>\n",
       "      <td>NaN</td>\n",
       "      <td>NaN</td>\n",
       "      <td>NaN</td>\n",
       "      <td>NaN</td>\n",
       "      <td>NaN</td>\n",
       "      <td>NaN</td>\n",
       "      <td>NaN</td>\n",
       "      <td>NaN</td>\n",
       "      <td>NaN</td>\n",
       "      <td>NaN</td>\n",
       "      <td>...</td>\n",
       "      <td>NaN</td>\n",
       "      <td>NaN</td>\n",
       "      <td>NaN</td>\n",
       "      <td>NaN</td>\n",
       "      <td>NaN</td>\n",
       "      <td>NaN</td>\n",
       "      <td>NaN</td>\n",
       "      <td>NaN</td>\n",
       "      <td>NaN</td>\n",
       "      <td>NaN</td>\n",
       "    </tr>\n",
       "    <tr>\n",
       "      <th>25719</th>\n",
       "      <td>NaN</td>\n",
       "      <td>NaN</td>\n",
       "      <td>NaN</td>\n",
       "      <td>NaN</td>\n",
       "      <td>NaN</td>\n",
       "      <td>NaN</td>\n",
       "      <td>NaN</td>\n",
       "      <td>NaN</td>\n",
       "      <td>NaN</td>\n",
       "      <td>NaN</td>\n",
       "      <td>...</td>\n",
       "      <td>NaN</td>\n",
       "      <td>NaN</td>\n",
       "      <td>NaN</td>\n",
       "      <td>NaN</td>\n",
       "      <td>NaN</td>\n",
       "      <td>NaN</td>\n",
       "      <td>NaN</td>\n",
       "      <td>NaN</td>\n",
       "      <td>NaN</td>\n",
       "      <td>NaN</td>\n",
       "    </tr>\n",
       "    <tr>\n",
       "      <th>25720</th>\n",
       "      <td>NaN</td>\n",
       "      <td>NaN</td>\n",
       "      <td>NaN</td>\n",
       "      <td>NaN</td>\n",
       "      <td>NaN</td>\n",
       "      <td>NaN</td>\n",
       "      <td>NaN</td>\n",
       "      <td>NaN</td>\n",
       "      <td>NaN</td>\n",
       "      <td>NaN</td>\n",
       "      <td>...</td>\n",
       "      <td>NaN</td>\n",
       "      <td>NaN</td>\n",
       "      <td>NaN</td>\n",
       "      <td>NaN</td>\n",
       "      <td>NaN</td>\n",
       "      <td>NaN</td>\n",
       "      <td>NaN</td>\n",
       "      <td>NaN</td>\n",
       "      <td>NaN</td>\n",
       "      <td>NaN</td>\n",
       "    </tr>\n",
       "    <tr>\n",
       "      <th>25721</th>\n",
       "      <td>NaN</td>\n",
       "      <td>NaN</td>\n",
       "      <td>NaN</td>\n",
       "      <td>NaN</td>\n",
       "      <td>NaN</td>\n",
       "      <td>NaN</td>\n",
       "      <td>NaN</td>\n",
       "      <td>NaN</td>\n",
       "      <td>NaN</td>\n",
       "      <td>NaN</td>\n",
       "      <td>...</td>\n",
       "      <td>NaN</td>\n",
       "      <td>NaN</td>\n",
       "      <td>NaN</td>\n",
       "      <td>NaN</td>\n",
       "      <td>NaN</td>\n",
       "      <td>NaN</td>\n",
       "      <td>NaN</td>\n",
       "      <td>NaN</td>\n",
       "      <td>NaN</td>\n",
       "      <td>NaN</td>\n",
       "    </tr>\n",
       "    <tr>\n",
       "      <th>25722</th>\n",
       "      <td>xx</td>\n",
       "      <td>NaN</td>\n",
       "      <td>NaN</td>\n",
       "      <td>NaN</td>\n",
       "      <td>NaN</td>\n",
       "      <td>NaN</td>\n",
       "      <td>NaN</td>\n",
       "      <td>NaN</td>\n",
       "      <td>NaN</td>\n",
       "      <td>NaN</td>\n",
       "      <td>...</td>\n",
       "      <td>NaN</td>\n",
       "      <td>NaN</td>\n",
       "      <td>NaN</td>\n",
       "      <td>NaN</td>\n",
       "      <td>NaN</td>\n",
       "      <td>NaN</td>\n",
       "      <td>NaN</td>\n",
       "      <td>NaN</td>\n",
       "      <td>NaN</td>\n",
       "      <td>NaN</td>\n",
       "    </tr>\n",
       "  </tbody>\n",
       "</table>\n",
       "<p>25723 rows × 24 columns</p>\n",
       "</div>"
      ],
      "text/plain": [
       "      case_number         date    year        type    country   \n",
       "0      2018.06.25  25-Jun-2018  2018.0     Boating        USA  \\\n",
       "1      2018.06.18  18-Jun-2018  2018.0  Unprovoked        USA   \n",
       "2      2018.06.09  09-Jun-2018  2018.0     Invalid        USA   \n",
       "3      2018.06.08  08-Jun-2018  2018.0  Unprovoked  AUSTRALIA   \n",
       "4      2018.06.04  04-Jun-2018  2018.0    Provoked     MEXICO   \n",
       "...           ...          ...     ...         ...        ...   \n",
       "25718         NaN          NaN     NaN         NaN        NaN   \n",
       "25719         NaN          NaN     NaN         NaN        NaN   \n",
       "25720         NaN          NaN     NaN         NaN        NaN   \n",
       "25721         NaN          NaN     NaN         NaN        NaN   \n",
       "25722          xx          NaN     NaN         NaN        NaN   \n",
       "\n",
       "                  area                        location     activity   \n",
       "0           California     Oceanside, San Diego County     Paddling  \\\n",
       "1              Georgia  St. Simon Island, Glynn County     Standing   \n",
       "2               Hawaii                    Habush, Oahu      Surfing   \n",
       "3      New South Wales              Arrawarra Headland      Surfing   \n",
       "4               Colima                        La Ticla  Free diving   \n",
       "...                ...                             ...          ...   \n",
       "25718              NaN                             NaN          NaN   \n",
       "25719              NaN                             NaN          NaN   \n",
       "25720              NaN                             NaN          NaN   \n",
       "25721              NaN                             NaN          NaN   \n",
       "25722              NaN                             NaN          NaN   \n",
       "\n",
       "                  name sex_  ...         species_   \n",
       "0          Julie Wolfe    F  ...      White shark  \\\n",
       "1      Adyson McNeely     F  ...              NaN   \n",
       "2          John Denges    M  ...              NaN   \n",
       "3                 male    M  ...        2 m shark   \n",
       "4       Gustavo Ramos     M  ...  Tiger shark, 3m   \n",
       "...                ...  ...  ...              ...   \n",
       "25718              NaN  NaN  ...              NaN   \n",
       "25719              NaN  NaN  ...              NaN   \n",
       "25720              NaN  NaN  ...              NaN   \n",
       "25721              NaN  NaN  ...              NaN   \n",
       "25722              NaN  NaN  ...              NaN   \n",
       "\n",
       "               investigator_or_source                       pdf   \n",
       "0                    R. Collier, GSAF      2018.06.25-Wolfe.pdf  \\\n",
       "1      K.McMurray, TrackingSharks.com    2018.06.18-McNeely.pdf   \n",
       "2      K.McMurray, TrackingSharks.com     2018.06.09-Denges.pdf   \n",
       "3                      B. Myatt, GSAF  2018.06.08-Arrawarra.pdf   \n",
       "4                           A .Kipper      2018.06.04-Ramos.pdf   \n",
       "...                               ...                       ...   \n",
       "25718                             NaN                       NaN   \n",
       "25719                             NaN                       NaN   \n",
       "25720                             NaN                       NaN   \n",
       "25721                             NaN                       NaN   \n",
       "25722                             NaN                       NaN   \n",
       "\n",
       "                                            href_formula   \n",
       "0      http://sharkattackfile.net/spreadsheets/pdf_di...  \\\n",
       "1      http://sharkattackfile.net/spreadsheets/pdf_di...   \n",
       "2      http://sharkattackfile.net/spreadsheets/pdf_di...   \n",
       "3      http://sharkattackfile.net/spreadsheets/pdf_di...   \n",
       "4      http://sharkattackfile.net/spreadsheets/pdf_di...   \n",
       "...                                                  ...   \n",
       "25718                                                NaN   \n",
       "25719                                                NaN   \n",
       "25720                                                NaN   \n",
       "25721                                                NaN   \n",
       "25722                                                NaN   \n",
       "\n",
       "                                                    href case_number.1   \n",
       "0      http://sharkattackfile.net/spreadsheets/pdf_di...    2018.06.25  \\\n",
       "1      http://sharkattackfile.net/spreadsheets/pdf_di...    2018.06.18   \n",
       "2      http://sharkattackfile.net/spreadsheets/pdf_di...    2018.06.09   \n",
       "3      http://sharkattackfile.net/spreadsheets/pdf_di...    2018.06.08   \n",
       "4      http://sharkattackfile.net/spreadsheets/pdf_di...    2018.06.04   \n",
       "...                                                  ...           ...   \n",
       "25718                                                NaN           NaN   \n",
       "25719                                                NaN           NaN   \n",
       "25720                                                NaN           NaN   \n",
       "25721                                                NaN           NaN   \n",
       "25722                                                NaN           NaN   \n",
       "\n",
       "      case_number.2 original_order unnamed:_22 unnamed:_23  \n",
       "0        2018.06.25         6303.0         NaN         NaN  \n",
       "1        2018.06.18         6302.0         NaN         NaN  \n",
       "2        2018.06.09         6301.0         NaN         NaN  \n",
       "3        2018.06.08         6300.0         NaN         NaN  \n",
       "4        2018.06.04         6299.0         NaN         NaN  \n",
       "...             ...            ...         ...         ...  \n",
       "25718           NaN            NaN         NaN         NaN  \n",
       "25719           NaN            NaN         NaN         NaN  \n",
       "25720           NaN            NaN         NaN         NaN  \n",
       "25721           NaN            NaN         NaN         NaN  \n",
       "25722           NaN            NaN         NaN         NaN  \n",
       "\n",
       "[25723 rows x 24 columns]"
      ]
     },
     "execution_count": 10,
     "metadata": {},
     "output_type": "execute_result"
    }
   ],
   "source": [
    "df1"
   ]
  },
  {
   "cell_type": "code",
   "execution_count": 11,
   "id": "3336efd1",
   "metadata": {},
   "outputs": [
    {
     "data": {
      "text/html": [
       "<div>\n",
       "<style scoped>\n",
       "    .dataframe tbody tr th:only-of-type {\n",
       "        vertical-align: middle;\n",
       "    }\n",
       "\n",
       "    .dataframe tbody tr th {\n",
       "        vertical-align: top;\n",
       "    }\n",
       "\n",
       "    .dataframe thead th {\n",
       "        text-align: right;\n",
       "    }\n",
       "</style>\n",
       "<table border=\"1\" class=\"dataframe\">\n",
       "  <thead>\n",
       "    <tr style=\"text-align: right;\">\n",
       "      <th></th>\n",
       "      <th>case_number</th>\n",
       "      <th>date</th>\n",
       "      <th>year</th>\n",
       "      <th>type</th>\n",
       "      <th>country</th>\n",
       "      <th>area</th>\n",
       "      <th>location</th>\n",
       "      <th>activity</th>\n",
       "      <th>name</th>\n",
       "      <th>sex_</th>\n",
       "      <th>...</th>\n",
       "      <th>species_</th>\n",
       "      <th>investigator_or_source</th>\n",
       "      <th>pdf</th>\n",
       "      <th>href_formula</th>\n",
       "      <th>href</th>\n",
       "      <th>case_number.1</th>\n",
       "      <th>case_number.2</th>\n",
       "      <th>original_order</th>\n",
       "      <th>unnamed:_22</th>\n",
       "      <th>unnamed:_23</th>\n",
       "    </tr>\n",
       "  </thead>\n",
       "  <tbody>\n",
       "    <tr>\n",
       "      <th>0</th>\n",
       "      <td>2018.06.25</td>\n",
       "      <td>25-Jun-2018</td>\n",
       "      <td>2018.0</td>\n",
       "      <td>Boating</td>\n",
       "      <td>USA</td>\n",
       "      <td>California</td>\n",
       "      <td>Oceanside, San Diego County</td>\n",
       "      <td>Paddling</td>\n",
       "      <td>Julie Wolfe</td>\n",
       "      <td>F</td>\n",
       "      <td>...</td>\n",
       "      <td>White shark</td>\n",
       "      <td>R. Collier, GSAF</td>\n",
       "      <td>2018.06.25-Wolfe.pdf</td>\n",
       "      <td>http://sharkattackfile.net/spreadsheets/pdf_di...</td>\n",
       "      <td>http://sharkattackfile.net/spreadsheets/pdf_di...</td>\n",
       "      <td>2018.06.25</td>\n",
       "      <td>2018.06.25</td>\n",
       "      <td>6303.0</td>\n",
       "      <td>NaN</td>\n",
       "      <td>NaN</td>\n",
       "    </tr>\n",
       "    <tr>\n",
       "      <th>1</th>\n",
       "      <td>2018.06.18</td>\n",
       "      <td>18-Jun-2018</td>\n",
       "      <td>2018.0</td>\n",
       "      <td>Unprovoked</td>\n",
       "      <td>USA</td>\n",
       "      <td>Georgia</td>\n",
       "      <td>St. Simon Island, Glynn County</td>\n",
       "      <td>Standing</td>\n",
       "      <td>Adyson McNeely</td>\n",
       "      <td>F</td>\n",
       "      <td>...</td>\n",
       "      <td>NaN</td>\n",
       "      <td>K.McMurray, TrackingSharks.com</td>\n",
       "      <td>2018.06.18-McNeely.pdf</td>\n",
       "      <td>http://sharkattackfile.net/spreadsheets/pdf_di...</td>\n",
       "      <td>http://sharkattackfile.net/spreadsheets/pdf_di...</td>\n",
       "      <td>2018.06.18</td>\n",
       "      <td>2018.06.18</td>\n",
       "      <td>6302.0</td>\n",
       "      <td>NaN</td>\n",
       "      <td>NaN</td>\n",
       "    </tr>\n",
       "    <tr>\n",
       "      <th>2</th>\n",
       "      <td>2018.06.09</td>\n",
       "      <td>09-Jun-2018</td>\n",
       "      <td>2018.0</td>\n",
       "      <td>Invalid</td>\n",
       "      <td>USA</td>\n",
       "      <td>Hawaii</td>\n",
       "      <td>Habush, Oahu</td>\n",
       "      <td>Surfing</td>\n",
       "      <td>John Denges</td>\n",
       "      <td>M</td>\n",
       "      <td>...</td>\n",
       "      <td>NaN</td>\n",
       "      <td>K.McMurray, TrackingSharks.com</td>\n",
       "      <td>2018.06.09-Denges.pdf</td>\n",
       "      <td>http://sharkattackfile.net/spreadsheets/pdf_di...</td>\n",
       "      <td>http://sharkattackfile.net/spreadsheets/pdf_di...</td>\n",
       "      <td>2018.06.09</td>\n",
       "      <td>2018.06.09</td>\n",
       "      <td>6301.0</td>\n",
       "      <td>NaN</td>\n",
       "      <td>NaN</td>\n",
       "    </tr>\n",
       "    <tr>\n",
       "      <th>3</th>\n",
       "      <td>2018.06.08</td>\n",
       "      <td>08-Jun-2018</td>\n",
       "      <td>2018.0</td>\n",
       "      <td>Unprovoked</td>\n",
       "      <td>AUSTRALIA</td>\n",
       "      <td>New South Wales</td>\n",
       "      <td>Arrawarra Headland</td>\n",
       "      <td>Surfing</td>\n",
       "      <td>male</td>\n",
       "      <td>M</td>\n",
       "      <td>...</td>\n",
       "      <td>2 m shark</td>\n",
       "      <td>B. Myatt, GSAF</td>\n",
       "      <td>2018.06.08-Arrawarra.pdf</td>\n",
       "      <td>http://sharkattackfile.net/spreadsheets/pdf_di...</td>\n",
       "      <td>http://sharkattackfile.net/spreadsheets/pdf_di...</td>\n",
       "      <td>2018.06.08</td>\n",
       "      <td>2018.06.08</td>\n",
       "      <td>6300.0</td>\n",
       "      <td>NaN</td>\n",
       "      <td>NaN</td>\n",
       "    </tr>\n",
       "    <tr>\n",
       "      <th>4</th>\n",
       "      <td>2018.06.04</td>\n",
       "      <td>04-Jun-2018</td>\n",
       "      <td>2018.0</td>\n",
       "      <td>Provoked</td>\n",
       "      <td>MEXICO</td>\n",
       "      <td>Colima</td>\n",
       "      <td>La Ticla</td>\n",
       "      <td>Free diving</td>\n",
       "      <td>Gustavo Ramos</td>\n",
       "      <td>M</td>\n",
       "      <td>...</td>\n",
       "      <td>Tiger shark, 3m</td>\n",
       "      <td>A .Kipper</td>\n",
       "      <td>2018.06.04-Ramos.pdf</td>\n",
       "      <td>http://sharkattackfile.net/spreadsheets/pdf_di...</td>\n",
       "      <td>http://sharkattackfile.net/spreadsheets/pdf_di...</td>\n",
       "      <td>2018.06.04</td>\n",
       "      <td>2018.06.04</td>\n",
       "      <td>6299.0</td>\n",
       "      <td>NaN</td>\n",
       "      <td>NaN</td>\n",
       "    </tr>\n",
       "    <tr>\n",
       "      <th>...</th>\n",
       "      <td>...</td>\n",
       "      <td>...</td>\n",
       "      <td>...</td>\n",
       "      <td>...</td>\n",
       "      <td>...</td>\n",
       "      <td>...</td>\n",
       "      <td>...</td>\n",
       "      <td>...</td>\n",
       "      <td>...</td>\n",
       "      <td>...</td>\n",
       "      <td>...</td>\n",
       "      <td>...</td>\n",
       "      <td>...</td>\n",
       "      <td>...</td>\n",
       "      <td>...</td>\n",
       "      <td>...</td>\n",
       "      <td>...</td>\n",
       "      <td>...</td>\n",
       "      <td>...</td>\n",
       "      <td>...</td>\n",
       "      <td>...</td>\n",
       "    </tr>\n",
       "    <tr>\n",
       "      <th>25718</th>\n",
       "      <td>NaN</td>\n",
       "      <td>NaN</td>\n",
       "      <td>NaN</td>\n",
       "      <td>NaN</td>\n",
       "      <td>NaN</td>\n",
       "      <td>NaN</td>\n",
       "      <td>NaN</td>\n",
       "      <td>NaN</td>\n",
       "      <td>NaN</td>\n",
       "      <td>NaN</td>\n",
       "      <td>...</td>\n",
       "      <td>NaN</td>\n",
       "      <td>NaN</td>\n",
       "      <td>NaN</td>\n",
       "      <td>NaN</td>\n",
       "      <td>NaN</td>\n",
       "      <td>NaN</td>\n",
       "      <td>NaN</td>\n",
       "      <td>NaN</td>\n",
       "      <td>NaN</td>\n",
       "      <td>NaN</td>\n",
       "    </tr>\n",
       "    <tr>\n",
       "      <th>25719</th>\n",
       "      <td>NaN</td>\n",
       "      <td>NaN</td>\n",
       "      <td>NaN</td>\n",
       "      <td>NaN</td>\n",
       "      <td>NaN</td>\n",
       "      <td>NaN</td>\n",
       "      <td>NaN</td>\n",
       "      <td>NaN</td>\n",
       "      <td>NaN</td>\n",
       "      <td>NaN</td>\n",
       "      <td>...</td>\n",
       "      <td>NaN</td>\n",
       "      <td>NaN</td>\n",
       "      <td>NaN</td>\n",
       "      <td>NaN</td>\n",
       "      <td>NaN</td>\n",
       "      <td>NaN</td>\n",
       "      <td>NaN</td>\n",
       "      <td>NaN</td>\n",
       "      <td>NaN</td>\n",
       "      <td>NaN</td>\n",
       "    </tr>\n",
       "    <tr>\n",
       "      <th>25720</th>\n",
       "      <td>NaN</td>\n",
       "      <td>NaN</td>\n",
       "      <td>NaN</td>\n",
       "      <td>NaN</td>\n",
       "      <td>NaN</td>\n",
       "      <td>NaN</td>\n",
       "      <td>NaN</td>\n",
       "      <td>NaN</td>\n",
       "      <td>NaN</td>\n",
       "      <td>NaN</td>\n",
       "      <td>...</td>\n",
       "      <td>NaN</td>\n",
       "      <td>NaN</td>\n",
       "      <td>NaN</td>\n",
       "      <td>NaN</td>\n",
       "      <td>NaN</td>\n",
       "      <td>NaN</td>\n",
       "      <td>NaN</td>\n",
       "      <td>NaN</td>\n",
       "      <td>NaN</td>\n",
       "      <td>NaN</td>\n",
       "    </tr>\n",
       "    <tr>\n",
       "      <th>25721</th>\n",
       "      <td>NaN</td>\n",
       "      <td>NaN</td>\n",
       "      <td>NaN</td>\n",
       "      <td>NaN</td>\n",
       "      <td>NaN</td>\n",
       "      <td>NaN</td>\n",
       "      <td>NaN</td>\n",
       "      <td>NaN</td>\n",
       "      <td>NaN</td>\n",
       "      <td>NaN</td>\n",
       "      <td>...</td>\n",
       "      <td>NaN</td>\n",
       "      <td>NaN</td>\n",
       "      <td>NaN</td>\n",
       "      <td>NaN</td>\n",
       "      <td>NaN</td>\n",
       "      <td>NaN</td>\n",
       "      <td>NaN</td>\n",
       "      <td>NaN</td>\n",
       "      <td>NaN</td>\n",
       "      <td>NaN</td>\n",
       "    </tr>\n",
       "    <tr>\n",
       "      <th>25722</th>\n",
       "      <td>xx</td>\n",
       "      <td>NaN</td>\n",
       "      <td>NaN</td>\n",
       "      <td>NaN</td>\n",
       "      <td>NaN</td>\n",
       "      <td>NaN</td>\n",
       "      <td>NaN</td>\n",
       "      <td>NaN</td>\n",
       "      <td>NaN</td>\n",
       "      <td>NaN</td>\n",
       "      <td>...</td>\n",
       "      <td>NaN</td>\n",
       "      <td>NaN</td>\n",
       "      <td>NaN</td>\n",
       "      <td>NaN</td>\n",
       "      <td>NaN</td>\n",
       "      <td>NaN</td>\n",
       "      <td>NaN</td>\n",
       "      <td>NaN</td>\n",
       "      <td>NaN</td>\n",
       "      <td>NaN</td>\n",
       "    </tr>\n",
       "  </tbody>\n",
       "</table>\n",
       "<p>25723 rows × 24 columns</p>\n",
       "</div>"
      ],
      "text/plain": [
       "      case_number         date    year        type    country   \n",
       "0      2018.06.25  25-Jun-2018  2018.0     Boating        USA  \\\n",
       "1      2018.06.18  18-Jun-2018  2018.0  Unprovoked        USA   \n",
       "2      2018.06.09  09-Jun-2018  2018.0     Invalid        USA   \n",
       "3      2018.06.08  08-Jun-2018  2018.0  Unprovoked  AUSTRALIA   \n",
       "4      2018.06.04  04-Jun-2018  2018.0    Provoked     MEXICO   \n",
       "...           ...          ...     ...         ...        ...   \n",
       "25718         NaN          NaN     NaN         NaN        NaN   \n",
       "25719         NaN          NaN     NaN         NaN        NaN   \n",
       "25720         NaN          NaN     NaN         NaN        NaN   \n",
       "25721         NaN          NaN     NaN         NaN        NaN   \n",
       "25722          xx          NaN     NaN         NaN        NaN   \n",
       "\n",
       "                  area                        location     activity   \n",
       "0           California     Oceanside, San Diego County     Paddling  \\\n",
       "1              Georgia  St. Simon Island, Glynn County     Standing   \n",
       "2               Hawaii                    Habush, Oahu      Surfing   \n",
       "3      New South Wales              Arrawarra Headland      Surfing   \n",
       "4               Colima                        La Ticla  Free diving   \n",
       "...                ...                             ...          ...   \n",
       "25718              NaN                             NaN          NaN   \n",
       "25719              NaN                             NaN          NaN   \n",
       "25720              NaN                             NaN          NaN   \n",
       "25721              NaN                             NaN          NaN   \n",
       "25722              NaN                             NaN          NaN   \n",
       "\n",
       "                  name sex_  ...         species_   \n",
       "0          Julie Wolfe    F  ...      White shark  \\\n",
       "1      Adyson McNeely     F  ...              NaN   \n",
       "2          John Denges    M  ...              NaN   \n",
       "3                 male    M  ...        2 m shark   \n",
       "4       Gustavo Ramos     M  ...  Tiger shark, 3m   \n",
       "...                ...  ...  ...              ...   \n",
       "25718              NaN  NaN  ...              NaN   \n",
       "25719              NaN  NaN  ...              NaN   \n",
       "25720              NaN  NaN  ...              NaN   \n",
       "25721              NaN  NaN  ...              NaN   \n",
       "25722              NaN  NaN  ...              NaN   \n",
       "\n",
       "               investigator_or_source                       pdf   \n",
       "0                    R. Collier, GSAF      2018.06.25-Wolfe.pdf  \\\n",
       "1      K.McMurray, TrackingSharks.com    2018.06.18-McNeely.pdf   \n",
       "2      K.McMurray, TrackingSharks.com     2018.06.09-Denges.pdf   \n",
       "3                      B. Myatt, GSAF  2018.06.08-Arrawarra.pdf   \n",
       "4                           A .Kipper      2018.06.04-Ramos.pdf   \n",
       "...                               ...                       ...   \n",
       "25718                             NaN                       NaN   \n",
       "25719                             NaN                       NaN   \n",
       "25720                             NaN                       NaN   \n",
       "25721                             NaN                       NaN   \n",
       "25722                             NaN                       NaN   \n",
       "\n",
       "                                            href_formula   \n",
       "0      http://sharkattackfile.net/spreadsheets/pdf_di...  \\\n",
       "1      http://sharkattackfile.net/spreadsheets/pdf_di...   \n",
       "2      http://sharkattackfile.net/spreadsheets/pdf_di...   \n",
       "3      http://sharkattackfile.net/spreadsheets/pdf_di...   \n",
       "4      http://sharkattackfile.net/spreadsheets/pdf_di...   \n",
       "...                                                  ...   \n",
       "25718                                                NaN   \n",
       "25719                                                NaN   \n",
       "25720                                                NaN   \n",
       "25721                                                NaN   \n",
       "25722                                                NaN   \n",
       "\n",
       "                                                    href case_number.1   \n",
       "0      http://sharkattackfile.net/spreadsheets/pdf_di...    2018.06.25  \\\n",
       "1      http://sharkattackfile.net/spreadsheets/pdf_di...    2018.06.18   \n",
       "2      http://sharkattackfile.net/spreadsheets/pdf_di...    2018.06.09   \n",
       "3      http://sharkattackfile.net/spreadsheets/pdf_di...    2018.06.08   \n",
       "4      http://sharkattackfile.net/spreadsheets/pdf_di...    2018.06.04   \n",
       "...                                                  ...           ...   \n",
       "25718                                                NaN           NaN   \n",
       "25719                                                NaN           NaN   \n",
       "25720                                                NaN           NaN   \n",
       "25721                                                NaN           NaN   \n",
       "25722                                                NaN           NaN   \n",
       "\n",
       "      case_number.2 original_order unnamed:_22 unnamed:_23  \n",
       "0        2018.06.25         6303.0         NaN         NaN  \n",
       "1        2018.06.18         6302.0         NaN         NaN  \n",
       "2        2018.06.09         6301.0         NaN         NaN  \n",
       "3        2018.06.08         6300.0         NaN         NaN  \n",
       "4        2018.06.04         6299.0         NaN         NaN  \n",
       "...             ...            ...         ...         ...  \n",
       "25718           NaN            NaN         NaN         NaN  \n",
       "25719           NaN            NaN         NaN         NaN  \n",
       "25720           NaN            NaN         NaN         NaN  \n",
       "25721           NaN            NaN         NaN         NaN  \n",
       "25722           NaN            NaN         NaN         NaN  \n",
       "\n",
       "[25723 rows x 24 columns]"
      ]
     },
     "execution_count": 11,
     "metadata": {},
     "output_type": "execute_result"
    }
   ],
   "source": [
    "df1"
   ]
  },
  {
   "cell_type": "code",
   "execution_count": 12,
   "id": "013b6230",
   "metadata": {},
   "outputs": [],
   "source": [
    "nan_rows = df1.isna().any(axis=1)"
   ]
  },
  {
   "cell_type": "code",
   "execution_count": 13,
   "id": "38194f47",
   "metadata": {},
   "outputs": [],
   "source": [
    "df1 = df1.applymap(lambda x: x.lower() if type(x) == str else x)"
   ]
  },
  {
   "cell_type": "code",
   "execution_count": 14,
   "id": "00481e61",
   "metadata": {},
   "outputs": [],
   "source": [
    "df1 = df1.dropna(how='all')"
   ]
  },
  {
   "cell_type": "code",
   "execution_count": 15,
   "id": "228a3a06",
   "metadata": {},
   "outputs": [],
   "source": [
    "df1 = df.dropna(subset=['date', 'type', 'country', 'area', 'location', 'activity', 'sex_', 'species_', ], how='all')"
   ]
  },
  {
   "cell_type": "code",
   "execution_count": 16,
   "id": "d01116cf",
   "metadata": {},
   "outputs": [],
   "source": [
    "df1 = df1.drop(['unnamed:_23', 'sex_', 'unnamed:_22','case_number.2', 'case_number.1', 'href', 'href_formula', 'pdf', 'investigator_or_source','country', 'area','location', 'name', 'age', 'time', 'original_order'], axis=1)"
   ]
  },
  {
   "cell_type": "code",
   "execution_count": 17,
   "id": "482a1062",
   "metadata": {},
   "outputs": [
    {
     "data": {
      "text/html": [
       "<div>\n",
       "<style scoped>\n",
       "    .dataframe tbody tr th:only-of-type {\n",
       "        vertical-align: middle;\n",
       "    }\n",
       "\n",
       "    .dataframe tbody tr th {\n",
       "        vertical-align: top;\n",
       "    }\n",
       "\n",
       "    .dataframe thead th {\n",
       "        text-align: right;\n",
       "    }\n",
       "</style>\n",
       "<table border=\"1\" class=\"dataframe\">\n",
       "  <thead>\n",
       "    <tr style=\"text-align: right;\">\n",
       "      <th></th>\n",
       "      <th>case_number</th>\n",
       "      <th>date</th>\n",
       "      <th>year</th>\n",
       "      <th>type</th>\n",
       "      <th>activity</th>\n",
       "      <th>injury</th>\n",
       "      <th>fatal_(y/n)</th>\n",
       "      <th>species_</th>\n",
       "    </tr>\n",
       "  </thead>\n",
       "  <tbody>\n",
       "    <tr>\n",
       "      <th>0</th>\n",
       "      <td>2018.06.25</td>\n",
       "      <td>25-Jun-2018</td>\n",
       "      <td>2018.0</td>\n",
       "      <td>Boating</td>\n",
       "      <td>Paddling</td>\n",
       "      <td>No injury to occupant, outrigger canoe and pad...</td>\n",
       "      <td>N</td>\n",
       "      <td>White shark</td>\n",
       "    </tr>\n",
       "    <tr>\n",
       "      <th>1</th>\n",
       "      <td>2018.06.18</td>\n",
       "      <td>18-Jun-2018</td>\n",
       "      <td>2018.0</td>\n",
       "      <td>Unprovoked</td>\n",
       "      <td>Standing</td>\n",
       "      <td>Minor injury to left thigh</td>\n",
       "      <td>N</td>\n",
       "      <td>NaN</td>\n",
       "    </tr>\n",
       "    <tr>\n",
       "      <th>2</th>\n",
       "      <td>2018.06.09</td>\n",
       "      <td>09-Jun-2018</td>\n",
       "      <td>2018.0</td>\n",
       "      <td>Invalid</td>\n",
       "      <td>Surfing</td>\n",
       "      <td>Injury to left lower leg from surfboard skeg</td>\n",
       "      <td>N</td>\n",
       "      <td>NaN</td>\n",
       "    </tr>\n",
       "    <tr>\n",
       "      <th>3</th>\n",
       "      <td>2018.06.08</td>\n",
       "      <td>08-Jun-2018</td>\n",
       "      <td>2018.0</td>\n",
       "      <td>Unprovoked</td>\n",
       "      <td>Surfing</td>\n",
       "      <td>Minor injury to lower leg</td>\n",
       "      <td>N</td>\n",
       "      <td>2 m shark</td>\n",
       "    </tr>\n",
       "    <tr>\n",
       "      <th>4</th>\n",
       "      <td>2018.06.04</td>\n",
       "      <td>04-Jun-2018</td>\n",
       "      <td>2018.0</td>\n",
       "      <td>Provoked</td>\n",
       "      <td>Free diving</td>\n",
       "      <td>Lacerations to leg &amp; hand shark PROVOKED INCIDENT</td>\n",
       "      <td>N</td>\n",
       "      <td>Tiger shark, 3m</td>\n",
       "    </tr>\n",
       "    <tr>\n",
       "      <th>...</th>\n",
       "      <td>...</td>\n",
       "      <td>...</td>\n",
       "      <td>...</td>\n",
       "      <td>...</td>\n",
       "      <td>...</td>\n",
       "      <td>...</td>\n",
       "      <td>...</td>\n",
       "      <td>...</td>\n",
       "    </tr>\n",
       "    <tr>\n",
       "      <th>6297</th>\n",
       "      <td>ND.0005</td>\n",
       "      <td>Before 1903</td>\n",
       "      <td>0.0</td>\n",
       "      <td>Unprovoked</td>\n",
       "      <td>Diving</td>\n",
       "      <td>FATAL</td>\n",
       "      <td>Y</td>\n",
       "      <td>NaN</td>\n",
       "    </tr>\n",
       "    <tr>\n",
       "      <th>6298</th>\n",
       "      <td>ND.0004</td>\n",
       "      <td>Before 1903</td>\n",
       "      <td>0.0</td>\n",
       "      <td>Unprovoked</td>\n",
       "      <td>Pearl diving</td>\n",
       "      <td>FATAL</td>\n",
       "      <td>Y</td>\n",
       "      <td>NaN</td>\n",
       "    </tr>\n",
       "    <tr>\n",
       "      <th>6299</th>\n",
       "      <td>ND.0003</td>\n",
       "      <td>1900-1905</td>\n",
       "      <td>0.0</td>\n",
       "      <td>Unprovoked</td>\n",
       "      <td>Swimming</td>\n",
       "      <td>FATAL</td>\n",
       "      <td>Y</td>\n",
       "      <td>NaN</td>\n",
       "    </tr>\n",
       "    <tr>\n",
       "      <th>6300</th>\n",
       "      <td>ND.0002</td>\n",
       "      <td>1883-1889</td>\n",
       "      <td>0.0</td>\n",
       "      <td>Unprovoked</td>\n",
       "      <td>NaN</td>\n",
       "      <td>FATAL</td>\n",
       "      <td>Y</td>\n",
       "      <td>NaN</td>\n",
       "    </tr>\n",
       "    <tr>\n",
       "      <th>6301</th>\n",
       "      <td>ND.0001</td>\n",
       "      <td>1845-1853</td>\n",
       "      <td>0.0</td>\n",
       "      <td>Unprovoked</td>\n",
       "      <td>Swimming</td>\n",
       "      <td>FATAL. \"Shark bit him in half, carrying away t...</td>\n",
       "      <td>Y</td>\n",
       "      <td>NaN</td>\n",
       "    </tr>\n",
       "  </tbody>\n",
       "</table>\n",
       "<p>6302 rows × 8 columns</p>\n",
       "</div>"
      ],
      "text/plain": [
       "     case_number         date    year        type      activity   \n",
       "0     2018.06.25  25-Jun-2018  2018.0     Boating      Paddling  \\\n",
       "1     2018.06.18  18-Jun-2018  2018.0  Unprovoked      Standing   \n",
       "2     2018.06.09  09-Jun-2018  2018.0     Invalid       Surfing   \n",
       "3     2018.06.08  08-Jun-2018  2018.0  Unprovoked       Surfing   \n",
       "4     2018.06.04  04-Jun-2018  2018.0    Provoked   Free diving   \n",
       "...          ...          ...     ...         ...           ...   \n",
       "6297     ND.0005  Before 1903     0.0  Unprovoked        Diving   \n",
       "6298     ND.0004  Before 1903     0.0  Unprovoked  Pearl diving   \n",
       "6299     ND.0003    1900-1905     0.0  Unprovoked      Swimming   \n",
       "6300     ND.0002    1883-1889     0.0  Unprovoked           NaN   \n",
       "6301     ND.0001    1845-1853     0.0  Unprovoked      Swimming   \n",
       "\n",
       "                                                 injury fatal_(y/n)   \n",
       "0     No injury to occupant, outrigger canoe and pad...           N  \\\n",
       "1                            Minor injury to left thigh           N   \n",
       "2          Injury to left lower leg from surfboard skeg           N   \n",
       "3                             Minor injury to lower leg           N   \n",
       "4     Lacerations to leg & hand shark PROVOKED INCIDENT           N   \n",
       "...                                                 ...         ...   \n",
       "6297                                              FATAL           Y   \n",
       "6298                                              FATAL           Y   \n",
       "6299                                              FATAL           Y   \n",
       "6300                                              FATAL           Y   \n",
       "6301  FATAL. \"Shark bit him in half, carrying away t...           Y   \n",
       "\n",
       "             species_  \n",
       "0         White shark  \n",
       "1                 NaN  \n",
       "2                 NaN  \n",
       "3           2 m shark  \n",
       "4     Tiger shark, 3m  \n",
       "...               ...  \n",
       "6297              NaN  \n",
       "6298              NaN  \n",
       "6299              NaN  \n",
       "6300              NaN  \n",
       "6301              NaN  \n",
       "\n",
       "[6302 rows x 8 columns]"
      ]
     },
     "execution_count": 17,
     "metadata": {},
     "output_type": "execute_result"
    }
   ],
   "source": [
    "df1"
   ]
  },
  {
   "cell_type": "code",
   "execution_count": null,
   "id": "ab8b0c9b",
   "metadata": {},
   "outputs": [],
   "source": []
  },
  {
   "cell_type": "code",
   "execution_count": 18,
   "id": "498e792b",
   "metadata": {},
   "outputs": [],
   "source": [
    "df1.rename(columns={'species_': 'species'}, inplace=True)"
   ]
  },
  {
   "cell_type": "code",
   "execution_count": 19,
   "id": "68cd7750",
   "metadata": {},
   "outputs": [],
   "source": [
    "df_no_dates= df1.drop(['case_number', 'date','year'], axis=1)\n",
    "df2=df_no_dates"
   ]
  },
  {
   "cell_type": "code",
   "execution_count": 20,
   "id": "92abef10",
   "metadata": {},
   "outputs": [
    {
     "data": {
      "text/html": [
       "<div>\n",
       "<style scoped>\n",
       "    .dataframe tbody tr th:only-of-type {\n",
       "        vertical-align: middle;\n",
       "    }\n",
       "\n",
       "    .dataframe tbody tr th {\n",
       "        vertical-align: top;\n",
       "    }\n",
       "\n",
       "    .dataframe thead th {\n",
       "        text-align: right;\n",
       "    }\n",
       "</style>\n",
       "<table border=\"1\" class=\"dataframe\">\n",
       "  <thead>\n",
       "    <tr style=\"text-align: right;\">\n",
       "      <th></th>\n",
       "      <th>type</th>\n",
       "      <th>activity</th>\n",
       "      <th>injury</th>\n",
       "      <th>fatal_(y/n)</th>\n",
       "      <th>species</th>\n",
       "    </tr>\n",
       "  </thead>\n",
       "  <tbody>\n",
       "    <tr>\n",
       "      <th>4</th>\n",
       "      <td>Provoked</td>\n",
       "      <td>Free diving</td>\n",
       "      <td>Lacerations to leg &amp; hand shark PROVOKED INCIDENT</td>\n",
       "      <td>N</td>\n",
       "      <td>Tiger shark, 3m</td>\n",
       "    </tr>\n",
       "  </tbody>\n",
       "</table>\n",
       "</div>"
      ],
      "text/plain": [
       "       type     activity                                             injury   \n",
       "4  Provoked  Free diving  Lacerations to leg & hand shark PROVOKED INCIDENT  \\\n",
       "\n",
       "  fatal_(y/n)          species  \n",
       "4           N  Tiger shark, 3m  "
      ]
     },
     "execution_count": 20,
     "metadata": {},
     "output_type": "execute_result"
    }
   ],
   "source": [
    "df_species=df2.dropna(subset=['species'])\n",
    "df3=df_species\n",
    "df3.sample()"
   ]
  },
  {
   "cell_type": "code",
   "execution_count": 21,
   "id": "4c3228b8",
   "metadata": {},
   "outputs": [
    {
     "name": "stdout",
     "output_type": "stream",
     "text": [
      "['White shark', '2 m shark', 'Tiger shark, 3m', 'Tiger shark', \"Lemon shark, 3'\", \"Bull shark, 6'\", 'Grey reef shark', 'Invalid incident', 'Tawny nurse shark, 2m', 'Shark involvement not confirmed', 'Questionable', '3 m shark', 'White shark, 3.5 m', 'White shark, 2.5 m', \"6' shark\", 'Juvenile bull shark', 'Bull shark', \"Tiger shark, 12'\", 'Wobbegong shark', '3.5 m shark', '1.8 m shark', 'Blacktip shark', 'Juvenile white shark,  2.7 to 3.2 m', 'Bull shark, 2 m', 'Possibly a wobbegong', 'Injury believed caused by an eel, not a shark', 'Galapagos shark?', '2m shark', 'Bull shark, 3 m ', 'Grey reef shark. 2 m', 'small shark', 'Wobbegong shark?', 'Juvenile nurse shark', \"Nurse shark. 5'\", 'Tiger shark, female', 'Some drowned but other may have been killed by blue sharks', 'White shark, 4.6 m', 'Cookiecutter shark', 'Wobbegong shark, 1 m', 'White shark, 4.5 m', 'Spinner shark, 4 to 5 feet', 'Tiger shark, 8 to 10 feet', \"8' shark\", 'Death may have been due to drowning', \"5' shark\", \"4' to 5' shark\", 'Porbeagle, 1.5 m', 'White shark, 3.5m', \"5' to 6' shark\", 'White shark, 3 to 3.5m ', 'Nurse shark', 'White shark, 3 m', 'Shark involvement questionable', \"White shark, 5' to 7'\", 'Possibly a juvenile blacktip shark', 'Oceanic whitetip shark, 1.8 to 2 m', \"4' shark\", \"White shark, 10'\", 'A small shark', \"Sandtiger shark  2'\", \"Blue shark 6'\", '\"A small shark\"', \"White shark, 11' to 13'\", \"White shark, 8' to 10'\", \"White shark, 9'\", \"Bull shark, 4' to 5'\", 'Tiger shark, 100 kg', 'Shark involvement prior to death not confirmed', 'No shark invovlement ', 'Bull shark, 2m', 'White shark, 4 m', 'Seven-gill shark', '3m shark, probably a smooth hound', \"3' shark\", \"9' shark\", 'Shark involvement highly doubtful', 'No shark invovlement - it ws a publicity stunt', \"Bull shark, 5' to 7'\", \"10' shark\", 'Lemon shark', 'Bull shark, 1.5', 'Lemon shark pup', \"White shark, female, 14'\", 'Caribbean reef shark', 'Bull shark, 4 m', 'Bull shark, 1 m', 'a small shark', 'Wobbegong shark, 2m', 'Broadnose sevengill shark, 1.5 m', \" 6' to 8' shark\", \"3' to 4' shark\", \"Tiger shark, 10'\", 'Invalid', 'Bull shark, 3.5 m', \"Tiger shark, 10' \", 'Blue shark', \"Nurse shark, 4'\", 'reef shark, 1m', \"White shark, 10' to 12'\", \"Lemon shark, 9'\", 'Angel shark', 'dogfish shark', 'Tawny nurse shark', \"Caribbean reef shark, 4.5'\", \"3' to 5' shark\", \"Said to involve an 8' shark but more likely damage caused by debris\", '3+ m shark', 'Mako shark', 'Bronze whaler sharks x 3', \"Blacktip shark, 4'\", \"Nurse shark, 2'\", \"Mako shark, 1.5 m [5'] \", 'Grey reef shark, 2 m', \"Bull shark, 7'\", 'Tiger shark, 2.5 m', 'Nurse shark, 2.5-ft', 'Bronze whaler', 'Sandtiger shark', 'No shark involvement', \"Reef shark, 5'\", 'Bull sharks x 2', \"Tiger shark, 14'\", \"Silky shark, 6.5'\", \"Bronze whaler shark, 6'\", 'Tiger shark, 1.5 m ', 'Galapagos shark', \"Spinner shark, 7'\", 'Bull shark, 2.8 to 3.1 m', \"Spinner shark, 5'\", \"Tiger shark, 7'\", 'Hammerhead sp.', \"Tiger shark, 13' \", \"Blacktip shark, 4' to 5'\", \"Blacktip shark, 5' to 6'\", \"White shark, 19'\", 'juvenile shark', \"Tiger shark, 13'\", 'Hammerhead shark', \"White shark, 11' to 12'\", 'Hammerhead shark.', \"4' shark?\", \"White shark, 10' to 12' \", \"White shark, 13'\", \"Hammerhead shark. 6' to 7'\", \"Blacktip or spinner shark, 4'\", \"Thought to involve a 3' to 4' shark, but shark involvement not confirmed\", 'White shark, 3.9 to 4.2 m', 'Mako shark, 100-lb', 'Bronze whaler shark, 1.5m', \"White shark, 7'\", 'Shark involvement not cofirmed', \"6' to 7' shark\", 'White shark, 2m to 3 m', \"Bull shark, 5'\", 'small nurse shark', 'Bull shark, 2.5 m', '1m to 1.2 m shark', '3- to 4-foot shark', 'White shark, 6 m', 'Blue shark, 8 to 9 feet', 'Tiger shark, 8 to 12 feet', 'Blacktip Reef shark ', 'Tiger shark, 3.5 m', '3.5 to 4 m shark', '2 m to  3 m shark', 'Bull shark, 1.3 m', '5 m shark', '1.5 m shark', 'White shark or oceanic whitetip shark', 'Raggedtooth shark, 1.3 m', 'White shark, 4 to 5 m', 'Shark involvement prior to death still to be determined', 'Shark involvement not confirmed & highly unlikely', 'Goblin shark', \"2' shark\", \"12' to 14' shark\", '1 m shark', \"Bull shark, 3' to 4'\", \"White shark, 18' to 20'\", \"8' to 10' shark\", '2 white shark: 13\\' & 9\"8\"', \"7' shark\", \"White shark, 12' to 14'\", 'Spinner shark', 'Spinner shark or blacktip shark', \"4' to 6' shark\", \"Bull shark, 4.5' \", 'reef shark', \" Bull shark, 8'\", \"Bull shark, 9' to 10'\", \" Bull shark, 5'\", \"4' tp 5' shark\", 'Possibly juvenile tiger shark', '1.8 metre shark', \"6' to 8' shark\", \" White shark, 7' \", \"Oceanic whitetip shark'\", \"Caribbean reef shark, 7' to 8'\", ' Lemon shark, 3.5 m', \" Sandbar shark, 3' to 4'\", ' Bull shark, 1.2m ', '3m shark', ' Tawney nurse shark, 1m', \" white shark, 15' \", 'Cow shark', 'reef shark?', ' Raggedtooth shark, 2m', '3 m to 4 m white shark', 'Blacktip or spinner shark?', 'Blacktip reef shark ', '7-gill shark?', '1m shark', '7-gill shark', 'Oceanic whitetip shark', 'Reported to involve a bull shark', 'White shark, 3m ', \"Tiger shark, 10' to 12'\", ' Wobbegong shark, 1.6 to 1.8m ', 'Tiger shark, 3m ', 'Thought to involve a white shark', \"White shark, 10 '\", 'Reported to involve a white shark', 'Blacktip reef shark, 1m', 'Thought to involve a bull shark', 'Reported to involve a 4 m white shark', \"Whitetip reef shark, 4' to 6'\", 'Nurse shark?', 'Small bull shark', 'Salmon shark', \"Mako shark, 5'\", 'Tiger shark?', \"Bull shark, 8'\", \"Bull shark, 6' to 8'\", \"Tiger shark, 8' to 10' \", \"Possibly a Bull shark, 3'\", \"Lemon shark, 4'\", 'Wobbegong, 2m', 'Grey nurse shark, 3m', 'Possibly a blacktip reef shark', 'shark involvement not confirmed', 'Raggedtooth shark, 1.5 m', 'Tiger shark, 4.8 m', 'Bronze whaler shark, 2.5m', '\"small sharks\"', 'White shark, 4m', 'White shark, 5m', \"Tiger shark, 15'\", 'Bronze whaler shark, 3m', '2.5 m shark', 'Bull shark, 2m ', \"Tiger shark, 6'\", \"2' to 3' shark\", \"Tiger shark, 8'\", \"Tiger shark, 10' to 12' \", \"White shark, 15' to 16' \", 'Possibly a 3 m bull shark', \"3.5' to 4' shark\", \"Porbeagle shark, 7'\", '4.5 m shark', \"Lemon shark, 4' to 5' \", 'Lemon shark, 2.5m to 3m ', 'White shark or bronze whaler', 'Salmon shark suspected, but unlikely', \"14' to 18'shark\", \"15' shark\", 'possibly a bull shark', 'a small reef shark', 'small blacktip shark?', 'Blacktip shark ', 'Blue shark, 2.5m', 'White shark, 2 m', '18\" to 24\" shark', 'Bull shark, 3m', \"Tiger shark, 8' to 9' \", 'White shark, 4 m to 5m ', 'White shark, 6m ', \"Tiger shark, 10'  \", 'White shark, 4m ', 'Possibly a bull shark', \"Possibly a 5' to 6' bull shark\", 'Tawny nurse shark, 40cm', 'Grey nurse shark', 'White shark, 7m', 'Blue shark, 70-kg blue shark', 'White shark, 2.7 m', 'Allegedly a 4 m tiger shark', \"7' to 8' shark \", 'White shark, 2.5m', \"White shark, 15' to 16'\", 'Raggedtooth shark', \"White shark, 15'\", 'Port Jackson shark, 1m', \"10' to 12' shark\", '2 to 2.5 m shark', 'Tiger shark, 2m', \"6' shark, possibly a blactip or spinner shark\", \"White shark, >6'\", \"Possibly a 5' to 6' sandtiger shark\", '4 m shark', 'Grey reef shark ', 'White shark, 3m to 4m', 'Bull shark, 3m female', \"White shark, 5' k\", \"Oceanic whitetip shark, 7'\", \"Sevengill shark, 6' to 8'\", 'Zambesi shark', ' Tiger shark, 2.8m', \"Sandbar shark, 8'\", \"Bull shark, 12'\", 'reef shark, 1.5m', \"1' to 2' shark\", 'possibly a bronze whaler shark', ' Bull shark, 2.5 m', 'Blacktip shark pup', 'Bull shark, 2.5m', '3 m to 4 m shark', 'White shark x 2', 'Oceanic whitetip shark, 2.5m ', 'Mako shark ', 'Oceanic whitetip shark, 2.5m, female', \"Porbeagle shark, 8' \", \"White shark, 14' to 18' \", 'Bull shark, 1.4m ', \"Possibly a 6' lemon shark\", 'Shark involvement prior to death was not confirmed', 'Possibly a small blacktip shark', \"Sandtiger shark, 4' to 5'\", 'A small spinner shark', 'Nurse shark, juvenile ', \"Blue shark, 7'\", '20 to 30kg shark', \"Lemon shark, 6'\", \"14' shark\", \"Oceanic whitetip shark, 6'\", 'Possibly a blue shark', 'Wobbegong shark, 1.6m', '2 m to 3 m shark', \"Spinner shark, 6'\", 'Thought to involve a juvenile hammerhead shark', 'Whitetip reef shark, 1m', 'Zambesi shark, 2m ', 'White shark, 2.8 to 3 m ', \"Sandtiger shark, 8'\", 'Thresher shark', \"Bull shark, 10'\", 'Spurdog', \"White shark, 5' to 6' juvenile \", 'White shark, 2m', 'Tiger shark, 12', 'Bull shark?', \"Caribbean reef shark, 6'\", \"Nurse shark, 6'\", 'Thought to involve a Bronze whale shark, 2m', 'Shark involvement probable, but not confirmed', 'Oceanic whitetip shark, 2.5 to 3m', '80 kg shark', \"5' to 8' shark\", 'blacktip or spinner shark', \"White shark, 12' to 15' female\", 'Bronze whaler shark?', 'Blacktip reef shark pup', 'Thought to involve a cookie cutter shark', 'Wobbegong shark, 60cm', 'Blue shark, 1m', '2.6 m shark', 'White shark, 2.5m ', 'Bull shark, 2.7 m ', \"White shark, 12' \", 'White shark, 5.5 m ', 'White sharks', 'Dusky shark, 2m', 'Mako shark, 3m', 'Broadnose sevengill shark', 'White shark, 4m to 5m ', '4 to 5m white shark', 'Raggedtooth shark, 2m', 'White shark, 4.5 to 5 m ', 'Zambesi shark?', 'Bronze whaler shark', ' reef shark, 1.8m', '5 m white shark', \"+3' shark\", \"2' to 3' juvenile shark\", \"White shark, 14' to 16' \", \"8' bull shark or Caribbean reef shark\", \"8' white shark or 7-gill shark\", \"3'  shark\", \"2'  shark\", \"2' to 3' reef shark\", 'Starry smoothhound shark, 1m', \"Bull shark, 6' to 7'\", 'White shark, 4.5m', \"4.5 to 5' shark\", 'Basking shark', 'Tiger sharks in area', '2 small bull sharks', 'Bull shark, 1.8m', \"White shark, 12' to 15'\", 'Tiger shark, 2.3m ', \"Tiger shark, 13' female\", 'Reported by media as shark attack, but shark involvement prior to death was not confirmed', 'Shark involvement not confirmed; thought to be a barracuda bite', \"1.5' to 2' shark\", \"2.5' shark\", 'A bull shark, according to some of the divers on the boat', \"Goblin shark, 4.2'\", 'Blacktip shark, 2m', 'Mako shark, 90kg', 'Bronze whaler shark, 4m', \"Nurse shark, 10'\", 'Possibly a hammerhead shark', '\"a small shark\"', 'Not a shark attack; it was a hoax', '2.27 m shark', '1.5 to 2 m shark', \"Blacktip shark, 5'\", 'Oceanic whitetip sharks were in the vicinity', 'Gray reef shark', \"9.5' shark?\", \"Nurse shark, 2' to 3' \", 'Possibly a spinner shark', \"White shark, 12'\", 'Sand shark', \"Possibly a 6' bull shark\", ' ', \"Possibly a 10' bull shark\", 'Bronze whaler shark, 1.5 m ', \"3' small spotted catshark, Scyliorhinus canicula\", \"Bull shark, 5' \", 'Questionable Incident', \"Lemon shark, 6' female \", 'A 10-year-old 94-pound pregnant blacktip reef shark', 'Lesser spotted dogfish, Scyliorhinus canicula, less than 80 cm in length', 'White shark, 2m ', \"Tiger shark, 14' \", 'Lemon shark, >1 m ', \"Bull shark, 10' \", 'White shark, 3m', '2.4 m shark', '24\" to 30\" shark', \"6' to 8' shark, possibly a tiger shark\", '2.5 to 3 m shark', '2 to 3 m shark', \"White shark, 12' to 15' \", 'Raggedtooth shark, 150-kg', 'White shark, 5m ', 'Bull shark, 1.5m ', \"White shark, 16' \", \"1' to 4' shark\", \"3' to 3.5' shark\", 'White shark, 3.5m ', 'small catsharks', 'White shark?', 'Thought to involve a mako shark, but possibly a sea lion', \"Bull shark, 4' to 5' \", 'Angel shark, 1.2m ', 'Shark involvement not confirmed, injury may have been caused by a bluefish', 'Bull or tiger shark', \"5' to 6' spinner or bull shark\", '1.8 m blacktip \"reef\" shark', \"Possibly a 1' to 3' blacktip or spinner shark\", \"14' white shark\", \"Tiger shark, 8' to 12'\", \"Tiger shark, 15' female\", \"Grey reef shark, 5' to 8' \", 'Wobbegong shark, 2 m ', \"Bull shark, 4' to bull shark\", 'Bronze whaler shark, a  juvenile ', 'Raggedtooth shark, 2.5 m to 3 m ', '3 m, 600-kg shark', \"Tiger shark, 5' \", 'Bronze whaler shark, 2 m', \"5' to 7' shark\", '4.5 m white shark', \"12' to 18' shark\", \"12' shark\", '3.5 m white shark', 'Said to involve a 1.5 m shark', 'Whitetip reef shark', '4 m white shark', '3 m white shark', 'Raggedtooth shark, 2.5m ', \"12' to 14' white shark\", \"18' white shark\", \"Tiger shark, less than 10'\", 'Caribbean reef sharks', 'Tiger shark, 3 m ', \"14' to 16' white shark\", \"4 m [13'] white shark\", \"2 m [6.75'] shark, 200-kg shark T\", 'juvenile white shark', 'Possibly a sandbar shark or small blacktip shark', \"1.8 m [6'] shark\", \"3.5 m [11.5']shark\", \"[4.5' to 5'] shark\", \"[4' to 5']\", \"1.8 m [6'] bull shark\", 'On 8/13/2005 anglers from New Zealand caught a 2.8 m [9\\'3\"], 140-kg [309-lb] shark at the same spot. It was believed this was the same shark that killed Alysha', 'Unknown, but it was reported that a shark tooth was recovered from the wound', \"3 m [10'] white shark\", \"Mr. Burgess of ISAF announced the injury was the bite of a 1.8 m [6'], 2- to 3-year old white shark. Subsequent investigation revealed there was  no shark involvement in this incident\", '\"small shark\"', '18\" to 36\" shark', \"Tiger shark, 3 m [10']\", \"2 m [6.75'] copper shark\", \"1.8 m [6'] blacktip shark\", 'small hammerhead shark', \"4 m [13'] shark\", \"6 m [20'] white shark\", \"Sandtiger shark, 2.1 m [7'] \", \"Bronze whaler shark, 4.3 m [14'] \", \"Nurse shark, 3' \", \"Tiger shark, 2.4 m [8']\", \"1.8 m [6'] Caribbean reef shark\", \"3 m [10'] shark\", \"Bronze whaler shark, 2 m to 3 m [6.75' to 10']  \", '4.5 m & 5 m white shark ', \"5.5 m [18'] white shark\", \"2.5 m [8.25'] bull shark\", \"2 m [6.75'] white shark\", \"Bronze whaler shark, 2.4 m [8'] \", \"1.8 m to 2.4 m [6' to 8'] white shark\", \"Tiger shark, 2.4 m to 3.7 m [8' to 12'] \", \"Raggedtooth shark, 1.5 to 2 m [5' to 6.75']\", 'Thought to involve a 2.5 m bull or tiger shark', \"Tiger shark, 3 m [10'] \", \"2.4 m [8'] shark\", \"0.9 m to 1.2 m [3' to 4'] white shark\", \"4.9 m to 5.5 m [16' to 18'] white shark\", \"1.2 m [4'] shark\", \"3 m to 4 m [10' to 13']  white shark\", \"1.2 m to 1.5 m [4' to 5'] shark\", \"Longfin mako shark, 3.5 m [11.5'], 350-kg [772-lb] \", '2 sharks, 4.5 m & 3 m ', '\"black tipped\" shark', '9\\'2\" white shark', \"Bronze whaler shark, 2.5 m [8.25'] \", \"0.9 m to 1.5 m [3' to 5'] shark\", \"2.4 m to 3.7 m [8' to 12'] shark\", \"1,5 m [5'] Caribbean reef shark (Carcharhinus  perezi)\", \"Mako shark, 1.8 m [6']\", \"Wobbegong shark, 1.2 m [4'] k\", \"White shark, 5.5 m [18']\", 'small sharks', \"5 m [16.5'] white shark\", \"1.2 m [4'] bull shark\", 'bull shark', \"Tiger shark, 2.4 m to 3 m [8' to 10'] \", \"Bronze whaler shark, 1.5 m [5'] \", \"2 m [6.75'] sevengill  shark\", '60 cm [23.6\"] blind or brown shark', \"4 m to 5 m [13' to 16.5'] white shark\", 'Possibily a  1.5 to 2 m sandtiger shark', 'Shark involvement doubtful', 'Bull shark, 1.65 m [5\\'5\"] was speared & killed', 'Bull shark, 132-kg [291-lb] ', \"Mako shark, 3 m to 4 m [10' to 13'] \", \"Raggedtooth shark, 3.5 m [11.5'] \", 'Shortfin mako shark', \"Wobbegong shark, 1.2 m [4'] \", \"Tiger shark, 4 m [13']  ?\", '2.5 oceanic whitetip shark', \"Nurse shark, 60 cm to 90 cm [2' to 3'] \", \"1.5 m [5'] shark, either a bronze whaler or a grey nurse shark\", '1.2 m [4\\'] \"grey-colored shark\"', '2 m cow shark', \"4.5 m to 5.5 m [15' to 18'] white shark\", \"3.5 m [11.5'] white shark\", 'Unidentified species', \"1.5 m to 1.8 m [5' to 6'] shark\", \"2.1 m  [7'] bull shark\", \"8' great hammerhead shark\", \"106 cm [3.5']  shark\", '\\x93small brown shark\\x94', \"3.7 m to 4.3 m [12' to 14'] shark\", '\"sand shark\"', \"1.8 m [6'] reef shark - or a 2.1 m to 2.4 m [7' to 8'] grey-colored shark\", \"0.9 m to 1.2 m [3' to 4'] shark\", 'A \\x93small\\x94 shark', '15 cm to 20 cm [6\" to 8\"] bite diameter just below left knee', \"Mako shark, 3 m [10']\", \"60 cm [2'] captive shark\", \"2.5 m [8.25'] white shark\", 'Species unidentified', \"Thought to involve a 2 m [6.75'] grey nurse shark\", \"Thought to involve a >2 m [6.75'] bull shark\", 'Reported to involve a hammerhead shark', 'White shark, 4 m white shark', 'Wobbegong shark, 1m', 'Shark involvement not confirmed, injury may be due to a stingray', \"3 m to 4.5 m [10' to 15'] white shark\", \"2.4 m to 3 m [8' to 10'] grey colored shark\", \"1.8 m to 2.1 m [6' to 7']\\xa0 Caribbean Reef Shark \", 'Possibly a bull shark or tiger shark', 'Blacktip or spinner shark', \"3.5' to 4.5' shark\", \"1.2 m [4'] blacktip shark\", \"Tiger shark, 1.5 m [5']k\", \"3 m to 3.7 m [10' to 12'] shark\", \"1' to 2' hammerhead or bonnethed shark\", \"0.9 m  to 1.2 m [3' to 4'] shark\", \"Nurse shark, 1.5 m [5'] \", \"Sandtiger shark, 3 m [10'] \", \"1.2 m [4'] blacktip or sandbar shark\", \"Bull shark, 1.8 m to 2.1 m [6' to 7'] \", 'Mako shark, 400-lb ', \"1.2 m to 1.5 m [4' to 5'] shark, possibly a bull shark\", \"Tiger shark, 2.4 m to 2.7 m [8' to 9']  \", \"0.9 m to 1.2 m [3' to 4'] shark; Tooth fragment recovered from hand\", '\\xa0 ', \"1.5 to 2.5 m [5' to 8.25'] copper shark\", \"3.7 m to 4.3 m [12' to 14'] white shark\", '1 m  shark', \"3' blacktip shark\", \"2.1 m to 2.4 m [7' to 8'] shark\", \"White shark, 6m [20']\", 'Bull shark, 400-lb ', \"0.9 m [3'] shark\", 'Nurse shark, 1m ', \"Spinner shark, 3' to 4' \", 'Shark involvement prior to death unconfired', '1.5 m [5\\'] \"whaler shark\"', 'C. leucas tooth fragment recovered from kayak', 'Unidentified', \"Tiger shark, 1.8 m [6'] \", \"Mako shark, 2 m [6.75'] \", \"Tiger shark, 1.8 m [6']\", 'Questionable incident - shark bite may have precipitated drowning', \"2' to 3.5' shark\", \"12' sandtiger shark\", 'A large white shark was filmed by divers on a local wreck 2 days prior to the incident.', \"1.5 m [5'] shark\", \"3 m [10'] bull shark\", 'Possibly  a blacktip or spinner shark', \"3' shark, possibly  a blacktip or spinner shark\", \"Blacktip shark, 5' to 6' \", \"1.9 m [6.5'] bull shark\", \"Mako shark, 14' \", \"0.9 m  [3'] shark\", \"Bull shark, 2.3 m [7.5'] \", \"White shark, 2.4 m to 3 m [8' to 10'] \", \"1.2 m to 1.5 m [4.5' to 5'] shark\", \"White shark, 2.7 m to 3 m [9' to 10'] \", 'Possibly a juvenile blacktip or spinner shark', \"Possibly a 1.5 m [5'] blacktip or spinner shark\", '1 m shark, possibly whitetip reef shark', \"White shark, 2.7 m [9'] \", \"Spinner shark, 1.2 m to 1.5 m [4' to 5'] \", \"Tiger shark, 8' \", \"White shark, 5 m [16.5'] \", \"Bronze whaler shark, 2.5 m [8.25']  k\", \"2 m [6.75'] shark\", \"White shark, 4.3 m [14'] \", '1.8 m to 2.4 m [6\\' to 8\\'] \"black finned shark\"', \"6 m [20'] shark\", 'White shark, 4.5 m [14\\'9\"] ', \"Porbeagle shark, 3 m [10']rk\", 'Tiger shark, 4 m ', \"1.2 m to 1.8 m [4' to 6'] shark\", \"White shark, 4.9 m [16'] \", \"Tiger shark, 1.8 m to 2.4 m [6' to 8'] \", \"2.1 to 2.4 m [7' to 8'] shark\", \"Blacktip shark, 2' \", \"White shark, 4.3 m [14']\", \"White shark, 4 m to 5 m [13' to 16.5'] \", '100-kg [221-lb] dead blue shark', 'White shark, 2.5 m ', \"60 cm to 90 cm [2' to 3'] shark\", \"White shark, 3.5 m [11.5']  male \", 'Thought to involve a Zambesi shark', \"A 2' shark was seen in the area by witnesses\", \"Thought to involve a 2.7 m [9'], 400-lb bull shark\", 'Tiger shark, 3.7 m to 4.5 m [12\\' to 14\\'9\"]  ', \"Blacktip shark, 2.4 m to 3 m [8' to 10'] \", 'Shark involvement  not confirmed', \"Nurse shark, 1.5 m [5']\", \"1.8 m [6'] grey-colored shark\", \"Grey reef shark, 2 m [6.75'] \", \"Lemon shark, 2.1  m to 2.4 m [7' to 8'] \", \"Tiger shark, 0.9 m to 1.5 m [3' to 5'] ?\", \"Nurse shark, 1.2 m [4'] \", \"0.9 m [3'] shark,  probably a blacktip or spinner shark\", \"Bull shark, 2.4 m [8']\", \"Blacktip shark, 1.2 m to 1.8 m [4' to 6'] \", 'Tiger sharks & bull sharks (20 sharks in all)', \"Tiger shark, 4 m [13'] ?\", \"2 m to 2.5 m [6.75'  to 8.25'] shark\", 'Shark involvement  questionable', \"Shortfin mako shark, 3 m to 3.4 m [10' to 11'] \", 'Miami, a 60 cm blacktip  shark and two 60 cm bamboo catsharks', 'Sevengill shark', 'Thought to involve a white, bull or tiger shark', \"White shark, 3 m [10'] \", '1.3 to 1.6 m shark', \"Grey reef shark, 1.2 m [4'] \", \"Lemon shark, 2.7 m [9'] \", \"Said to involve a 7 m [23'] white shark\", \"2.7 m [9']  bull shark or Caribbean reef shark\", \"White shark, 3 m to 5 m [10' to 16.5'] \", \"Bull shark, 2.1 m [7']\", \"Blacktip shark, 1.8 m [6'] \", \"White shark, 4 m [13'] \", \"Tiger shark, 2.5 m [8.25']\", 'Grey reef shark, 1.5 m ', '3 bull sharks', \"Sevengill shark, 2.4 m [8'] \", '200 to 300 kg shark', 'Mako shark, 1.3 m gaffed ', \"3.7 m to 4.6 m [12' to 15'] shark seen in the vicinity\", 'Bronze whaler or tiger shark', \"White shark, 4.6 m [15'] \", 'Possibly a white shark', 'A \"small shark\"', \"White shark, 5 m  to 6 m [16.5' to 20'] \", 'Though to involve a white shark', \"White shark, 5 m to 6 m [16.5' to 20'] \", \"Dusky shark, 12' \", \"Caribbean reef shark, 1.2 m to 1.5 m [4' to 5'] \", \"4.5' to 5' shark\", 'Sandtiger shark, 2 m, male ', \"White shark, 4.9 m [16']\", \"Raggedtooth shark, 1.2 m [4'] \", 'Thought to involve a 5.5 m white shark named Kong', \"3 m to 4 m [10' to 13'] white shark\", \"Lemon shark, 1.5 m [5'], identified  by the surfer\", \"1.8 m [6'] shark, possibly a blacktip\", \"Nurse shark, 0.9 m [3'] \", \"5' spinner shark\", '1.7 m shark', 'Small dusky shark or blackfin shark', 'sandtiger shark', 'Shark involvement prior to death suspected but not confirmed', \"Tiger shark, 4 m to 4.3 m [13' to 14'] \", 'Possibly a blacktip shark', 'Soupfin shark', 'small blacktip shark', \"Tiger shark, 5.2 m [17']\", 'Thought to involve an oceanic whitetip shark or a white shark', '\"juvenile shark\"', \"Tiger shark, 2.7m  [9']\", \"1.2 m [4'] shark (spinner shark?)\", 'Possibly a sand shark', 'Possibly a Caribbean reef shark', '3.7m  to 4.2 m white shark', 'Tiger shark, 2m to 3m ', \"1.8 m to 2.1 m [6' to 7'] shark\", 'Tiger shark, 4.5 m [14\\'9\"]', \"3 m to 5 m [10' to 16.5'] white shark\", \"5.5 m to 6 m [18' to 20'] white shark\", '\"a young shark\"', \"Tiger shark, 2.4 m [8'] \", \"1.8 m to 2.1 m [6' to 7'] hammerhead shark\", 'said to involve an oceanic whitetip shark', \"2.5 m [8.25'] white shark \", \"60 cm to 90 cm [2' to 3'] blacktip or spinner shark\", 'nurse shark', '\"reef shark\"', \"Nurse shark, 0.9 m  [3'] \", 'Possibly a tiger shark', \"Mako shark, 4.3 m [14']\", 'Tiger shark, 300-kg [662-lb] ', \"Tiger shark, 2.5 m [8.25'] \", \"1.2 m to 1.5 m [4' to 5']   shark\", \"1.5 to 1.8 m [5' to 6'] shark\", \"3 m to 3.7 m [10' to 12'] bull shark\", '\"sand\" shark', \"Two 1.2 m to 1.5 m [4' to 5'] sharks\", 'White shark (tooth fragment recovered)', \"Tiger shark, 3.7 m [12'] \", 'Though to involve a tiger shark', \"3.7 m [12'] shark\", 'Bronze whaler shark, 2 m ', 'Leopard shark', \"5 m to 5.5 m [16.5' to 18'] white shark\", \"Raggedtooth shark, 2.7 m [9'] \", \"2.7 m [9'] shark\", 'Thought to involve a small sand shark', 'Small shark', \"3 to 3.5 m [10' to 11.5'] bull shark\", \"1.2 m [4'] spinner shark\", \"2.1 m [7'] shark\", \">1.8 m [6'] shark\", \"3 m [10'], 200-kg [441-lb] bull shark\", '4.9 m white shark', '3.6 m [11\\'9\"] white shark', \"Lemon shark, 4' \", '1.3 m [4\\'3\"] shark', \"Tiger shark said to be 5 to 7 m [16.5' to 23'] \", \"On 11-Jan-1994, his remains washed ashore. A 2.4 m [8'] tiger shark thought to be involved\", 'Tiger shark caught 6 days later with diver\\x92s remains in its gut', \">6 m [20'] white shark\", \"3.7 m [12'] white shark\", \"1.8 m [6'] blacktip shark or Caribbean reef shark\", '>6 m white shark, according to witnesses', \"5.5 m to 6 m [18' to 20']  white shark\", \"1.8 m to 2.4 m [6' to 8'] shark, tooth fragments recovered \", 'Thought to involve a tiger shark', \"Remains recovered from 5.5 m [18'] white shark\", 'Possiby white shark', \"Tiger shark, 3.7 m [12'], (tooth fragment recovered from wound)\", \"Two 3 m [10'] oceanic whitetip sharks\", \"Tiger shark, 3 m to 4.9 m [10' to 16'] \", \"Mako shark, 1.8 m [6']  \", \"6' to 7' blacktip shark\", '5 m to 6 m white shark', '3 m hammerhead shark', 'Unidentified shark', \"Tiger shark, 3 m to 3.7 m [10' to 12'] \", \"Tiger shark, 4.3 m [14'] \", '4.2 m white shark', \"4 m to 5 m [13' to 16.5']  white shark \", 'Questionable incident', \"Nurse shark, 3', 20-lb \", 'Bull shark or lemon shark', 'White shark, identification by K. Nakaya', \"Tiger shark, 3 m to 4 m [10' to 13'] \", \"4 m [13'], 590-kg white shark\", '>2 m shark', 'Bronze whaler shark, 3 m', \"5 m [16.5'] white shark, identification by K. Nakaya\", \"Said to involve a 6 m to 7 m [20' to 23'] white shark\", \"5 m [16.5'] shark\", '1.8 m grey shark', \"Bronze whaler shark, 2.3 m [7.5'] \", \"Zambesi shark, 1.7 m [5.5'] \", \"Possibly a 1.5 m [5'] blacktip shark\", \"Tiger shark, 2.4 m 3.4 m [8' to 11']  \", \"5 m to 6 m [16.5' to 20'] white shark\", \"3 m [10'], 270- kg [595-lb] shark\", 'sand shark', 'Lemon shark, 30-lb ', \"2.1 m [7'], 140-lb reef shark\", \"Tiger shark, 3 to 4 m [10' to 13'] \", \"2.7 m [9'] bull or lemon shark\", \"Tiger shark, >3 m [10']\", '3.5 m [11.5\\'] female white shark named \"Notchfin\"', '170-kg, 2.8 m shark', \"7' female shark\", '\"Shark had a very large girth\"', 'Grey nurse shark, 2 m', \"1.8 m [6'] shark \", \"4' spinner shark\", \"1.8 m to 2.4 m [6' to 8'] shark\", \"5 m  [16.5'] white shark\", \"2.5 m to 3 m [8.25' to 10']  white shark\", 'Shark involvement prior to death could not be determined', '4.5 m [14\\'9\"] white shark', '6 m, 600-kg shark', '2 m hammerhead', \"5.5 m [18'] white shark, identified by witnesses & tooth marks\", \"2.3 m [7.5'] white shark, identified by M. Smale\", \"Two sharks seen in vicinity: 2.4 m & 4.25 m  [8' & 14'] TL\", 'Tiger shark, 2m ', '2 m shark, possibly a bronze whaler', \"2.7 m [9'] white shark\", 'Shark involvement suspected but not confirmed', 'White shark, identified by tooth pattern', '150-lb shark', '4 to 5 m white shark', \"4 m to 5 m [13' to 16.5']  white shark\", 'Sandbar shark', 'Blue Shark ', \">3.4 m [11'] white shark\", \"Bronze whaler shark, 3 m [10'] \", \"1.8 m [6'] sandtiger shark\", '5 m to 7 m white shark', 'Tiger shark, 3.5 m ', \"3 m [10'] gaffed shark\", \"1.8 m to 2.4 m [6' to 8'] hammerhead shark\", \"Tiger shark, 4 m [13'] \", \"7' silvertip shark\", \"16' white shark\", \"2.4 m to 3 m [8' to 10'] white shark\", '2 m to 2.5 m shark', \"1.5 m [5'] Caribbean reef shark\", 'Sand shark?', \"1.5 m to 2 m [5' to 6.75'] shark\", 'Raggedtooth shark, 2 m ', '1 m \"grey-colored\" shark', 'Zambezi shark (tooth fragments recovered)', \"Mako shark, 3 m [10'], 200-kg [441-lb] \", '1.5 m copper shark', '6 m shark', '40 to 50 sharks attacked survivors in the water', \"3.5 m [11.5']  white shark\", '5.7 m white shark', \"1.5 m [5'] blacktip shark\", '4.3 m shark', 'Bronze whaler shark, 2 m to 3 m ', \">2.5 m [8.25'] white shark\", 'Doubtful / Unconfirmed attack / Unable to verify in local records', \"Raggedtooth shark, 2.5 m [8.25'] \", \"1.8 m to 2.1 m [6' to 7'] spinner or blacktip shark\", 'Raggedtooth shark, 1.96 m, 140-kg ', \"Lemon shark, 1.8 m to 2.4 m [6' to 8'], tooth fragment recovered\", '1.6 m shark', \"Tooth fragment of a white shark recovered. Authorities believed shark was 6 m [20']  total length\", \"1.2 m [4'] dusky shark\", '>1 m shark', \">2.4 m [8'] white shark\", \"Raggedtooth shark, 2 m [6.75'] \", 'Bronze whaler shark, 3.5 m ', '5.2 to 5.8 m white shark', \"2 m to 2.5 m [6.75'  to 8.25'] sixgill or sevengill shark\", \"Thought to involve a Tiger shark,  3.7 m [12'] \", \"6', 100-lb shark\", '1.8 m silky shark', 'Possibly a small hammerhead shark', \"Tiger shark, 2.4 m to 2.7 m [8' to 9'] \", '3 m to 3.6 m  [10\\' to 11\\'9\"] white shark', '30-kg [66-lb] shark', '3.5 m white shark, tooth fragments recovered', \"1.5 m [5'] dusky shark\", 'Shark involvement not confirmed; officials considered barracua', 'Hammerhead shark?+O2356', 'small blue shark', '4.5 m to 5 m white shark', '4.5 m to 5.5m white shark', 'Raggedtooth shark ', \"2.4 m [8'] white shark\", \"1.2 m to 1.5 m [4' to 5'] hammerhead shark\", \"2.5 m [8.25'] shark\", 'Raggedtooth shark, 56-kg [123-lb] ', \" 1.5 m [5'] dusky shark\", '1.5 m white-tipped reef shark', 'Raggedtooth shark, 1 m ', \"12' white shark\", 'Raggedtooth shark, >1 m ', '.5 m shark', \"4.5' shark\", \"6' to 8' bull shark\", \"Tiger shark, 5 m [16.5']\", \"3 m to 4 m [10' to 13'] shark\", \"3.5' hammerhead shark\", \"6' blacktip shark\", \"Raggedtooth shark, 1.5 m [5'] (tooth fragment recovered)\", \"1.8 m [6'] Zambezi shark\", 'Blue sharks', 'Believed to involve a 2.8 m [9\\'3\"] white shark', 'Questionable incident; reported as shark attack but thought to involve a pinniped instead ', \"2.1 m [7'] shark, possibly a spinner shark\", \"2.4 m [8'] white shark, species identity confirmed by tooth fragment\", \"4.5 m to 5.5 m [14.7' to 18'] white shark\", 'Reported as a shark attack, the story was a hoax', \"2.4 m [8'] white shark, species identity confirmed by witnesses & tooth pattern in surfboard\", 'Lemon shark, 2 m [6\\'9\"]', '1.2 m to 1.5 m [4\\' to 5\\'] \"reef shark\"', \"5.5 m [18''] white shark\", \"7 m [23'] white shark\", \"Tiger shark, 3.7 m [12']\", \"3.5 m [11.5'], 510-kg [1125-lb] hooked & shot white shark\", '2.1 m [7\\'] shark with \"a very flat head\\x94 that had followed the boat for 3 days', 'Said to involve a tiger shark or a hammerhead shark', \"1.8 m [6'] shark, species identity questionable\", 'Shark involvement prior to death remains unconfirmed', 'Mako shark (tooth fragments recovered)', '\"sandshark\"', \"Possibly a  1.8 m [6'] Zambezi shark\", '\"gray shark\"', \"13', 400-lb thresher shark\", '6 m  white shark', \"Tiger shark, 2.1 m [7']\", \"1.2 m to 1.5 m [4' to 5'] bull, sandbar or dusky shark\", 'C. maculpinnis or C. limbatus', 'Juvenile dusky or blacktip shark', '1 m hammerhead shark', 'Tiger shark, 2.5 m ', \"3.5 m [11.5'] shark\", \"1.8 m [6'] white shark\", \"4' to 8' shark\", \"1.5 m [5'] hammerhead shark\", '2.8 m [9\\'3\"] white shark', '2.2 m shark', '2 m [6\\'9\"] Zambesi shark', 'Raggedtooth shark, 2 m [6\\'9\"] ', \"1.8 m [6'] dogfish\", 'Said to involve a white shark but shark involvement not confirmed', 'White shark, 5 m ', \"Raggedtooth shark, 50-kg [110-lb], 2 m [6.75'] gaffed \", \"White shark, 2.5 m [8.25']  \", \"White shark, 2.3 m [7.5'], tooth fragment recovered\", \"White shark, 3.7 m [12'] \", '2 m [6\\'9\"] shark', 'Sevengill shark, 2.4 m', '270 kg shark', 'Thought to involve a blacktip shark', \"3 m [10'] white shark (Tooth  recovered from boat)\", \"1.5 to 2 m [5' to 6.75'] shark\", \"White shark, 5.5 m to 6 m [18' to 20']  \", 'Bull shark, 8', 'Mako shark, 2.3 m, 150-kg  ', \"White shark, 5.5 m [18'] \", \"White shark, 3 m [10'] k\", \"2.1 m [7'] lemon shark or bull shark\", 'White shark, 4.8 m ', \"White shark, 3 m to 4 m [10' to 13'] \", \"White shark, 3.5 m [11.5'], species identity confirmed by tooth fragment\", \"2.7 m  [9'] shark\", \"Tiger shark, 6' \", 'White shark, 4.5 m ', 'Blue shark, 2m ', 'Mako shark, 180-kg [397-lb]', 'Whale shark', 'White shark named \\x93Spotty\\x94', \"Grey nurse shark, 10' \", 'Juvenile dusky shark', 'Shark involvement unconfirmed', \"White shark, 2.4 m [8']\", \"White shark, 5.8 m [19'] \", 'White shark, 5m to 6m', \"2.4 m [8'] whaler shark\", 'White shark, 600-kg [1323-lb]', \"1.5 m [5']  shark\", \"Mako shark, 3 m [10'] \", \"Carpet shark, 10' \", 'Copper shark, 50-kg [110-b] ', \"8' blue shark\", \"White shark, 5.5 m to 6 m [18' to 20'] \", 'White shark, 4 m to 5 m ', \"Shortfin mako shark, 2.3 m [7.5'] \", \"White shark, 5 m to 6 m [16.5 to 20'] \", \"small sharks'\", \"3.7 m [12'] sharks\", \"White shark, 5 m [16.5']\", \"Raggedtooth shark, 1.5 m [5'] \", \"Bronze whaler shark, 4' \", \"7' to 8' bull shark\", \"1.5 m to 1.8 m [5' to 6']  blacktip shark\", '2 m shark, possibly a dusky or blacktip shark', \"1.2 m to 1.8 m [4' to 6'] shark observed in area\", \"White shark, > 3 m [10']\", \"Bronze whaler shark, 10' \", 'Oceanic whitetip shark x 2', \"White shark, 6 m [20'] \", \"White shark, 4.4 m to 5 m [14.5' to 16.5'] \", '1.5 m grey reef shark', \"White shark, 2.5 m [8.25'] \", \"1.8 m [6'] grey reef shark\", \"White shark, 3 m [10']rk\", '1.5 m to 2 m shark', \"White shark, 5 m to 6 m [16.5' to 20']  \", \"Grey nurse shark, 11'\", \"White shark, 3 m [10'], species identity confirmed by witnesses & tooth pattern in leg & board \", '3.6 m  porbeagle shark', 'White shark according to tooth pattern and witnesses', '1.8 to 2 m C. albimarginatus', '\"Dog shark\"', \"7.5' shark\", 'Raggedtooth shark, 2 m [6\\'9\"], 5-year-old, captive female ', 'Wobbegong shark ', 'Carpet shark', \">2.4 m [8'] shark\", \"White shark, 4.3 m 4.9 m [14' to 16'] \", 'Considered a \"Doubtful\" incident', \"Lemon shark, 9' \", 'White shark, identified by tooth fragments in surfboard', \"2 scalloped hammerhead sharks, 1.5 m & 1.8 m [5' & 6']\", '90-kg \"blackfin\" shark', \"White shark, 4.3 m [14'], (tooth fragment recovered)\", 'a small hammerhead shark', \"4m [13'] shark\", 'Not authenticated', \"1.5 m to 2 m [5' to 6.75'] Caribbean reef shark \", \"2.7 m [9'] silky shark\", \"Bronze whaler shark, 1.8 m [6'] \", '\"Blue whaler\" (Galeolamna)', \"1.5 m to 1.8m [5' to 6'] shark\", \"5' blue shark\", 'Nurse shark, 106 cm, 28-lb, male ', \"1.5 m to 1.8 m [5' to 6'] sandbar shark\", 'Nurse shark, 1 m ', \"White shark, 4 to 5 m [13' to 16.5'] \", 'White shark or thresher shark', \"2.1 m [7'] sandtiger shark\", \"Grey nurse shark, 1.5 m [5'] \", \"Grey nurse shark, 1.5 m [5']\", \"Bronze whaler shark, 2.1 m [7'], a tooth was embedded in the speargun \", \"Mako shark, 1.9 m [6.5'] \", \"Nurse shark, 2.5' \", 'A pack of 6 sharks', \"1.5 m to 2.1 m  [5' to 7'] shark\", 'Spinner or blacktip sharks', 'Lemon shark or sandtiger shark', \"Local authorities speculated that the water was too cold for sharks, but a 2.1 m [7'], 200-lb pregnant sandbar shark was caught next day\", \"1.2 m [4'] hammerhead shark\", 'Believed white shark and other smaller species of sharks involved.', \"Alleged to involve a White shark, 7.6 m [25'] \", \"White shark, 2.5 m [8.25'], an immature female, previously injured\", 'Copper shark', \"Wobbegong shark, 5' \", \"1.5 m to 1.8 m [5' to 6'] Zambesi shark\", \"76 cm [2.5'] carpet shark\", '1.8 m to 2 m [6\\' to 6\\'9\"] shark', \"1.8 m [6'] carpet shark\", \"4.6 m [15'] shark\", \"Grey nurse shark, 2.4 m [8'] \", \"1.8 m [6'], 180-lb shark\", '2 sharks involved', '300-kg [662-lb] shark', 'Lemon shark, 0.5 m', 'Tiger shark, tooth fragment recovered', \"1.8 m [6'], 136-kg [300-lb] shark \", \"4.9 m [16'] whaler\", \"Nurse shark, 0.94 m to 1.2 m [3' to 4'] \", 'Small shark with white-tipped dorsal fin', \"1.5 m to 2.1 m [5' to 7'] shark, possibly a mako shark\", \"White shark, 2.4 m [8'] \", 'White shark, 2.7 m [9\\'1\"], 750-lb ', \"Grey nurse shark, 1.8 m [6']\", \"1.8 to 2.4 m [6' to 8'] shark\", \"Less than 1.2 m [4']\", 'white shark', 'Lemon shark ', \"1.7 m [5.5'] shark\", 'Tiger shark, 3.5 m, 250-lb female', \"White shark, 1.5 m [5'] k\", \"White shark, 3 m to 3.7 m [10' to 12'] \", 'White shark, 3.6 m [11\\'9\"] ', 'Wobbegong', \"2.1 m to 2.4 m  [7' to 8'] shark\", \"Zambesi shark, 1.8 m [6'] \", \"1.8 m [6']  shark\", \"4.3 m [14'], 1000-lb shark\", 'Dusky shark, 1 m ', \"Wobbegong shark, 3' \", \"White shark, 1.7 m [5.5']\", '300- to 400-lb Zambesi shark', 'Possibly a broadnose 7-gill shark', \">1.2 m [4'] tiger shark\", 'White shark, 15\\'2\" ', \"Silky shark, 1.9 m [6.5']\", 'Dooley believed his Injury was caused by stingray (Dasyatidae family)', '500-lb shark', \"White shark, 4 m [13'] rk\", \"5.5 m [18'] shark\", '8 sharks', 'White shark, 3 m ', 'Hand found in gut of 2.9 m to 3.3 m [9\\'7\" to 10\\'11\"] Galapagos shark, C. galapagensis', \"1.8 m to 2.4 m  [6' to 8'] shark\", \"3.7 to 4.5 m [12' to 15'] shark seen in vicinity\", \"White shark, 2.1 m [7'] \", 'Tooth fragments of \\x93whaler\\x94 shark were recovered, a bull shark, according to Edwards', '193-lb shark', \"Grey nurse shark, 1.8 m [6'] \", '<1.5 m shark', 'Zambesi shark, 2 m [6\\'9\"] ', \"White shark, 16', 2,312-lb \", \"White shark, 4.3 m [14'] (or bronze whaler)\", '2 m [6\\'9\"], 87.5-kg [193-lb]  shark', \"White shark, 4.3 m to 4.9m [14' to 16']\", \"3 m [10'] blue whaler\", \" Blacktip shark, C. maculipinnis. 1.9 m to 2.1 m [6.5' to 7'] \", '\"A long thin brown-colored shark\"', \"Horn shar,k Heterodontus francisci, 1.2 m [4'] \", \"4.3 m [14'] shark\", 'Unknown', \"2.7 m to 3 m [9' to 10'] sharks\", 'Possibly a bronze whaler shark', \" Sevengill  shark, 1.2 m [4'] \", \"Bronze whaler shark, 3.7 m [12'] \", \"Zambesi shark, 1.2 m [4'] \", \"4.9 m [16']shark\", \"Bronze whaler shark, 4.6 m [15'] \", \"1.2 m  [4'] shark\", '60 cm  shark ', \"Bronze whaler shark,  3m [10'] \", 'Said to involve a 4.9 m [16\\'] \"red shark\"', \" Grey nurse shark,  3 m [10'] \", \"Bronze whaler shark, 2.1 m [7'] shark\", \"Said to involve a Grey nurse shark 3.7 m [12'] \", '36\"  shark', \"Next morning a 3 m [10'] shark was caught that had Andrews' leg in its gut\", \"Two shark's teeth recovered from canoe\", 'Oceanic whitetip shar,; identified by Dr. W.C. Schoeder on photograph & Dr. L.P. L. Schultz on sketch by observer', \"1.5 m to 1.8 m  [5' to 6'] shark\", \"Blacktip shark, 1.8 m to 2.1 m [6' to 7'] \", '43\" shark', \"White shark, 5.2 m [17'], 2500-lb \", \"2.7 m [9']shark\", 'Hammerhead shark, 500-llb ', 'Wobbegong shark, 1.4 m [4\\'6\"] ', '2 m  \"yellow belly\" captive shark. Shark destroyed by aquarium staff next day', \"Wobbegong shark, O. barbatus,  1.8 m [6'], identified by G.P. Whitley\", ' \"gummy\" shark (Rhizoprionodon or Loxodon) 1.2 m [4\\']', \"Grey nurse shark, 2,7 m [9'], 200-lb \", \"Wobbegong shark, 1.4 m [4.6'] \", \"Bronze whaler shark, 2.4 m [8'] Identified by Clyde Buttery\", \"Grey reef shark, 1.8 m [6'] grey reef shark, identified by Dr. L.P. L. Schultz based on photographs; identified as C. melanopterus by Stewart\", 'Zambesi shark, 4\\'9\"', '2\\' \"banjo shark\"', \"2.1 m [7'], 90-kg shark\", \"Grey nurse shark, 2.7 m [9'] \", \"Wobbegong shark, 1.5 m [5'] \", 'White shark, based on bite pattern', \"Hammerhead shark, 1.8 m [6'] \", \"Six Zambesi sharks seen to 1.5 m [5'] in length\", '> 3 m shark', \"White shark, 3 m [10'], tooth fragment from wounds identified as that of a white shark\", 'Grey nurse shark, 1m ', 'Bull shark, 1m ', \"Wobbegong shark, 1.8 m [6'] \", 'White shark (tooth fragments recovered from hull of boat)', '1.4 m [4\\'6\"] blacktip shark', \"White shark, 3.7 m to 4.6 m [12' to 15'] \", 'White shark, 18 mm tooth fragment  recovered from the hull', \"2.4 m [8'], 600-lb shark\", 'Lemon shark, 1164 mm, immature male, identified by  V.G. Springer', '80-lb hooked shark', \"Mako shark, 1.8 m to 2.1 m [6' to 7']  with hook & wire leader caught in mouth\", \"Dusky shark, 2.7 m [9'] dusky shark C. obscurus identified by S. Springer on tooth recovered\", 'Lemon shark, 1.8 m [6\\'] male, N. breviostris, identified by W.A. Stark II, later the same day a 6\\'8\" pregnant female lemon shark bit the bow of the boat', \"White shark, 2.1 m [7']  based on tooth pattern\", \"Bronze whaler shark, 3 m [10'], 200-lb\", 'Raggedtooth shark, 100-lb ', \"Bronze whaler shark, 3.7 m [12'] identified by G.P. Whitley based on description\", 'White shark (tooth fragments recovered)', \"1.2 m [4'], possibly  larger shark\", \"Two 2.1 m [7'] sharks\", \"Bronze whaler shark,4 m [13'] \", 'According to Benjamin, the injury was inflicted by a barracuda, not a shark', \"Tiger shark, 3.4 m [11'] captured\", 'Grey nurse shark, 2.9 m [9\\'6\"] ', 'Shark involvement prior to deaths was not confirmed', '3.5 m [11\\'6\"] shark captured', 'Blue pointer', \"4.9 m [16'] shark\", \"3.7 m to 4.6 m [12' to 15'] shark\", 'Blacktail reef shark', 'Blacktip reef shark', \"3.7 m [12'] tiger shark\", \"2.4 m  [8'] shark\", \"2.7 m [9']  shark\", \"3 m to 4.3 m [10' to 14'] shark\", \"Thresher shark, 3.7 m [12'] \", \"Blue shark, 1.5 m [5'] \", \"Carpet shark, 1.5 m [5']\", \"White shark, 5 m [16.5'], identified by Dr. W. I. Follett on tooth marks\", 'A hammerhead shark, then 8 to 10 other sharks were said to be  involved', 'Said to involve white shark, but species identify questionable', \"White shark, 3.5 m [11.5'], identified by W. I.  Follett on tooth fragments\", 'White shark, based on 2 teeth retrieved from rudder', \"5.5' shark\", \"Hammerhead shark, 9' \", '20 kg shark', \"Blue shark, 3 m [10']\", \"White shark, 3 m to 5 m [10' to 15'] \", \"Hammerhead shark, 1.8 m [6'] S. zygena identified by C. Limbaugh on description\", 'Blue shark?', \"Hammerhead shark, 2.4 m [8'] \", \"Hammerhead shark, 3 m [10'] \", \"Blue shark, 1.8 m [6'] \", 'Nurse shark, 60 cm [24\"], identified by Dr. L.P. L. Schultz on photograph', \"Oceanic whitetip shark,1.8 m [6'] \", \"Reported to involve a White shark, 6 m to 7m [20' to 23'] \", \"White shark, 2.7 m [9'], 280-lb \", \"White shark, 3 m [10']; identifed by Dr. W.I. Follett on tooth marks\", \"Tiger shark 4.3 m [14'] \", \"Mako shark, 2.4 m [8'], <300-lb, identified by Dr. L.P. L. Schultz on photograph\", \"1.8 to 2.1 m [6' to 7'] shark\", \"Bitten by several 1.8 m [6'] sharks\", \"Said to involve 2 sharks: 5.2 m & 6 m [17' & 20'] \", \"White shark, 1.8 m to 2.1 m [6' to 7']  according to Shreuder and a witness\", \"1.4 m [4.5'] shark\", \"1.5 m to 1.8 m [5' to 6'] sharks\", \"Tiger shark, 12' ?\", \"Tiger shark, 4.6 m to 7.6 m [15' to 25'] \", '200-lb shark', \"Hammerhead shark, 5.2 m [17'] \", \"Tiger shark, 1.5 m to 1.8 m [5' to 6'] \", \"Sharks averaged 1.8 m [6'] in length\", \"Nurse shark, 1.5 m [5']  identified by Dr. E. Clark on description of shark\", 'Tiger shark, <2 m TL', \"Nurse shark, 2.1 m [7']  identified by Dr. E. Clark on color & tooth impressions\", \"Nurse shark, 1.1 m [3.5'] \", 'Mako shark, 100-kg [221-lb] ', '<1 m shark', 'Several sharks involved', \">3 m [10'] shark\", 'Identified as carcharinid shark (based on its behavior) by Dr. D.P. L. Schultz; mako shark according to Huges', \"2.7 m [9'] bull shark, identified by Capt. W. Gray\", 'Said to involve a 1 m  white shark, but thought  that it was more likely a blue shark', 'Shark seen feeding on turtle scraps thrown overboard prior to incident.', 'Said to involve a large mako shark', \"3.7 m [12'] shark \", \"2.4 m [8'] tiger shark caught 40 hours later with shorts of the boy in its gut\", 'Mako shark, 125-lb ', 'White shark, according to witnesses', 'a sand shark', 'White shark, 13\\'10\", 1320-lb female ', \"Wobbegong shark, 4' \", 'Porbeagle or white shark', \"2.3 m [7'] shark\", '8-lb shark', \"3.7 m [12'] shark & may have been another shark nearby\", '40-lb sand shark', 'Survivors said 2 species of sharks were involved:  oceanic whitetip sharks and another species', 'Survivors said 2 species of sharks were involved:  oceanic whitetip sharks and another species,', \"5' thresher or blue shark. The shark  was killed following the incident\", 'Tooth fragments recovered from hull', \"0.7 m [2.5'] sand shark\", 'White shark, 6.5 m ', \"2.4 m [8']  shark\", '\"small brown-colored shark\"', \"Leopard shark, 3' Triakis semifasciata, identified by J.W. DeWitt (1955)\", \"White shark, 5 m to 6 m [16.5' to 20] \", '3.6 m  white shark  (or bronze whaler)', \"4 m [13'] shark x 6\", \"Bronze whaler shark,3.7 m [12'] \", '\"a little shark\"', \"Blacktip reef shark, 1.5 m [5'] \", \"20' shark\", 'Nurse shark, 58\", 34-lb ', '5m shark', \"2.4 m [8'] shark, possibly a dusky shark\", 'White shark tooth fragment recovered from ankle & identified by Dr. W. I. Follett', 'Bull shark suspected due to freshwater habitat', \"Nurse shark, 1.8 m [6'] \", \"a small shark'\", \"Said to involve a >4 m [13'] shark\", \"3.7 [12'] shark\", '80-lb sand shark', \"Hammerhead shark, 1.5 m [5'] \", \"3 m [10'] shark seen in vicinity\", \"White shark, 3.7 m [12'], 500 to 500-kg [1,200 lb], identified by W. C. Shroeder based on tooth fragment ebedded in gunwale\", '2 m [6\\'9\"] shark ', \"1.5 m [5'] shark, probable bull shark\", \"White shark,4.6 m [15'] \", \">6.7 m [22']  shark\", \"Hammerhead shark, 5' \", \"Tiger shark, 1.5 m [5'] \", 'White shark, 2 m to 4 m [6\\'9\" to 13\\'] ', \"Carpet shark, 5' \", '\"A 2\\' (0.6 m) brown shark\"', 'White shark, 15\\'3\", 2,333-lb ', 'a \"small slim brown shark\"', \"Bull shark, 2.7 m [9'] was captured & dragged on the sand where tissue taken from Eggink was found in its gut. Species identification  was made by S. Springer based on 4 photographs of the shark. \", '\"Attacked by a number of sharks\"', \"White shark, 1.8 m [6'] \", \"Wobbegong shark, 4'\", '136-kg [300-lb] shark', \"Nurse shark, 10' \", \"Wobbegong shark, 6'\", 'White shark, 3m, seen in area and hooked 3 days later', '1,100-lb shark', \"17' white shark\", \"0.7 m [2.5'] shark\", 'unknown, possibly a white shark', '2.13 m shark', \"1.5 m to 1.8 m [5' to 6'] \\x93spear-eye\\x94 shark \", 'small carpet shark', \"White shark, 3.7 m [12']  according to witnesses\", 'White shark, 3.6 m,  420 kg male', 'Possibly a lemon shark', 'Whtietip reef shark', \"Tiger shark, 3.7 m to 4.3 m  [12' to 14']\", 'Alleged to involve a white shark \"with little yellow eyes\"', \"2.7 m [9'] shark with black-tipped pectoral fins\", \"Grey nurse shark, 2.6 m [8.5']  \", 'Bonita sharkk, 200-lb', \"Whaler shark, 2.7 m [9'], 350- to 450-lb  identified by G.P. Whitley\", '3.3 m [10\\'9\"] shark', \"His hand was found in a 2.4 m [8'] tiger shark caught 1/5/1949\", \"Said to be 6.4 m [21'] shark\", '\"grey shark\"', 'Possibly C. leucas', 'Most likely, a small shark', '1.5 m, 45-kg shark', \"Blacktip shark, 2 m [6.75'] \", '4.5  m [14\\'9\"] shark', '>1.6 m shark', \"6 m [20']  shark\", 'White shark, 4.2 m [13\\'9\"] ', 'Tiger shark, 4.5 to 5.5 m [14\\'9\" to 18\\'], 2000-lb  ', \"1.8 m [6'] blacktip shark or spinner shark\", \"Bull sharks to 1.5 m [5']  in length\", 'Shark involvement prior to death unconfirmed', 'White shark, 2 m [6\\'9\"]  (Tooth fragment recovered from victim\\'s shoulder & identified by J.T. Nicholls)', 'White shark, 3.9 m, 550 kg, male', \"1.8 m to 2.4 m [6' to 8'] sharks, most were oceanic whitetip sharks\", 'White shark, 4.5 m  to 6 m [14\\'9\" to 20\\'] according to witnesses', 'Tiger shark & others', 'Porbeagle shark', \"Bull shark, 4 m [13'] \", \"Said to involve a 6.5 m [21.5'] shark\", 'Said to be \\x93leopard sharks\\x94, more probably tiger sharks', 'Reportedly: oceanic whitetip sharks, blue sharks, tiger sharks & bull sharks', '100-lb shark', \"Mako shark (aka bonito shark) 1.2 m [4'] \", 'White shark, species identity confirmed by tooth pattern', 'White shark, 160-kg [353-lb], identity confirmed by tooth pattern', ' White shark', \"Questionable incident, said to involve a 6' shark\", \"2.6 m [8.5'] shark landed 2 hours later\", \"Blue pointer, 16'\", 'whaler shark', \"Tiger shark, 4.3 m [14'], 3 tooth fragments retrieved from his wounds\", \"Nurse shark, 2.1 m [7']\", \"18' shark\", '\"a large shark\"', 'Thought to involve bull sharks', \" Tiger shark, 3'\", '\"grey-colored shark\"', 'Tiger shark,  3.6 m [11\\'9\"], 850-kg [1874-lb] female, contained Girvan\\'s remains ', \"2.6 m [8.5'] shark\", \"Tiger shark, 9' to 10' \", \"Whaler shark, 4 m [13'] \", '2 days later a 600-lb shark was caught 100 yards from the site', '3\\' \"blue nosed\" shark', \"Grey nurse shark, 8'\", \"Thought to involve a 12' white shark\", \"0.9 m [3']  shark\", 'Large tiger shark seen in the vicinity the following morning', \"Shovelnose shark, 6 m [20'] \", 'White shark (identified by Dr. Hugh Smith) ', \"Blue shark, 8' [2.4 m], 500-lb \", \"Tiger shark, 4.6 m [15'] \", '650-lb shark', 'White shark, 246-kg ', \"Tiger shark 3 m  [10'] \", '\"Blue nose shark\"', \"White shark, 3.5 m to 4 m [11.5' to 13'] \", \"Tiger shark, 12' \", '2 sharks', \"Blue pointer, 11' \", 'A 6.5\\' \"blue-nosed shark\"', \"4.3 m [14'] shark seen in vicinity\", \"4 m [13'] shark seen in vicinity\", \"Mako shark, 3.7 m [12'] identified by tooth fragments by G.P. Whitley\", \"3.4 m [11']  tiger shark & a 5' shark\", \"4.3 m [14'] shark seen in area previous week\", \"Tiger shark, 3.4 m [11'] \", '3 sharks', 'Blue shark, 4.5 m [14\\'9\"]', \"Thought to involve a 2.4 m [8'] lemon shark; two 2.4 m lemon sharks caught within 100 yds of the site a week prior to & a week after this incident\", \"7' to 8' shark\", \"4.4 m [14'] shark\", 'Thought to involve a mako or grey nurse shark', \"16' 800-lb shark\", \"Teeth in hull identified as those from a white shark 4.6 m [15'] in length\", '250-lb \"dog shark\"', \"Raggedtooth shark, 1.2 m to 1.5 m [4' to 5'] \", \"Hammerhead shark, 2.4 m [8'], according to lifeguard Sam Barrows\", '\"a school of sharks\"', '1.8 m [6\\'] \"cocktail shark', \"7 shark's teeth found embedded in the woodwork of the boat\", \"White shark 4.9 m [16'] \", 'White shark, 4.5 m [14\\'9\"], identity confirmed by witness & tooth pattern', '9-foot shark', \"Grey nurse shark, 4' \", '\"a dog shark\"', \"Blue pointer, 12'\", '\"Blue nose sharks\"', \"Moreno\\x92s leg  & part of his swim suit found in 9' shark caught two hours after the attack. Identified as carcharhinid shark by L. Schultz & C. Limbaugh on photograph\", 'Species unknown, possibly a white shark', \"White shark, 4.4 m [14.5'] . \", 'Grey nurse shark?', \"Grey nurse shark, 4'\", \"Said to involve 6 to 7 m [20' to 23'] white shark\", '\"whiptail shark\" (thresher shark?)', \"1.5 m [5'] white shark or sevengill shark\", 'Questionable, 2m shark suspected', \"White shark, 3.8 m [12.5']  \", \"According to Carlsmith, the shark's mouth was 3' wide\", \"White shark, 3.7 m [12']  \", '\"a blue shark\"', \"Tiger shark, 4 m [13'] female\", 'Said to be a \\x93small shark\\x94', \"Mako shark, 1.9 m [6.5']. Tooth fragment recovered & identified by J.T. Nichols.\", '\"a very large shark\"', \"Atkins' remains were recovered from a dusky shark, C. obscurus, by Capt. W. F. Young, shark fisherman\", '2.7 m [9\\'] \"blue\" shark', '\"A pack of 6 sharks\"', \"White shark, 12', identity confirmed by tooth fragment, witness and photograph of captured shark \", \"2.7 m [9'] shark later captured by Mitchell-Hedges\", \"Blue shark, 4' \", \"Comrades saw shark's tail appear about 5' away\", '15* to 24\" dog shark', \"15'\", \"3.7 m [12'], 1200-lb shark. Shark caught & its jaw exhibited at the Carnegie Museum\", \"3.7 m to 4.3 m [12' to 14']  shark\", \"13' shark\", \"Tiger sharks, 2.4 m to 4.9 m [8' to 16'] \", \"Said to involve a 2.7 m [9'] shark\", \"Thought to involve a 2.6 m [8.5'] white shark\", \"Reported to involve a 3.7 m [12'] shark, possibly a white shark\", 'A 20\\' shark known as \"Old Tom\"', 'said to involve a tiger shark', \"Said to involve a 2.4 m [8'] hammerhead shark\", 'Tiger shark ', '2.8 m [9\\'3\"] whaler shark captured 3 days later with his remains in its gut', 'C. macrurus captured 48 hours after attack with tissue removed from man in its gut; species identified by G.P. Whitley,  reported as C. obscurus by  R. Steel', \"Said to involve  9' blue shark\", \"5.5' to 6' shark\", '18-foot shark', 'Remains recovered from 3 sharks', 'Species unknown, possible white shark', 'Allegedly a 33-foot shark', 'Shark involvement probable', 'White shark, 6 m ', 'Shortfin mako shark, 175-lb ', 'Remains recovered 5 days later', 'Fishermen recovered partial remains from shark a week later', \"1.8 m to 2.7 m [6' to 9'] shark\", 'Tiger shark, 3.9 m', '70 kg shark', '13\\'10\" shark', \"Shovelnose shark, 5'\", \"16' shark\", '5\\'7\" shark', \"Sevengill shark, 14', was caught in the vicinity\", '5m, 3500 kg female shark', 'Unknown, but the shark was caught and put on exhibition', \"4.7 m [15.5'] shark\", 'Shark was said to \\x93have a very rough ½\\x94-thick skin\\x94', \"3 m [10'] sharks\", 'Said to involve 2 sharks', 'a school of sharks', ' a small shark', 'Blue or porbeagle shark', '68\" shark', 'Wobbegongs', 'Identified as C. gangeticus by Dr. J. Fayrer', '\"Shark caught later\"', '4\\' \"ground shark\"', 'Remains recovered from shark caught days later', 'Shark involvement prior to deaths unconfirmed', 'Tiger shark (pregnant)', '234-lb shark', \"Said to involve a 6 m to 7.3 m [20' to 24'] shark\", \"Said to be a 7.6 m [25'] shark\", 'Thought to involve a porbeagle or mako shark', 'Description of shark does not ring true', '\"The fish was harpooned, dried, and presented to the sailor, who went round Europe exhibiting it  It was said to be 20 feet long.', 'White shark, 1600-lb female ', 'Possibly white sharks', \" Galapagos shark, 6'\", 'said to involve 2.5 m hammerhead sharks', 'Silvertip shark', 'A large hammerhead shark', \"Nurse shark, 2.1 m [7'] \", 'Shovelnose guitarfish, adult male ', '\"A pack of sharks\"', \"White shark, 7' to 8'\", 'White shark, 1,900-lb ', \"Bull shark caught, leg recovered & buried beside the man's body\", '\"a black-tipped shark\"', \"12' tiger shark\", 'Blue pointers', 'Said to involve a grey nurse shark that leapt out of the water and  seized the boy but species identification is questionable']\n"
     ]
    }
   ],
   "source": [
    "Species_unique= []\n",
    "for i in df3['species'].unique():\n",
    "    Species_unique.append(i)\n",
    "print(Species_unique)"
   ]
  },
  {
   "cell_type": "code",
   "execution_count": 22,
   "id": "ac0756b2",
   "metadata": {},
   "outputs": [
    {
     "data": {
      "text/plain": [
       "1549"
      ]
     },
     "execution_count": 22,
     "metadata": {},
     "output_type": "execute_result"
    }
   ],
   "source": [
    "len(Species_unique)"
   ]
  },
  {
   "cell_type": "code",
   "execution_count": 23,
   "id": "578f969e",
   "metadata": {},
   "outputs": [
    {
     "name": "stdout",
     "output_type": "stream",
     "text": [
      "['White shark', '2 m shark', 'Tiger shark, 3m', 'Tiger shark', \"Lemon shark, 3'\", \"Bull shark, 6'\", 'Grey reef shark', 'Invalid incident', 'Tawny nurse shark, 2m', 'Shark involvement not confirmed', 'Tiger shark', 'Questionable', '3 m shark', 'White shark, 3.5 m', 'Tiger shark', 'White shark, 2.5 m', \"6' shark\", 'Juvenile bull shark', 'Tiger shark', 'Shark involvement not confirmed', '2 m shark', 'Bull shark', 'White shark', \"Tiger shark, 12'\", 'Wobbegong shark', '3.5 m shark', '1.8 m shark', 'Blacktip shark', 'Juvenile white shark,  2.7 to 3.2 m', 'Bull shark, 2 m', 'Possibly a wobbegong', 'Injury believed caused by an eel, not a shark', 'Galapagos shark?', '2m shark', 'Bull shark', 'Bull shark, 3 m ', 'Grey reef shark. 2 m', 'White shark, 3.5 m', 'small shark', 'Wobbegong shark?', 'Tiger shark', 'Juvenile nurse shark', \"Nurse shark. 5'\", 'Tiger shark, female', 'Tiger shark, female', 'Some drowned but other may have been killed by blue sharks', 'White shark, 4.6 m', '2 m shark', 'Tiger shark', 'Cookiecutter shark', 'Wobbegong shark, 1 m', 'White shark, 4.5 m', '2 m shark', 'Spinner shark, 4 to 5 feet', 'Tiger shark, 8 to 10 feet', \"8' shark\", 'Death may have been due to drowning', \"5' shark\", 'White shark, 3.5 m', 'Questionable', \"4' to 5' shark\", 'Porbeagle, 1.5 m', 'White shark, 3.5m', \"5' to 6' shark\", 'White shark, 3 to 3.5m ', 'Nurse shark', 'White shark, 3 m', 'Shark involvement questionable', \"White shark, 5' to 7'\", \"5' shark\", 'Possibly a juvenile blacktip shark', 'Oceanic whitetip shark, 1.8 to 2 m', \"4' shark\", \"White shark, 10'\", 'A small shark', \"Sandtiger shark  2'\", \"Blue shark 6'\", '\"A small shark\"', 'Shark involvement not confirmed', \"White shark, 11' to 13'\", \"White shark, 8' to 10'\", \"White shark, 9'\", 'White shark', \"Bull shark, 4' to 5'\", 'Tiger shark, 100 kg', 'White shark, 2.5 m', 'Shark involvement prior to death not confirmed', 'No shark invovlement ', \"Bull shark, 4' to 5'\", 'Bull shark, 2m', 'White shark, 4 m', 'Seven-gill shark', '3m shark, probably a smooth hound', \"8' shark\", 'Tiger shark', \"3' shark\", 'Tiger shark', \"9' shark\", 'Shark involvement highly doubtful', 'No shark invovlement - it ws a publicity stunt', 'Shark involvement not confirmed', 'White shark', \"Tiger shark, 12'\", 'Shark involvement prior to death not confirmed', \"Bull shark, 5' to 7'\", 'White shark', \"10' shark\", 'Lemon shark', 'Bull shark, 1.5', 'Lemon shark pup', 'Tiger shark', \"White shark, female, 14'\", 'Caribbean reef shark', 'Bull shark, 4 m', 'Bull shark, 1 m', 'Bull shark', 'Shark involvement not confirmed', 'a small shark', 'White shark, 4 m', 'Shark involvement not confirmed', 'Wobbegong shark, 2m', 'White shark', 'Broadnose sevengill shark, 1.5 m', 'Tiger shark', \" 6' to 8' shark\", 'White shark', 'White shark, 3.5 m', '2 m shark', \"3' to 4' shark\", \"Tiger shark, 10'\", \"White shark, 8' to 10'\", 'Invalid', \"Bull shark, 6'\", 'Bull shark, 3.5 m', \"Tiger shark, 10' \", 'Blacktip shark', 'Blue shark', 'White shark', \"Nurse shark, 4'\", \"Bull shark, 6'\", 'reef shark, 1m', \"Tiger shark, 10' \", \"White shark, 10' to 12'\", \"Lemon shark, 9'\", 'Angel shark', 'White shark', 'dogfish shark', 'White shark', 'Tawny nurse shark', \"3' to 4' shark\", \"Caribbean reef shark, 4.5'\", 'White shark', \"3' to 5' shark\", \"3' to 4' shark\", \"5' shark\", \"3' to 4' shark\", \"3' shark\", \"Said to involve an 8' shark but more likely damage caused by debris\", '3+ m shark', 'Mako shark', 'Bronze whaler sharks x 3', '3 m shark', 'White shark', \"5' shark\", \"Bull shark, 4' to 5'\", \"Blacktip shark, 4'\", \"Nurse shark, 2'\", \"Mako shark, 1.5 m [5'] \", \"Bull shark, 6'\", 'White shark', 'Wobbegong shark', 'Grey reef shark, 2 m', 'Grey reef shark, 2 m', \"Bull shark, 7'\", 'Tiger shark, 2.5 m', 'Shark involvement not confirmed', \"5' to 6' shark\", 'Shark involvement not confirmed', 'Nurse shark, 2.5-ft', 'Shark involvement not confirmed', 'Bronze whaler', 'Sandtiger shark', 'No shark involvement', 'No shark involvement', 'Sandtiger shark', \"Reef shark, 5'\", 'Bull sharks x 2', 'Mako shark', \"Tiger shark, 14'\", 'Wobbegong shark', 'Blacktip shark', '3 m shark', 'White shark, 3 m', \"Silky shark, 6.5'\", \"9' shark\", \"Bronze whaler shark, 6'\", 'Tiger shark, 1.5 m ', 'White shark, 3.5 m', 'Bull shark', 'Galapagos shark', \"Spinner shark, 7'\", 'Bull shark, 2.8 to 3.1 m', 'Shark involvement not confirmed', \"3' to 5' shark\", 'White shark, 3 to 3.5m ', \"5' shark\", \"Spinner shark, 5'\", 'No shark involvement', \"Tiger shark, 7'\", 'Hammerhead sp.', \"Tiger shark, 13' \", \"4' to 5' shark\", \"Blacktip shark, 4' to 5'\", \"Blacktip shark, 5' to 6'\", \"White shark, 19'\", 'juvenile shark', \"Tiger shark, 13'\", \"4' shark\", 'Hammerhead shark', \"6' shark\", \"White shark, 11' to 12'\", 'Hammerhead shark.', 'White shark, 2.5 m', \"4' shark?\", 'small shark', 'Tiger shark', \"White shark, 11' to 12'\", \"White shark, 10' to 12' \", 'Shark involvement not confirmed', \"4' shark\", \"3' shark\", \"White shark, 13'\", 'Shark involvement not confirmed', \"Hammerhead shark. 6' to 7'\", 'White shark', \"Blacktip or spinner shark, 4'\", \"Thought to involve a 3' to 4' shark, but shark involvement not confirmed\", 'White shark, 3.9 to 4.2 m', 'Mako shark, 100-lb', 'Bronze whaler shark, 1.5m', 'Bull shark, 2m', 'White shark', \"White shark, 7'\", 'Shark involvement not cofirmed', 'No shark involvement', \"6' shark\", 'White shark', 'White shark', \"6' to 7' shark\", \"4' to 5' shark\", 'Bull shark', 'White shark', 'Shark involvement not confirmed', 'White shark, 2m to 3 m', \"4' shark\", 'Wobbegong shark', 'Sandtiger shark', 'White shark', 'small shark', 'Bull shark', 'Bull shark', 'Mako shark', \"4' shark\", \"Bull shark, 5'\", 'small nurse shark', 'Bull shark, 2.5 m', '1m to 1.2 m shark', \"5' shark\", \"6' shark\", 'Bull shark, 3.5 m', 'White shark', 'White shark, 3.5 m', '3- to 4-foot shark', 'White shark, 6 m', 'White shark, 3 m', 'Blue shark, 8 to 9 feet', 'Bull shark', 'Bull shark', 'Shark involvement not cofirmed', 'No shark involvement', 'White shark, 4 m', 'Mako shark', 'Tiger shark, 8 to 12 feet', 'Blacktip shark', 'Blacktip Reef shark ', 'White shark', 'Tiger shark, 3.5 m', '3.5 to 4 m shark', '2 m to  3 m shark', '1.8 m shark', 'Bull shark, 1.3 m', \"4' shark\", 'White shark', 'Shark involvement not confirmed', '5 m shark', '1.5 m shark', 'No shark involvement', 'White shark or oceanic whitetip shark', 'Raggedtooth shark, 1.3 m', '\"A small shark\"', '2 m shark', 'White shark, 4 to 5 m', 'Shark involvement prior to death still to be determined', 'Shark involvement not confirmed & highly unlikely', \"White shark, 8' to 10'\", '1.5 m shark', 'Goblin shark', 'Tiger shark', 'White shark', 'White shark', \"2' shark\", '1.5 m shark', \"Tiger shark, 12'\", 'Tiger shark', \"12' to 14' shark\", '1 m shark', \"Bull shark, 3' to 4'\", 'Blacktip shark', 'Blacktip shark', \"White shark, 18' to 20'\", 'White shark', \"8' to 10' shark\", '2 white shark: 13\\' & 9\"8\"', 'Blacktip shark', 'No shark involvement', \"7' shark\", 'Bull shark', \"White shark, 12' to 14'\", \"3' to 4' shark\", 'Spinner shark', 'Spinner shark or blacktip shark', 'Shark involvement not confirmed', 'small shark', \"4' to 6' shark\", \"Bull shark, 4.5' \", \"4' shark\", 'reef shark', \" Bull shark, 8'\", \"Bull shark, 9' to 10'\", \" Bull shark, 5'\", \"4' tp 5' shark\", 'White shark', 'Shark involvement not confirmed', 'Possibly juvenile tiger shark', '1.8 metre shark', 'Angel shark', \"6' to 8' shark\", \"4' shark\", 'Shark involvement not confirmed', \" White shark, 7' \", \"4' to 5' shark\", \"Oceanic whitetip shark'\", \"Caribbean reef shark, 7' to 8'\", ' Lemon shark, 3.5 m', \" Sandbar shark, 3' to 4'\", 'Bronze whaler shark, 1.5m', 'Bull shark', 'Blacktip Reef shark ', ' Bull shark, 1.2m ', '3m shark', ' Tawney nurse shark, 1m', \" white shark, 15' \", 'Shark involvement not confirmed', 'No shark involvement', \"4' to 5' shark\", 'Cow shark', \"3' shark\", 'reef shark?', 'White shark', ' Raggedtooth shark, 2m', '3 m to 4 m white shark', 'Shark involvement prior to death not confirmed', '2 m shark', \"4' to 5' shark\", 'No shark involvement', 'Wobbegong shark', 'Invalid', 'Blacktip or spinner shark?', 'Blacktip reef shark ', '7-gill shark?', '1m shark', '7-gill shark', 'Oceanic whitetip shark', 'White shark, 6 m', 'Reported to involve a bull shark', 'White shark, 3m ', \"Tiger shark, 10' to 12'\", \"4' to 6' shark\", ' Wobbegong shark, 1.6 to 1.8m ', 'Tiger shark, 3m ', 'Thought to involve a white shark', \"White shark, 10 '\", 'Reported to involve a white shark', 'Tiger shark', 'Blacktip reef shark, 1m', 'Thought to involve a bull shark', 'Reported to involve a 4 m white shark', 'Wobbegong shark', \"Whitetip reef shark, 4' to 6'\", 'Tiger shark', 'Nurse shark?', 'White shark', 'White shark', \"White shark, 8' to 10'\", 'Small bull shark', 'Bull shark', \"3' shark\", \"3' shark\", \"3' shark\", 'Nurse shark', \"4' shark\", 'Blacktip shark', 'Salmon shark', 'No shark involvement', \"Mako shark, 5'\", 'White shark', 'Tiger shark?', \"Bull shark, 8'\", 'Blacktip shark', \"Bull shark, 6' to 8'\", \"6' shark\", \"Tiger shark, 8' to 10' \", 'Nurse shark', 'Shark involvement not confirmed', 'Shark involvement prior to death not confirmed', 'White shark', \"Possibly a Bull shark, 3'\", \"4' to 5' shark\", \"Tiger shark, 14'\", \"4' to 5' shark\", \"Lemon shark, 4'\", \"6' shark\", 'Galapagos shark', 'Galapagos shark', 'Invalid', 'Bull shark', 'a small shark', 'Wobbegong, 2m', 'Tiger shark', 'Grey nurse shark, 3m', \"3' shark\", 'Blue shark', 'Bull shark', 'Possibly a blacktip reef shark', 'shark involvement not confirmed', \"4' shark\", 'No shark involvement', 'Nurse shark', 'Raggedtooth shark, 1.5 m', 'Tiger shark, 4.8 m', 'Bronze whaler shark, 2.5m', '\"small sharks\"', 'White shark, 4m', 'reef shark?', 'reef shark?', \"Blacktip shark, 4' to 5'\", 'Lemon shark', 'White shark, 5m', \"Tiger shark, 15'\", 'Bronze whaler shark, 3m', '2.5 m shark', 'Bull shark, 2m ', 'Tiger shark', \"Tiger shark, 6'\", \"10' shark\", 'Sandtiger shark', 'Seven-gill shark', \"Tiger shark, 10'\", 'No shark involvement', '2.5 m shark', \"2' to 3' shark\", \"Tiger shark, 15'\", \"Tiger shark, 8'\", 'White shark', \"Tiger shark, 10' to 12' \", \"White shark, 15' to 16' \", \"6' to 8' shark\", 'Shark involvement not confirmed', '2m shark', \"5' shark\", \"4' shark\", 'Possibly a 3 m bull shark', \"3.5' to 4' shark\", \"Tiger shark, 10' to 12' \", \"3.5' to 4' shark\", \"Porbeagle shark, 7'\", '4.5 m shark', \"Lemon shark, 4' to 5' \", 'Bull shark', 'Lemon shark, 2.5m to 3m ', 'White shark or bronze whaler', 'Thought to involve a white shark', 'Shark involvement not confirmed', 'Salmon shark suspected, but unlikely', 'White shark, 5m', \"14' to 18'shark\", \"15' shark\", 'No shark involvement', 'possibly a bull shark', 'a small reef shark', '3 m shark', 'No shark involvement', 'Nurse shark', 'small blacktip shark?', 'Shark involvement not confirmed', 'small blacktip shark?', 'Blacktip shark ', '1.5 m shark', 'Blue shark, 2.5m', 'White shark, 2 m', '18\" to 24\" shark', 'Bull shark, 3m', \"4' to 5' shark\", \"Tiger shark, 8' to 9' \", 'White shark', 'White shark', \"5' shark\", 'White shark, 4 m to 5m ', 'White shark, 6m ', \"Tiger shark, 10'  \", 'a small shark', 'White shark, 4m ', 'White shark', 'Possibly a bull shark', \"Possibly a 5' to 6' bull shark\", \"4' to 5' shark\", \"4' to 5' shark\", 'Tawny nurse shark, 40cm', \"4' shark\", 'Spinner shark', 'Grey nurse shark', 'White shark, 7m', \"6' to 8' shark\", 'Tiger shark, 3m', 'Tiger shark', 'Blue shark, 70-kg blue shark', 'White shark, 2.7 m', 'Thought to involve a bull shark', 'White shark', '2 m shark', 'Allegedly a 4 m tiger shark', 'Shark involvement not confirmed', \"7' to 8' shark \", 'White shark, 2.5m', 'Shark involvement not confirmed', 'Wobbegong shark', 'Shark involvement not confirmed', 'Wobbegong shark?', \"White shark, 15' to 16'\", 'White shark', \"8' to 10' shark\", 'Raggedtooth shark', \"White shark, 10'\", \"White shark, 15'\", 'Port Jackson shark, 1m', \"3' shark\", \"10' to 12' shark\", '2 to 2.5 m shark', 'No shark involvement', 'White shark', \"Bull shark, 6'\", \"4' to 6' shark\", 'Tiger shark, 2m', 'White shark', \"6' shark, possibly a blactip or spinner shark\", \"6' shark\", 'Shark involvement prior to death not confirmed', \"White shark, >6'\", \"Possibly a 5' to 6' sandtiger shark\", 'Shark involvement not confirmed', '4 m shark', 'Grey reef shark ', \"Bull shark, 6'\", 'Shark involvement not confirmed', 'Shark involvement prior to death not confirmed', 'White shark, 3m to 4m', 'Bull shark, 3m female', \"Bull shark, 6'\", \"White shark, 5' k\", \"5' shark\", \"Oceanic whitetip shark, 7'\", \"Blacktip shark, 4'\", \"Sevengill shark, 6' to 8'\", \"3' to 4' shark\", 'Blacktip reef shark ', 'White shark', \"Tiger shark, 10'\", 'Tiger shark', 'Zambesi shark', ' Tiger shark, 2.8m', \"Sandbar shark, 8'\", 'Invalid', \"Bull shark, 12'\", 'reef shark, 1.5m', \"1' to 2' shark\", 'possibly a bronze whaler shark', ' Bull shark, 2.5 m', 'Blacktip shark pup', 'Bull shark', 'Bull shark, 2.5m', '3 m to 4 m shark', 'Bull shark, 2m', '1.5 m shark', 'White shark x 2', '1 m shark', \"6' shark\", 'Caribbean reef shark', 'Shark involvement not confirmed', 'White shark', \"6' shark\", 'Oceanic whitetip shark, 2.5m ', 'Mako shark ', 'Mako shark', 'Oceanic whitetip shark, 2.5m, female', 'Oceanic whitetip shark, 2.5m, female', 'Shark involvement not confirmed', 'White shark', 'White shark', \"Porbeagle shark, 8' \", \"White shark, 14' to 18' \", 'Bull shark, 1.4m ', 'Lemon shark', \"Possibly a 6' lemon shark\", 'White shark', 'White shark', '2m shark', \"3' shark\", 'Shark involvement prior to death was not confirmed', 'White shark', 'White shark', '3 m shark', 'Shark involvement not confirmed', \"White shark, 15'\", \"3' to 4' shark\", \"4' shark\", 'Possibly a small blacktip shark', \"Sandtiger shark, 4' to 5'\", 'A small spinner shark', 'Angel shark', 'Nurse shark, juvenile ', \"Blue shark, 7'\", \"4' shark\", \"8' shark\", \"Bull shark, 5'\", '1 m shark', \"4' shark\", \"Lemon shark, 4'\", '20 to 30kg shark', '20 to 30kg shark', \"4' shark\", \"Lemon shark, 6'\", \"14' shark\", '2 m shark', \"Oceanic whitetip shark, 6'\", '1.5 m shark', 'Possibly a blue shark', '3 m shark', '2 m shark', 'Wobbegong shark, 1.6m', '2 m to 3 m shark', 'White shark, 2.5m', \"Spinner shark, 6'\", 'Invalid', '1.5 m shark', 'Thought to involve a juvenile hammerhead shark', 'White shark', 'Whitetip reef shark, 1m', 'Zambesi shark, 2m ', 'Bull shark, 3m', 'No shark involvement', 'White shark, 2.8 to 3 m ', 'White shark', \"Sandtiger shark, 8'\", 'Shark involvement not confirmed', \"6' shark\", 'Thresher shark', \"4' shark\", '2 m shark', 'White shark, 4m', 'Zambesi shark', \"6' to 8' shark\", 'Angel shark', \"Bull shark, 10'\", 'Spurdog', \"Bull shark, 8'\", 'Shark involvement prior to death not confirmed', 'Invalid', \"4' shark\", 'White shark', \"White shark, 5' to 6' juvenile \", 'White shark, 2m', 'Tiger shark, 12', 'Bull shark?', 'Bull shark', 'Shark involvement questionable', \"Caribbean reef shark, 6'\", \"5' shark\", \"Nurse shark, 6'\", 'Thought to involve a Bronze whale shark, 2m', 'Shark involvement not confirmed', 'Shark involvement probable, but not confirmed', 'White shark', 'Oceanic whitetip shark', 'Oceanic whitetip shark', 'Oceanic whitetip shark, 2.5 to 3m', '80 kg shark', \"5' to 8' shark\", 'blacktip or spinner shark', 'blacktip or spinner shark', 'blacktip or spinner shark', \"Blacktip shark, 4'\", \"7' shark\", \"2' to 3' shark\", 'Shark involvement not confirmed', \"2' to 3' shark\", 'Shark involvement not confirmed', \"White shark, 12' to 15' female\", 'Raggedtooth shark', 'Bronze whaler shark?', \"3' to 4' shark\", 'Blacktip reef shark pup', 'Thought to involve a cookie cutter shark', 'Wobbegong shark, 60cm', 'Blue shark, 1m', '2.6 m shark', 'White shark, 2.5m ', 'Bull shark, 2.7 m ', \"White shark, 12' \", 'Shark involvement prior to death was not confirmed', 'Bull shark', 'Tiger shark', 'Invalid', 'White shark, 5.5 m ', 'White sharks', 'Dusky shark, 2m', 'White shark, 5m', 'White shark, 3.5m', 'Mako shark, 3m', 'Broadnose sevengill shark', 'Bull shark', 'No shark involvement', '2 m shark', 'White shark, 4m to 5m ', '4 to 5m white shark', 'White shark', 'Bronze whaler shark?', 'Raggedtooth shark, 2m', 'White shark, 4.5 to 5 m ', 'Zambesi shark?', 'Oceanic whitetip shark', 'Bronze whaler shark', 'Grey nurse shark, 3m', 'Lemon shark', ' reef shark, 1.8m', '5 m white shark', \"+3' shark\", 'Bronze whaler shark', \"2' to 3' juvenile shark\", 'Tiger shark', \"White shark, 14' to 16' \", '3 m shark', \"4' shark\", 'Shark involvement not confirmed', 'Blue shark', \"6' shark\", 'Shark involvement not confirmed', 'Shark involvement not confirmed', \"8' bull shark or Caribbean reef shark\", \"Tiger shark, 12'\", \"8' white shark or 7-gill shark\", 'White shark', \"3'  shark\", \"2'  shark\", \"2' to 3' reef shark\", \"3' shark\", \"3' to 4' shark\", \"4' shark\", 'Oceanic whitetip shark', 'Shark involvement not confirmed', 'Starry smoothhound shark, 1m', 'Shark involvement prior to death not confirmed', \"Bull shark, 6' to 7'\", 'White shark, 2m', 'White shark, 4.5m', \"4.5 to 5' shark\", \"White shark, 15'\", 'Basking shark', \"5' shark\", 'Bull shark', 'Tiger sharks in area', '3 m shark', '2 m shark', 'White shark, 4m', '2 small bull sharks', 'Tiger shark', \"4' shark\", 'Bull shark, 1.8m', \"White shark, 12' to 15'\", 'Tiger shark, 2.3m ', \"Tiger shark, 13' female\", 'Reported by media as shark attack, but shark involvement prior to death was not confirmed', 'Shark involvement not confirmed; thought to be a barracuda bite', \"1.5' to 2' shark\", \"6' shark\", 'Bull shark', \"4' to 5' shark\", 'a small shark', \"2.5' shark\", 'Shark involvement not confirmed', 'White shark', 'A bull shark, according to some of the divers on the boat', '1 m shark', \"3' shark\", \"Goblin shark, 4.2'\", 'Blacktip shark, 2m', 'Mako shark, 90kg', 'No shark involvement', 'Bronze whaler shark, 4m', 'a small shark', \"Nurse shark, 10'\", 'Possibly a hammerhead shark', '3 m shark', 'Invalid', '2 m shark', '\"a small shark\"', 'Not a shark attack; it was a hoax', 'Tiger shark', '2.27 m shark', 'reef shark', '1.5 to 2 m shark', \"4' to 5' shark\", \"5' shark\", 'White shark, 3m to 4m', 'Invalid', 'Tiger shark', 'White shark, 2.5m ', 'Bronze whaler shark', \"3' to 4' shark\", \"Blacktip shark, 5'\", 'Tiger shark', 'Caribbean reef shark', 'White shark', 'Oceanic whitetip sharks were in the vicinity', 'Shark involvement prior to death was not confirmed', \"4' shark\", \"3' shark\", 'Gray reef shark', \"9.5' shark?\", \"Nurse shark, 2' to 3' \", '18\" to 24\" shark', 'Possibly a spinner shark', \"Tiger shark, 10' to 12' \", \"White shark, 12'\", \"3' shark\", \"3' shark\", 'Sand shark', 'Sandtiger shark', \"4' to 5' shark\", \"Possibly a 6' bull shark\", ' ', \"Possibly a 10' bull shark\", \"White shark, 12' \", 'White shark', ' ', 'Bronze whaler shark, 1.5 m ', \"2' to 3' shark\", \"3' small spotted catshark, Scyliorhinus canicula\", 'Shark involvement not confirmed', \"5' shark\", \"Bull shark, 5' \", '2 m shark', 'Questionable Incident', \"Lemon shark, 6' female \", \"4' shark\", 'Tiger shark', 'Shark involvement not confirmed', \"3' to 4' shark\", 'A 10-year-old 94-pound pregnant blacktip reef shark', 'Lesser spotted dogfish, Scyliorhinus canicula, less than 80 cm in length', '2.5 m shark', \"10' shark\", \"4' to 5' shark\", 'White shark, 2m ', 'Shark involvement prior to death was not confirmed', \"Tiger shark, 14' \", \"6' to 8' shark\", 'Lemon shark, >1 m ', '\"a small shark\"', 'blacktip or spinner shark', \"3' to 4' shark\", \"Bull shark, 10' \", 'Tiger shark', \"3' shark\", \"4' to 5' shark\", '1.5 m shark', \"5' shark\", '2 to 2.5 m shark', 'Tiger shark', 'Shark involvement prior to death was not confirmed', 'Tiger shark', \"14' shark\", 'White shark, 3m', 'Shark involvement prior to death was not confirmed', 'Tiger shark', '2.4 m shark', '24\" to 30\" shark', \"6' to 8' shark, possibly a tiger shark\", '2.5 to 3 m shark', '2 to 3 m shark', \"White shark, 12' to 15' \", 'Raggedtooth shark, 150-kg', 'White shark, 5m ', '2 m to 3 m shark', 'Bull shark, 1.5m ', \"White shark, 16' \", \"1' to 4' shark\", \"3' to 3.5' shark\", 'Invalid', 'Nurse shark', 'Spinner shark', \"5' shark\", 'No shark involvement', \"3' shark\", 'White shark, 3.5m ', \"Bronze whaler shark, 6'\", 'Shark involvement prior to death was not confirmed', 'Shark involvement prior to death was not confirmed', '5 m shark', 'White shark', 'Bull shark, 1.5m ', 'small catsharks', 'White shark?', 'Thought to involve a mako shark, but possibly a sea lion', 'White shark, 3m to 4m', ' ', \"Bull shark, 4' to 5' \", 'Shark involvement prior to death was not confirmed', 'Angel shark, 1.2m ', 'Shark involvement not confirmed, injury may have been caused by a bluefish', 'Bull or tiger shark', \"5' to 6' spinner or bull shark\", '1.8 m blacktip \"reef\" shark', '1.8 m blacktip \"reef\" shark', \"Possibly a 1' to 3' blacktip or spinner shark\", \"2' to 3' shark\", \"3' to 4' shark\", \"14' white shark\", \"Tiger shark, 8' to 12'\", \"Tiger shark, 15' female\", \"Grey reef shark, 5' to 8' \", \"Tiger shark, 10' to 12'\", 'Wobbegong shark, 2 m ', 'Invalid', \"Bull shark, 4' to bull shark\", 'Bronze whaler shark, a  juvenile ', 'Raggedtooth shark, 2.5 m to 3 m ', 'Tiger shark', '3 m, 600-kg shark', \"Tiger shark, 10'  \", 'Shark involvement prior to death was not confirmed', \"Tiger shark, 5' \", 'Bronze whaler shark, 2 m', \"5' to 7' shark\", 'Invalid', '4.5 m white shark', 'Raggedtooth shark', 'Tiger shark', \"12' to 18' shark\", \"12' shark\", '3.5 m white shark', 'Invalid', 'Bull shark', \"4' shark\", 'Said to involve a 1.5 m shark', 'White shark', 'Tiger shark', '3 m shark', 'Whitetip reef shark', '4 m white shark', \"4' shark\", '3 m white shark', '1.8 m shark', \"4' shark\", '4.5 m white shark', 'Raggedtooth shark, 2.5m ', \"6' shark\", \"12' to 14' white shark\", \"2' to 3' shark\", \"2' shark\", '3 m shark', 'White shark', \"18' white shark\", \"Tiger shark, less than 10'\", 'Caribbean reef sharks', 'White shark', 'Tiger shark, 3 m ', \"14' to 16' white shark\", 'Bronze whaler shark', 'Shark involvement not confirmed', \"3' to 4' shark\", 'Bull shark', \"4 m [13'] white shark\", \"2 m [6.75'] shark, 200-kg shark T\", 'White shark', 'juvenile white shark', 'Shark involvement not confirmed', 'Possibly a sandbar shark or small blacktip shark', 'Shark involvement prior to death was not confirmed', \"1.8 m [6'] shark\", 'Invalid', 'Shark involvement not confirmed', 'Shark involvement prior to death was not confirmed', \"3.5 m [11.5']shark\", 'No shark involvement', \"[4.5' to 5'] shark\", \"[4' to 5']\", 'Bull shark', \"1.8 m [6'] bull shark\", 'On 8/13/2005 anglers from New Zealand caught a 2.8 m [9\\'3\"], 140-kg [309-lb] shark at the same spot. It was believed this was the same shark that killed Alysha', 'Invalid', 'Unknown, but it was reported that a shark tooth was recovered from the wound', \"3 m [10'] white shark\", \"Mr. Burgess of ISAF announced the injury was the bite of a 1.8 m [6'], 2- to 3-year old white shark. Subsequent investigation revealed there was  no shark involvement in this incident\", 'White shark', '\"small shark\"', '18\" to 36\" shark', 'Raggedtooth shark', 'Blacktip shark', \"Tiger shark, 8' to 9' \", '2.5 m shark', \"Tiger shark, 3 m [10']\", \"Mako shark, 1.5 m [5'] \", \"2 m [6.75'] copper shark\", 'Bronze whaler shark', \"1.8 m [6'] blacktip shark\", 'Shark involvement not confirmed', 'small hammerhead shark', 'Shark involvement not confirmed', \"4 m [13'] shark\", \"6 m [20'] white shark\", \"Sandtiger shark, 2.1 m [7'] \", 'Invalid', \"Bronze whaler shark, 4.3 m [14'] \", 'Bull shark', \"Nurse shark, 3' \", \"Tiger shark, 2.4 m [8']\", \"1.8 m [6'] Caribbean reef shark\", \"3 m [10'] shark\", '3 m shark', \"Bronze whaler shark, 2 m to 3 m [6.75' to 10']  \", 'White shark', 'No shark involvement', '4.5 m & 5 m white shark ', 'Bull shark', 'Raggedtooth shark', 'Raggedtooth shark', \"6 m [20'] white shark\", \"5.5 m [18'] white shark\", '3 m shark', \"2.5 m [8.25'] bull shark\", 'Invalid', \"2 m [6.75'] white shark\", \"Bronze whaler shark, 2.4 m [8'] \", \"1.8 m to 2.4 m [6' to 8'] white shark\", \"Tiger shark, 2.4 m to 3.7 m [8' to 12'] \", \"Raggedtooth shark, 1.5 to 2 m [5' to 6.75']\", 'Thought to involve a 2.5 m bull or tiger shark', \"Tiger shark, 3 m [10'] \", 'White shark', 'Shark involvement questionable', \"2.4 m [8'] shark\", 'Tiger shark, 1.5 m ', \"0.9 m to 1.2 m [3' to 4'] white shark\", \"4.9 m to 5.5 m [16' to 18'] white shark\", \"1.2 m [4'] shark\", \"3 m to 4 m [10' to 13']  white shark\", 'White shark', \"1.8 m [6'] shark\", \"1.2 m to 1.5 m [4' to 5'] shark\", 'Bull shark', \"4 m [13'] white shark\", \"Longfin mako shark, 3.5 m [11.5'], 350-kg [772-lb] \", '2 sharks, 4.5 m & 3 m ', '\"black tipped\" shark', \"4' to 5' shark\", '9\\'2\" white shark', 'Invalid', \"Bronze whaler shark, 2.5 m [8.25'] \", \"1.2 m [4'] shark\", 'White shark', \"0.9 m to 1.5 m [3' to 5'] shark\", 'Bull shark', \"2.4 m to 3.7 m [8' to 12'] shark\", 'Shark involvement not confirmed', \"1,5 m [5'] Caribbean reef shark (Carcharhinus  perezi)\", \"Mako shark, 1.8 m [6']\", \"Wobbegong shark, 1.2 m [4'] k\", \"White shark, 5.5 m [18']\", 'small sharks', 'Questionable Incident', 'Tiger shark', \"5 m [16.5'] white shark\", 'Shark involvement prior to death was not confirmed', \"1.2 m [4'] bull shark\", 'bull shark', 'bull shark', '2.5 m shark', \"1.8 m [6'] shark\", 'Bronze whaler shark', \"Tiger shark, 2.4 m to 3 m [8' to 10'] \", \"Bronze whaler shark, 1.5 m [5'] \", \"2 m [6.75'] sevengill  shark\", 'Shark involvement not confirmed', '60 cm [23.6\"] blind or brown shark', \"4 m to 5 m [13' to 16.5'] white shark\", 'Possibily a  1.5 to 2 m sandtiger shark', 'Shark involvement doubtful', 'Bull shark, 1.65 m [5\\'5\"] was speared & killed', 'Bull shark, 132-kg [291-lb] ', \"Mako shark, 3 m to 4 m [10' to 13'] \", \"Raggedtooth shark, 3.5 m [11.5'] \", 'Raggedtooth shark', 'Invalid', 'Shortfin mako shark', 'Questionable Incident', \"Wobbegong shark, 1.2 m [4'] \", \"Wobbegong shark, 1.2 m [4'] \", \"Tiger shark, 4 m [13']  ?\", \"4' shark\", 'Tiger shark?', '2.5 oceanic whitetip shark', 'White shark', \"Nurse shark, 60 cm to 90 cm [2' to 3'] \", \"1.2 m to 1.5 m [4' to 5'] shark\", \"1.5 m [5'] shark, either a bronze whaler or a grey nurse shark\", \"Tiger shark, 14' \", 'Shark involvement not confirmed', \"1.2 m [4'] shark\", 'Shark involvement prior to death was not confirmed', '1.2 m [4\\'] \"grey-colored shark\"', \"3' shark\", '2 m cow shark', 'Shark involvement doubtful', \"6' shark\", \"7' shark\", 'White shark', \"1.2 m [4'] bull shark\", \"4.5 m to 5.5 m [15' to 18'] white shark\", 'Shark involvement not confirmed', \"3.5 m [11.5'] white shark\", 'Unidentified species', \"2' shark\", \"1.5 m to 1.8 m [5' to 6'] shark\", \"2.1 m  [7'] bull shark\", \"8' great hammerhead shark\", 'Grey reef shark', 'Unidentified species', \"106 cm [3.5']  shark\", '\\x93small brown shark\\x94', \"3.7 m to 4.3 m [12' to 14'] shark\", 'Unidentified species', '\"sand shark\"', 'Shark involvement not confirmed', \"3' to 5' shark\", \"1.8 m [6'] reef shark - or a 2.1 m to 2.4 m [7' to 8'] grey-colored shark\", \"4' to 5' shark\", 'White shark', 'Bull shark', 'Unidentified species', 'Unidentified species', 'Unidentified species', \"0.9 m to 1.2 m [3' to 4'] shark\", 'Unidentified species', 'A \\x93small\\x94 shark', 'Unidentified species', '15 cm to 20 cm [6\" to 8\"] bite diameter just below left knee', \"Mako shark, 3 m [10']\", \"4' to 5' shark\", \"60 cm [2'] captive shark\", \"2.5 m [8.25'] white shark\", '\"a small shark\"', 'Species unidentified', \"Thought to involve a 2 m [6.75'] grey nurse shark\", \"Thought to involve a >2 m [6.75'] bull shark\", 'Shark involvement prior to death was not confirmed', \"Bull shark, 7'\", \"Bronze whaler shark, 2.5 m [8.25'] \", 'Reported to involve a hammerhead shark', 'White shark, 4 m white shark', 'Wobbegong shark, 1m', 'Shark involvement not confirmed, injury may be due to a stingray', 'Bull shark', 'Blacktip shark', \"3 m to 4.5 m [10' to 15'] white shark\", \"2.4 m to 3 m [8' to 10'] grey colored shark\", \"1.8 m to 2.1 m [6' to 7']\\xa0 Caribbean Reef Shark \", \"6' shark\", \"3' to 4' shark\", 'A \\x93small\\x94 shark', 'Possibly a bull shark or tiger shark', 'Blacktip or spinner shark', \"3.5' to 4.5' shark\", \"3.5' to 4' shark\", \"4' to 5' shark\", \"1.2 m [4'] blacktip shark\", \"1.8 m [6'] blacktip shark\", \"Tiger shark, 1.5 m [5']k\", \"2.4 m [8'] shark\", \"3 m to 3.7 m [10' to 12'] shark\", 'Bull or tiger shark', 'White shark', \"4' to 6' shark\", \"1' to 2' hammerhead or bonnethed shark\", \"Tiger shark, 2.4 m to 3 m [8' to 10'] \", \"0.9 m  to 1.2 m [3' to 4'] shark\", \"Nurse shark, 1.5 m [5'] \", \"Sandtiger shark, 3 m [10'] \", \"1.2 m to 1.5 m [4' to 5'] shark\", \"1.2 m [4'] blacktip or sandbar shark\", \"Bull shark, 1.8 m to 2.1 m [6' to 7'] \", 'Mako shark, 400-lb ', 'Bull or tiger shark', \"1.2 m to 1.5 m [4' to 5'] shark, possibly a bull shark\", 'Shark involvement prior to death was not confirmed', \"Tiger shark, 2.4 m to 2.7 m [8' to 9']  \", \"0.9 m to 1.2 m [3' to 4'] shark; Tooth fragment recovered from hand\", '\\xa0 ', \"1.5 to 2.5 m [5' to 8.25'] copper shark\", \"3.7 m to 4.3 m [12' to 14'] white shark\", '1 m  shark', \"3' blacktip shark\", \"Bull shark, 1.8 m to 2.1 m [6' to 7'] \", \"2.1 m to 2.4 m [7' to 8'] shark\", \"White shark, 6m [20']\", 'Invalid', \"1.2 m [4'] shark\", 'Bull shark, 400-lb ', \"3'  shark\", \"0.9 m [3'] shark\", 'Tiger shark', '\\xa0 ', \"4' shark\", 'Nurse shark, 1m ', \"Spinner shark, 3' to 4' \", 'Shark involvement prior to death unconfired', '1.5 m [5\\'] \"whaler shark\"', 'C. leucas tooth fragment recovered from kayak', \"Tiger shark, 3 m [10']\", 'Zambesi shark?', 'Unidentified', \"Tiger shark, 1.8 m [6'] \", 'Bronze whaler shark', \"Mako shark, 2 m [6.75'] \", 'Bronze whaler shark?', \"Tiger shark, 1.8 m [6']\", \"4 m [13'] white shark\", \"4' shark\", 'Questionable incident - shark bite may have precipitated drowning', \"2' to 3.5' shark\", \"12' sandtiger shark\", 'Shark involvement not confirmed', 'A large white shark was filmed by divers on a local wreck 2 days prior to the incident.', 'A large white shark was filmed by divers on a local wreck 2 days prior to the incident.', \"1.5 m [5'] shark\", 'bull shark', \"3 m [10'] bull shark\", 'a small shark', 'Possibly  a blacktip or spinner shark', \"3' shark, possibly  a blacktip or spinner shark\", \"Blacktip shark, 5' to 6' \", \"1.9 m [6.5'] bull shark\", \"3 m [10'] shark\", 'Nurse shark', \"Mako shark, 14' \", \"0.9 m  [3'] shark\", \"Bull shark, 2.3 m [7.5'] \", \"1.5 m [5'] shark\", \"White shark, 2.4 m to 3 m [8' to 10'] \", 'Shark involvement prior to death was not confirmed', \"2' shark\", \"1.2 m to 1.5 m [4.5' to 5'] shark\", 'Shark involvement prior to death was not confirmed', \"White shark, 2.7 m to 3 m [9' to 10'] \", \"1.2 m to 1.5 m [4' to 5'] shark\", 'Possibly a juvenile blacktip or spinner shark', 'Possibly a juvenile blacktip or spinner shark', 'Possibly a juvenile blacktip or spinner shark', \"Possibly a 1.5 m [5'] blacktip or spinner shark\", 'Possibly a juvenile blacktip or spinner shark', '1 m shark, possibly whitetip reef shark', 'Possibly a juvenile blacktip or spinner shark', \"White shark, 2.7 m [9'] \", 'Wobbegong shark', '\"small shark\"', 'Bronze whaler shark', \"Spinner shark, 1.2 m to 1.5 m [4' to 5'] \", 'Shark involvement not confirmed', \"Tiger shark, 8' \", \"White shark, 5 m [16.5'] \", 'Shark involvement prior to death was not confirmed', \"Bronze whaler shark, 2.5 m [8.25']  k\", '5 m shark', \"2 m [6.75'] shark\", \"White shark, 4.3 m [14'] \", '1.8 m to 2.4 m [6\\' to 8\\'] \"black finned shark\"', 'White shark', \"6 m [20'] shark\", 'White shark, 4.5 m [14\\'9\"] ', \"Porbeagle shark, 3 m [10']rk\", \"Bronze whaler shark, 2.5 m [8.25'] \", 'Tiger shark, 4 m ', 'Shark involvement not confirmed', \"1.2 m to 1.8 m [4' to 6'] shark\", 'Invalid', \"White shark, 4.9 m [16'] \", \"White shark, 5 m [16.5'] \", \"White shark, 2.4 m to 3 m [8' to 10'] \", 'White shark', \"Tiger shark, 1.8 m to 2.4 m [6' to 8'] \", \"2.1 to 2.4 m [7' to 8'] shark\", \"Blacktip shark, 2' \", \"White shark, 4.3 m [14']\", 'White shark', \"White shark, 4 m to 5 m [13' to 16.5'] \", '100-kg [221-lb] dead blue shark', 'White shark, 2.5 m ', \"60 cm to 90 cm [2' to 3'] shark\", \"White shark, 3.5 m [11.5']  male \", 'Thought to involve a Zambesi shark', \"1.5 m [5'] shark\", \"Tiger shark, 3 m [10'] \", 'Thought to involve a Zambesi shark', \"A 2' shark was seen in the area by witnesses\", \"Thought to involve a 2.7 m [9'], 400-lb bull shark\", 'Salmon shark', 'Tiger shark, 3.7 m to 4.5 m [12\\' to 14\\'9\"]  ', 'juvenile shark', \"Blacktip shark, 2.4 m to 3 m [8' to 10'] \", 'Shark involvement  not confirmed', 'Shark involvement prior to death was not confirmed', 'Thought to involve a Zambesi shark', \"Nurse shark, 1.5 m [5']\", \"1.8 m [6'] grey-colored shark\", \"Grey reef shark, 2 m [6.75'] \", \"Lemon shark, 2.1  m to 2.4 m [7' to 8'] \", \"Tiger shark, 0.9 m to 1.5 m [3' to 5'] ?\", \"Nurse shark, 1.2 m [4'] \", \"0.9 m [3'] shark\", \"0.9 m [3'] shark,  probably a blacktip or spinner shark\", 'Thought to involve a Zambesi shark', \"Mako shark, 2 m [6.75'] \", \"Bull shark, 2.4 m [8']\", \"Blacktip shark, 1.2 m to 1.8 m [4' to 6'] \", 'Bull shark?', 'Bull shark', 'Thought to involve a Zambesi shark', 'Tiger sharks & bull sharks (20 sharks in all)', 'Shark involvement prior to death was not confirmed', '2.5 m shark', \"1.8 m [6'] shark\", \"1.2 m [4'] shark\", 'Tiger shark?', \"Tiger shark, 4 m [13'] ?\", \"2 m to 2.5 m [6.75'  to 8.25'] shark\", 'Shark involvement  questionable', \"Shortfin mako shark, 3 m to 3.4 m [10' to 11'] \", 'White shark, 2.5 m ', 'Miami, a 60 cm blacktip  shark and two 60 cm bamboo catsharks', \"3 m [10'] shark\", 'Hammerhead shark', 'Sevengill shark', 'Sevengill shark', 'Sevengill shark', 'Thought to involve a white, bull or tiger shark', 'Shark involvement not confirmed', 'Shark involvement not confirmed', \"Tiger shark, 1.8 m to 2.4 m [6' to 8'] \", 'White shark', \"White shark, 3 m [10'] \", '1.3 to 1.6 m shark', \"Grey reef shark, 1.2 m [4'] \", \"Grey reef shark, 1.2 m [4'] \", \"Lemon shark, 2.7 m [9'] \", \"Tiger shark, 1.8 m to 2.4 m [6' to 8'] \", \"Said to involve a 7 m [23'] white shark\", 'White shark', 'Unidentified', \"1.5 m to 1.8 m [5' to 6'] shark\", \"0.9 m [3'] shark\", '\"a small shark\"', \"7' shark\", \"1.8 m [6'] shark\", \"4' to 5' shark\", \"2.7 m [9']  bull shark or Caribbean reef shark\", \"White shark, 3 m to 5 m [10' to 16.5'] \", \"Bull shark, 2.1 m [7']\", \"Tiger shark, 1.8 m to 2.4 m [6' to 8'] \", 'White shark', \"Blacktip shark, 1.8 m [6'] \", \"White shark, 4 m [13'] \", \"1.2 m [4'] shark\", \"3' to 4' shark\", 'Blacktip or spinner shark', 'Thought to involve a white shark', \"Tiger shark, 2.5 m [8.25']\", 'Grey reef shark, 1.5 m ', '3 bull sharks', \"Sevengill shark, 2.4 m [8'] \", '200 to 300 kg shark', 'Mako shark, 1.3 m gaffed ', \"3.7 m to 4.6 m [12' to 15'] shark seen in the vicinity\", 'Basking shark', 'Bronze whaler or tiger shark', 'Spinner shark', 'Bull shark', \"White shark, 4 m [13'] \", 'Shark involvement not confirmed', 'Bull shark', \"White shark, 4.6 m [15'] \", 'Shark involvement not confirmed', 'Possibly a white shark', 'Tiger shark', \"1.2 m [4'] shark\", 'A \"small shark\"', \"White shark, 5 m  to 6 m [16.5' to 20'] \", \"6' shark\", 'Though to involve a white shark', \"1.8 m [6'] shark\", '1.5 m shark', \"3' to 4' shark\", 'Invalid', \"White shark, 5 m to 6 m [16.5' to 20'] \", \"Dusky shark, 12' \", \"Caribbean reef shark, 1.2 m to 1.5 m [4' to 5'] \", \"4.5' to 5' shark\", 'Sandtiger shark, 2 m, male ', \"White shark, 4 m [13'] \", \"White shark, 4.9 m [16']\", \"Raggedtooth shark, 1.2 m [4'] \", \"5' to 6' shark\", \"Raggedtooth shark, 1.2 m [4'] \", 'Thought to involve a 5.5 m white shark named Kong', 'White shark', \"3 m to 4 m [10' to 13'] white shark\", 'Unidentified', \"Lemon shark, 1.5 m [5'], identified  by the surfer\", \"1.8 m [6'] shark, possibly a blacktip\", \"4 m [13'] white shark\", \"3 m [10'] shark\", \"5 m [16.5'] white shark\", \"Nurse shark, 0.9 m [3'] \", \"3 m [10'] white shark\", \"5' spinner shark\", 'Spinner shark', 'Shark involvement not confirmed', '1.7 m shark', 'Small dusky shark or blackfin shark', 'sandtiger shark', 'White shark', 'Shark involvement not confirmed', 'White shark', 'Shark involvement prior to death suspected but not confirmed', \"5.5 m [18'] white shark\", \"Tiger shark, 4 m to 4.3 m [13' to 14'] \", 'Possibly a blacktip shark', \"1.2 m to 1.5 m [4' to 5'] shark\", 'Soupfin shark', 'small blacktip shark', \"5 m [16.5'] white shark\", 'Shark involvement prior to death was not confirmed', \"Tiger shark, 5.2 m [17']\", 'Thought to involve an oceanic whitetip shark or a white shark', '1 m shark', \"1.5 m [5'] shark\", 'juvenile shark', '\"juvenile shark\"', '4.5 m white shark', 'Blacktip shark', 'White shark', \"2.4 m [8'] shark\", \"Tiger shark, 2.7m  [9']\", 'Possibly a spinner shark', \"1.2 m [4'] shark (spinner shark?)\", \"4' shark\", 'Possibly a sand shark', 'Possibly a sand shark', 'Possibly a Caribbean reef shark', '3.7m  to 4.2 m white shark', 'a small shark', 'Tiger shark, 2m to 3m ', \"1.8 m to 2.1 m [6' to 7'] shark\", 'Tiger shark, 4.5 m [14\\'9\"]', 'Bull shark', 'White shark', 'White shark', \"3 m to 5 m [10' to 16.5'] white shark\", \"5.5 m to 6 m [18' to 20'] white shark\", \"1.2 m [4'] shark\", \"5 m [16.5'] white shark\", 'White shark', '\"a young shark\"', 'Shark involvement not confirmed', 'White shark', \"Tiger shark, 2.4 m [8'] \", \"6 m [20'] white shark\", \"1.8 m to 2.1 m [6' to 7'] hammerhead shark\", \"5 m [16.5'] white shark\", 'said to involve an oceanic whitetip shark', \"6' shark\", \"5' to 6' shark\", '4 m white shark', \"2.5 m [8.25'] white shark \", 'Shark involvement prior to death suspected but not confirmed', \"1.2 m [4'] shark\", \"60 cm to 90 cm [2' to 3'] blacktip or spinner shark\", 'Wobbegong shark', 'Wobbegong shark', 'Tiger shark', \"1.5 m [5'] shark\", 'Bronze whaler shark', 'nurse shark', '\"reef shark\"', \"Nurse shark, 0.9 m  [3'] \", 'Bronze whaler shark', 'Possibly a tiger shark', \"Mako shark, 4.3 m [14']\", 'Tiger shark, 300-kg [662-lb] ', \"Tiger shark, 2.5 m [8.25'] \", 'Tiger shark', \"5 m [16.5'] white shark\", 'Shark involvement not confirmed', '4 m shark', \"1.2 m to 1.5 m [4' to 5']   shark\", \"1.5 to 1.8 m [5' to 6'] shark\", \"4 m [13'] white shark\", \"1.8 m [6'] shark\", \"3 m to 3.7 m [10' to 12'] bull shark\", 'White shark', \"3 m to 4 m [10' to 13'] white shark\", 'Shark involvement not confirmed', \"1.2 m to 1.5 m [4' to 5'] shark\", \"5' shark\", '\"a small shark\"', \"1.2 m to 1.5 m [4' to 5'] shark\", '\"sand\" shark', '\"small shark\"', \"Two 1.2 m to 1.5 m [4' to 5'] sharks\", '\"small shark\"', \"1.8 m [6'] shark\", 'Invalid', 'Blacktip shark', \"1.2 m to 1.5 m [4' to 5'] shark\", 'Invalid', 'Invalid', 'Blacktip shark', \"6 m [20'] white shark\", 'White shark (tooth fragment recovered)', '\"sand\" shark', \"1.8 m [6'] shark\", \"6' shark\", \"Tiger shark, 3.7 m [12'] \", 'Though to involve a tiger shark', \"1.8 m to 2.1 m [6' to 7'] shark\", 'Possibly a bull shark', \"3.7 m [12'] shark\", '4 m shark', 'Invalid', 'Wobbegong shark', \"6 m [20'] white shark\", 'Bronze whaler shark, 2 m ', 'Raggedtooth shark', \"Tiger shark, 1.8 m [6'] \", ' ', 'Shark involvement not confirmed', 'Leopard shark', 'Invalid', \"5.5 m [18'] white shark\", 'Invalid', \"5 m to 5.5 m [16.5' to 18'] white shark\", \"Raggedtooth shark, 2.7 m [9'] \", \"2.7 m [9'] shark\", 'Thought to involve a small sand shark', \"5 m [16.5'] white shark\", 'Small shark', \"3 to 3.5 m [10' to 11.5'] bull shark\", \"4 m [13'] white shark\", \"4 m [13'] white shark\", '\"small shark\"', \"1.8 m [6'] shark\", \"1.2 m [4'] spinner shark\", \"2.1 m [7'] shark\", \"1.2 m [4'] shark\", \">1.8 m [6'] shark\", 'Invalid', \"3 m [10'], 200-kg [441-lb] bull shark\", \"2' to 3' shark\", '4.9 m white shark', '3.6 m [11\\'9\"] white shark', '3.6 m [11\\'9\"] white shark', \"Lemon shark, 4' \", '2 m shark', \"3 m [10'] shark\", \"1.2 m [4'] shark\", \"3 m [10'] white shark\", 'Tiger shark', 'White shark', '1.5 m shark', '1.3 m [4\\'3\"] shark', \"Tiger shark said to be 5 to 7 m [16.5' to 23'] \", \"On 11-Jan-1994, his remains washed ashore. A 2.4 m [8'] tiger shark thought to be involved\", 'Tiger shark caught 6 days later with diver\\x92s remains in its gut', \"4 m to 5 m [13' to 16.5'] white shark\", \"3 m [10'] bull shark\", \">6 m [20'] white shark\", 'Tiger shark', \"3 m [10'] white shark\", \"3.7 m [12'] white shark\", \"3' shark\", \"1.2 m [4'] shark\", \"1.8 m [6'] blacktip shark or Caribbean reef shark\", '>6 m white shark, according to witnesses', 'Bull shark', \"6 m [20'] white shark\", \"5.5 m to 6 m [18' to 20']  white shark\", 'White shark?', \"4 m [13'] white shark\", \"1.8 m to 2.4 m [6' to 8'] shark, tooth fragments recovered \", 'Thought to involve a tiger shark', \"Remains recovered from 5.5 m [18'] white shark\", \"5 m [16.5'] white shark\", \"6' shark\", 'Invalid', 'Possiby white shark', \"Tiger shark, 3.7 m [12'], (tooth fragment recovered from wound)\", 'White shark', \"1.5 m [5'] shark\", 'Bronze whaler shark, 1.5 m ', '1.5 m shark', \"Two 3 m [10'] oceanic whitetip sharks\", \"6 m [20'] white shark\", \"3 m [10'] white shark\", 'Lemon shark', \"Tiger shark, 2.4 m [8']\", \"Tiger shark, 3 m to 4.9 m [10' to 16'] \", \"Mako shark, 1.8 m [6']  \", \"6' to 7' blacktip shark\", \"1.8 m [6'] shark\", '5 m to 6 m white shark', '3 m hammerhead shark', 'Unidentified shark', \"Tiger shark, 3 m to 3.7 m [10' to 12'] \", \"2.5 m [8.25'] white shark\", \"Tiger shark, 4.3 m [14'] \", 'Grey nurse shark', '4.2 m white shark', \"4 m to 5 m [13' to 16.5']  white shark \", \"1.8 m [6'] blacktip shark\", '4 m white shark', 'Questionable incident', \"5.5 m to 6 m [18' to 20'] white shark\", \"Nurse shark, 3', 20-lb \", 'Questionable incident', 'Invalid', '\"a small shark\"', 'Bull shark or lemon shark', 'White shark, identification by K. Nakaya', 'Mako shark', 'Shark involvement prior to death was not confirmed', \"Tiger shark, 3 m to 4 m [10' to 13'] \", \"4 m [13'], 590-kg white shark\", '>2 m shark', 'Tiger shark', 'Bronze whaler shark, 3 m', \"5 m [16.5'] white shark, identification by K. Nakaya\", \"Said to involve a 6 m to 7 m [20' to 23'] white shark\", 'Tiger shark?', \"5 m [16.5'] shark\", 'Questionable incident', '1.8 m grey shark', \"Bronze whaler shark, 2.3 m [7.5'] \", \"Zambesi shark, 1.7 m [5.5'] \", \"Possibly a 1.5 m [5'] blacktip shark\", 'Grey reef shark', 'Questionable incident', \"6 m [20'] white shark\", \"Tiger shark, 2.4 m 3.4 m [8' to 11']  \", \"Tiger shark, 2.4 m 3.4 m [8' to 11']  \", \"Tiger shark, 3.7 m [12'] \", \"2.4 m [8'] shark\", '\"small shark\"', \"1.8 m [6'] shark\", \"5 m to 6 m [16.5' to 20'] white shark\", 'Invalid', \"4 m [13'] white shark\", \"3 m [10'], 270- kg [595-lb] shark\", 'sand shark', \"3' shark\", 'Lemon shark, 30-lb ', \"4 m [13'] white shark\", \"2.1 m [7'], 140-lb reef shark\", \"1.8 m [6'] blacktip shark\", \"Tiger shark, 3 to 4 m [10' to 13'] \", \"5 m [16.5'] white shark\", 'Shark involvement not confirmed', \"2.7 m [9'] bull or lemon shark\", \"Tiger shark, >3 m [10']\", \"2.4 m [8'] shark\", '3.5 m [11.5\\'] female white shark named \"Notchfin\"', '170-kg, 2.8 m shark', \"7' female shark\", \"1.2 m to 1.5 m [4' to 5'] shark\", '\"Shark had a very large girth\"', 'Grey nurse shark, 2 m', \"5.5 m [18'] white shark\", \"5.5 m [18'] white shark\", '4 m shark', '2 m shark', 'Questionable incident', '1.5 m shark', \"4 m to 5 m [13' to 16.5'] white shark\", \"5' shark\", \"1.8 m [6'] shark \", \"4' spinner shark\", \"Tiger shark, 3.7 m [12'] \", \"1.8 m to 2.4 m [6' to 8'] shark\", \"5 m  [16.5'] white shark\", 'White shark', \"2.5 m to 3 m [8.25' to 10']  white shark\", 'Shark involvement prior to death could not be determined', \"5 m to 6 m [16.5' to 20'] white shark\", '4.5 m [14\\'9\"] white shark', \"1.2 m to 1.5 m [4' to 5'] shark\", '6 m, 600-kg shark', '2 m hammerhead', '2 m hammerhead', \"5.5 m [18'] white shark, identified by witnesses & tooth marks\", \"2.3 m [7.5'] white shark, identified by M. Smale\", 'Tiger shark, 3 m ', '3 m shark', '3 m shark', \"3 m [10'] bull shark\", \"Two sharks seen in vicinity: 2.4 m & 4.25 m  [8' & 14'] TL\", \"3 m to 4 m [10' to 13'] white shark\", 'Tiger shark, 2m ', 'Shark involvement prior to death was not confirmed', 'White shark', 'White shark', 'Shark involvement prior to death was not confirmed', '2 m shark, possibly a bronze whaler', \"2.7 m [9'] white shark\", 'Shark involvement suspected but not confirmed', \"4' shark\", 'Shark involvement suspected but not confirmed', 'White shark', 'White shark, identified by tooth pattern', '150-lb shark', '4 to 5 m white shark', \"4 m to 5 m [13' to 16.5']  white shark\", 'Sandbar shark', 'Blue Shark ', 'Grey nurse shark', \"1.2 m [4'] shark\", \">3.4 m [11'] white shark\", \"Bronze whaler shark, 3 m [10'] \", '3.5 m white shark', 'Shark involvement suspected but not confirmed', \"2.5 m [8.25'] white shark\", \"4' shark\", \"1.8 m [6'] sandtiger shark\", \"3 m [10'] white shark\", \"3 m [10'] white shark\", \"2.5 m [8.25'] white shark\", \"1.2 m [4'] shark\", 'White shark', '5 m to 7 m white shark', \"2 m [6.75'] white shark\", 'Tiger shark, 3.5 m ', \"3 m [10'] gaffed shark\", \"6 m [20'] white shark\", 'Invalid', \"5 m [16.5'] white shark\", \"1.8 m to 2.4 m [6' to 8'] hammerhead shark\", \"Tiger shark, 4 m [13'] \", \"7' silvertip shark\", \"16' white shark\", \"5.5 m to 6 m [18' to 20']  white shark\", \"7' shark\", \"6' shark\", \"1.2 m to 1.5 m [4' to 5'] shark\", \"1.2 m to 1.5 m [4' to 5'] shark\", \"1.2 m [4'] shark\", \"5' shark\", \"1.8 m [6'] shark\", \"3 m [10'] bull shark\", \"Tiger shark, 1.8 m [6']\", \"2.4 m to 3 m [8' to 10'] white shark\", '2 m to 2.5 m shark', \"1.5 m [5'] Caribbean reef shark\", \"1.5 m [5'] Caribbean reef shark\", \"1.5 m [5'] shark\", 'White shark', 'Sandtiger shark', 'Sand shark?', \"1.8 m to 2.4 m [6' to 8'] shark\", 'White shark', 'Shark involvement prior to death was not confirmed', 'Shark involvement prior to death was not confirmed', \"1.5 m to 2 m [5' to 6.75'] shark\", 'Raggedtooth shark, 2 m ', '1 m \"grey-colored\" shark', 'Zambezi shark (tooth fragments recovered)', \"Mako shark, 3 m [10'], 200-kg [441-lb] \", 'Tiger shark, 3 m ', 'Shark involvement not confirmed', 'Shark involvement prior to death was not confirmed', 'Mako shark', '1.5 m copper shark', '6 m shark', 'Wobbegong shark', \"1.8 m [6'] blacktip shark\", 'Shark involvement prior to death was not confirmed', 'Shark involvement prior to death was not confirmed', \"2 m [6.75'] shark\", 'Questionable incident', 'White shark', '40 to 50 sharks attacked survivors in the water', 'White shark', \"3.5 m [11.5']  white shark\", \"1.2 m to 1.5 m [4' to 5'] shark\", '5.7 m white shark', \"3' to 4' shark\", \"4' shark\", \"4' shark\", \"12' shark\", '2.5 to 3 m shark', \"1.5 m [5'] blacktip shark\", \"1.5 m to 1.8 m [5' to 6'] shark\", 'Shark involvement prior to death was not confirmed', '4.3 m shark', 'Bronze whaler shark, 2 m to 3 m ', '3 m white shark', 'Spinner shark', \">2.5 m [8.25'] white shark\", 'Doubtful / Unconfirmed attack / Unable to verify in local records', 'White shark', \"Raggedtooth shark, 2.5 m [8.25'] \", \"3 m [10'] white shark\", \"1.8 m to 2.1 m [6' to 7'] spinner or blacktip shark\", \"5 m to 6 m [16.5' to 20'] white shark\", 'Invalid', 'Tiger shark', 'Raggedtooth shark, 1.96 m, 140-kg ', \"Lemon shark, 1.8 m to 2.4 m [6' to 8'], tooth fragment recovered\", '1.6 m shark', 'Bull shark', 'Shark involvement prior to death was not confirmed', 'Invalid', 'Wobbegong shark', \"Tooth fragment of a white shark recovered. Authorities believed shark was 6 m [20']  total length\", \"1.5 m [5'] shark\", \"1.2 m [4'] dusky shark\", 'Wobbegong shark', '2 m shark', '3.5 m white shark', '>1 m shark', \"2 m [6.75'] shark\", \">2.4 m [8'] white shark\", 'Raggedtooth shark', \"Raggedtooth shark, 2 m [6.75'] \", 'Bronze whaler shark, 3.5 m ', 'Blacktip shark', \"1.5 m [5'] shark\", 'Sandtiger shark', '1m shark', '5.2 to 5.8 m white shark', \"2.5 m [8.25'] white shark\", \"2 m to 2.5 m [6.75'  to 8.25'] sixgill or sevengill shark\", \"Thought to involve a Tiger shark,  3.7 m [12'] \", \"1.8 m to 2.4 m [6' to 8'] shark\", \"6', 100-lb shark\", \"4 m to 5 m [13' to 16.5'] white shark\", 'Shark involvement prior to death was not confirmed', '1.8 m silky shark', 'Invalid', 'Shark involvement not confirmed', 'Shark involvement prior to death not confirmed', 'Possibly a small hammerhead shark', \"5 m to 6 m [16.5' to 20'] white shark\", \"Tiger shark, 2.4 m to 2.7 m [8' to 9'] \", '3 m to 3.6 m  [10\\' to 11\\'9\"] white shark', 'Shark involvement not confirmed', '30-kg [66-lb] shark', \"6 m [20'] white shark\", \"6 m [20'] white shark\", 'Raggedtooth shark', 'Shark involvement prior to death was not confirmed', '3.5 m white shark, tooth fragments recovered', '6 m shark', \"3.5 m [11.5'] white shark\", 'Tiger shark', \"1.5 m [5'] dusky shark\", 'Bull shark', 'White shark', 'Tiger shark, 4 m ', \"1.2 m [4'] shark\", '\"a small shark\"', 'Shark involvement prior to death was not confirmed', \"1.5 m [5'] shark\", 'Shark involvement not confirmed; officials considered barracua', \"1.2 m [4'] blacktip shark\", \"3 m to 5 m [10' to 16.5'] white shark\", \"3 m to 4 m [10' to 13']  white shark\", 'Hammerhead shark?+O2356', 'small blue shark', '4.5 m to 5 m white shark', '4.5 m to 5.5m white shark', 'Invalid', \"1.2 m [4'] shark\", 'Shark involvement prior to death was not confirmed', 'Raggedtooth shark ', \"2.4 m [8'] white shark\", \"1.2 m to 1.5 m [4' to 5'] hammerhead shark\", 'Shark involvement prior to death was not confirmed', \"2.5 m [8.25'] shark\", 'Raggedtooth shark, 56-kg [123-lb] ', \" 1.5 m [5'] dusky shark\", 'Shark involvement prior to death was not confirmed', '1.5 m white-tipped reef shark', 'Raggedtooth shark, 1 m ', 'Sevengill shark', 'Invalid', \"12' white shark\", 'Raggedtooth shark, >1 m ', 'Invalid', '.5 m shark', 'Tiger shark', 'Shark involvement prior to death was not confirmed', \"1.5 m [5'] shark\", \"4.5' shark\", 'White shark', \"5 m [16.5'] white shark\", 'Sand shark', 'Nurse shark', \"6' to 8' bull shark\", \"Tiger shark, 5 m [16.5']\", \"Tiger shark, 5 m [16.5']\", \"Tiger shark, 5 m [16.5']\", \"3 m to 4 m [10' to 13'] shark\", \"3.5' hammerhead shark\", \"6' blacktip shark\", 'Questionable incident', 'Caribbean reef shark', \"6' shark\", \"Raggedtooth shark, 1.5 m [5'] (tooth fragment recovered)\", 'Questionable incident', \"1.8 m [6'] Zambezi shark\", 'Blacktip or spinner shark', '\"a small shark\"', \"3 m [10'] shark\", 'Shark involvement prior to death was not confirmed', 'White shark', 'Blue sharks', \"1.5 m [5'] shark\", 'Believed to involve a 2.8 m [9\\'3\"] white shark', \"1.5 m [5'] shark\", 'White shark', \"5 m to 6 m [16.5' to 20'] white shark\", 'Shark involvement prior to death was not confirmed', 'Questionable incident; reported as shark attack but thought to involve a pinniped instead ', \"2.1 m [7'] shark, possibly a spinner shark\", 'Invalid', \"2.4 m [8'] white shark, species identity confirmed by tooth fragment\", \"4.5 m to 5.5 m [14.7' to 18'] white shark\", \"0.9 m to 1.2 m [3' to 4'] shark\", 'Reported as a shark attack, the story was a hoax', \"2.4 m [8'] white shark, species identity confirmed by witnesses & tooth pattern in surfboard\", \"5' shark\", 'Lemon shark, 2 m [6\\'9\"]', '1.2 m to 1.5 m [4\\' to 5\\'] \"reef shark\"', 'Shark involvement prior to death was not confirmed', \"5.5 m [18''] white shark\", \"4' to 5' shark\", \"5 m [16.5'] white shark\", 'Raggedtooth shark', \"6 m [20'] white shark\", 'White shark', \"7 m [23'] white shark\", \"Tiger shark, 3.7 m [12']\", \"3.5 m [11.5'], 510-kg [1125-lb] hooked & shot white shark\", '2.1 m [7\\'] shark with \"a very flat head\\x94 that had followed the boat for 3 days', \"1.8 m to 2.4 m [6' to 8'] shark\", \"6' shark\", 'Said to involve a tiger shark or a hammerhead shark', \"6' shark\", \"1.8 m [6'] shark, species identity questionable\", 'Shark involvement prior to death remains unconfirmed', 'small nurse shark', 'Mako shark (tooth fragments recovered)', '\"sandshark\"', \"Possibly a  1.8 m [6'] Zambezi shark\", \"2.4 m [8'] shark\", '\"gray shark\"', \"13', 400-lb thresher shark\", 'Shark involvement prior to death was not confirmed', '6 m  white shark', 'Raggedtooth shark', 'Lemon shark', \"Raggedtooth shark, 2.5 m [8.25'] \", \"Tiger shark, 2.1 m [7']\", \"1.2 m to 1.5 m [4' to 5'] bull, sandbar or dusky shark\", 'C. maculpinnis or C. limbatus', 'White shark', 'White shark', 'Juvenile dusky or blacktip shark', '1 m hammerhead shark', \"1.8 m to 2.4 m [6' to 8'] hammerhead shark\", 'Tiger shark', 'Shark involvement prior to death was not confirmed', 'Tiger shark, 2.5 m ', \"3.5 m [11.5'] shark\", 'Shark involvement prior to death was not confirmed', \"1.8 m [6'] white shark\", 'Shark involvement prior to death was not confirmed', \"4 m to 5 m [13' to 16.5'] white shark\", \"4 m to 5 m [13' to 16.5'] white shark\", \"Tiger shark, 4.3 m [14'] \", 'Blue shark', \"4' to 8' shark\", 'Blue shark', \"1.8 m [6'] shark\", 'Tiger shark', 'Tiger shark', '2 m shark', \"1.5 m [5'] hammerhead shark\", '2.8 m [9\\'3\"] white shark', '2.2 m shark', '2 m [6\\'9\"] Zambesi shark', 'Hammerhead shark', 'Raggedtooth shark, 2 m [6\\'9\"] ', 'White shark', \"1.8 m [6'] dogfish\", 'Said to involve a white shark but shark involvement not confirmed', 'Invalid', 'White shark?', \"6' shark\", \"White shark, 4 m [13'] \", 'White shark, 5 m ', \"Raggedtooth shark, 50-kg [110-lb], 2 m [6.75'] gaffed \", '\"a small shark\"', 'Shark involvement prior to death was not confirmed', \"White shark, 2.5 m [8.25']  \", '2 m shark', 'Blacktip or spinner shark', \"White shark, 4 m to 5 m [13' to 16.5'] \", \"1.5 m to 2 m [5' to 6.75'] shark\", \"White shark, 2.3 m [7.5'], tooth fragment recovered\", \"2.4 m [8'] shark\", 'Shark involvement prior to death was not confirmed', \"White shark, 3.7 m [12'] \", \"White shark, 5 m [16.5'] \", \"15' shark\", '2 m [6\\'9\"] shark', 'Invalid', 'Sevengill shark, 2.4 m', '270 kg shark', 'White shark', 'Thought to involve a blacktip shark', 'Shark involvement prior to death was not confirmed', \"Tiger shark, 3 m [10']\", \"3 m [10'] white shark (Tooth  recovered from boat)\", \"1.5 to 2 m [5' to 6.75'] shark\", \"White shark, 5 m [16.5'] \", 'White shark', 'White shark', \"White shark, 5.5 m to 6 m [18' to 20']  \", 'Shark involvement not confirmed', 'Bull shark, 8', \"Bull shark, 4' to 5' \", 'Mako shark, 2.3 m, 150-kg  ', \"1.2 m [4'] shark\", \"4 m [13'] shark\", 'Shark involvement prior to death was not confirmed', \"White shark, 5.5 m [18'] \", \"White shark, 3 m [10'] k\", 'Shark involvement prior to death was not confirmed', \"2.1 m [7'] lemon shark or bull shark\", 'Questionable incident', 'White shark, 4.8 m ', 'White shark', \"White shark, 3 m to 4 m [10' to 13'] \", \"White shark, 3.5 m [11.5'], species identity confirmed by tooth fragment\", \"2.7 m  [9'] shark\", \"Tiger shark, 6' \", 'White shark, 4.5 m ', \"6' to 8' shark\", \"12' to 14' shark\", \"0.9 m to 1.5 m [3' to 5'] shark\", 'Blue shark, 2m ', \"1.5 m [5'] shark\", 'Mako shark, 180-kg [397-lb]', 'Shark involvement prior to death was not confirmed', 'Whale shark', 'White shark named \\x93Spotty\\x94', 'White shark named \\x93Spotty\\x94', \"2.5 m [8.25'] white shark\", \"4 m [13'] shark\", \"White shark, 3 m [10'] \", \"6' shark\", 'Bronze whaler shark', \"2.4 m [8'] shark\", 'White shark', \"Grey nurse shark, 10' \", \"5' shark\", 'Juvenile dusky shark', \"6' shark\", 'Shark involvement unconfirmed', 'Bronze whaler', 'Questionable incident', \"1.2 m [4'] shark\", \"White shark, 2.4 m [8']\", \"1.5 m [5'] shark\", 'White shark', 'White shark', \"12' shark\", \"White shark, 5.8 m [19'] \", 'White shark, 5m to 6m', \"1.2 m [4'] shark\", \"2.4 m [8'] whaler shark\", \"4' shark\", 'Invalid', 'Shark involvement prior to death was not confirmed', 'White shark, 600-kg [1323-lb]', 'Shark involvement prior to death was not confirmed', \"10' shark\", \"Bronze whaler shark, 6'\", \"1.5 m [5']  shark\", \"1.5 m [5'] shark\", \"Mako shark, 3 m [10'] \", \"White shark, 3 m [10'] \", \"Carpet shark, 10' \", 'Copper shark, 50-kg [110-b] ', \"8' blue shark\", \"White shark, 5.5 m to 6 m [18' to 20'] \", 'White shark, 4 m to 5 m ', \"Shortfin mako shark, 2.3 m [7.5'] \", \"White shark, 5 m to 6 m [16.5 to 20'] \", \"White shark, 5 m to 6 m [16.5 to 20'] \", 'White shark, 4.5 m ', \"White shark, 5 m [16.5'] \", 'White shark, 5 m ', \"White shark, 5.5 m [18'] \", \"small sharks'\", \"3.7 m [12'] sharks\", \"White shark, 5 m [16.5']\", \"Raggedtooth shark, 1.5 m [5'] \", 'Juvenile dusky shark', \"1.8 m [6'] shark\", 'White shark', '5 m white shark', 'White shark', 'Raggedtooth shark, 1 m ', 'White shark', \"2 m to 2.5 m [6.75'  to 8.25'] shark\", \"Bronze whaler shark, 4' \", \"7' to 8' bull shark\", 'White shark', 'Tiger shark', \"12' shark\", \"1.5 m to 1.8 m [5' to 6']  blacktip shark\", '2 m shark, possibly a dusky or blacktip shark', '1 m shark', \"1.2 m to 1.8 m [4' to 6'] shark observed in area\", 'Tiger shark', 'Grey reef shark', '2 m to 3 m shark', \"White shark, > 3 m [10']\", \"Bronze whaler shark, 10' \", 'Oceanic whitetip shark x 2', \"White shark, 6 m [20'] \", 'Questionable incident', \"2.4 m [8'] shark\", \"White shark, 10'\", 'Questionable incident', \"4.5' shark\", \"White shark, 4.4 m to 5 m [14.5' to 16.5'] \", '1.5 m grey reef shark', 'Thought to involve a tiger shark', \"7' shark\", 'Zambesi shark', \"White shark, 2.5 m [8.25'] \", 'White shark', \"1.8 m [6'] grey reef shark\", \"White shark, 3 m [10']rk\", \"5' to 6' shark\", '1.5 m to 2 m shark', \"White shark, 5 m to 6 m [16.5' to 20']  \", 'White shark', \"Grey nurse shark, 11'\", \"White shark, 5.5 m to 6 m [18' to 20'] \", \"White shark, 3 m [10'], species identity confirmed by witnesses & tooth pattern in leg & board \", '3.6 m  porbeagle shark', '2 m [6\\'9\"] shark', 'White shark according to tooth pattern and witnesses', \"White shark, 4.6 m [15'] \", 'White shark', '1.8 m shark', '1.8 to 2 m C. albimarginatus', '1 m shark', '\"Dog shark\"', 'Shark involvement prior to death was not confirmed', 'Mako shark', \"7.5' shark\", 'Raggedtooth shark, 2 m [6\\'9\"], 5-year-old, captive female ', 'Wobbegong shark ', 'Wobbegong shark', 'Shark involvement prior to death was not confirmed', 'Carpet shark', 'Zambesi shark', 'Zambesi shark', 'Zambesi shark', \"8' blue shark\", 'Blue shark', 'White shark', 'White shark', \">2.4 m [8'] shark\", 'Oceanic whitetip shark', \"White shark, 4.3 m 4.9 m [14' to 16'] \", \"4' shark\", 'Nurse shark', \"White shark, 5 m [16.5'] \", \"2' to 3' shark\", 'Nurse shark', 'Considered a \"Doubtful\" incident', \"Lemon shark, 9' \", 'Mako shark', 'White shark, identified by tooth fragments in surfboard', '7-gill shark', 'Questionable incident', 'Carpet shark', \"10' shark\", 'Questionable incident', \"Grey nurse shark, 10' \", 'White shark', 'White shark', \"2 scalloped hammerhead sharks, 1.5 m & 1.8 m [5' & 6']\", 'Questionable incident', '90-kg \"blackfin\" shark', 'Shark involvement prior to death was not confirmed', \"3 m [10'] bull shark\", 'Shark involvement not confirmed', \"White shark, 4.3 m [14'], (tooth fragment recovered)\", 'a small hammerhead shark', '2 m shark', \"White shark, 4 m [13'] \", \"4m [13'] shark\", 'Not authenticated', \"1.5 m to 2 m [5' to 6.75'] Caribbean reef shark \", 'Blue shark', 'Shark involvement not confirmed', 'Shark involvement not confirmed', \"2.7 m [9'] silky shark\", \"Bronze whaler shark, 1.8 m [6'] \", '\"Blue whaler\" (Galeolamna)', \"1.5 m to 1.8m [5' to 6'] shark\", 'Invalid', \"3' shark\", \"Bronze whaler shark, 3 m [10'] \", 'Questionable incident', 'Questionable incident', \"1.5 m to 1.8 m [5' to 6'] shark\", 'Questionable incident', 'Grey nurse shark', 'Grey nurse shark', 'Shark involvement prior to death was not confirmed', 'small blacktip shark', 'Shark involvement prior to death was not confirmed', '2 m shark', \"3.7 m [12'] shark\", \"5' blue shark\", 'White shark', 'Shark involvement prior to death was not confirmed', 'Nurse shark, 106 cm, 28-lb, male ', \"1.5 m to 1.8 m [5' to 6'] sandbar shark\", '1.8 m shark', 'Questionable incident', 'Nurse shark, 1 m ', \"White shark, 4 to 5 m [13' to 16.5'] \", 'Bronze whaler shark', 'Grey nurse shark', \"White shark, 3 m [10'] \", 'Grey nurse shark', 'Shark involvement prior to death was not confirmed', 'Thought to involve a white shark', \"3.7 m [12'] shark\", 'White shark or thresher shark', \"2.1 m [7'] sandtiger shark\", '\"sand shark\"', \"2.1 m [7'] shark\", \"Grey nurse shark, 1.5 m [5'] \", \"Grey nurse shark, 1.5 m [5']\", \"1.8 m [6'] shark\", \"3.7 m [12'] shark\", \"3.7 m [12'] shark\", \"3.7 m [12'] shark\", \"Bronze whaler shark, 2.1 m [7'], a tooth was embedded in the speargun \", 'Invalid', \"Mako shark, 1.9 m [6.5'] \", \"Nurse shark, 2.5' \", 'Invalid', 'Invalid', 'A pack of 6 sharks', 'A pack of 6 sharks', 'White shark', \"1.5 m to 2.1 m  [5' to 7'] shark\", '\"small shark\"', 'Invalid', 'Spinner or blacktip sharks', 'Lemon shark or sandtiger shark', \"4' shark\", 'Invalid', \"Local authorities speculated that the water was too cold for sharks, but a 2.1 m [7'], 200-lb pregnant sandbar shark was caught next day\", \"1.2 m [4'] hammerhead shark\", 'a small shark', \"1.8 m [6'] shark\", 'Believed white shark and other smaller species of sharks involved.', 'Invalid', \"Alleged to involve a White shark, 7.6 m [25'] \", \"White shark, 2.5 m [8.25'], an immature female, previously injured\", 'Copper shark', \"White shark, 3 m [10'] \", \"Wobbegong shark, 5' \", 'Shark involvement not confirmed', \"1.5 m to 1.8 m [5' to 6'] Zambesi shark\", \"76 cm [2.5'] carpet shark\", '1.8 m to 2 m [6\\' to 6\\'9\"] shark', 'Hammerhead shark', 'Shark involvement not confirmed', \"1.8 m [6'] carpet shark\", 'Grey reef shark', \"15' shark\", \"4.6 m [15'] shark\", 'Shark involvement not confirmed', \"Grey nurse shark, 2.4 m [8'] \", \"1.8 m [6'], 180-lb shark\", \"1.8 m [6'], 180-lb shark\", '2 sharks involved', '\"small shark\"', \"0.9 m [3'] shark\", '300-kg [662-lb] shark', 'Shark involvement not confirmed', 'Lemon shark, 0.5 m', 'Questionable incident', 'Invalid', ' ', 'Bull shark', 'Invalid', \"White shark, 10' to 12' \", 'Tiger shark, tooth fragment recovered', 'Blacktip or spinner shark', 'Shark involvement prior to death was not confirmed', 'Mako shark', \"1.8 m [6'], 136-kg [300-lb] shark \", \"1.2 m [4'] shark\", 'Shark involvement prior to death was not confirmed', \"White shark, 3.7 m [12'] \", \"1.5 m [5'] shark\", \"4.9 m [16'] whaler\", \"Nurse shark, 0.94 m to 1.2 m [3' to 4'] \", 'Small shark with white-tipped dorsal fin', \"1.5 m to 2.1 m [5' to 7'] shark, possibly a mako shark\", 'Questionable incident', 'Raggedtooth shark ', \"4.6 m [15'] shark\", \"2.1 m [7'] shark\", \"White shark, 2.4 m [8'] \", 'White shark, 2.7 m [9\\'1\"], 750-lb ', 'Mako shark', 'Invalid', \"Grey nurse shark, 1.8 m [6']\", 'Shark involvement prior to death was not confirmed', \"1.8 m [6'] shark\", \"1.8 to 2.4 m [6' to 8'] shark\", 'Invalid', \"3' shark\", 'Hammerhead shark', \"Less than 1.2 m [4']\", 'Nurse shark', 'Zambesi shark', 'Invalid', 'white shark', 'Shark involvement prior to death was not confirmed', \"2.1 m [7'] shark\", \"2.4 m [8'] shark\", 'Shark involvement prior to death was not confirmed', 'Lemon shark ', 'Tiger shark', \"1.8 m [6'] shark\", \"1.8 m [6'] shark\", \"1.7 m [5.5'] shark\", '3 m shark', 'Tiger shark, 3.5 m, 250-lb female', \"White shark, 3 m [10'] \", \"White shark, 1.5 m [5'] k\", '\"sand shark\"', \"White shark, 3 m to 3.7 m [10' to 12'] \", 'Shark involvement prior to death was not confirmed', \"1.8 m [6'] shark\", 'Hammerhead shark', 'White shark, 3.6 m [11\\'9\"] ', 'Wobbegong', 'White shark (tooth fragment recovered)', 'Tiger shark', \"2.1 m to 2.4 m  [7' to 8'] shark\", 'Invalid', \"Zambesi shark, 1.8 m [6'] \", \"1.8 m [6']  shark\", \"4.3 m [14'], 1000-lb shark\", 'Invalid', 'Dusky shark, 1 m ', \"Wobbegong shark, 3' \", \"White shark, 1.7 m [5.5']\", '300- to 400-lb Zambesi shark', 'White shark', 'Tiger shark', 'Possibly a broadnose 7-gill shark', 'Tiger shark', \">1.2 m [4'] tiger shark\", 'White shark, 15\\'2\" ', \"Silky shark, 1.9 m [6.5']\", \"6' shark\", 'Dooley believed his Injury was caused by stingray (Dasyatidae family)', '500-lb shark', \"White shark, 4 m [13'] rk\", 'Invalid', \"5.5 m [18'] shark\", \"1.5 m [5'] shark\", \"Nurse shark, 1.2 m [4'] \", '8 sharks', 'Tiger shark', \"1.2 m [4'] shark\", 'White shark, 3 m ', \"1.8 m [6'] shark\", 'Shark involvement not confirmed', 'Grey nurse shark', 'Hand found in gut of 2.9 m to 3.3 m [9\\'7\" to 10\\'11\"] Galapagos shark, C. galapagensis', \"1.8 m to 2.4 m  [6' to 8'] shark\", \"3.7 to 4.5 m [12' to 15'] shark seen in vicinity\", 'Shark involvement prior to death was not confirmed', \"Bronze whaler shark, 3 m [10'] \", \"White shark, 2.1 m [7'] \", 'Shark involvement prior to death was not confirmed', 'Tooth fragments of \\x93whaler\\x94 shark were recovered, a bull shark, according to Edwards', 'Shark involvement prior to death was not confirmed', '193-lb shark', \"Grey nurse shark, 1.8 m [6'] \", '<1.5 m shark', '1 m shark', 'Zambesi shark, 2 m [6\\'9\"] ', \"White shark, 16', 2,312-lb \", 'Zambesi shark', 'Dusky shark, 1 m ', \"White shark, 4.3 m [14'] (or bronze whaler)\", '2 m [6\\'9\"], 87.5-kg [193-lb]  shark', \"3 m [10'] shark\", 'Shark involvement prior to death was not confirmed', \"White shark, 4.3 m to 4.9m [14' to 16']\", \"3 m [10'] blue whaler\", \"2.7 m [9'] shark\", 'Grey nurse shark', 'Shark involvement prior to death was not confirmed', \" Blacktip shark, C. maculipinnis. 1.9 m to 2.1 m [6.5' to 7'] \", 'White shark', \"2.5 m [8.25'] shark\", '\"A long thin brown-colored shark\"', \"Horn shar,k Heterodontus francisci, 1.2 m [4'] \", \"4.3 m [14'] shark\", 'Unknown', \"1.8 m [6'] shark\", 'White shark', '3.5 m shark', \"1.8 m to 2.4 m [6' to 8'] shark\", '2 m [6\\'9\"] shark', 'Blue shark', 'Questionable incident', 'Shark involvement not confirmed', \"2.7 m to 3 m [9' to 10'] sharks\", \"1.8 m [6'] shark\", 'Possibly a bronze whaler shark', \" Sevengill  shark, 1.2 m [4'] \", \"Bronze whaler shark, 3.7 m [12'] \", \"Zambesi shark, 1.2 m [4'] \", \"4.9 m [16']shark\", \"1.8 m [6'] shark \", \"Bronze whaler shark, 4.6 m [15'] \", 'Possibly a bronze whaler shark', \"1.2 m  [4'] shark\", \"1.8 m [6'] shark\", \"3.7 m [12'] shark\", 'White shark, 3 m ', '60 cm  shark ', \"1.5 m [5'] shark\", \"Bronze whaler shark,  3m [10'] \", 'Shark involvement prior to death was not confirmed', 'Said to involve a 4.9 m [16\\'] \"red shark\"', \"White shark, 4 m [13'] \", \" Grey nurse shark,  3 m [10'] \", \"Bronze whaler shark, 2.1 m [7'] shark\", \"Said to involve a Grey nurse shark 3.7 m [12'] \", 'White shark', '36\"  shark', 'White shark', 'Shark involvement prior to death was not confirmed', \"2.7 m [9'] shark\", \"1.8 m [6'] shark\", \"3 m [10'] shark\", \"3 m [10'] shark\", 'Zambesi shark', \"Grey nurse shark, 2.4 m [8'] \", \"2.7 m [9'] shark\", \"Next morning a 3 m [10'] shark was caught that had Andrews' leg in its gut\", \"1.8 m [6'] shark\", 'Shark involvement prior to death was not confirmed', 'Shark involvement prior to death was not confirmed', \"Two shark's teeth recovered from canoe\", 'White shark', 'Oceanic whitetip shar,; identified by Dr. W.C. Schoeder on photograph & Dr. L.P. L. Schultz on sketch by observer', \"1.5 m to 1.8 m  [5' to 6'] shark\", '1 m shark', 'Shark involvement prior to death was not confirmed', \"White shark, 4 m [13'] \", 'White shark', \"Blacktip shark, 1.8 m to 2.1 m [6' to 7'] \", \"2.4 m [8'] shark\", '43\" shark', \"White shark, 5.2 m [17'], 2500-lb \", 'White shark, 4.5 m ', 'Hammerhead shark', \"2.7 m [9']shark\", 'White shark', 'Hammerhead shark, 500-llb ', 'Shark involvement not confirmed', 'Wobbegong shark, 1.4 m [4\\'6\"] ', 'Zambesi shark', '2 m  \"yellow belly\" captive shark. Shark destroyed by aquarium staff next day', \"Tiger shark, 3 m [10']\", \"Wobbegong shark, O. barbatus,  1.8 m [6'], identified by G.P. Whitley\", ' \"gummy\" shark (Rhizoprionodon or Loxodon) 1.2 m [4\\']', 'Zambesi shark', \"Grey nurse shark, 2,7 m [9'], 200-lb \", \"Wobbegong shark, 1.4 m [4.6'] \", \"Bronze whaler shark, 2.4 m [8'] Identified by Clyde Buttery\", \"3 m [10'] shark\", \"White shark, 3.7 m [12'] \", \"Grey reef shark, 1.8 m [6'] grey reef shark, identified by Dr. L.P. L. Schultz based on photographs; identified as C. melanopterus by Stewart\", 'Zambesi shark, 4\\'9\"', '2\\' \"banjo shark\"', \"1.5 m [5'] shark\", \"2.1 m [7'], 90-kg shark\", \"Grey nurse shark, 2.7 m [9'] \", 'Questionable incident', \"4.6 m [15'] shark\", 'White shark', \"Wobbegong shark, 1.5 m [5'] \", 'White shark, based on bite pattern', \"Hammerhead shark, 1.8 m [6'] \", \"Six Zambesi sharks seen to 1.5 m [5'] in length\", 'Shark involvement prior to death was not confirmed', \"1.8 m [6'] shark\", '> 3 m shark', \"3 m [10'] shark\", \"White shark, 3 m [10'], tooth fragment from wounds identified as that of a white shark\", 'Grey nurse shark, 1m ', 'Bull shark, 1m ', \"3' shark\", 'Shark involvement prior to death was not confirmed', \"Wobbegong shark, 1.8 m [6'] \", 'White shark (tooth fragments recovered from hull of boat)', '1.4 m [4\\'6\"] blacktip shark', \"White shark, 3.7 m to 4.6 m [12' to 15'] \", 'Shark involvement not confirmed', 'Questionable incident', 'White shark, 18 mm tooth fragment  recovered from the hull', 'Invalid', \"2.4 m [8'], 600-lb shark\", \"3.7 m [12'] shark\", 'Invalid', 'Invalid', 'Shark involvement prior to death was not confirmed', 'Shark involvement not confirmed', 'Lemon shark, 1164 mm, immature male, identified by  V.G. Springer', '80-lb hooked shark', \"2.4 m [8'] shark\", '\"sand shark\"', \"7' shark\", 'White shark, 15\\'2\" ', '\"A small shark\"', \"Mako shark, 1.8 m to 2.1 m [6' to 7']  with hook & wire leader caught in mouth\", 'Shark involvement prior to death was not confirmed', \"Dusky shark, 2.7 m [9'] dusky shark C. obscurus identified by S. Springer on tooth recovered\", \"White shark, 4 m to 5 m [13' to 16.5'] \", 'Lemon shark, 1.8 m [6\\'] male, N. breviostris, identified by W.A. Stark II, later the same day a 6\\'8\" pregnant female lemon shark bit the bow of the boat', \"White shark, 2.1 m [7']  based on tooth pattern\", \"White shark, 4.9 m [16'] \", \"Bronze whaler shark, 3 m [10'], 200-lb\", 'Raggedtooth shark, 100-lb ', 'Questionable incident', \"White shark, 3.7 m [12'] \", \"Sandtiger shark, 2.1 m [7'] \", \"1.5 m [5'] shark\", \"Bronze whaler shark, 3.7 m [12'] identified by G.P. Whitley based on description\", 'White shark', 'White shark (tooth fragments recovered)', \"1.2 m [4'], possibly  larger shark\", \"1.2 m [4'] shark\", \"Two 2.1 m [7'] sharks\", \"Bronze whaler shark,4 m [13'] \", 'According to Benjamin, the injury was inflicted by a barracuda, not a shark', \"Tiger shark, 3.4 m [11'] captured\", \"Tiger shark, 14' \", 'Grey nurse shark, 2.9 m [9\\'6\"] ', 'Shark involvement prior to deaths was not confirmed', '3.5 m [11\\'6\"] shark captured', 'Blue pointer', 'Bull shark', 'Wobbegong shark', \"4.9 m [16'] shark\", \"3.7 m to 4.6 m [12' to 15'] shark\", 'Shark involvement prior to death was not confirmed', 'Blacktail reef shark', 'Blacktip reef shark', \"2.1 m [7'] shark\", \"3.7 m [12'] tiger shark\", \"2.4 m  [8'] shark\", \"2.7 m [9']  shark\", 'Invalid', \"Mako shark, 4.3 m [14']\", \"3.5 m [11.5'] shark\", '\"a small shark\"', \"3 m to 4.3 m [10' to 14'] shark\", 'Invalid', \"Thresher shark, 3.7 m [12'] \", \"6 m [20'] shark\", \"Blue shark, 1.5 m [5'] \", \"Carpet shark, 1.5 m [5']\", \"White shark, 5 m [16.5'], identified by Dr. W. I. Follett on tooth marks\", \"4.3 m [14'] shark\", \"Tiger shark, 1.8 m [6']\", 'Shark involvement prior to death was not confirmed', 'A hammerhead shark, then 8 to 10 other sharks were said to be  involved', 'Said to involve white shark, but species identify questionable', \"White shark, 3.5 m [11.5'], identified by W. I.  Follett on tooth fragments\", \"6' shark\", 'Questionable incident', 'White shark, based on 2 teeth retrieved from rudder', 'Invalid', 'Questionable incident', 'Shark involvement prior to death was not confirmed', 'Invalid', \"3.7 m [12'] shark\", \"5.5' shark\", \"Hammerhead shark, 9' \", '20 kg shark', \"Blue shark, 3 m [10']\", 'Invalid', 'Shark involvement prior to death was not confirmed', \"White shark, 3 m to 5 m [10' to 15'] \", \"Hammerhead shark, 1.8 m [6'] S. zygena identified by C. Limbaugh on description\", 'Blue shark?', \"Hammerhead shark, 2.4 m [8'] \", \"Hammerhead shark, 3 m [10'] \", \"Blue shark, 1.8 m [6'] \", 'Nurse shark, 60 cm [24\"], identified by Dr. L.P. L. Schultz on photograph', \"Oceanic whitetip shark,1.8 m [6'] \", \"Reported to involve a White shark, 6 m to 7m [20' to 23'] \", 'Shark involvement prior to death was not confirmed', \"White shark, 2.7 m [9'], 280-lb \", \"1.2 m [4'] shark\", \"White shark, 3 m [10']; identifed by Dr. W.I. Follett on tooth marks\", \"Tiger shark, 3.7 m [12']\", 'Questionable incident', \"Tiger shark, 1.8 m [6'] \", \"Tiger shark 4.3 m [14'] \", \"Mako shark, 2.4 m [8'], <300-lb, identified by Dr. L.P. L. Schultz on photograph\", \"3.7 m [12'] shark\", \"1.8 to 2.1 m [6' to 7'] shark\", \"Grey nurse shark, 1.8 m [6']\", \"Bitten by several 1.8 m [6'] sharks\", \"Said to involve 2 sharks: 5.2 m & 6 m [17' & 20'] \", \"1.8 m [6'] shark\", \"White shark, 1.8 m to 2.1 m [6' to 7']  according to Shreuder and a witness\", \"1.4 m [4.5'] shark\", \"1.5 m [5'] shark\", 'White shark?', \"1.5 m to 1.8 m [5' to 6'] sharks\", \"Tiger shark, 12' ?\", 'White shark', \"Tiger shark, 4.6 m to 7.6 m [15' to 25'] \", 'Tiger shark', \"12' shark\", 'Questionable incident', 'White shark', 'Blue shark', '200-lb shark', \"Hammerhead shark, 5.2 m [17'] \", '3 m shark', \"Tiger shark, 1.5 m to 1.8 m [5' to 6'] \", \"Tiger shark, 1.5 m to 1.8 m [5' to 6'] \", \"Sharks averaged 1.8 m [6'] in length\", \"Sharks averaged 1.8 m [6'] in length\", \"Nurse shark, 1.5 m [5']  identified by Dr. E. Clark on description of shark\", 'Tiger shark, <2 m TL', \"Nurse shark, 2.1 m [7']  identified by Dr. E. Clark on color & tooth impressions\", 'Tiger shark?', \"Nurse shark, 1.1 m [3.5'] \", 'Invalid', 'Invalid', \"Nurse shark, 1.5 m [5'] \", 'Mako shark, 100-kg [221-lb] ', \"3 m [10'] shark\", \"3 m [10'] shark\", 'Shark involvement prior to death was not confirmed', \"Nurse shark, 1.5 m [5'] \", \"6' shark\", 'Shark involvement prior to death was not confirmed', 'White shark', '<1 m shark', '18\" to 24\" shark', 'Several sharks involved', 'White shark', \"1.8 m [6'] shark\", \">3 m [10'] shark\", 'Identified as carcharinid shark (based on its behavior) by Dr. D.P. L. Schultz; mako shark according to Huges', \"2.7 m [9'] bull shark, identified by Capt. W. Gray\", 'Said to involve a 1 m  white shark, but thought  that it was more likely a blue shark', 'White shark', \"9' shark\", 'Invalid', \"4.6 m [15'] shark\", 'White shark', 'Wobbegong shark?', \"4 m [13'] shark\", 'Shark seen feeding on turtle scraps thrown overboard prior to incident.', \"1.2 m  [4'] shark\", 'Said to involve a large mako shark', 'Shark involvement prior to death was not confirmed', \"1.5 m [5'] shark\", \"3.7 m [12'] shark\", \"3.7 m [12'] shark \", 'Bull shark', 'Bull shark', 'Bull shark', \"2.4 m [8'] tiger shark caught 40 hours later with shorts of the boy in its gut\", 'Mako shark, 125-lb ', 'White shark, according to witnesses', \"3.7 m [12'] shark\", 'Lemon shark', 'a sand shark', 'Blue shark', 'Tiger shark', 'White shark, 13\\'10\", 1320-lb female ', \"4.3 m [14'] shark\", \"Wobbegong shark, 4' \", \"White shark, 2.7 m [9'] \", 'Porbeagle or white shark', \"2.3 m [7'] shark\", '8-lb shark', 'White shark', \"2.3 m [7'] shark\", 'White shark', \"Said to involve a 7 m [23'] white shark\", \"3.7 m [12'] shark & may have been another shark nearby\", \"1.8 m [6'] shark\", \"5' to 6' shark\", 'White shark', '40-lb sand shark', 'Wobbegong shark', \"6' shark\", 'Survivors said 2 species of sharks were involved:  oceanic whitetip sharks and another species', 'Survivors said 2 species of sharks were involved:  oceanic whitetip sharks and another species,', \"5' thresher or blue shark. The shark  was killed following the incident\", 'White shark', 'Blue shark', '\"a small shark\"', 'Tooth fragments recovered from hull', 'Blue shark', \"0.7 m [2.5'] sand shark\", 'White shark, 6.5 m ', \"2.4 m [8']  shark\", \"2 m [6.75'] shark\", \"6' shark\", \"6' shark\", '\"small brown-colored shark\"', \"Leopard shark, 3' Triakis semifasciata, identified by J.W. DeWitt (1955)\", \"White shark, 5 m to 6 m [16.5' to 20] \", '3.6 m  white shark  (or bronze whaler)', \"4 m [13'] shark x 6\", \"Bronze whaler shark,3.7 m [12'] \", '\"a little shark\"', 'Questionable incident', \"1.5 m [5'] shark\", \"Blacktip reef shark, 1.5 m [5'] \", \"20' shark\", \"White shark, 5.5 m [18']\", 'Shark involvement prior to death was not confirmed', \"1.5 m [5'] shark\", \"9' shark\", 'Nurse shark, 58\", 34-lb ', 'Nurse shark, 58\", 34-lb ', '5m shark', \"Nurse shark, 2.5' \", \"2.4 m [8'] shark, possibly a dusky shark\", 'Shark involvement prior to death was not confirmed', \"2.4 m [8']  shark\", 'Shark involvement prior to death was not confirmed', 'White shark tooth fragment recovered from ankle & identified by Dr. W. I. Follett', \"14' shark\", 'Bull shark suspected due to freshwater habitat', \"Nurse shark, 1.8 m [6'] \", \"a small shark'\", 'Bull shark suspected due to freshwater habitat', 'Bull shark suspected due to freshwater habitat', \"Said to involve a >4 m [13'] shark\", \"3.7 [12'] shark\", '80-lb sand shark', \"Hammerhead shark, 1.5 m [5'] \", 'Invalid', \"3 m [10'] shark seen in vicinity\", \"White shark, 3.7 m [12'], 500 to 500-kg [1,200 lb], identified by W. C. Shroeder based on tooth fragment ebedded in gunwale\", '2 m [6\\'9\"] shark ', \"1.5 m [5'] shark, probable bull shark\", \"1.5 m [5'] shark, probable bull shark\", \"8' shark\", 'Tiger shark', 'Wobbegong shark', 'Wobbegong shark', \"10' to 12' shark\", 'Wobbegong shark', \"2.4 m [8'] shark\", 'Shark involvement prior to death was not confirmed', '200-lb shark', \"White shark,4.6 m [15'] \", \">6.7 m [22']  shark\", 'Shark involvement prior to death was not confirmed', '2m shark', \"Hammerhead shark, 5' \", \"a small shark'\", \"a small shark'\", \"Tiger shark, 1.5 m [5'] \", 'White shark, 2 m to 4 m [6\\'9\" to 13\\'] ', \"Carpet shark, 5' \", '\"A 2\\' (0.6 m) brown shark\"', 'White shark, 15\\'3\", 2,333-lb ', 'a \"small slim brown shark\"', \"Bull shark, 2.7 m [9'] was captured & dragged on the sand where tissue taken from Eggink was found in its gut. Species identification  was made by S. Springer based on 4 photographs of the shark. \", \"8' shark\", '\"Attacked by a number of sharks\"', \"Wobbegong shark, 1.8 m [6'] \", 'Invalid', \"2.4 m [8']  shark\", \"White shark, 1.8 m [6'] \", \"White shark, 2.4 m [8'] \", 'Shark involvement prior to death was not confirmed', 'White shark', 'White shark', \"2.1 m [7'] shark\", \"Wobbegong shark, 4'\", \"5.5 m [18'] shark\", '136-kg [300-lb] shark', \"1.2 m [4'] shark\", 'Shark involvement prior to death was not confirmed', \"Nurse shark, 10' \", \"Wobbegong shark, 6'\", \"2' shark\", 'White shark, 3m, seen in area and hooked 3 days later', \"10' shark\", 'White shark', \"4' shark\", '1,100-lb shark', \"17' white shark\", 'Hammerhead shark', 'Shark involvement prior to death was not confirmed', \"0.7 m [2.5'] shark\", '\"sand shark\"', 'unknown, possibly a white shark', '2.13 m shark', \"1.5 m to 1.8 m [5' to 6'] \\x93spear-eye\\x94 shark \", 'Invalid', 'small carpet shark', \"White shark, 3.7 m [12']  according to witnesses\", 'Shark involvement prior to death was not confirmed', 'White shark, 3.6 m,  420 kg male', 'Possibly a lemon shark', 'Whtietip reef shark', \"Tiger shark, 3.7 m to 4.3 m  [12' to 14']\", 'Alleged to involve a white shark \"with little yellow eyes\"', \"2.7 m [9'] shark with black-tipped pectoral fins\", 'Shark involvement not confirmed', \"Grey nurse shark, 2.6 m [8.5']  \", \"6' shark\", 'Shark involvement prior to death not confirmed', '2 m shark', 'Bonita sharkk, 200-lb', \"Whaler shark, 2.7 m [9'], 350- to 450-lb  identified by G.P. Whitley\", \"3' shark\", '3.3 m [10\\'9\"] shark', 'White shark, 3.6 m [11\\'9\"] ', 'Invalid', 'Shark involvement prior to death not confirmed', 'White shark', \"His hand was found in a 2.4 m [8'] tiger shark caught 1/5/1949\", \"Said to be 6.4 m [21'] shark\", \"Lemon shark, 4'\", 'Shark involvement prior to death not confirmed', '\"grey shark\"', \"3.7 m [12'] shark\", \"6' shark\", 'Nurse shark', 'Grey nurse shark', 'Shark involvement prior to death not confirmed', 'Tiger shark', \"5.5 m [18'] shark\", 'Possibly C. leucas', 'a small shark', 'Most likely, a small shark', 'Questionable', \"Tiger shark, 14' \", '1.5 m, 45-kg shark', \"Blacktip shark, 2 m [6.75'] \", \"5' shark\", '4.5  m [14\\'9\"] shark', '>1.6 m shark', \"7' shark\", \"4.3 m [14'] shark\", 'Possibly C. leucas', \"6 m [20']  shark\", 'White shark, 4.2 m [13\\'9\"] ', 'small shark', \"1.5 m [5'] shark\", 'Thought to involve a Zambesi shark', 'Bull shark', \"9' shark\", 'Tiger shark, 4.5 to 5.5 m [14\\'9\" to 18\\'], 2000-lb  ', 'White shark, according to witnesses', 'Invalid', \"1.8 m [6'] blacktip shark or spinner shark\", \"5' shark\", \"White shark, 2.4 m [8'] \", \"Bull sharks to 1.5 m [5']  in length\", \"2.1 m [7'] shark\", \"14' shark\", 'Shark involvement prior to death unconfirmed', 'White shark, 2 m [6\\'9\"]  (Tooth fragment recovered from victim\\'s shoulder & identified by J.T. Nicholls)', 'Invalid', 'White shark, 3.9 m, 550 kg, male', 'Invalid', 'Blue shark', 'Shark involvement prior to death unconfirmed', '\"small sharks\"', '\"small sharks\"', 'Bull shark', \"1.8 m to 2.4 m [6' to 8'] sharks, most were oceanic whitetip sharks\", 'White shark, 4.5 m  to 6 m [14\\'9\" to 20\\'] according to witnesses', \"Tiger shark, 2.4 m to 3 m [8' to 10'] \", 'Tiger shark & others', 'Porbeagle shark', 'Shark involvement prior to death unconfirmed', 'Invalid', 'Invalid', \"Bull shark, 4 m [13'] \", \"3 m [10'] shark\", \"Said to involve a 6.5 m [21.5'] shark\", \"1.2 m to 1.5 m [4' to 5'] shark\", 'Said to be \\x93leopard sharks\\x94, more probably tiger sharks', 'Reportedly: oceanic whitetip sharks, blue sharks, tiger sharks & bull sharks', 'Tiger shark', 'Tiger shark', 'Shark involvement prior to death unconfirmed', 'Mako shark', '100-lb shark', \"2.1 m [7'] shark\", \"Mako shark (aka bonito shark) 1.2 m [4'] \", \"5.5 m [18'] shark\", \"3 m [10'] shark\", 'White shark, species identity confirmed by tooth pattern', 'Wobbegong shark', 'White shark, 160-kg [353-lb], identity confirmed by tooth pattern', '\"a small shark\"', \"3 m [10'] shark\", \"2.4 m [8'] shark\", ' White shark', 'Questionable incident', 'Questionable incident', 'Questionable incident', \"Questionable incident, said to involve a 6' shark\", \"2.6 m [8.5'] shark landed 2 hours later\", \"Blue pointer, 16'\", 'whaler shark', \"Tiger shark, 4.3 m [14'], 3 tooth fragments retrieved from his wounds\", \"1.5 m [5'] shark\", 'Tiger shark', \"Nurse shark, 2.1 m [7']\", \"18' shark\", '\"a large shark\"', \"7' shark\", \"7' shark\", 'Tiger shark', 'Tiger shark', \"Tiger shark, 6'\", 'Thought to involve bull sharks', \"6' shark\", 'Bull shark', \" Tiger shark, 3'\", 'Questionable incident', '\"grey-colored shark\"', \"12' shark\", 'Tiger shark', 'Tiger shark,  3.6 m [11\\'9\"], 850-kg [1874-lb] female, contained Girvan\\'s remains ', \"2.4 m [8'] shark\", \"2.6 m [8.5'] shark\", 'Basking shark', 'Basking shark', 'Basking shark', \"Tiger shark, 9' to 10' \", 'Invalid', 'Invalid', \"Whaler shark, 4 m [13'] \", \"4' shark\", '2 days later a 600-lb shark was caught 100 yards from the site', 'Shark involvement prior to death was not confirmed', 'Shark involvement prior to death was not confirmed', 'White shark', '3\\' \"blue nosed\" shark', 'Shark involvement prior to death was not confirmed', \"Grey nurse shark, 8'\", \"6 m [20']  shark\", \"3 m [10'] shark\", \"Thought to involve a 12' white shark\", \"0.9 m [3']  shark\", 'Large tiger shark seen in the vicinity the following morning', \"Shovelnose shark, 6 m [20'] \", 'White shark (identified by Dr. Hugh Smith) ', \"Blue shark, 8' [2.4 m], 500-lb \", \"Tiger shark, 2.4 m [8']\", \"Tiger shark, 4.6 m [15'] \", '650-lb shark', \"10' shark\", 'White shark', 'White shark', 'Shark involvement prior to death was not confirmed', \"2.3 m [7'] shark\", \"4.3 m [14'] shark\", \"3.7 m [12'] shark\", 'Invalid', 'Invalid', 'Invalid', \"4.6 m [15'] shark\", 'White shark, 246-kg ', \"1.8 m [6'] shark\", 'Invalid', \"Tiger shark 3 m  [10'] \", '\"Blue nose shark\"', \"White shark, 4 m [13'] \", \"White shark, 3.5 m to 4 m [11.5' to 13'] \", \"Tiger shark, 12' \", '2 sharks', 'Shark involvement prior to death unconfirmed', 'Invalid', \"Tiger shark, 1.5 m [5'] \", \"1.5 m [5'] shark\", \"White shark, 4 m [13'] \", 'Invalid', 'White shark', \"Blue pointer, 11' \", 'A 6.5\\' \"blue-nosed shark\"', \"4.3 m [14'] shark seen in vicinity\", \"4 m [13'] shark seen in vicinity\", \"Mako shark, 3.7 m [12'] identified by tooth fragments by G.P. Whitley\", \"3.4 m [11']  tiger shark & a 5' shark\", \"4.3 m [14'] shark seen in area previous week\", \"Tiger shark, 3.4 m [11'] \", 'Tiger shark', '3 sharks', 'Blue shark, 4.5 m [14\\'9\"]', 'Tiger shark', \"Thought to involve a 2.4 m [8'] lemon shark; two 2.4 m lemon sharks caught within 100 yds of the site a week prior to & a week after this incident\", 'Invalid', \"7' to 8' shark\", 'Possibly a bull shark or tiger shark', \"10' shark\", \"4.4 m [14'] shark\", 'Blue shark', 'Thought to involve a mako or grey nurse shark', \"16' 800-lb shark\", 'Shark involvement prior to death unconfirmed', \"Teeth in hull identified as those from a white shark 4.6 m [15'] in length\", '250-lb \"dog shark\"', 'A small shark', 'Grey nurse shark', \"Raggedtooth shark, 1.2 m to 1.5 m [4' to 5'] \", \"4 m [13'] shark\", \"Hammerhead shark, 2.4 m [8'], according to lifeguard Sam Barrows\", 'Shark involvement prior to death unconfirmed', 'Shark involvement prior to death unconfirmed', 'small sharks', \"Tiger shark, 3 m [10']\", \"6' shark\", '\"a school of sharks\"', '1.8 m [6\\'] \"cocktail shark', 'Shark involvement prior to death unconfirmed', \"1.5 m [5'] shark\", \"7 shark's teeth found embedded in the woodwork of the boat\", 'Tiger shark', 'Shark involvement prior to death unconfirmed', 'Shark involvement prior to death unconfirmed', \"White shark 4.9 m [16'] \", 'White shark, 4.5 m [14\\'9\"], identity confirmed by witness & tooth pattern', 'Tiger shark', '\"a small shark\"', 'Shark involvement prior to death unconfirmed', '9-foot shark', \"Grey nurse shark, 4' \", '\"a dog shark\"', '\"a dog shark\"', \"Blue pointer, 12'\", 'Galapagos shark', \"12' shark\", 'Invalid', '\"a dog shark\"', \"9' shark\", '\"Blue nose sharks\"', \"Moreno\\x92s leg  & part of his swim suit found in 9' shark caught two hours after the attack. Identified as carcharhinid shark by L. Schultz & C. Limbaugh on photograph\", \"7' shark\", 'Species unknown, possibly a white shark', 'Shark involvement not confirmed', 'Tiger shark', \"4' shark\", 'Shark involvement not confirmed', 'Shark involvement not confirmed', \"1.2 m [4'] shark\", \"White shark, 4.4 m [14.5'] . \", 'Grey nurse shark?', 'Mako shark', \"Raggedtooth shark, 1.5 m [5'] \", \"3.7 m [12'] shark\", \"Grey nurse shark, 4'\", \"Said to involve 6 to 7 m [20' to 23'] white shark\", '\"whiptail shark\" (thresher shark?)', \"1.5 m [5'] white shark or sevengill shark\", 'Questionable, 2m shark suspected', \"White shark, 3.8 m [12.5']  \", \"According to Carlsmith, the shark's mouth was 3' wide\", \"White shark, 3.7 m [12']  \", '\"a blue shark\"', \"Tiger shark, 4 m [13'] female\", 'Shark involvement prior to death unconfirmed', 'Said to be a \\x93small shark\\x94', \"2.1 m [7'] shark\", '1.8 m shark', \"10' shark\", \"Mako shark, 1.9 m [6.5']. Tooth fragment recovered & identified by J.T. Nichols.\", \"12' shark\", 'Questionable', '3.5 m shark', 'Shark involvement prior to death unconfirmed', \"3 m [10'] shark\", 'Shark involvement suspected but not confirmed', 'Shark involvement prior to death unconfirmed', '\"a very large shark\"', 'Shark involvement prior to death was not confirmed', \"Atkins' remains were recovered from a dusky shark, C. obscurus, by Capt. W. F. Young, shark fisherman\", '2.7 m [9\\'] \"blue\" shark', 'Shark involvement prior to death unconfirmed', '\"A pack of 6 sharks\"', \"1.8 m [6'] shark\", \"6' shark\", \"White shark, 12', identity confirmed by tooth fragment, witness and photograph of captured shark \", \"2.7 m [9'] shark later captured by Mitchell-Hedges\", \"White shark, 2.4 m [8'] \", 'Shark involvement prior to death unconfirmed', 'White shark', 'Grey nurse shark?', \"Blue shark, 4' \", 'Questionable', \"4' to 5' shark\", \"Comrades saw shark's tail appear about 5' away\", '15* to 24\" dog shark', 'Questionable', \"15'\", \"3.7 m [12'], 1200-lb shark. Shark caught & its jaw exhibited at the Carnegie Museum\", 'Shark involvement prior to death unconfirmed', \"3.7 m to 4.3 m [12' to 14']  shark\", \"12' shark\", \"13' shark\", \"Tiger sharks, 2.4 m to 4.9 m [8' to 16'] \", \"12' shark\", \"12' shark\", \"Said to involve a 2.7 m [9'] shark\", \"3 m [10'] shark\", \"Thought to involve a 2.6 m [8.5'] white shark\", \"Thought to involve a 2.6 m [8.5'] white shark\", 'Shark involvement prior to death unconfirmed', \"3 m [10'] shark\", 'Shark involvement prior to death unconfirmed', \"Reported to involve a 3.7 m [12'] shark, possibly a white shark\", 'A 20\\' shark known as \"Old Tom\"', \"1.5 m [5'] shark\", '6 m shark', \"3' shark\", 'Shark involvement prior to death unconfirmed', 'said to involve a tiger shark', \"13' shark\", \"Said to involve a 2.4 m [8'] hammerhead shark\", '2 m shark', 'Shark involvement prior to death unconfirmed', 'Shark involvement prior to death unconfirmed', 'Shark involvement prior to death unconfirmed', 'Tiger shark ', \"8' shark\", 'Shark involvement prior to death unconfirmed', '2.8 m [9\\'3\"] whaler shark captured 3 days later with his remains in its gut', 'C. macrurus captured 48 hours after attack with tissue removed from man in its gut; species identified by G.P. Whitley,  reported as C. obscurus by  R. Steel', 'White shark', 'Shark involvement prior to death unconfirmed', \"5' shark\", 'Questionable', 'Angel shark', \"Said to involve  9' blue shark\", 'Shark involvement prior to death unconfirmed', \"6' shark\", 'Invalid', \"5.5' to 6' shark\", 'Shark involvement prior to death unconfirmed', \"6 m [20'] shark\", \"7' shark\", \"5' shark\", '18-foot shark', 'Questionable', 'Questionable', 'Shark involvement prior to death was not confirmed', 'Remains recovered from 3 sharks', 'Questionable', 'Species unknown, possible white shark', 'Allegedly a 33-foot shark', 'Questionable', 'Bull shark', 'Shark involvement probable', 'Shark involvement probable', 'Invalid', 'Questionable', 'Questionable', \"1.5 m [5'] shark\", 'White shark, 6 m ', 'Shortfin mako shark, 175-lb ', 'Remains recovered 5 days later', 'Fishermen recovered partial remains from shark a week later', 'Questionable', \"13' shark\", 'Questionable', 'Questionable', \"1.8 m to 2.7 m [6' to 9'] shark\", \"2.4 m [8'] shark\", 'Shark involvement not confirmed', 'Tiger shark, 3.9 m', 'Shark involvement prior to death was not confirmed', \"5' shark\", 'Questionable', 'Questionable', 'Invalid', \"20' shark\", 'Questionable', \"9' shark\", 'Bull shark', 'Questionable', 'Questionable', '2 m shark', 'White shark', 'Questionable', 'Questionable', 'Questionable', ' ', 'Questionable', \"20' shark\", 'Basking shark', \"3 m [10'] shark\", '70 kg shark', 'Shark involvement not confirmed', 'Shark involvement not confirmed', 'Questionable', \"1.5 m [5'] shark\", 'Questionable', 'Questionable', 'White shark', 'Questionable', '3 sharks', '13\\'10\" shark', \"12' to 14' shark\", 'Questionable', \"5' shark\", \"12' shark\", \"10' to 12' shark\", \"Shovelnose shark, 5'\", '1.8 m shark', \"20' shark\", 'Invalid', 'Shark involvement prior to death unconfirmed', 'Invalid', \"16' shark\", \"12' shark\", 'Shark involvement prior to death unconfirmed', 'Shark involvement prior to death unconfirmed', '5\\'7\" shark', 'Invalid', \"Sevengill shark, 14', was caught in the vicinity\", 'Shark involvement prior to death unconfirmed', 'Shark involvement prior to death unconfirmed', \"18' shark\", '5m, 3500 kg female shark', 'Shark involvement prior to death unconfirmed', 'Shark involvement prior to death unconfirmed', 'Shark involvement prior to death unconfirmed', 'Unknown, but the shark was caught and put on exhibition', \"12' to 14' shark\", 'Shark involvement prior to death unconfirmed', \"13' shark\", \"4.7 m [15.5'] shark\", 'Shark was said to \\x93have a very rough ½\\x94-thick skin\\x94', \"3 m [10'] sharks\", 'Shark involvement prior to death unconfirmed', 'Shark involvement prior to death unconfirmed', 'Questionable', 'Shark involvement prior to death unconfirmed', \"15' shark\", \"3 m [10'] shark\", \"14' shark\", \"10' shark\", 'Questionable', 'Said to involve 2 sharks', \"7' shark\", \"14' shark\", 'Shark involvement prior to death unconfirmed', 'a school of sharks', \"4' to 5' shark\", 'Shark involvement prior to death unconfirmed', 'Shark involvement prior to death unconfirmed', 'White sharks', 'Bull shark', \"10' shark\", 'Shark involvement prior to death unconfirmed', \"12' shark\", 'Shark involvement prior to death unconfirmed', 'Invalid', '3 sharks', '2.5 m shark', 'Shark involvement prior to death unconfirmed', 'Tiger shark', ' a small shark', \"15' shark\", \"8' shark\", \"13' shark\", 'Shark involvement prior to death unconfirmed', '7-gill shark', \"6' shark\", 'Shark involvement prior to death unconfirmed', 'Blue or porbeagle shark', 'Invalid', 'Shark involvement questionable', \"10' shark\", '68\" shark', 'White shark', 'Shark involvement prior to death unconfirmed', 'Hammerhead shark', 'Invalid', 'Shark involvement prior to death unconfirmed', 'Shark involvement prior to death unconfirmed', 'Wobbegongs', \"Tiger shark, 7'\", 'Shark involvement prior to death unconfirmed', 'White shark', 'Identified as C. gangeticus by Dr. J. Fayrer', '\"Shark caught later\"', 'Shark involvement prior to death unconfirmed', '1.5 m shark', \"3' shark\", 'Shark involvement prior to death unconfirmed', '2 sharks', 'Shark involvement prior to death unconfirmed', 'Questionable incident', 'Shark involvement prior to death unconfirmed', \"16' shark\", \"16' shark\", '4\\' \"ground shark\"', 'Remains recovered from shark caught days later', 'Shark involvement prior to deaths unconfirmed', 'Shark involvement prior to death unconfirmed', 'Invalid', 'White shark', 'Tiger shark (pregnant)', '234-lb shark', 'White shark', 'Shark involvement prior to death unconfirmed', 'Shark involvement prior to death unconfirmed', 'Invalid', 'White sharks', \"Said to involve a 6 m to 7.3 m [20' to 24'] shark\", \"18' shark\", 'Shark involvement prior to death unconfirmed', 'Shark involvement prior to death unconfirmed', 'Shark involvement prior to death unconfirmed', \"Said to be a 7.6 m [25'] shark\", '\"a large shark\"', 'Shark involvement prior to death unconfirmed', 'Shark involvement prior to death unconfirmed', 'Reported to involve a hammerhead shark', 'Invalid', 'Shark involvement prior to death unconfirmed', 'Invalid', 'Shark involvement prior to death unconfirmed', 'Thought to involve a porbeagle or mako shark', 'Shark involvement prior to death unconfirmed', \"12' shark\", 'Tiger shark?', 'White sharks', 'Description of shark does not ring true', '\"The fish was harpooned, dried, and presented to the sailor, who went round Europe exhibiting it  It was said to be 20 feet long.', 'Shark involvement prior to death unconfirmed', 'White shark, 1600-lb female ', 'White shark', 'Questionable', 'Possibly white sharks', \" Galapagos shark, 6'\", 'Basking shark', \"Blacktip shark, 5'\", 'said to involve 2.5 m hammerhead sharks', 'Whale shark', 'Tiger shark', 'Tiger shark', \"1.8 m [6'] shark\", 'Silvertip shark', 'A large hammerhead shark', 'Bull shark', \"Nurse shark, 2.1 m [7'] \", 'Questionable', 'Shovelnose guitarfish, adult male ', 'Invalid', \"0.9 m [3'] shark\", \"1.8 m [6'] shark\", '\"A pack of sharks\"', 'Tiger shark', 'Bull shark', 'Bull shark', \"White shark, 7' to 8'\", 'White shark, 1,900-lb ', \"Nurse shark, 2.1 m [7']\", \"Bull shark caught, leg recovered & buried beside the man's body\", \"1.2 m [4'] shark\", 'Bull shark', '\"a black-tipped shark\"', \"6' shark\", 'White shark', \"12' tiger shark\", 'Blue pointer', 'Blue pointer', 'Blue pointers', 'Said to involve a grey nurse shark that leapt out of the water and  seized the boy but species identification is questionable']\n"
     ]
    }
   ],
   "source": [
    "Species_values= []\n",
    "for i in df3['species'].values:\n",
    "    Species_values.append(i)\n",
    "print(Species_values)"
   ]
  },
  {
   "cell_type": "code",
   "execution_count": 24,
   "id": "cff542dc",
   "metadata": {},
   "outputs": [
    {
     "data": {
      "text/plain": [
       "3464"
      ]
     },
     "execution_count": 24,
     "metadata": {},
     "output_type": "execute_result"
    }
   ],
   "source": [
    "len(Species_values)"
   ]
  },
  {
   "cell_type": "code",
   "execution_count": 25,
   "id": "2df77785",
   "metadata": {},
   "outputs": [],
   "source": [
    "import re"
   ]
  },
  {
   "cell_type": "code",
   "execution_count": 26,
   "id": "fe907e9d",
   "metadata": {},
   "outputs": [],
   "source": [
    "#df3['species2'] = df3['species'].apply(lambda x: re.sub(r'\\d+|[^\\w]*shark[^\\w]*', '', x, flags=re.IGNORECASE))\n"
   ]
  },
  {
   "cell_type": "code",
   "execution_count": 27,
   "id": "5f15b511",
   "metadata": {},
   "outputs": [
    {
     "name": "stderr",
     "output_type": "stream",
     "text": [
      "C:\\Users\\pagob\\AppData\\Local\\Temp\\ipykernel_10164\\3331092607.py:2: SettingWithCopyWarning: \n",
      "A value is trying to be set on a copy of a slice from a DataFrame.\n",
      "Try using .loc[row_indexer,col_indexer] = value instead\n",
      "\n",
      "See the caveats in the documentation: https://pandas.pydata.org/pandas-docs/stable/user_guide/indexing.html#returning-a-view-versus-a-copy\n",
      "  df3['species2'] = df3['species'].apply((lambda x: re.sub(r'\\W+', ' ', x)))\n"
     ]
    }
   ],
   "source": [
    "#deletting anything that's not a letter\n",
    "df3['species2'] = df3['species'].apply((lambda x: re.sub(r'\\W+', ' ', x)))"
   ]
  },
  {
   "cell_type": "code",
   "execution_count": 28,
   "id": "05be2067",
   "metadata": {},
   "outputs": [
    {
     "name": "stdout",
     "output_type": "stream",
     "text": [
      "['White shark', '2 m shark', 'Tiger shark 3m', 'Tiger shark', 'Lemon shark 3 ', 'Bull shark 6 ', 'Grey reef shark', 'Invalid incident', 'Tawny nurse shark 2m', 'Shark involvement not confirmed', 'Tiger shark', 'Questionable', '3 m shark', 'White shark 3 5 m', 'Tiger shark', 'White shark 2 5 m', '6 shark', 'Juvenile bull shark', 'Tiger shark', 'Shark involvement not confirmed', '2 m shark', 'Bull shark', 'White shark', 'Tiger shark 12 ', 'Wobbegong shark', '3 5 m shark', '1 8 m shark', 'Blacktip shark', 'Juvenile white shark 2 7 to 3 2 m', 'Bull shark 2 m', 'Possibly a wobbegong', 'Injury believed caused by an eel not a shark', 'Galapagos shark ', '2m shark', 'Bull shark', 'Bull shark 3 m ', 'Grey reef shark 2 m', 'White shark 3 5 m', 'small shark', 'Wobbegong shark ', 'Tiger shark', 'Juvenile nurse shark', 'Nurse shark 5 ', 'Tiger shark female', 'Tiger shark female', 'Some drowned but other may have been killed by blue sharks', 'White shark 4 6 m', '2 m shark', 'Tiger shark', 'Cookiecutter shark', 'Wobbegong shark 1 m', 'White shark 4 5 m', '2 m shark', 'Spinner shark 4 to 5 feet', 'Tiger shark 8 to 10 feet', '8 shark', 'Death may have been due to drowning', '5 shark', 'White shark 3 5 m', 'Questionable', '4 to 5 shark', 'Porbeagle 1 5 m', 'White shark 3 5m', '5 to 6 shark', 'White shark 3 to 3 5m ', 'Nurse shark', 'White shark 3 m', 'Shark involvement questionable', 'White shark 5 to 7 ', '5 shark', 'Possibly a juvenile blacktip shark', 'Oceanic whitetip shark 1 8 to 2 m', '4 shark', 'White shark 10 ', 'A small shark', 'Sandtiger shark 2 ', 'Blue shark 6 ', ' A small shark ', 'Shark involvement not confirmed', 'White shark 11 to 13 ', 'White shark 8 to 10 ', 'White shark 9 ', 'White shark', 'Bull shark 4 to 5 ', 'Tiger shark 100 kg', 'White shark 2 5 m', 'Shark involvement prior to death not confirmed', 'No shark invovlement ', 'Bull shark 4 to 5 ', 'Bull shark 2m', 'White shark 4 m', 'Seven gill shark', '3m shark probably a smooth hound', '8 shark', 'Tiger shark', '3 shark', 'Tiger shark', '9 shark', 'Shark involvement highly doubtful', 'No shark invovlement it ws a publicity stunt', 'Shark involvement not confirmed', 'White shark', 'Tiger shark 12 ', 'Shark involvement prior to death not confirmed', 'Bull shark 5 to 7 ', 'White shark', '10 shark', 'Lemon shark', 'Bull shark 1 5', 'Lemon shark pup', 'Tiger shark', 'White shark female 14 ', 'Caribbean reef shark', 'Bull shark 4 m', 'Bull shark 1 m', 'Bull shark', 'Shark involvement not confirmed', 'a small shark', 'White shark 4 m', 'Shark involvement not confirmed', 'Wobbegong shark 2m', 'White shark', 'Broadnose sevengill shark 1 5 m', 'Tiger shark', ' 6 to 8 shark', 'White shark', 'White shark 3 5 m', '2 m shark', '3 to 4 shark', 'Tiger shark 10 ', 'White shark 8 to 10 ', 'Invalid', 'Bull shark 6 ', 'Bull shark 3 5 m', 'Tiger shark 10 ', 'Blacktip shark', 'Blue shark', 'White shark', 'Nurse shark 4 ', 'Bull shark 6 ', 'reef shark 1m', 'Tiger shark 10 ', 'White shark 10 to 12 ', 'Lemon shark 9 ', 'Angel shark', 'White shark', 'dogfish shark', 'White shark', 'Tawny nurse shark', '3 to 4 shark', 'Caribbean reef shark 4 5 ', 'White shark', '3 to 5 shark', '3 to 4 shark', '5 shark', '3 to 4 shark', '3 shark', 'Said to involve an 8 shark but more likely damage caused by debris', '3 m shark', 'Mako shark', 'Bronze whaler sharks x 3', '3 m shark', 'White shark', '5 shark', 'Bull shark 4 to 5 ', 'Blacktip shark 4 ', 'Nurse shark 2 ', 'Mako shark 1 5 m 5 ', 'Bull shark 6 ', 'White shark', 'Wobbegong shark', 'Grey reef shark 2 m', 'Grey reef shark 2 m', 'Bull shark 7 ', 'Tiger shark 2 5 m', 'Shark involvement not confirmed', '5 to 6 shark', 'Shark involvement not confirmed', 'Nurse shark 2 5 ft', 'Shark involvement not confirmed', 'Bronze whaler', 'Sandtiger shark', 'No shark involvement', 'No shark involvement', 'Sandtiger shark', 'Reef shark 5 ', 'Bull sharks x 2', 'Mako shark', 'Tiger shark 14 ', 'Wobbegong shark', 'Blacktip shark', '3 m shark', 'White shark 3 m', 'Silky shark 6 5 ', '9 shark', 'Bronze whaler shark 6 ', 'Tiger shark 1 5 m ', 'White shark 3 5 m', 'Bull shark', 'Galapagos shark', 'Spinner shark 7 ', 'Bull shark 2 8 to 3 1 m', 'Shark involvement not confirmed', '3 to 5 shark', 'White shark 3 to 3 5m ', '5 shark', 'Spinner shark 5 ', 'No shark involvement', 'Tiger shark 7 ', 'Hammerhead sp ', 'Tiger shark 13 ', '4 to 5 shark', 'Blacktip shark 4 to 5 ', 'Blacktip shark 5 to 6 ', 'White shark 19 ', 'juvenile shark', 'Tiger shark 13 ', '4 shark', 'Hammerhead shark', '6 shark', 'White shark 11 to 12 ', 'Hammerhead shark ', 'White shark 2 5 m', '4 shark ', 'small shark', 'Tiger shark', 'White shark 11 to 12 ', 'White shark 10 to 12 ', 'Shark involvement not confirmed', '4 shark', '3 shark', 'White shark 13 ', 'Shark involvement not confirmed', 'Hammerhead shark 6 to 7 ', 'White shark', 'Blacktip or spinner shark 4 ', 'Thought to involve a 3 to 4 shark but shark involvement not confirmed', 'White shark 3 9 to 4 2 m', 'Mako shark 100 lb', 'Bronze whaler shark 1 5m', 'Bull shark 2m', 'White shark', 'White shark 7 ', 'Shark involvement not cofirmed', 'No shark involvement', '6 shark', 'White shark', 'White shark', '6 to 7 shark', '4 to 5 shark', 'Bull shark', 'White shark', 'Shark involvement not confirmed', 'White shark 2m to 3 m', '4 shark', 'Wobbegong shark', 'Sandtiger shark', 'White shark', 'small shark', 'Bull shark', 'Bull shark', 'Mako shark', '4 shark', 'Bull shark 5 ', 'small nurse shark', 'Bull shark 2 5 m', '1m to 1 2 m shark', '5 shark', '6 shark', 'Bull shark 3 5 m', 'White shark', 'White shark 3 5 m', '3 to 4 foot shark', 'White shark 6 m', 'White shark 3 m', 'Blue shark 8 to 9 feet', 'Bull shark', 'Bull shark', 'Shark involvement not cofirmed', 'No shark involvement', 'White shark 4 m', 'Mako shark', 'Tiger shark 8 to 12 feet', 'Blacktip shark', 'Blacktip Reef shark ', 'White shark', 'Tiger shark 3 5 m', '3 5 to 4 m shark', '2 m to 3 m shark', '1 8 m shark', 'Bull shark 1 3 m', '4 shark', 'White shark', 'Shark involvement not confirmed', '5 m shark', '1 5 m shark', 'No shark involvement', 'White shark or oceanic whitetip shark', 'Raggedtooth shark 1 3 m', ' A small shark ', '2 m shark', 'White shark 4 to 5 m', 'Shark involvement prior to death still to be determined', 'Shark involvement not confirmed highly unlikely', 'White shark 8 to 10 ', '1 5 m shark', 'Goblin shark', 'Tiger shark', 'White shark', 'White shark', '2 shark', '1 5 m shark', 'Tiger shark 12 ', 'Tiger shark', '12 to 14 shark', '1 m shark', 'Bull shark 3 to 4 ', 'Blacktip shark', 'Blacktip shark', 'White shark 18 to 20 ', 'White shark', '8 to 10 shark', '2 white shark 13 9 8 ', 'Blacktip shark', 'No shark involvement', '7 shark', 'Bull shark', 'White shark 12 to 14 ', '3 to 4 shark', 'Spinner shark', 'Spinner shark or blacktip shark', 'Shark involvement not confirmed', 'small shark', '4 to 6 shark', 'Bull shark 4 5 ', '4 shark', 'reef shark', ' Bull shark 8 ', 'Bull shark 9 to 10 ', ' Bull shark 5 ', '4 tp 5 shark', 'White shark', 'Shark involvement not confirmed', 'Possibly juvenile tiger shark', '1 8 metre shark', 'Angel shark', '6 to 8 shark', '4 shark', 'Shark involvement not confirmed', ' White shark 7 ', '4 to 5 shark', 'Oceanic whitetip shark ', 'Caribbean reef shark 7 to 8 ', ' Lemon shark 3 5 m', ' Sandbar shark 3 to 4 ', 'Bronze whaler shark 1 5m', 'Bull shark', 'Blacktip Reef shark ', ' Bull shark 1 2m ', '3m shark', ' Tawney nurse shark 1m', ' white shark 15 ', 'Shark involvement not confirmed', 'No shark involvement', '4 to 5 shark', 'Cow shark', '3 shark', 'reef shark ', 'White shark', ' Raggedtooth shark 2m', '3 m to 4 m white shark', 'Shark involvement prior to death not confirmed', '2 m shark', '4 to 5 shark', 'No shark involvement', 'Wobbegong shark', 'Invalid', 'Blacktip or spinner shark ', 'Blacktip reef shark ', '7 gill shark ', '1m shark', '7 gill shark', 'Oceanic whitetip shark', 'White shark 6 m', 'Reported to involve a bull shark', 'White shark 3m ', 'Tiger shark 10 to 12 ', '4 to 6 shark', ' Wobbegong shark 1 6 to 1 8m ', 'Tiger shark 3m ', 'Thought to involve a white shark', 'White shark 10 ', 'Reported to involve a white shark', 'Tiger shark', 'Blacktip reef shark 1m', 'Thought to involve a bull shark', 'Reported to involve a 4 m white shark', 'Wobbegong shark', 'Whitetip reef shark 4 to 6 ', 'Tiger shark', 'Nurse shark ', 'White shark', 'White shark', 'White shark 8 to 10 ', 'Small bull shark', 'Bull shark', '3 shark', '3 shark', '3 shark', 'Nurse shark', '4 shark', 'Blacktip shark', 'Salmon shark', 'No shark involvement', 'Mako shark 5 ', 'White shark', 'Tiger shark ', 'Bull shark 8 ', 'Blacktip shark', 'Bull shark 6 to 8 ', '6 shark', 'Tiger shark 8 to 10 ', 'Nurse shark', 'Shark involvement not confirmed', 'Shark involvement prior to death not confirmed', 'White shark', 'Possibly a Bull shark 3 ', '4 to 5 shark', 'Tiger shark 14 ', '4 to 5 shark', 'Lemon shark 4 ', '6 shark', 'Galapagos shark', 'Galapagos shark', 'Invalid', 'Bull shark', 'a small shark', 'Wobbegong 2m', 'Tiger shark', 'Grey nurse shark 3m', '3 shark', 'Blue shark', 'Bull shark', 'Possibly a blacktip reef shark', 'shark involvement not confirmed', '4 shark', 'No shark involvement', 'Nurse shark', 'Raggedtooth shark 1 5 m', 'Tiger shark 4 8 m', 'Bronze whaler shark 2 5m', ' small sharks ', 'White shark 4m', 'reef shark ', 'reef shark ', 'Blacktip shark 4 to 5 ', 'Lemon shark', 'White shark 5m', 'Tiger shark 15 ', 'Bronze whaler shark 3m', '2 5 m shark', 'Bull shark 2m ', 'Tiger shark', 'Tiger shark 6 ', '10 shark', 'Sandtiger shark', 'Seven gill shark', 'Tiger shark 10 ', 'No shark involvement', '2 5 m shark', '2 to 3 shark', 'Tiger shark 15 ', 'Tiger shark 8 ', 'White shark', 'Tiger shark 10 to 12 ', 'White shark 15 to 16 ', '6 to 8 shark', 'Shark involvement not confirmed', '2m shark', '5 shark', '4 shark', 'Possibly a 3 m bull shark', '3 5 to 4 shark', 'Tiger shark 10 to 12 ', '3 5 to 4 shark', 'Porbeagle shark 7 ', '4 5 m shark', 'Lemon shark 4 to 5 ', 'Bull shark', 'Lemon shark 2 5m to 3m ', 'White shark or bronze whaler', 'Thought to involve a white shark', 'Shark involvement not confirmed', 'Salmon shark suspected but unlikely', 'White shark 5m', '14 to 18 shark', '15 shark', 'No shark involvement', 'possibly a bull shark', 'a small reef shark', '3 m shark', 'No shark involvement', 'Nurse shark', 'small blacktip shark ', 'Shark involvement not confirmed', 'small blacktip shark ', 'Blacktip shark ', '1 5 m shark', 'Blue shark 2 5m', 'White shark 2 m', '18 to 24 shark', 'Bull shark 3m', '4 to 5 shark', 'Tiger shark 8 to 9 ', 'White shark', 'White shark', '5 shark', 'White shark 4 m to 5m ', 'White shark 6m ', 'Tiger shark 10 ', 'a small shark', 'White shark 4m ', 'White shark', 'Possibly a bull shark', 'Possibly a 5 to 6 bull shark', '4 to 5 shark', '4 to 5 shark', 'Tawny nurse shark 40cm', '4 shark', 'Spinner shark', 'Grey nurse shark', 'White shark 7m', '6 to 8 shark', 'Tiger shark 3m', 'Tiger shark', 'Blue shark 70 kg blue shark', 'White shark 2 7 m', 'Thought to involve a bull shark', 'White shark', '2 m shark', 'Allegedly a 4 m tiger shark', 'Shark involvement not confirmed', '7 to 8 shark ', 'White shark 2 5m', 'Shark involvement not confirmed', 'Wobbegong shark', 'Shark involvement not confirmed', 'Wobbegong shark ', 'White shark 15 to 16 ', 'White shark', '8 to 10 shark', 'Raggedtooth shark', 'White shark 10 ', 'White shark 15 ', 'Port Jackson shark 1m', '3 shark', '10 to 12 shark', '2 to 2 5 m shark', 'No shark involvement', 'White shark', 'Bull shark 6 ', '4 to 6 shark', 'Tiger shark 2m', 'White shark', '6 shark possibly a blactip or spinner shark', '6 shark', 'Shark involvement prior to death not confirmed', 'White shark 6 ', 'Possibly a 5 to 6 sandtiger shark', 'Shark involvement not confirmed', '4 m shark', 'Grey reef shark ', 'Bull shark 6 ', 'Shark involvement not confirmed', 'Shark involvement prior to death not confirmed', 'White shark 3m to 4m', 'Bull shark 3m female', 'Bull shark 6 ', 'White shark 5 k', '5 shark', 'Oceanic whitetip shark 7 ', 'Blacktip shark 4 ', 'Sevengill shark 6 to 8 ', '3 to 4 shark', 'Blacktip reef shark ', 'White shark', 'Tiger shark 10 ', 'Tiger shark', 'Zambesi shark', ' Tiger shark 2 8m', 'Sandbar shark 8 ', 'Invalid', 'Bull shark 12 ', 'reef shark 1 5m', '1 to 2 shark', 'possibly a bronze whaler shark', ' Bull shark 2 5 m', 'Blacktip shark pup', 'Bull shark', 'Bull shark 2 5m', '3 m to 4 m shark', 'Bull shark 2m', '1 5 m shark', 'White shark x 2', '1 m shark', '6 shark', 'Caribbean reef shark', 'Shark involvement not confirmed', 'White shark', '6 shark', 'Oceanic whitetip shark 2 5m ', 'Mako shark ', 'Mako shark', 'Oceanic whitetip shark 2 5m female', 'Oceanic whitetip shark 2 5m female', 'Shark involvement not confirmed', 'White shark', 'White shark', 'Porbeagle shark 8 ', 'White shark 14 to 18 ', 'Bull shark 1 4m ', 'Lemon shark', 'Possibly a 6 lemon shark', 'White shark', 'White shark', '2m shark', '3 shark', 'Shark involvement prior to death was not confirmed', 'White shark', 'White shark', '3 m shark', 'Shark involvement not confirmed', 'White shark 15 ', '3 to 4 shark', '4 shark', 'Possibly a small blacktip shark', 'Sandtiger shark 4 to 5 ', 'A small spinner shark', 'Angel shark', 'Nurse shark juvenile ', 'Blue shark 7 ', '4 shark', '8 shark', 'Bull shark 5 ', '1 m shark', '4 shark', 'Lemon shark 4 ', '20 to 30kg shark', '20 to 30kg shark', '4 shark', 'Lemon shark 6 ', '14 shark', '2 m shark', 'Oceanic whitetip shark 6 ', '1 5 m shark', 'Possibly a blue shark', '3 m shark', '2 m shark', 'Wobbegong shark 1 6m', '2 m to 3 m shark', 'White shark 2 5m', 'Spinner shark 6 ', 'Invalid', '1 5 m shark', 'Thought to involve a juvenile hammerhead shark', 'White shark', 'Whitetip reef shark 1m', 'Zambesi shark 2m ', 'Bull shark 3m', 'No shark involvement', 'White shark 2 8 to 3 m ', 'White shark', 'Sandtiger shark 8 ', 'Shark involvement not confirmed', '6 shark', 'Thresher shark', '4 shark', '2 m shark', 'White shark 4m', 'Zambesi shark', '6 to 8 shark', 'Angel shark', 'Bull shark 10 ', 'Spurdog', 'Bull shark 8 ', 'Shark involvement prior to death not confirmed', 'Invalid', '4 shark', 'White shark', 'White shark 5 to 6 juvenile ', 'White shark 2m', 'Tiger shark 12', 'Bull shark ', 'Bull shark', 'Shark involvement questionable', 'Caribbean reef shark 6 ', '5 shark', 'Nurse shark 6 ', 'Thought to involve a Bronze whale shark 2m', 'Shark involvement not confirmed', 'Shark involvement probable but not confirmed', 'White shark', 'Oceanic whitetip shark', 'Oceanic whitetip shark', 'Oceanic whitetip shark 2 5 to 3m', '80 kg shark', '5 to 8 shark', 'blacktip or spinner shark', 'blacktip or spinner shark', 'blacktip or spinner shark', 'Blacktip shark 4 ', '7 shark', '2 to 3 shark', 'Shark involvement not confirmed', '2 to 3 shark', 'Shark involvement not confirmed', 'White shark 12 to 15 female', 'Raggedtooth shark', 'Bronze whaler shark ', '3 to 4 shark', 'Blacktip reef shark pup', 'Thought to involve a cookie cutter shark', 'Wobbegong shark 60cm', 'Blue shark 1m', '2 6 m shark', 'White shark 2 5m ', 'Bull shark 2 7 m ', 'White shark 12 ', 'Shark involvement prior to death was not confirmed', 'Bull shark', 'Tiger shark', 'Invalid', 'White shark 5 5 m ', 'White sharks', 'Dusky shark 2m', 'White shark 5m', 'White shark 3 5m', 'Mako shark 3m', 'Broadnose sevengill shark', 'Bull shark', 'No shark involvement', '2 m shark', 'White shark 4m to 5m ', '4 to 5m white shark', 'White shark', 'Bronze whaler shark ', 'Raggedtooth shark 2m', 'White shark 4 5 to 5 m ', 'Zambesi shark ', 'Oceanic whitetip shark', 'Bronze whaler shark', 'Grey nurse shark 3m', 'Lemon shark', ' reef shark 1 8m', '5 m white shark', ' 3 shark', 'Bronze whaler shark', '2 to 3 juvenile shark', 'Tiger shark', 'White shark 14 to 16 ', '3 m shark', '4 shark', 'Shark involvement not confirmed', 'Blue shark', '6 shark', 'Shark involvement not confirmed', 'Shark involvement not confirmed', '8 bull shark or Caribbean reef shark', 'Tiger shark 12 ', '8 white shark or 7 gill shark', 'White shark', '3 shark', '2 shark', '2 to 3 reef shark', '3 shark', '3 to 4 shark', '4 shark', 'Oceanic whitetip shark', 'Shark involvement not confirmed', 'Starry smoothhound shark 1m', 'Shark involvement prior to death not confirmed', 'Bull shark 6 to 7 ', 'White shark 2m', 'White shark 4 5m', '4 5 to 5 shark', 'White shark 15 ', 'Basking shark', '5 shark', 'Bull shark', 'Tiger sharks in area', '3 m shark', '2 m shark', 'White shark 4m', '2 small bull sharks', 'Tiger shark', '4 shark', 'Bull shark 1 8m', 'White shark 12 to 15 ', 'Tiger shark 2 3m ', 'Tiger shark 13 female', 'Reported by media as shark attack but shark involvement prior to death was not confirmed', 'Shark involvement not confirmed thought to be a barracuda bite', '1 5 to 2 shark', '6 shark', 'Bull shark', '4 to 5 shark', 'a small shark', '2 5 shark', 'Shark involvement not confirmed', 'White shark', 'A bull shark according to some of the divers on the boat', '1 m shark', '3 shark', 'Goblin shark 4 2 ', 'Blacktip shark 2m', 'Mako shark 90kg', 'No shark involvement', 'Bronze whaler shark 4m', 'a small shark', 'Nurse shark 10 ', 'Possibly a hammerhead shark', '3 m shark', 'Invalid', '2 m shark', ' a small shark ', 'Not a shark attack it was a hoax', 'Tiger shark', '2 27 m shark', 'reef shark', '1 5 to 2 m shark', '4 to 5 shark', '5 shark', 'White shark 3m to 4m', 'Invalid', 'Tiger shark', 'White shark 2 5m ', 'Bronze whaler shark', '3 to 4 shark', 'Blacktip shark 5 ', 'Tiger shark', 'Caribbean reef shark', 'White shark', 'Oceanic whitetip sharks were in the vicinity', 'Shark involvement prior to death was not confirmed', '4 shark', '3 shark', 'Gray reef shark', '9 5 shark ', 'Nurse shark 2 to 3 ', '18 to 24 shark', 'Possibly a spinner shark', 'Tiger shark 10 to 12 ', 'White shark 12 ', '3 shark', '3 shark', 'Sand shark', 'Sandtiger shark', '4 to 5 shark', 'Possibly a 6 bull shark', ' ', 'Possibly a 10 bull shark', 'White shark 12 ', 'White shark', ' ', 'Bronze whaler shark 1 5 m ', '2 to 3 shark', '3 small spotted catshark Scyliorhinus canicula', 'Shark involvement not confirmed', '5 shark', 'Bull shark 5 ', '2 m shark', 'Questionable Incident', 'Lemon shark 6 female ', '4 shark', 'Tiger shark', 'Shark involvement not confirmed', '3 to 4 shark', 'A 10 year old 94 pound pregnant blacktip reef shark', 'Lesser spotted dogfish Scyliorhinus canicula less than 80 cm in length', '2 5 m shark', '10 shark', '4 to 5 shark', 'White shark 2m ', 'Shark involvement prior to death was not confirmed', 'Tiger shark 14 ', '6 to 8 shark', 'Lemon shark 1 m ', ' a small shark ', 'blacktip or spinner shark', '3 to 4 shark', 'Bull shark 10 ', 'Tiger shark', '3 shark', '4 to 5 shark', '1 5 m shark', '5 shark', '2 to 2 5 m shark', 'Tiger shark', 'Shark involvement prior to death was not confirmed', 'Tiger shark', '14 shark', 'White shark 3m', 'Shark involvement prior to death was not confirmed', 'Tiger shark', '2 4 m shark', '24 to 30 shark', '6 to 8 shark possibly a tiger shark', '2 5 to 3 m shark', '2 to 3 m shark', 'White shark 12 to 15 ', 'Raggedtooth shark 150 kg', 'White shark 5m ', '2 m to 3 m shark', 'Bull shark 1 5m ', 'White shark 16 ', '1 to 4 shark', '3 to 3 5 shark', 'Invalid', 'Nurse shark', 'Spinner shark', '5 shark', 'No shark involvement', '3 shark', 'White shark 3 5m ', 'Bronze whaler shark 6 ', 'Shark involvement prior to death was not confirmed', 'Shark involvement prior to death was not confirmed', '5 m shark', 'White shark', 'Bull shark 1 5m ', 'small catsharks', 'White shark ', 'Thought to involve a mako shark but possibly a sea lion', 'White shark 3m to 4m', ' ', 'Bull shark 4 to 5 ', 'Shark involvement prior to death was not confirmed', 'Angel shark 1 2m ', 'Shark involvement not confirmed injury may have been caused by a bluefish', 'Bull or tiger shark', '5 to 6 spinner or bull shark', '1 8 m blacktip reef shark', '1 8 m blacktip reef shark', 'Possibly a 1 to 3 blacktip or spinner shark', '2 to 3 shark', '3 to 4 shark', '14 white shark', 'Tiger shark 8 to 12 ', 'Tiger shark 15 female', 'Grey reef shark 5 to 8 ', 'Tiger shark 10 to 12 ', 'Wobbegong shark 2 m ', 'Invalid', 'Bull shark 4 to bull shark', 'Bronze whaler shark a juvenile ', 'Raggedtooth shark 2 5 m to 3 m ', 'Tiger shark', '3 m 600 kg shark', 'Tiger shark 10 ', 'Shark involvement prior to death was not confirmed', 'Tiger shark 5 ', 'Bronze whaler shark 2 m', '5 to 7 shark', 'Invalid', '4 5 m white shark', 'Raggedtooth shark', 'Tiger shark', '12 to 18 shark', '12 shark', '3 5 m white shark', 'Invalid', 'Bull shark', '4 shark', 'Said to involve a 1 5 m shark', 'White shark', 'Tiger shark', '3 m shark', 'Whitetip reef shark', '4 m white shark', '4 shark', '3 m white shark', '1 8 m shark', '4 shark', '4 5 m white shark', 'Raggedtooth shark 2 5m ', '6 shark', '12 to 14 white shark', '2 to 3 shark', '2 shark', '3 m shark', 'White shark', '18 white shark', 'Tiger shark less than 10 ', 'Caribbean reef sharks', 'White shark', 'Tiger shark 3 m ', '14 to 16 white shark', 'Bronze whaler shark', 'Shark involvement not confirmed', '3 to 4 shark', 'Bull shark', '4 m 13 white shark', '2 m 6 75 shark 200 kg shark T', 'White shark', 'juvenile white shark', 'Shark involvement not confirmed', 'Possibly a sandbar shark or small blacktip shark', 'Shark involvement prior to death was not confirmed', '1 8 m 6 shark', 'Invalid', 'Shark involvement not confirmed', 'Shark involvement prior to death was not confirmed', '3 5 m 11 5 shark', 'No shark involvement', ' 4 5 to 5 shark', ' 4 to 5 ', 'Bull shark', '1 8 m 6 bull shark', 'On 8 13 2005 anglers from New Zealand caught a 2 8 m 9 3 140 kg 309 lb shark at the same spot It was believed this was the same shark that killed Alysha', 'Invalid', 'Unknown but it was reported that a shark tooth was recovered from the wound', '3 m 10 white shark', 'Mr Burgess of ISAF announced the injury was the bite of a 1 8 m 6 2 to 3 year old white shark Subsequent investigation revealed there was no shark involvement in this incident', 'White shark', ' small shark ', '18 to 36 shark', 'Raggedtooth shark', 'Blacktip shark', 'Tiger shark 8 to 9 ', '2 5 m shark', 'Tiger shark 3 m 10 ', 'Mako shark 1 5 m 5 ', '2 m 6 75 copper shark', 'Bronze whaler shark', '1 8 m 6 blacktip shark', 'Shark involvement not confirmed', 'small hammerhead shark', 'Shark involvement not confirmed', '4 m 13 shark', '6 m 20 white shark', 'Sandtiger shark 2 1 m 7 ', 'Invalid', 'Bronze whaler shark 4 3 m 14 ', 'Bull shark', 'Nurse shark 3 ', 'Tiger shark 2 4 m 8 ', '1 8 m 6 Caribbean reef shark', '3 m 10 shark', '3 m shark', 'Bronze whaler shark 2 m to 3 m 6 75 to 10 ', 'White shark', 'No shark involvement', '4 5 m 5 m white shark ', 'Bull shark', 'Raggedtooth shark', 'Raggedtooth shark', '6 m 20 white shark', '5 5 m 18 white shark', '3 m shark', '2 5 m 8 25 bull shark', 'Invalid', '2 m 6 75 white shark', 'Bronze whaler shark 2 4 m 8 ', '1 8 m to 2 4 m 6 to 8 white shark', 'Tiger shark 2 4 m to 3 7 m 8 to 12 ', 'Raggedtooth shark 1 5 to 2 m 5 to 6 75 ', 'Thought to involve a 2 5 m bull or tiger shark', 'Tiger shark 3 m 10 ', 'White shark', 'Shark involvement questionable', '2 4 m 8 shark', 'Tiger shark 1 5 m ', '0 9 m to 1 2 m 3 to 4 white shark', '4 9 m to 5 5 m 16 to 18 white shark', '1 2 m 4 shark', '3 m to 4 m 10 to 13 white shark', 'White shark', '1 8 m 6 shark', '1 2 m to 1 5 m 4 to 5 shark', 'Bull shark', '4 m 13 white shark', 'Longfin mako shark 3 5 m 11 5 350 kg 772 lb ', '2 sharks 4 5 m 3 m ', ' black tipped shark', '4 to 5 shark', '9 2 white shark', 'Invalid', 'Bronze whaler shark 2 5 m 8 25 ', '1 2 m 4 shark', 'White shark', '0 9 m to 1 5 m 3 to 5 shark', 'Bull shark', '2 4 m to 3 7 m 8 to 12 shark', 'Shark involvement not confirmed', '1 5 m 5 Caribbean reef shark Carcharhinus perezi ', 'Mako shark 1 8 m 6 ', 'Wobbegong shark 1 2 m 4 k', 'White shark 5 5 m 18 ', 'small sharks', 'Questionable Incident', 'Tiger shark', '5 m 16 5 white shark', 'Shark involvement prior to death was not confirmed', '1 2 m 4 bull shark', 'bull shark', 'bull shark', '2 5 m shark', '1 8 m 6 shark', 'Bronze whaler shark', 'Tiger shark 2 4 m to 3 m 8 to 10 ', 'Bronze whaler shark 1 5 m 5 ', '2 m 6 75 sevengill shark', 'Shark involvement not confirmed', '60 cm 23 6 blind or brown shark', '4 m to 5 m 13 to 16 5 white shark', 'Possibily a 1 5 to 2 m sandtiger shark', 'Shark involvement doubtful', 'Bull shark 1 65 m 5 5 was speared killed', 'Bull shark 132 kg 291 lb ', 'Mako shark 3 m to 4 m 10 to 13 ', 'Raggedtooth shark 3 5 m 11 5 ', 'Raggedtooth shark', 'Invalid', 'Shortfin mako shark', 'Questionable Incident', 'Wobbegong shark 1 2 m 4 ', 'Wobbegong shark 1 2 m 4 ', 'Tiger shark 4 m 13 ', '4 shark', 'Tiger shark ', '2 5 oceanic whitetip shark', 'White shark', 'Nurse shark 60 cm to 90 cm 2 to 3 ', '1 2 m to 1 5 m 4 to 5 shark', '1 5 m 5 shark either a bronze whaler or a grey nurse shark', 'Tiger shark 14 ', 'Shark involvement not confirmed', '1 2 m 4 shark', 'Shark involvement prior to death was not confirmed', '1 2 m 4 grey colored shark ', '3 shark', '2 m cow shark', 'Shark involvement doubtful', '6 shark', '7 shark', 'White shark', '1 2 m 4 bull shark', '4 5 m to 5 5 m 15 to 18 white shark', 'Shark involvement not confirmed', '3 5 m 11 5 white shark', 'Unidentified species', '2 shark', '1 5 m to 1 8 m 5 to 6 shark', '2 1 m 7 bull shark', '8 great hammerhead shark', 'Grey reef shark', 'Unidentified species', '106 cm 3 5 shark', ' small brown shark ', '3 7 m to 4 3 m 12 to 14 shark', 'Unidentified species', ' sand shark ', 'Shark involvement not confirmed', '3 to 5 shark', '1 8 m 6 reef shark or a 2 1 m to 2 4 m 7 to 8 grey colored shark', '4 to 5 shark', 'White shark', 'Bull shark', 'Unidentified species', 'Unidentified species', 'Unidentified species', '0 9 m to 1 2 m 3 to 4 shark', 'Unidentified species', 'A small shark', 'Unidentified species', '15 cm to 20 cm 6 to 8 bite diameter just below left knee', 'Mako shark 3 m 10 ', '4 to 5 shark', '60 cm 2 captive shark', '2 5 m 8 25 white shark', ' a small shark ', 'Species unidentified', 'Thought to involve a 2 m 6 75 grey nurse shark', 'Thought to involve a 2 m 6 75 bull shark', 'Shark involvement prior to death was not confirmed', 'Bull shark 7 ', 'Bronze whaler shark 2 5 m 8 25 ', 'Reported to involve a hammerhead shark', 'White shark 4 m white shark', 'Wobbegong shark 1m', 'Shark involvement not confirmed injury may be due to a stingray', 'Bull shark', 'Blacktip shark', '3 m to 4 5 m 10 to 15 white shark', '2 4 m to 3 m 8 to 10 grey colored shark', '1 8 m to 2 1 m 6 to 7 Caribbean Reef Shark ', '6 shark', '3 to 4 shark', 'A small shark', 'Possibly a bull shark or tiger shark', 'Blacktip or spinner shark', '3 5 to 4 5 shark', '3 5 to 4 shark', '4 to 5 shark', '1 2 m 4 blacktip shark', '1 8 m 6 blacktip shark', 'Tiger shark 1 5 m 5 k', '2 4 m 8 shark', '3 m to 3 7 m 10 to 12 shark', 'Bull or tiger shark', 'White shark', '4 to 6 shark', '1 to 2 hammerhead or bonnethed shark', 'Tiger shark 2 4 m to 3 m 8 to 10 ', '0 9 m to 1 2 m 3 to 4 shark', 'Nurse shark 1 5 m 5 ', 'Sandtiger shark 3 m 10 ', '1 2 m to 1 5 m 4 to 5 shark', '1 2 m 4 blacktip or sandbar shark', 'Bull shark 1 8 m to 2 1 m 6 to 7 ', 'Mako shark 400 lb ', 'Bull or tiger shark', '1 2 m to 1 5 m 4 to 5 shark possibly a bull shark', 'Shark involvement prior to death was not confirmed', 'Tiger shark 2 4 m to 2 7 m 8 to 9 ', '0 9 m to 1 2 m 3 to 4 shark Tooth fragment recovered from hand', ' ', '1 5 to 2 5 m 5 to 8 25 copper shark', '3 7 m to 4 3 m 12 to 14 white shark', '1 m shark', '3 blacktip shark', 'Bull shark 1 8 m to 2 1 m 6 to 7 ', '2 1 m to 2 4 m 7 to 8 shark', 'White shark 6m 20 ', 'Invalid', '1 2 m 4 shark', 'Bull shark 400 lb ', '3 shark', '0 9 m 3 shark', 'Tiger shark', ' ', '4 shark', 'Nurse shark 1m ', 'Spinner shark 3 to 4 ', 'Shark involvement prior to death unconfired', '1 5 m 5 whaler shark ', 'C leucas tooth fragment recovered from kayak', 'Tiger shark 3 m 10 ', 'Zambesi shark ', 'Unidentified', 'Tiger shark 1 8 m 6 ', 'Bronze whaler shark', 'Mako shark 2 m 6 75 ', 'Bronze whaler shark ', 'Tiger shark 1 8 m 6 ', '4 m 13 white shark', '4 shark', 'Questionable incident shark bite may have precipitated drowning', '2 to 3 5 shark', '12 sandtiger shark', 'Shark involvement not confirmed', 'A large white shark was filmed by divers on a local wreck 2 days prior to the incident ', 'A large white shark was filmed by divers on a local wreck 2 days prior to the incident ', '1 5 m 5 shark', 'bull shark', '3 m 10 bull shark', 'a small shark', 'Possibly a blacktip or spinner shark', '3 shark possibly a blacktip or spinner shark', 'Blacktip shark 5 to 6 ', '1 9 m 6 5 bull shark', '3 m 10 shark', 'Nurse shark', 'Mako shark 14 ', '0 9 m 3 shark', 'Bull shark 2 3 m 7 5 ', '1 5 m 5 shark', 'White shark 2 4 m to 3 m 8 to 10 ', 'Shark involvement prior to death was not confirmed', '2 shark', '1 2 m to 1 5 m 4 5 to 5 shark', 'Shark involvement prior to death was not confirmed', 'White shark 2 7 m to 3 m 9 to 10 ', '1 2 m to 1 5 m 4 to 5 shark', 'Possibly a juvenile blacktip or spinner shark', 'Possibly a juvenile blacktip or spinner shark', 'Possibly a juvenile blacktip or spinner shark', 'Possibly a 1 5 m 5 blacktip or spinner shark', 'Possibly a juvenile blacktip or spinner shark', '1 m shark possibly whitetip reef shark', 'Possibly a juvenile blacktip or spinner shark', 'White shark 2 7 m 9 ', 'Wobbegong shark', ' small shark ', 'Bronze whaler shark', 'Spinner shark 1 2 m to 1 5 m 4 to 5 ', 'Shark involvement not confirmed', 'Tiger shark 8 ', 'White shark 5 m 16 5 ', 'Shark involvement prior to death was not confirmed', 'Bronze whaler shark 2 5 m 8 25 k', '5 m shark', '2 m 6 75 shark', 'White shark 4 3 m 14 ', '1 8 m to 2 4 m 6 to 8 black finned shark ', 'White shark', '6 m 20 shark', 'White shark 4 5 m 14 9 ', 'Porbeagle shark 3 m 10 rk', 'Bronze whaler shark 2 5 m 8 25 ', 'Tiger shark 4 m ', 'Shark involvement not confirmed', '1 2 m to 1 8 m 4 to 6 shark', 'Invalid', 'White shark 4 9 m 16 ', 'White shark 5 m 16 5 ', 'White shark 2 4 m to 3 m 8 to 10 ', 'White shark', 'Tiger shark 1 8 m to 2 4 m 6 to 8 ', '2 1 to 2 4 m 7 to 8 shark', 'Blacktip shark 2 ', 'White shark 4 3 m 14 ', 'White shark', 'White shark 4 m to 5 m 13 to 16 5 ', '100 kg 221 lb dead blue shark', 'White shark 2 5 m ', '60 cm to 90 cm 2 to 3 shark', 'White shark 3 5 m 11 5 male ', 'Thought to involve a Zambesi shark', '1 5 m 5 shark', 'Tiger shark 3 m 10 ', 'Thought to involve a Zambesi shark', 'A 2 shark was seen in the area by witnesses', 'Thought to involve a 2 7 m 9 400 lb bull shark', 'Salmon shark', 'Tiger shark 3 7 m to 4 5 m 12 to 14 9 ', 'juvenile shark', 'Blacktip shark 2 4 m to 3 m 8 to 10 ', 'Shark involvement not confirmed', 'Shark involvement prior to death was not confirmed', 'Thought to involve a Zambesi shark', 'Nurse shark 1 5 m 5 ', '1 8 m 6 grey colored shark', 'Grey reef shark 2 m 6 75 ', 'Lemon shark 2 1 m to 2 4 m 7 to 8 ', 'Tiger shark 0 9 m to 1 5 m 3 to 5 ', 'Nurse shark 1 2 m 4 ', '0 9 m 3 shark', '0 9 m 3 shark probably a blacktip or spinner shark', 'Thought to involve a Zambesi shark', 'Mako shark 2 m 6 75 ', 'Bull shark 2 4 m 8 ', 'Blacktip shark 1 2 m to 1 8 m 4 to 6 ', 'Bull shark ', 'Bull shark', 'Thought to involve a Zambesi shark', 'Tiger sharks bull sharks 20 sharks in all ', 'Shark involvement prior to death was not confirmed', '2 5 m shark', '1 8 m 6 shark', '1 2 m 4 shark', 'Tiger shark ', 'Tiger shark 4 m 13 ', '2 m to 2 5 m 6 75 to 8 25 shark', 'Shark involvement questionable', 'Shortfin mako shark 3 m to 3 4 m 10 to 11 ', 'White shark 2 5 m ', 'Miami a 60 cm blacktip shark and two 60 cm bamboo catsharks', '3 m 10 shark', 'Hammerhead shark', 'Sevengill shark', 'Sevengill shark', 'Sevengill shark', 'Thought to involve a white bull or tiger shark', 'Shark involvement not confirmed', 'Shark involvement not confirmed', 'Tiger shark 1 8 m to 2 4 m 6 to 8 ', 'White shark', 'White shark 3 m 10 ', '1 3 to 1 6 m shark', 'Grey reef shark 1 2 m 4 ', 'Grey reef shark 1 2 m 4 ', 'Lemon shark 2 7 m 9 ', 'Tiger shark 1 8 m to 2 4 m 6 to 8 ', 'Said to involve a 7 m 23 white shark', 'White shark', 'Unidentified', '1 5 m to 1 8 m 5 to 6 shark', '0 9 m 3 shark', ' a small shark ', '7 shark', '1 8 m 6 shark', '4 to 5 shark', '2 7 m 9 bull shark or Caribbean reef shark', 'White shark 3 m to 5 m 10 to 16 5 ', 'Bull shark 2 1 m 7 ', 'Tiger shark 1 8 m to 2 4 m 6 to 8 ', 'White shark', 'Blacktip shark 1 8 m 6 ', 'White shark 4 m 13 ', '1 2 m 4 shark', '3 to 4 shark', 'Blacktip or spinner shark', 'Thought to involve a white shark', 'Tiger shark 2 5 m 8 25 ', 'Grey reef shark 1 5 m ', '3 bull sharks', 'Sevengill shark 2 4 m 8 ', '200 to 300 kg shark', 'Mako shark 1 3 m gaffed ', '3 7 m to 4 6 m 12 to 15 shark seen in the vicinity', 'Basking shark', 'Bronze whaler or tiger shark', 'Spinner shark', 'Bull shark', 'White shark 4 m 13 ', 'Shark involvement not confirmed', 'Bull shark', 'White shark 4 6 m 15 ', 'Shark involvement not confirmed', 'Possibly a white shark', 'Tiger shark', '1 2 m 4 shark', 'A small shark ', 'White shark 5 m to 6 m 16 5 to 20 ', '6 shark', 'Though to involve a white shark', '1 8 m 6 shark', '1 5 m shark', '3 to 4 shark', 'Invalid', 'White shark 5 m to 6 m 16 5 to 20 ', 'Dusky shark 12 ', 'Caribbean reef shark 1 2 m to 1 5 m 4 to 5 ', '4 5 to 5 shark', 'Sandtiger shark 2 m male ', 'White shark 4 m 13 ', 'White shark 4 9 m 16 ', 'Raggedtooth shark 1 2 m 4 ', '5 to 6 shark', 'Raggedtooth shark 1 2 m 4 ', 'Thought to involve a 5 5 m white shark named Kong', 'White shark', '3 m to 4 m 10 to 13 white shark', 'Unidentified', 'Lemon shark 1 5 m 5 identified by the surfer', '1 8 m 6 shark possibly a blacktip', '4 m 13 white shark', '3 m 10 shark', '5 m 16 5 white shark', 'Nurse shark 0 9 m 3 ', '3 m 10 white shark', '5 spinner shark', 'Spinner shark', 'Shark involvement not confirmed', '1 7 m shark', 'Small dusky shark or blackfin shark', 'sandtiger shark', 'White shark', 'Shark involvement not confirmed', 'White shark', 'Shark involvement prior to death suspected but not confirmed', '5 5 m 18 white shark', 'Tiger shark 4 m to 4 3 m 13 to 14 ', 'Possibly a blacktip shark', '1 2 m to 1 5 m 4 to 5 shark', 'Soupfin shark', 'small blacktip shark', '5 m 16 5 white shark', 'Shark involvement prior to death was not confirmed', 'Tiger shark 5 2 m 17 ', 'Thought to involve an oceanic whitetip shark or a white shark', '1 m shark', '1 5 m 5 shark', 'juvenile shark', ' juvenile shark ', '4 5 m white shark', 'Blacktip shark', 'White shark', '2 4 m 8 shark', 'Tiger shark 2 7m 9 ', 'Possibly a spinner shark', '1 2 m 4 shark spinner shark ', '4 shark', 'Possibly a sand shark', 'Possibly a sand shark', 'Possibly a Caribbean reef shark', '3 7m to 4 2 m white shark', 'a small shark', 'Tiger shark 2m to 3m ', '1 8 m to 2 1 m 6 to 7 shark', 'Tiger shark 4 5 m 14 9 ', 'Bull shark', 'White shark', 'White shark', '3 m to 5 m 10 to 16 5 white shark', '5 5 m to 6 m 18 to 20 white shark', '1 2 m 4 shark', '5 m 16 5 white shark', 'White shark', ' a young shark ', 'Shark involvement not confirmed', 'White shark', 'Tiger shark 2 4 m 8 ', '6 m 20 white shark', '1 8 m to 2 1 m 6 to 7 hammerhead shark', '5 m 16 5 white shark', 'said to involve an oceanic whitetip shark', '6 shark', '5 to 6 shark', '4 m white shark', '2 5 m 8 25 white shark ', 'Shark involvement prior to death suspected but not confirmed', '1 2 m 4 shark', '60 cm to 90 cm 2 to 3 blacktip or spinner shark', 'Wobbegong shark', 'Wobbegong shark', 'Tiger shark', '1 5 m 5 shark', 'Bronze whaler shark', 'nurse shark', ' reef shark ', 'Nurse shark 0 9 m 3 ', 'Bronze whaler shark', 'Possibly a tiger shark', 'Mako shark 4 3 m 14 ', 'Tiger shark 300 kg 662 lb ', 'Tiger shark 2 5 m 8 25 ', 'Tiger shark', '5 m 16 5 white shark', 'Shark involvement not confirmed', '4 m shark', '1 2 m to 1 5 m 4 to 5 shark', '1 5 to 1 8 m 5 to 6 shark', '4 m 13 white shark', '1 8 m 6 shark', '3 m to 3 7 m 10 to 12 bull shark', 'White shark', '3 m to 4 m 10 to 13 white shark', 'Shark involvement not confirmed', '1 2 m to 1 5 m 4 to 5 shark', '5 shark', ' a small shark ', '1 2 m to 1 5 m 4 to 5 shark', ' sand shark', ' small shark ', 'Two 1 2 m to 1 5 m 4 to 5 sharks', ' small shark ', '1 8 m 6 shark', 'Invalid', 'Blacktip shark', '1 2 m to 1 5 m 4 to 5 shark', 'Invalid', 'Invalid', 'Blacktip shark', '6 m 20 white shark', 'White shark tooth fragment recovered ', ' sand shark', '1 8 m 6 shark', '6 shark', 'Tiger shark 3 7 m 12 ', 'Though to involve a tiger shark', '1 8 m to 2 1 m 6 to 7 shark', 'Possibly a bull shark', '3 7 m 12 shark', '4 m shark', 'Invalid', 'Wobbegong shark', '6 m 20 white shark', 'Bronze whaler shark 2 m ', 'Raggedtooth shark', 'Tiger shark 1 8 m 6 ', ' ', 'Shark involvement not confirmed', 'Leopard shark', 'Invalid', '5 5 m 18 white shark', 'Invalid', '5 m to 5 5 m 16 5 to 18 white shark', 'Raggedtooth shark 2 7 m 9 ', '2 7 m 9 shark', 'Thought to involve a small sand shark', '5 m 16 5 white shark', 'Small shark', '3 to 3 5 m 10 to 11 5 bull shark', '4 m 13 white shark', '4 m 13 white shark', ' small shark ', '1 8 m 6 shark', '1 2 m 4 spinner shark', '2 1 m 7 shark', '1 2 m 4 shark', ' 1 8 m 6 shark', 'Invalid', '3 m 10 200 kg 441 lb bull shark', '2 to 3 shark', '4 9 m white shark', '3 6 m 11 9 white shark', '3 6 m 11 9 white shark', 'Lemon shark 4 ', '2 m shark', '3 m 10 shark', '1 2 m 4 shark', '3 m 10 white shark', 'Tiger shark', 'White shark', '1 5 m shark', '1 3 m 4 3 shark', 'Tiger shark said to be 5 to 7 m 16 5 to 23 ', 'On 11 Jan 1994 his remains washed ashore A 2 4 m 8 tiger shark thought to be involved', 'Tiger shark caught 6 days later with diver s remains in its gut', '4 m to 5 m 13 to 16 5 white shark', '3 m 10 bull shark', ' 6 m 20 white shark', 'Tiger shark', '3 m 10 white shark', '3 7 m 12 white shark', '3 shark', '1 2 m 4 shark', '1 8 m 6 blacktip shark or Caribbean reef shark', ' 6 m white shark according to witnesses', 'Bull shark', '6 m 20 white shark', '5 5 m to 6 m 18 to 20 white shark', 'White shark ', '4 m 13 white shark', '1 8 m to 2 4 m 6 to 8 shark tooth fragments recovered ', 'Thought to involve a tiger shark', 'Remains recovered from 5 5 m 18 white shark', '5 m 16 5 white shark', '6 shark', 'Invalid', 'Possiby white shark', 'Tiger shark 3 7 m 12 tooth fragment recovered from wound ', 'White shark', '1 5 m 5 shark', 'Bronze whaler shark 1 5 m ', '1 5 m shark', 'Two 3 m 10 oceanic whitetip sharks', '6 m 20 white shark', '3 m 10 white shark', 'Lemon shark', 'Tiger shark 2 4 m 8 ', 'Tiger shark 3 m to 4 9 m 10 to 16 ', 'Mako shark 1 8 m 6 ', '6 to 7 blacktip shark', '1 8 m 6 shark', '5 m to 6 m white shark', '3 m hammerhead shark', 'Unidentified shark', 'Tiger shark 3 m to 3 7 m 10 to 12 ', '2 5 m 8 25 white shark', 'Tiger shark 4 3 m 14 ', 'Grey nurse shark', '4 2 m white shark', '4 m to 5 m 13 to 16 5 white shark ', '1 8 m 6 blacktip shark', '4 m white shark', 'Questionable incident', '5 5 m to 6 m 18 to 20 white shark', 'Nurse shark 3 20 lb ', 'Questionable incident', 'Invalid', ' a small shark ', 'Bull shark or lemon shark', 'White shark identification by K Nakaya', 'Mako shark', 'Shark involvement prior to death was not confirmed', 'Tiger shark 3 m to 4 m 10 to 13 ', '4 m 13 590 kg white shark', ' 2 m shark', 'Tiger shark', 'Bronze whaler shark 3 m', '5 m 16 5 white shark identification by K Nakaya', 'Said to involve a 6 m to 7 m 20 to 23 white shark', 'Tiger shark ', '5 m 16 5 shark', 'Questionable incident', '1 8 m grey shark', 'Bronze whaler shark 2 3 m 7 5 ', 'Zambesi shark 1 7 m 5 5 ', 'Possibly a 1 5 m 5 blacktip shark', 'Grey reef shark', 'Questionable incident', '6 m 20 white shark', 'Tiger shark 2 4 m 3 4 m 8 to 11 ', 'Tiger shark 2 4 m 3 4 m 8 to 11 ', 'Tiger shark 3 7 m 12 ', '2 4 m 8 shark', ' small shark ', '1 8 m 6 shark', '5 m to 6 m 16 5 to 20 white shark', 'Invalid', '4 m 13 white shark', '3 m 10 270 kg 595 lb shark', 'sand shark', '3 shark', 'Lemon shark 30 lb ', '4 m 13 white shark', '2 1 m 7 140 lb reef shark', '1 8 m 6 blacktip shark', 'Tiger shark 3 to 4 m 10 to 13 ', '5 m 16 5 white shark', 'Shark involvement not confirmed', '2 7 m 9 bull or lemon shark', 'Tiger shark 3 m 10 ', '2 4 m 8 shark', '3 5 m 11 5 female white shark named Notchfin ', '170 kg 2 8 m shark', '7 female shark', '1 2 m to 1 5 m 4 to 5 shark', ' Shark had a very large girth ', 'Grey nurse shark 2 m', '5 5 m 18 white shark', '5 5 m 18 white shark', '4 m shark', '2 m shark', 'Questionable incident', '1 5 m shark', '4 m to 5 m 13 to 16 5 white shark', '5 shark', '1 8 m 6 shark ', '4 spinner shark', 'Tiger shark 3 7 m 12 ', '1 8 m to 2 4 m 6 to 8 shark', '5 m 16 5 white shark', 'White shark', '2 5 m to 3 m 8 25 to 10 white shark', 'Shark involvement prior to death could not be determined', '5 m to 6 m 16 5 to 20 white shark', '4 5 m 14 9 white shark', '1 2 m to 1 5 m 4 to 5 shark', '6 m 600 kg shark', '2 m hammerhead', '2 m hammerhead', '5 5 m 18 white shark identified by witnesses tooth marks', '2 3 m 7 5 white shark identified by M Smale', 'Tiger shark 3 m ', '3 m shark', '3 m shark', '3 m 10 bull shark', 'Two sharks seen in vicinity 2 4 m 4 25 m 8 14 TL', '3 m to 4 m 10 to 13 white shark', 'Tiger shark 2m ', 'Shark involvement prior to death was not confirmed', 'White shark', 'White shark', 'Shark involvement prior to death was not confirmed', '2 m shark possibly a bronze whaler', '2 7 m 9 white shark', 'Shark involvement suspected but not confirmed', '4 shark', 'Shark involvement suspected but not confirmed', 'White shark', 'White shark identified by tooth pattern', '150 lb shark', '4 to 5 m white shark', '4 m to 5 m 13 to 16 5 white shark', 'Sandbar shark', 'Blue Shark ', 'Grey nurse shark', '1 2 m 4 shark', ' 3 4 m 11 white shark', 'Bronze whaler shark 3 m 10 ', '3 5 m white shark', 'Shark involvement suspected but not confirmed', '2 5 m 8 25 white shark', '4 shark', '1 8 m 6 sandtiger shark', '3 m 10 white shark', '3 m 10 white shark', '2 5 m 8 25 white shark', '1 2 m 4 shark', 'White shark', '5 m to 7 m white shark', '2 m 6 75 white shark', 'Tiger shark 3 5 m ', '3 m 10 gaffed shark', '6 m 20 white shark', 'Invalid', '5 m 16 5 white shark', '1 8 m to 2 4 m 6 to 8 hammerhead shark', 'Tiger shark 4 m 13 ', '7 silvertip shark', '16 white shark', '5 5 m to 6 m 18 to 20 white shark', '7 shark', '6 shark', '1 2 m to 1 5 m 4 to 5 shark', '1 2 m to 1 5 m 4 to 5 shark', '1 2 m 4 shark', '5 shark', '1 8 m 6 shark', '3 m 10 bull shark', 'Tiger shark 1 8 m 6 ', '2 4 m to 3 m 8 to 10 white shark', '2 m to 2 5 m shark', '1 5 m 5 Caribbean reef shark', '1 5 m 5 Caribbean reef shark', '1 5 m 5 shark', 'White shark', 'Sandtiger shark', 'Sand shark ', '1 8 m to 2 4 m 6 to 8 shark', 'White shark', 'Shark involvement prior to death was not confirmed', 'Shark involvement prior to death was not confirmed', '1 5 m to 2 m 5 to 6 75 shark', 'Raggedtooth shark 2 m ', '1 m grey colored shark', 'Zambezi shark tooth fragments recovered ', 'Mako shark 3 m 10 200 kg 441 lb ', 'Tiger shark 3 m ', 'Shark involvement not confirmed', 'Shark involvement prior to death was not confirmed', 'Mako shark', '1 5 m copper shark', '6 m shark', 'Wobbegong shark', '1 8 m 6 blacktip shark', 'Shark involvement prior to death was not confirmed', 'Shark involvement prior to death was not confirmed', '2 m 6 75 shark', 'Questionable incident', 'White shark', '40 to 50 sharks attacked survivors in the water', 'White shark', '3 5 m 11 5 white shark', '1 2 m to 1 5 m 4 to 5 shark', '5 7 m white shark', '3 to 4 shark', '4 shark', '4 shark', '12 shark', '2 5 to 3 m shark', '1 5 m 5 blacktip shark', '1 5 m to 1 8 m 5 to 6 shark', 'Shark involvement prior to death was not confirmed', '4 3 m shark', 'Bronze whaler shark 2 m to 3 m ', '3 m white shark', 'Spinner shark', ' 2 5 m 8 25 white shark', 'Doubtful Unconfirmed attack Unable to verify in local records', 'White shark', 'Raggedtooth shark 2 5 m 8 25 ', '3 m 10 white shark', '1 8 m to 2 1 m 6 to 7 spinner or blacktip shark', '5 m to 6 m 16 5 to 20 white shark', 'Invalid', 'Tiger shark', 'Raggedtooth shark 1 96 m 140 kg ', 'Lemon shark 1 8 m to 2 4 m 6 to 8 tooth fragment recovered', '1 6 m shark', 'Bull shark', 'Shark involvement prior to death was not confirmed', 'Invalid', 'Wobbegong shark', 'Tooth fragment of a white shark recovered Authorities believed shark was 6 m 20 total length', '1 5 m 5 shark', '1 2 m 4 dusky shark', 'Wobbegong shark', '2 m shark', '3 5 m white shark', ' 1 m shark', '2 m 6 75 shark', ' 2 4 m 8 white shark', 'Raggedtooth shark', 'Raggedtooth shark 2 m 6 75 ', 'Bronze whaler shark 3 5 m ', 'Blacktip shark', '1 5 m 5 shark', 'Sandtiger shark', '1m shark', '5 2 to 5 8 m white shark', '2 5 m 8 25 white shark', '2 m to 2 5 m 6 75 to 8 25 sixgill or sevengill shark', 'Thought to involve a Tiger shark 3 7 m 12 ', '1 8 m to 2 4 m 6 to 8 shark', '6 100 lb shark', '4 m to 5 m 13 to 16 5 white shark', 'Shark involvement prior to death was not confirmed', '1 8 m silky shark', 'Invalid', 'Shark involvement not confirmed', 'Shark involvement prior to death not confirmed', 'Possibly a small hammerhead shark', '5 m to 6 m 16 5 to 20 white shark', 'Tiger shark 2 4 m to 2 7 m 8 to 9 ', '3 m to 3 6 m 10 to 11 9 white shark', 'Shark involvement not confirmed', '30 kg 66 lb shark', '6 m 20 white shark', '6 m 20 white shark', 'Raggedtooth shark', 'Shark involvement prior to death was not confirmed', '3 5 m white shark tooth fragments recovered', '6 m shark', '3 5 m 11 5 white shark', 'Tiger shark', '1 5 m 5 dusky shark', 'Bull shark', 'White shark', 'Tiger shark 4 m ', '1 2 m 4 shark', ' a small shark ', 'Shark involvement prior to death was not confirmed', '1 5 m 5 shark', 'Shark involvement not confirmed officials considered barracua', '1 2 m 4 blacktip shark', '3 m to 5 m 10 to 16 5 white shark', '3 m to 4 m 10 to 13 white shark', 'Hammerhead shark O2356', 'small blue shark', '4 5 m to 5 m white shark', '4 5 m to 5 5m white shark', 'Invalid', '1 2 m 4 shark', 'Shark involvement prior to death was not confirmed', 'Raggedtooth shark ', '2 4 m 8 white shark', '1 2 m to 1 5 m 4 to 5 hammerhead shark', 'Shark involvement prior to death was not confirmed', '2 5 m 8 25 shark', 'Raggedtooth shark 56 kg 123 lb ', ' 1 5 m 5 dusky shark', 'Shark involvement prior to death was not confirmed', '1 5 m white tipped reef shark', 'Raggedtooth shark 1 m ', 'Sevengill shark', 'Invalid', '12 white shark', 'Raggedtooth shark 1 m ', 'Invalid', ' 5 m shark', 'Tiger shark', 'Shark involvement prior to death was not confirmed', '1 5 m 5 shark', '4 5 shark', 'White shark', '5 m 16 5 white shark', 'Sand shark', 'Nurse shark', '6 to 8 bull shark', 'Tiger shark 5 m 16 5 ', 'Tiger shark 5 m 16 5 ', 'Tiger shark 5 m 16 5 ', '3 m to 4 m 10 to 13 shark', '3 5 hammerhead shark', '6 blacktip shark', 'Questionable incident', 'Caribbean reef shark', '6 shark', 'Raggedtooth shark 1 5 m 5 tooth fragment recovered ', 'Questionable incident', '1 8 m 6 Zambezi shark', 'Blacktip or spinner shark', ' a small shark ', '3 m 10 shark', 'Shark involvement prior to death was not confirmed', 'White shark', 'Blue sharks', '1 5 m 5 shark', 'Believed to involve a 2 8 m 9 3 white shark', '1 5 m 5 shark', 'White shark', '5 m to 6 m 16 5 to 20 white shark', 'Shark involvement prior to death was not confirmed', 'Questionable incident reported as shark attack but thought to involve a pinniped instead ', '2 1 m 7 shark possibly a spinner shark', 'Invalid', '2 4 m 8 white shark species identity confirmed by tooth fragment', '4 5 m to 5 5 m 14 7 to 18 white shark', '0 9 m to 1 2 m 3 to 4 shark', 'Reported as a shark attack the story was a hoax', '2 4 m 8 white shark species identity confirmed by witnesses tooth pattern in surfboard', '5 shark', 'Lemon shark 2 m 6 9 ', '1 2 m to 1 5 m 4 to 5 reef shark ', 'Shark involvement prior to death was not confirmed', '5 5 m 18 white shark', '4 to 5 shark', '5 m 16 5 white shark', 'Raggedtooth shark', '6 m 20 white shark', 'White shark', '7 m 23 white shark', 'Tiger shark 3 7 m 12 ', '3 5 m 11 5 510 kg 1125 lb hooked shot white shark', '2 1 m 7 shark with a very flat head that had followed the boat for 3 days', '1 8 m to 2 4 m 6 to 8 shark', '6 shark', 'Said to involve a tiger shark or a hammerhead shark', '6 shark', '1 8 m 6 shark species identity questionable', 'Shark involvement prior to death remains unconfirmed', 'small nurse shark', 'Mako shark tooth fragments recovered ', ' sandshark ', 'Possibly a 1 8 m 6 Zambezi shark', '2 4 m 8 shark', ' gray shark ', '13 400 lb thresher shark', 'Shark involvement prior to death was not confirmed', '6 m white shark', 'Raggedtooth shark', 'Lemon shark', 'Raggedtooth shark 2 5 m 8 25 ', 'Tiger shark 2 1 m 7 ', '1 2 m to 1 5 m 4 to 5 bull sandbar or dusky shark', 'C maculpinnis or C limbatus', 'White shark', 'White shark', 'Juvenile dusky or blacktip shark', '1 m hammerhead shark', '1 8 m to 2 4 m 6 to 8 hammerhead shark', 'Tiger shark', 'Shark involvement prior to death was not confirmed', 'Tiger shark 2 5 m ', '3 5 m 11 5 shark', 'Shark involvement prior to death was not confirmed', '1 8 m 6 white shark', 'Shark involvement prior to death was not confirmed', '4 m to 5 m 13 to 16 5 white shark', '4 m to 5 m 13 to 16 5 white shark', 'Tiger shark 4 3 m 14 ', 'Blue shark', '4 to 8 shark', 'Blue shark', '1 8 m 6 shark', 'Tiger shark', 'Tiger shark', '2 m shark', '1 5 m 5 hammerhead shark', '2 8 m 9 3 white shark', '2 2 m shark', '2 m 6 9 Zambesi shark', 'Hammerhead shark', 'Raggedtooth shark 2 m 6 9 ', 'White shark', '1 8 m 6 dogfish', 'Said to involve a white shark but shark involvement not confirmed', 'Invalid', 'White shark ', '6 shark', 'White shark 4 m 13 ', 'White shark 5 m ', 'Raggedtooth shark 50 kg 110 lb 2 m 6 75 gaffed ', ' a small shark ', 'Shark involvement prior to death was not confirmed', 'White shark 2 5 m 8 25 ', '2 m shark', 'Blacktip or spinner shark', 'White shark 4 m to 5 m 13 to 16 5 ', '1 5 m to 2 m 5 to 6 75 shark', 'White shark 2 3 m 7 5 tooth fragment recovered', '2 4 m 8 shark', 'Shark involvement prior to death was not confirmed', 'White shark 3 7 m 12 ', 'White shark 5 m 16 5 ', '15 shark', '2 m 6 9 shark', 'Invalid', 'Sevengill shark 2 4 m', '270 kg shark', 'White shark', 'Thought to involve a blacktip shark', 'Shark involvement prior to death was not confirmed', 'Tiger shark 3 m 10 ', '3 m 10 white shark Tooth recovered from boat ', '1 5 to 2 m 5 to 6 75 shark', 'White shark 5 m 16 5 ', 'White shark', 'White shark', 'White shark 5 5 m to 6 m 18 to 20 ', 'Shark involvement not confirmed', 'Bull shark 8', 'Bull shark 4 to 5 ', 'Mako shark 2 3 m 150 kg ', '1 2 m 4 shark', '4 m 13 shark', 'Shark involvement prior to death was not confirmed', 'White shark 5 5 m 18 ', 'White shark 3 m 10 k', 'Shark involvement prior to death was not confirmed', '2 1 m 7 lemon shark or bull shark', 'Questionable incident', 'White shark 4 8 m ', 'White shark', 'White shark 3 m to 4 m 10 to 13 ', 'White shark 3 5 m 11 5 species identity confirmed by tooth fragment', '2 7 m 9 shark', 'Tiger shark 6 ', 'White shark 4 5 m ', '6 to 8 shark', '12 to 14 shark', '0 9 m to 1 5 m 3 to 5 shark', 'Blue shark 2m ', '1 5 m 5 shark', 'Mako shark 180 kg 397 lb ', 'Shark involvement prior to death was not confirmed', 'Whale shark', 'White shark named Spotty ', 'White shark named Spotty ', '2 5 m 8 25 white shark', '4 m 13 shark', 'White shark 3 m 10 ', '6 shark', 'Bronze whaler shark', '2 4 m 8 shark', 'White shark', 'Grey nurse shark 10 ', '5 shark', 'Juvenile dusky shark', '6 shark', 'Shark involvement unconfirmed', 'Bronze whaler', 'Questionable incident', '1 2 m 4 shark', 'White shark 2 4 m 8 ', '1 5 m 5 shark', 'White shark', 'White shark', '12 shark', 'White shark 5 8 m 19 ', 'White shark 5m to 6m', '1 2 m 4 shark', '2 4 m 8 whaler shark', '4 shark', 'Invalid', 'Shark involvement prior to death was not confirmed', 'White shark 600 kg 1323 lb ', 'Shark involvement prior to death was not confirmed', '10 shark', 'Bronze whaler shark 6 ', '1 5 m 5 shark', '1 5 m 5 shark', 'Mako shark 3 m 10 ', 'White shark 3 m 10 ', 'Carpet shark 10 ', 'Copper shark 50 kg 110 b ', '8 blue shark', 'White shark 5 5 m to 6 m 18 to 20 ', 'White shark 4 m to 5 m ', 'Shortfin mako shark 2 3 m 7 5 ', 'White shark 5 m to 6 m 16 5 to 20 ', 'White shark 5 m to 6 m 16 5 to 20 ', 'White shark 4 5 m ', 'White shark 5 m 16 5 ', 'White shark 5 m ', 'White shark 5 5 m 18 ', 'small sharks ', '3 7 m 12 sharks', 'White shark 5 m 16 5 ', 'Raggedtooth shark 1 5 m 5 ', 'Juvenile dusky shark', '1 8 m 6 shark', 'White shark', '5 m white shark', 'White shark', 'Raggedtooth shark 1 m ', 'White shark', '2 m to 2 5 m 6 75 to 8 25 shark', 'Bronze whaler shark 4 ', '7 to 8 bull shark', 'White shark', 'Tiger shark', '12 shark', '1 5 m to 1 8 m 5 to 6 blacktip shark', '2 m shark possibly a dusky or blacktip shark', '1 m shark', '1 2 m to 1 8 m 4 to 6 shark observed in area', 'Tiger shark', 'Grey reef shark', '2 m to 3 m shark', 'White shark 3 m 10 ', 'Bronze whaler shark 10 ', 'Oceanic whitetip shark x 2', 'White shark 6 m 20 ', 'Questionable incident', '2 4 m 8 shark', 'White shark 10 ', 'Questionable incident', '4 5 shark', 'White shark 4 4 m to 5 m 14 5 to 16 5 ', '1 5 m grey reef shark', 'Thought to involve a tiger shark', '7 shark', 'Zambesi shark', 'White shark 2 5 m 8 25 ', 'White shark', '1 8 m 6 grey reef shark', 'White shark 3 m 10 rk', '5 to 6 shark', '1 5 m to 2 m shark', 'White shark 5 m to 6 m 16 5 to 20 ', 'White shark', 'Grey nurse shark 11 ', 'White shark 5 5 m to 6 m 18 to 20 ', 'White shark 3 m 10 species identity confirmed by witnesses tooth pattern in leg board ', '3 6 m porbeagle shark', '2 m 6 9 shark', 'White shark according to tooth pattern and witnesses', 'White shark 4 6 m 15 ', 'White shark', '1 8 m shark', '1 8 to 2 m C albimarginatus', '1 m shark', ' Dog shark ', 'Shark involvement prior to death was not confirmed', 'Mako shark', '7 5 shark', 'Raggedtooth shark 2 m 6 9 5 year old captive female ', 'Wobbegong shark ', 'Wobbegong shark', 'Shark involvement prior to death was not confirmed', 'Carpet shark', 'Zambesi shark', 'Zambesi shark', 'Zambesi shark', '8 blue shark', 'Blue shark', 'White shark', 'White shark', ' 2 4 m 8 shark', 'Oceanic whitetip shark', 'White shark 4 3 m 4 9 m 14 to 16 ', '4 shark', 'Nurse shark', 'White shark 5 m 16 5 ', '2 to 3 shark', 'Nurse shark', 'Considered a Doubtful incident', 'Lemon shark 9 ', 'Mako shark', 'White shark identified by tooth fragments in surfboard', '7 gill shark', 'Questionable incident', 'Carpet shark', '10 shark', 'Questionable incident', 'Grey nurse shark 10 ', 'White shark', 'White shark', '2 scalloped hammerhead sharks 1 5 m 1 8 m 5 6 ', 'Questionable incident', '90 kg blackfin shark', 'Shark involvement prior to death was not confirmed', '3 m 10 bull shark', 'Shark involvement not confirmed', 'White shark 4 3 m 14 tooth fragment recovered ', 'a small hammerhead shark', '2 m shark', 'White shark 4 m 13 ', '4m 13 shark', 'Not authenticated', '1 5 m to 2 m 5 to 6 75 Caribbean reef shark ', 'Blue shark', 'Shark involvement not confirmed', 'Shark involvement not confirmed', '2 7 m 9 silky shark', 'Bronze whaler shark 1 8 m 6 ', ' Blue whaler Galeolamna ', '1 5 m to 1 8m 5 to 6 shark', 'Invalid', '3 shark', 'Bronze whaler shark 3 m 10 ', 'Questionable incident', 'Questionable incident', '1 5 m to 1 8 m 5 to 6 shark', 'Questionable incident', 'Grey nurse shark', 'Grey nurse shark', 'Shark involvement prior to death was not confirmed', 'small blacktip shark', 'Shark involvement prior to death was not confirmed', '2 m shark', '3 7 m 12 shark', '5 blue shark', 'White shark', 'Shark involvement prior to death was not confirmed', 'Nurse shark 106 cm 28 lb male ', '1 5 m to 1 8 m 5 to 6 sandbar shark', '1 8 m shark', 'Questionable incident', 'Nurse shark 1 m ', 'White shark 4 to 5 m 13 to 16 5 ', 'Bronze whaler shark', 'Grey nurse shark', 'White shark 3 m 10 ', 'Grey nurse shark', 'Shark involvement prior to death was not confirmed', 'Thought to involve a white shark', '3 7 m 12 shark', 'White shark or thresher shark', '2 1 m 7 sandtiger shark', ' sand shark ', '2 1 m 7 shark', 'Grey nurse shark 1 5 m 5 ', 'Grey nurse shark 1 5 m 5 ', '1 8 m 6 shark', '3 7 m 12 shark', '3 7 m 12 shark', '3 7 m 12 shark', 'Bronze whaler shark 2 1 m 7 a tooth was embedded in the speargun ', 'Invalid', 'Mako shark 1 9 m 6 5 ', 'Nurse shark 2 5 ', 'Invalid', 'Invalid', 'A pack of 6 sharks', 'A pack of 6 sharks', 'White shark', '1 5 m to 2 1 m 5 to 7 shark', ' small shark ', 'Invalid', 'Spinner or blacktip sharks', 'Lemon shark or sandtiger shark', '4 shark', 'Invalid', 'Local authorities speculated that the water was too cold for sharks but a 2 1 m 7 200 lb pregnant sandbar shark was caught next day', '1 2 m 4 hammerhead shark', 'a small shark', '1 8 m 6 shark', 'Believed white shark and other smaller species of sharks involved ', 'Invalid', 'Alleged to involve a White shark 7 6 m 25 ', 'White shark 2 5 m 8 25 an immature female previously injured', 'Copper shark', 'White shark 3 m 10 ', 'Wobbegong shark 5 ', 'Shark involvement not confirmed', '1 5 m to 1 8 m 5 to 6 Zambesi shark', '76 cm 2 5 carpet shark', '1 8 m to 2 m 6 to 6 9 shark', 'Hammerhead shark', 'Shark involvement not confirmed', '1 8 m 6 carpet shark', 'Grey reef shark', '15 shark', '4 6 m 15 shark', 'Shark involvement not confirmed', 'Grey nurse shark 2 4 m 8 ', '1 8 m 6 180 lb shark', '1 8 m 6 180 lb shark', '2 sharks involved', ' small shark ', '0 9 m 3 shark', '300 kg 662 lb shark', 'Shark involvement not confirmed', 'Lemon shark 0 5 m', 'Questionable incident', 'Invalid', ' ', 'Bull shark', 'Invalid', 'White shark 10 to 12 ', 'Tiger shark tooth fragment recovered', 'Blacktip or spinner shark', 'Shark involvement prior to death was not confirmed', 'Mako shark', '1 8 m 6 136 kg 300 lb shark ', '1 2 m 4 shark', 'Shark involvement prior to death was not confirmed', 'White shark 3 7 m 12 ', '1 5 m 5 shark', '4 9 m 16 whaler', 'Nurse shark 0 94 m to 1 2 m 3 to 4 ', 'Small shark with white tipped dorsal fin', '1 5 m to 2 1 m 5 to 7 shark possibly a mako shark', 'Questionable incident', 'Raggedtooth shark ', '4 6 m 15 shark', '2 1 m 7 shark', 'White shark 2 4 m 8 ', 'White shark 2 7 m 9 1 750 lb ', 'Mako shark', 'Invalid', 'Grey nurse shark 1 8 m 6 ', 'Shark involvement prior to death was not confirmed', '1 8 m 6 shark', '1 8 to 2 4 m 6 to 8 shark', 'Invalid', '3 shark', 'Hammerhead shark', 'Less than 1 2 m 4 ', 'Nurse shark', 'Zambesi shark', 'Invalid', 'white shark', 'Shark involvement prior to death was not confirmed', '2 1 m 7 shark', '2 4 m 8 shark', 'Shark involvement prior to death was not confirmed', 'Lemon shark ', 'Tiger shark', '1 8 m 6 shark', '1 8 m 6 shark', '1 7 m 5 5 shark', '3 m shark', 'Tiger shark 3 5 m 250 lb female', 'White shark 3 m 10 ', 'White shark 1 5 m 5 k', ' sand shark ', 'White shark 3 m to 3 7 m 10 to 12 ', 'Shark involvement prior to death was not confirmed', '1 8 m 6 shark', 'Hammerhead shark', 'White shark 3 6 m 11 9 ', 'Wobbegong', 'White shark tooth fragment recovered ', 'Tiger shark', '2 1 m to 2 4 m 7 to 8 shark', 'Invalid', 'Zambesi shark 1 8 m 6 ', '1 8 m 6 shark', '4 3 m 14 1000 lb shark', 'Invalid', 'Dusky shark 1 m ', 'Wobbegong shark 3 ', 'White shark 1 7 m 5 5 ', '300 to 400 lb Zambesi shark', 'White shark', 'Tiger shark', 'Possibly a broadnose 7 gill shark', 'Tiger shark', ' 1 2 m 4 tiger shark', 'White shark 15 2 ', 'Silky shark 1 9 m 6 5 ', '6 shark', 'Dooley believed his Injury was caused by stingray Dasyatidae family ', '500 lb shark', 'White shark 4 m 13 rk', 'Invalid', '5 5 m 18 shark', '1 5 m 5 shark', 'Nurse shark 1 2 m 4 ', '8 sharks', 'Tiger shark', '1 2 m 4 shark', 'White shark 3 m ', '1 8 m 6 shark', 'Shark involvement not confirmed', 'Grey nurse shark', 'Hand found in gut of 2 9 m to 3 3 m 9 7 to 10 11 Galapagos shark C galapagensis', '1 8 m to 2 4 m 6 to 8 shark', '3 7 to 4 5 m 12 to 15 shark seen in vicinity', 'Shark involvement prior to death was not confirmed', 'Bronze whaler shark 3 m 10 ', 'White shark 2 1 m 7 ', 'Shark involvement prior to death was not confirmed', 'Tooth fragments of whaler shark were recovered a bull shark according to Edwards', 'Shark involvement prior to death was not confirmed', '193 lb shark', 'Grey nurse shark 1 8 m 6 ', ' 1 5 m shark', '1 m shark', 'Zambesi shark 2 m 6 9 ', 'White shark 16 2 312 lb ', 'Zambesi shark', 'Dusky shark 1 m ', 'White shark 4 3 m 14 or bronze whaler ', '2 m 6 9 87 5 kg 193 lb shark', '3 m 10 shark', 'Shark involvement prior to death was not confirmed', 'White shark 4 3 m to 4 9m 14 to 16 ', '3 m 10 blue whaler', '2 7 m 9 shark', 'Grey nurse shark', 'Shark involvement prior to death was not confirmed', ' Blacktip shark C maculipinnis 1 9 m to 2 1 m 6 5 to 7 ', 'White shark', '2 5 m 8 25 shark', ' A long thin brown colored shark ', 'Horn shar k Heterodontus francisci 1 2 m 4 ', '4 3 m 14 shark', 'Unknown', '1 8 m 6 shark', 'White shark', '3 5 m shark', '1 8 m to 2 4 m 6 to 8 shark', '2 m 6 9 shark', 'Blue shark', 'Questionable incident', 'Shark involvement not confirmed', '2 7 m to 3 m 9 to 10 sharks', '1 8 m 6 shark', 'Possibly a bronze whaler shark', ' Sevengill shark 1 2 m 4 ', 'Bronze whaler shark 3 7 m 12 ', 'Zambesi shark 1 2 m 4 ', '4 9 m 16 shark', '1 8 m 6 shark ', 'Bronze whaler shark 4 6 m 15 ', 'Possibly a bronze whaler shark', '1 2 m 4 shark', '1 8 m 6 shark', '3 7 m 12 shark', 'White shark 3 m ', '60 cm shark ', '1 5 m 5 shark', 'Bronze whaler shark 3m 10 ', 'Shark involvement prior to death was not confirmed', 'Said to involve a 4 9 m 16 red shark ', 'White shark 4 m 13 ', ' Grey nurse shark 3 m 10 ', 'Bronze whaler shark 2 1 m 7 shark', 'Said to involve a Grey nurse shark 3 7 m 12 ', 'White shark', '36 shark', 'White shark', 'Shark involvement prior to death was not confirmed', '2 7 m 9 shark', '1 8 m 6 shark', '3 m 10 shark', '3 m 10 shark', 'Zambesi shark', 'Grey nurse shark 2 4 m 8 ', '2 7 m 9 shark', 'Next morning a 3 m 10 shark was caught that had Andrews leg in its gut', '1 8 m 6 shark', 'Shark involvement prior to death was not confirmed', 'Shark involvement prior to death was not confirmed', 'Two shark s teeth recovered from canoe', 'White shark', 'Oceanic whitetip shar identified by Dr W C Schoeder on photograph Dr L P L Schultz on sketch by observer', '1 5 m to 1 8 m 5 to 6 shark', '1 m shark', 'Shark involvement prior to death was not confirmed', 'White shark 4 m 13 ', 'White shark', 'Blacktip shark 1 8 m to 2 1 m 6 to 7 ', '2 4 m 8 shark', '43 shark', 'White shark 5 2 m 17 2500 lb ', 'White shark 4 5 m ', 'Hammerhead shark', '2 7 m 9 shark', 'White shark', 'Hammerhead shark 500 llb ', 'Shark involvement not confirmed', 'Wobbegong shark 1 4 m 4 6 ', 'Zambesi shark', '2 m yellow belly captive shark Shark destroyed by aquarium staff next day', 'Tiger shark 3 m 10 ', 'Wobbegong shark O barbatus 1 8 m 6 identified by G P Whitley', ' gummy shark Rhizoprionodon or Loxodon 1 2 m 4 ', 'Zambesi shark', 'Grey nurse shark 2 7 m 9 200 lb ', 'Wobbegong shark 1 4 m 4 6 ', 'Bronze whaler shark 2 4 m 8 Identified by Clyde Buttery', '3 m 10 shark', 'White shark 3 7 m 12 ', 'Grey reef shark 1 8 m 6 grey reef shark identified by Dr L P L Schultz based on photographs identified as C melanopterus by Stewart', 'Zambesi shark 4 9 ', '2 banjo shark ', '1 5 m 5 shark', '2 1 m 7 90 kg shark', 'Grey nurse shark 2 7 m 9 ', 'Questionable incident', '4 6 m 15 shark', 'White shark', 'Wobbegong shark 1 5 m 5 ', 'White shark based on bite pattern', 'Hammerhead shark 1 8 m 6 ', 'Six Zambesi sharks seen to 1 5 m 5 in length', 'Shark involvement prior to death was not confirmed', '1 8 m 6 shark', ' 3 m shark', '3 m 10 shark', 'White shark 3 m 10 tooth fragment from wounds identified as that of a white shark', 'Grey nurse shark 1m ', 'Bull shark 1m ', '3 shark', 'Shark involvement prior to death was not confirmed', 'Wobbegong shark 1 8 m 6 ', 'White shark tooth fragments recovered from hull of boat ', '1 4 m 4 6 blacktip shark', 'White shark 3 7 m to 4 6 m 12 to 15 ', 'Shark involvement not confirmed', 'Questionable incident', 'White shark 18 mm tooth fragment recovered from the hull', 'Invalid', '2 4 m 8 600 lb shark', '3 7 m 12 shark', 'Invalid', 'Invalid', 'Shark involvement prior to death was not confirmed', 'Shark involvement not confirmed', 'Lemon shark 1164 mm immature male identified by V G Springer', '80 lb hooked shark', '2 4 m 8 shark', ' sand shark ', '7 shark', 'White shark 15 2 ', ' A small shark ', 'Mako shark 1 8 m to 2 1 m 6 to 7 with hook wire leader caught in mouth', 'Shark involvement prior to death was not confirmed', 'Dusky shark 2 7 m 9 dusky shark C obscurus identified by S Springer on tooth recovered', 'White shark 4 m to 5 m 13 to 16 5 ', 'Lemon shark 1 8 m 6 male N breviostris identified by W A Stark II later the same day a 6 8 pregnant female lemon shark bit the bow of the boat', 'White shark 2 1 m 7 based on tooth pattern', 'White shark 4 9 m 16 ', 'Bronze whaler shark 3 m 10 200 lb', 'Raggedtooth shark 100 lb ', 'Questionable incident', 'White shark 3 7 m 12 ', 'Sandtiger shark 2 1 m 7 ', '1 5 m 5 shark', 'Bronze whaler shark 3 7 m 12 identified by G P Whitley based on description', 'White shark', 'White shark tooth fragments recovered ', '1 2 m 4 possibly larger shark', '1 2 m 4 shark', 'Two 2 1 m 7 sharks', 'Bronze whaler shark 4 m 13 ', 'According to Benjamin the injury was inflicted by a barracuda not a shark', 'Tiger shark 3 4 m 11 captured', 'Tiger shark 14 ', 'Grey nurse shark 2 9 m 9 6 ', 'Shark involvement prior to deaths was not confirmed', '3 5 m 11 6 shark captured', 'Blue pointer', 'Bull shark', 'Wobbegong shark', '4 9 m 16 shark', '3 7 m to 4 6 m 12 to 15 shark', 'Shark involvement prior to death was not confirmed', 'Blacktail reef shark', 'Blacktip reef shark', '2 1 m 7 shark', '3 7 m 12 tiger shark', '2 4 m 8 shark', '2 7 m 9 shark', 'Invalid', 'Mako shark 4 3 m 14 ', '3 5 m 11 5 shark', ' a small shark ', '3 m to 4 3 m 10 to 14 shark', 'Invalid', 'Thresher shark 3 7 m 12 ', '6 m 20 shark', 'Blue shark 1 5 m 5 ', 'Carpet shark 1 5 m 5 ', 'White shark 5 m 16 5 identified by Dr W I Follett on tooth marks', '4 3 m 14 shark', 'Tiger shark 1 8 m 6 ', 'Shark involvement prior to death was not confirmed', 'A hammerhead shark then 8 to 10 other sharks were said to be involved', 'Said to involve white shark but species identify questionable', 'White shark 3 5 m 11 5 identified by W I Follett on tooth fragments', '6 shark', 'Questionable incident', 'White shark based on 2 teeth retrieved from rudder', 'Invalid', 'Questionable incident', 'Shark involvement prior to death was not confirmed', 'Invalid', '3 7 m 12 shark', '5 5 shark', 'Hammerhead shark 9 ', '20 kg shark', 'Blue shark 3 m 10 ', 'Invalid', 'Shark involvement prior to death was not confirmed', 'White shark 3 m to 5 m 10 to 15 ', 'Hammerhead shark 1 8 m 6 S zygena identified by C Limbaugh on description', 'Blue shark ', 'Hammerhead shark 2 4 m 8 ', 'Hammerhead shark 3 m 10 ', 'Blue shark 1 8 m 6 ', 'Nurse shark 60 cm 24 identified by Dr L P L Schultz on photograph', 'Oceanic whitetip shark 1 8 m 6 ', 'Reported to involve a White shark 6 m to 7m 20 to 23 ', 'Shark involvement prior to death was not confirmed', 'White shark 2 7 m 9 280 lb ', '1 2 m 4 shark', 'White shark 3 m 10 identifed by Dr W I Follett on tooth marks', 'Tiger shark 3 7 m 12 ', 'Questionable incident', 'Tiger shark 1 8 m 6 ', 'Tiger shark 4 3 m 14 ', 'Mako shark 2 4 m 8 300 lb identified by Dr L P L Schultz on photograph', '3 7 m 12 shark', '1 8 to 2 1 m 6 to 7 shark', 'Grey nurse shark 1 8 m 6 ', 'Bitten by several 1 8 m 6 sharks', 'Said to involve 2 sharks 5 2 m 6 m 17 20 ', '1 8 m 6 shark', 'White shark 1 8 m to 2 1 m 6 to 7 according to Shreuder and a witness', '1 4 m 4 5 shark', '1 5 m 5 shark', 'White shark ', '1 5 m to 1 8 m 5 to 6 sharks', 'Tiger shark 12 ', 'White shark', 'Tiger shark 4 6 m to 7 6 m 15 to 25 ', 'Tiger shark', '12 shark', 'Questionable incident', 'White shark', 'Blue shark', '200 lb shark', 'Hammerhead shark 5 2 m 17 ', '3 m shark', 'Tiger shark 1 5 m to 1 8 m 5 to 6 ', 'Tiger shark 1 5 m to 1 8 m 5 to 6 ', 'Sharks averaged 1 8 m 6 in length', 'Sharks averaged 1 8 m 6 in length', 'Nurse shark 1 5 m 5 identified by Dr E Clark on description of shark', 'Tiger shark 2 m TL', 'Nurse shark 2 1 m 7 identified by Dr E Clark on color tooth impressions', 'Tiger shark ', 'Nurse shark 1 1 m 3 5 ', 'Invalid', 'Invalid', 'Nurse shark 1 5 m 5 ', 'Mako shark 100 kg 221 lb ', '3 m 10 shark', '3 m 10 shark', 'Shark involvement prior to death was not confirmed', 'Nurse shark 1 5 m 5 ', '6 shark', 'Shark involvement prior to death was not confirmed', 'White shark', ' 1 m shark', '18 to 24 shark', 'Several sharks involved', 'White shark', '1 8 m 6 shark', ' 3 m 10 shark', 'Identified as carcharinid shark based on its behavior by Dr D P L Schultz mako shark according to Huges', '2 7 m 9 bull shark identified by Capt W Gray', 'Said to involve a 1 m white shark but thought that it was more likely a blue shark', 'White shark', '9 shark', 'Invalid', '4 6 m 15 shark', 'White shark', 'Wobbegong shark ', '4 m 13 shark', 'Shark seen feeding on turtle scraps thrown overboard prior to incident ', '1 2 m 4 shark', 'Said to involve a large mako shark', 'Shark involvement prior to death was not confirmed', '1 5 m 5 shark', '3 7 m 12 shark', '3 7 m 12 shark ', 'Bull shark', 'Bull shark', 'Bull shark', '2 4 m 8 tiger shark caught 40 hours later with shorts of the boy in its gut', 'Mako shark 125 lb ', 'White shark according to witnesses', '3 7 m 12 shark', 'Lemon shark', 'a sand shark', 'Blue shark', 'Tiger shark', 'White shark 13 10 1320 lb female ', '4 3 m 14 shark', 'Wobbegong shark 4 ', 'White shark 2 7 m 9 ', 'Porbeagle or white shark', '2 3 m 7 shark', '8 lb shark', 'White shark', '2 3 m 7 shark', 'White shark', 'Said to involve a 7 m 23 white shark', '3 7 m 12 shark may have been another shark nearby', '1 8 m 6 shark', '5 to 6 shark', 'White shark', '40 lb sand shark', 'Wobbegong shark', '6 shark', 'Survivors said 2 species of sharks were involved oceanic whitetip sharks and another species', 'Survivors said 2 species of sharks were involved oceanic whitetip sharks and another species ', '5 thresher or blue shark The shark was killed following the incident', 'White shark', 'Blue shark', ' a small shark ', 'Tooth fragments recovered from hull', 'Blue shark', '0 7 m 2 5 sand shark', 'White shark 6 5 m ', '2 4 m 8 shark', '2 m 6 75 shark', '6 shark', '6 shark', ' small brown colored shark ', 'Leopard shark 3 Triakis semifasciata identified by J W DeWitt 1955 ', 'White shark 5 m to 6 m 16 5 to 20 ', '3 6 m white shark or bronze whaler ', '4 m 13 shark x 6', 'Bronze whaler shark 3 7 m 12 ', ' a little shark ', 'Questionable incident', '1 5 m 5 shark', 'Blacktip reef shark 1 5 m 5 ', '20 shark', 'White shark 5 5 m 18 ', 'Shark involvement prior to death was not confirmed', '1 5 m 5 shark', '9 shark', 'Nurse shark 58 34 lb ', 'Nurse shark 58 34 lb ', '5m shark', 'Nurse shark 2 5 ', '2 4 m 8 shark possibly a dusky shark', 'Shark involvement prior to death was not confirmed', '2 4 m 8 shark', 'Shark involvement prior to death was not confirmed', 'White shark tooth fragment recovered from ankle identified by Dr W I Follett', '14 shark', 'Bull shark suspected due to freshwater habitat', 'Nurse shark 1 8 m 6 ', 'a small shark ', 'Bull shark suspected due to freshwater habitat', 'Bull shark suspected due to freshwater habitat', 'Said to involve a 4 m 13 shark', '3 7 12 shark', '80 lb sand shark', 'Hammerhead shark 1 5 m 5 ', 'Invalid', '3 m 10 shark seen in vicinity', 'White shark 3 7 m 12 500 to 500 kg 1 200 lb identified by W C Shroeder based on tooth fragment ebedded in gunwale', '2 m 6 9 shark ', '1 5 m 5 shark probable bull shark', '1 5 m 5 shark probable bull shark', '8 shark', 'Tiger shark', 'Wobbegong shark', 'Wobbegong shark', '10 to 12 shark', 'Wobbegong shark', '2 4 m 8 shark', 'Shark involvement prior to death was not confirmed', '200 lb shark', 'White shark 4 6 m 15 ', ' 6 7 m 22 shark', 'Shark involvement prior to death was not confirmed', '2m shark', 'Hammerhead shark 5 ', 'a small shark ', 'a small shark ', 'Tiger shark 1 5 m 5 ', 'White shark 2 m to 4 m 6 9 to 13 ', 'Carpet shark 5 ', ' A 2 0 6 m brown shark ', 'White shark 15 3 2 333 lb ', 'a small slim brown shark ', 'Bull shark 2 7 m 9 was captured dragged on the sand where tissue taken from Eggink was found in its gut Species identification was made by S Springer based on 4 photographs of the shark ', '8 shark', ' Attacked by a number of sharks ', 'Wobbegong shark 1 8 m 6 ', 'Invalid', '2 4 m 8 shark', 'White shark 1 8 m 6 ', 'White shark 2 4 m 8 ', 'Shark involvement prior to death was not confirmed', 'White shark', 'White shark', '2 1 m 7 shark', 'Wobbegong shark 4 ', '5 5 m 18 shark', '136 kg 300 lb shark', '1 2 m 4 shark', 'Shark involvement prior to death was not confirmed', 'Nurse shark 10 ', 'Wobbegong shark 6 ', '2 shark', 'White shark 3m seen in area and hooked 3 days later', '10 shark', 'White shark', '4 shark', '1 100 lb shark', '17 white shark', 'Hammerhead shark', 'Shark involvement prior to death was not confirmed', '0 7 m 2 5 shark', ' sand shark ', 'unknown possibly a white shark', '2 13 m shark', '1 5 m to 1 8 m 5 to 6 spear eye shark ', 'Invalid', 'small carpet shark', 'White shark 3 7 m 12 according to witnesses', 'Shark involvement prior to death was not confirmed', 'White shark 3 6 m 420 kg male', 'Possibly a lemon shark', 'Whtietip reef shark', 'Tiger shark 3 7 m to 4 3 m 12 to 14 ', 'Alleged to involve a white shark with little yellow eyes ', '2 7 m 9 shark with black tipped pectoral fins', 'Shark involvement not confirmed', 'Grey nurse shark 2 6 m 8 5 ', '6 shark', 'Shark involvement prior to death not confirmed', '2 m shark', 'Bonita sharkk 200 lb', 'Whaler shark 2 7 m 9 350 to 450 lb identified by G P Whitley', '3 shark', '3 3 m 10 9 shark', 'White shark 3 6 m 11 9 ', 'Invalid', 'Shark involvement prior to death not confirmed', 'White shark', 'His hand was found in a 2 4 m 8 tiger shark caught 1 5 1949', 'Said to be 6 4 m 21 shark', 'Lemon shark 4 ', 'Shark involvement prior to death not confirmed', ' grey shark ', '3 7 m 12 shark', '6 shark', 'Nurse shark', 'Grey nurse shark', 'Shark involvement prior to death not confirmed', 'Tiger shark', '5 5 m 18 shark', 'Possibly C leucas', 'a small shark', 'Most likely a small shark', 'Questionable', 'Tiger shark 14 ', '1 5 m 45 kg shark', 'Blacktip shark 2 m 6 75 ', '5 shark', '4 5 m 14 9 shark', ' 1 6 m shark', '7 shark', '4 3 m 14 shark', 'Possibly C leucas', '6 m 20 shark', 'White shark 4 2 m 13 9 ', 'small shark', '1 5 m 5 shark', 'Thought to involve a Zambesi shark', 'Bull shark', '9 shark', 'Tiger shark 4 5 to 5 5 m 14 9 to 18 2000 lb ', 'White shark according to witnesses', 'Invalid', '1 8 m 6 blacktip shark or spinner shark', '5 shark', 'White shark 2 4 m 8 ', 'Bull sharks to 1 5 m 5 in length', '2 1 m 7 shark', '14 shark', 'Shark involvement prior to death unconfirmed', 'White shark 2 m 6 9 Tooth fragment recovered from victim s shoulder identified by J T Nicholls ', 'Invalid', 'White shark 3 9 m 550 kg male', 'Invalid', 'Blue shark', 'Shark involvement prior to death unconfirmed', ' small sharks ', ' small sharks ', 'Bull shark', '1 8 m to 2 4 m 6 to 8 sharks most were oceanic whitetip sharks', 'White shark 4 5 m to 6 m 14 9 to 20 according to witnesses', 'Tiger shark 2 4 m to 3 m 8 to 10 ', 'Tiger shark others', 'Porbeagle shark', 'Shark involvement prior to death unconfirmed', 'Invalid', 'Invalid', 'Bull shark 4 m 13 ', '3 m 10 shark', 'Said to involve a 6 5 m 21 5 shark', '1 2 m to 1 5 m 4 to 5 shark', 'Said to be leopard sharks more probably tiger sharks', 'Reportedly oceanic whitetip sharks blue sharks tiger sharks bull sharks', 'Tiger shark', 'Tiger shark', 'Shark involvement prior to death unconfirmed', 'Mako shark', '100 lb shark', '2 1 m 7 shark', 'Mako shark aka bonito shark 1 2 m 4 ', '5 5 m 18 shark', '3 m 10 shark', 'White shark species identity confirmed by tooth pattern', 'Wobbegong shark', 'White shark 160 kg 353 lb identity confirmed by tooth pattern', ' a small shark ', '3 m 10 shark', '2 4 m 8 shark', ' White shark', 'Questionable incident', 'Questionable incident', 'Questionable incident', 'Questionable incident said to involve a 6 shark', '2 6 m 8 5 shark landed 2 hours later', 'Blue pointer 16 ', 'whaler shark', 'Tiger shark 4 3 m 14 3 tooth fragments retrieved from his wounds', '1 5 m 5 shark', 'Tiger shark', 'Nurse shark 2 1 m 7 ', '18 shark', ' a large shark ', '7 shark', '7 shark', 'Tiger shark', 'Tiger shark', 'Tiger shark 6 ', 'Thought to involve bull sharks', '6 shark', 'Bull shark', ' Tiger shark 3 ', 'Questionable incident', ' grey colored shark ', '12 shark', 'Tiger shark', 'Tiger shark 3 6 m 11 9 850 kg 1874 lb female contained Girvan s remains ', '2 4 m 8 shark', '2 6 m 8 5 shark', 'Basking shark', 'Basking shark', 'Basking shark', 'Tiger shark 9 to 10 ', 'Invalid', 'Invalid', 'Whaler shark 4 m 13 ', '4 shark', '2 days later a 600 lb shark was caught 100 yards from the site', 'Shark involvement prior to death was not confirmed', 'Shark involvement prior to death was not confirmed', 'White shark', '3 blue nosed shark', 'Shark involvement prior to death was not confirmed', 'Grey nurse shark 8 ', '6 m 20 shark', '3 m 10 shark', 'Thought to involve a 12 white shark', '0 9 m 3 shark', 'Large tiger shark seen in the vicinity the following morning', 'Shovelnose shark 6 m 20 ', 'White shark identified by Dr Hugh Smith ', 'Blue shark 8 2 4 m 500 lb ', 'Tiger shark 2 4 m 8 ', 'Tiger shark 4 6 m 15 ', '650 lb shark', '10 shark', 'White shark', 'White shark', 'Shark involvement prior to death was not confirmed', '2 3 m 7 shark', '4 3 m 14 shark', '3 7 m 12 shark', 'Invalid', 'Invalid', 'Invalid', '4 6 m 15 shark', 'White shark 246 kg ', '1 8 m 6 shark', 'Invalid', 'Tiger shark 3 m 10 ', ' Blue nose shark ', 'White shark 4 m 13 ', 'White shark 3 5 m to 4 m 11 5 to 13 ', 'Tiger shark 12 ', '2 sharks', 'Shark involvement prior to death unconfirmed', 'Invalid', 'Tiger shark 1 5 m 5 ', '1 5 m 5 shark', 'White shark 4 m 13 ', 'Invalid', 'White shark', 'Blue pointer 11 ', 'A 6 5 blue nosed shark ', '4 3 m 14 shark seen in vicinity', '4 m 13 shark seen in vicinity', 'Mako shark 3 7 m 12 identified by tooth fragments by G P Whitley', '3 4 m 11 tiger shark a 5 shark', '4 3 m 14 shark seen in area previous week', 'Tiger shark 3 4 m 11 ', 'Tiger shark', '3 sharks', 'Blue shark 4 5 m 14 9 ', 'Tiger shark', 'Thought to involve a 2 4 m 8 lemon shark two 2 4 m lemon sharks caught within 100 yds of the site a week prior to a week after this incident', 'Invalid', '7 to 8 shark', 'Possibly a bull shark or tiger shark', '10 shark', '4 4 m 14 shark', 'Blue shark', 'Thought to involve a mako or grey nurse shark', '16 800 lb shark', 'Shark involvement prior to death unconfirmed', 'Teeth in hull identified as those from a white shark 4 6 m 15 in length', '250 lb dog shark ', 'A small shark', 'Grey nurse shark', 'Raggedtooth shark 1 2 m to 1 5 m 4 to 5 ', '4 m 13 shark', 'Hammerhead shark 2 4 m 8 according to lifeguard Sam Barrows', 'Shark involvement prior to death unconfirmed', 'Shark involvement prior to death unconfirmed', 'small sharks', 'Tiger shark 3 m 10 ', '6 shark', ' a school of sharks ', '1 8 m 6 cocktail shark', 'Shark involvement prior to death unconfirmed', '1 5 m 5 shark', '7 shark s teeth found embedded in the woodwork of the boat', 'Tiger shark', 'Shark involvement prior to death unconfirmed', 'Shark involvement prior to death unconfirmed', 'White shark 4 9 m 16 ', 'White shark 4 5 m 14 9 identity confirmed by witness tooth pattern', 'Tiger shark', ' a small shark ', 'Shark involvement prior to death unconfirmed', '9 foot shark', 'Grey nurse shark 4 ', ' a dog shark ', ' a dog shark ', 'Blue pointer 12 ', 'Galapagos shark', '12 shark', 'Invalid', ' a dog shark ', '9 shark', ' Blue nose sharks ', 'Moreno s leg part of his swim suit found in 9 shark caught two hours after the attack Identified as carcharhinid shark by L Schultz C Limbaugh on photograph', '7 shark', 'Species unknown possibly a white shark', 'Shark involvement not confirmed', 'Tiger shark', '4 shark', 'Shark involvement not confirmed', 'Shark involvement not confirmed', '1 2 m 4 shark', 'White shark 4 4 m 14 5 ', 'Grey nurse shark ', 'Mako shark', 'Raggedtooth shark 1 5 m 5 ', '3 7 m 12 shark', 'Grey nurse shark 4 ', 'Said to involve 6 to 7 m 20 to 23 white shark', ' whiptail shark thresher shark ', '1 5 m 5 white shark or sevengill shark', 'Questionable 2m shark suspected', 'White shark 3 8 m 12 5 ', 'According to Carlsmith the shark s mouth was 3 wide', 'White shark 3 7 m 12 ', ' a blue shark ', 'Tiger shark 4 m 13 female', 'Shark involvement prior to death unconfirmed', 'Said to be a small shark ', '2 1 m 7 shark', '1 8 m shark', '10 shark', 'Mako shark 1 9 m 6 5 Tooth fragment recovered identified by J T Nichols ', '12 shark', 'Questionable', '3 5 m shark', 'Shark involvement prior to death unconfirmed', '3 m 10 shark', 'Shark involvement suspected but not confirmed', 'Shark involvement prior to death unconfirmed', ' a very large shark ', 'Shark involvement prior to death was not confirmed', 'Atkins remains were recovered from a dusky shark C obscurus by Capt W F Young shark fisherman', '2 7 m 9 blue shark', 'Shark involvement prior to death unconfirmed', ' A pack of 6 sharks ', '1 8 m 6 shark', '6 shark', 'White shark 12 identity confirmed by tooth fragment witness and photograph of captured shark ', '2 7 m 9 shark later captured by Mitchell Hedges', 'White shark 2 4 m 8 ', 'Shark involvement prior to death unconfirmed', 'White shark', 'Grey nurse shark ', 'Blue shark 4 ', 'Questionable', '4 to 5 shark', 'Comrades saw shark s tail appear about 5 away', '15 to 24 dog shark', 'Questionable', '15 ', '3 7 m 12 1200 lb shark Shark caught its jaw exhibited at the Carnegie Museum', 'Shark involvement prior to death unconfirmed', '3 7 m to 4 3 m 12 to 14 shark', '12 shark', '13 shark', 'Tiger sharks 2 4 m to 4 9 m 8 to 16 ', '12 shark', '12 shark', 'Said to involve a 2 7 m 9 shark', '3 m 10 shark', 'Thought to involve a 2 6 m 8 5 white shark', 'Thought to involve a 2 6 m 8 5 white shark', 'Shark involvement prior to death unconfirmed', '3 m 10 shark', 'Shark involvement prior to death unconfirmed', 'Reported to involve a 3 7 m 12 shark possibly a white shark', 'A 20 shark known as Old Tom ', '1 5 m 5 shark', '6 m shark', '3 shark', 'Shark involvement prior to death unconfirmed', 'said to involve a tiger shark', '13 shark', 'Said to involve a 2 4 m 8 hammerhead shark', '2 m shark', 'Shark involvement prior to death unconfirmed', 'Shark involvement prior to death unconfirmed', 'Shark involvement prior to death unconfirmed', 'Tiger shark ', '8 shark', 'Shark involvement prior to death unconfirmed', '2 8 m 9 3 whaler shark captured 3 days later with his remains in its gut', 'C macrurus captured 48 hours after attack with tissue removed from man in its gut species identified by G P Whitley reported as C obscurus by R Steel', 'White shark', 'Shark involvement prior to death unconfirmed', '5 shark', 'Questionable', 'Angel shark', 'Said to involve 9 blue shark', 'Shark involvement prior to death unconfirmed', '6 shark', 'Invalid', '5 5 to 6 shark', 'Shark involvement prior to death unconfirmed', '6 m 20 shark', '7 shark', '5 shark', '18 foot shark', 'Questionable', 'Questionable', 'Shark involvement prior to death was not confirmed', 'Remains recovered from 3 sharks', 'Questionable', 'Species unknown possible white shark', 'Allegedly a 33 foot shark', 'Questionable', 'Bull shark', 'Shark involvement probable', 'Shark involvement probable', 'Invalid', 'Questionable', 'Questionable', '1 5 m 5 shark', 'White shark 6 m ', 'Shortfin mako shark 175 lb ', 'Remains recovered 5 days later', 'Fishermen recovered partial remains from shark a week later', 'Questionable', '13 shark', 'Questionable', 'Questionable', '1 8 m to 2 7 m 6 to 9 shark', '2 4 m 8 shark', 'Shark involvement not confirmed', 'Tiger shark 3 9 m', 'Shark involvement prior to death was not confirmed', '5 shark', 'Questionable', 'Questionable', 'Invalid', '20 shark', 'Questionable', '9 shark', 'Bull shark', 'Questionable', 'Questionable', '2 m shark', 'White shark', 'Questionable', 'Questionable', 'Questionable', ' ', 'Questionable', '20 shark', 'Basking shark', '3 m 10 shark', '70 kg shark', 'Shark involvement not confirmed', 'Shark involvement not confirmed', 'Questionable', '1 5 m 5 shark', 'Questionable', 'Questionable', 'White shark', 'Questionable', '3 sharks', '13 10 shark', '12 to 14 shark', 'Questionable', '5 shark', '12 shark', '10 to 12 shark', 'Shovelnose shark 5 ', '1 8 m shark', '20 shark', 'Invalid', 'Shark involvement prior to death unconfirmed', 'Invalid', '16 shark', '12 shark', 'Shark involvement prior to death unconfirmed', 'Shark involvement prior to death unconfirmed', '5 7 shark', 'Invalid', 'Sevengill shark 14 was caught in the vicinity', 'Shark involvement prior to death unconfirmed', 'Shark involvement prior to death unconfirmed', '18 shark', '5m 3500 kg female shark', 'Shark involvement prior to death unconfirmed', 'Shark involvement prior to death unconfirmed', 'Shark involvement prior to death unconfirmed', 'Unknown but the shark was caught and put on exhibition', '12 to 14 shark', 'Shark involvement prior to death unconfirmed', '13 shark', '4 7 m 15 5 shark', 'Shark was said to have a very rough ½ thick skin ', '3 m 10 sharks', 'Shark involvement prior to death unconfirmed', 'Shark involvement prior to death unconfirmed', 'Questionable', 'Shark involvement prior to death unconfirmed', '15 shark', '3 m 10 shark', '14 shark', '10 shark', 'Questionable', 'Said to involve 2 sharks', '7 shark', '14 shark', 'Shark involvement prior to death unconfirmed', 'a school of sharks', '4 to 5 shark', 'Shark involvement prior to death unconfirmed', 'Shark involvement prior to death unconfirmed', 'White sharks', 'Bull shark', '10 shark', 'Shark involvement prior to death unconfirmed', '12 shark', 'Shark involvement prior to death unconfirmed', 'Invalid', '3 sharks', '2 5 m shark', 'Shark involvement prior to death unconfirmed', 'Tiger shark', ' a small shark', '15 shark', '8 shark', '13 shark', 'Shark involvement prior to death unconfirmed', '7 gill shark', '6 shark', 'Shark involvement prior to death unconfirmed', 'Blue or porbeagle shark', 'Invalid', 'Shark involvement questionable', '10 shark', '68 shark', 'White shark', 'Shark involvement prior to death unconfirmed', 'Hammerhead shark', 'Invalid', 'Shark involvement prior to death unconfirmed', 'Shark involvement prior to death unconfirmed', 'Wobbegongs', 'Tiger shark 7 ', 'Shark involvement prior to death unconfirmed', 'White shark', 'Identified as C gangeticus by Dr J Fayrer', ' Shark caught later ', 'Shark involvement prior to death unconfirmed', '1 5 m shark', '3 shark', 'Shark involvement prior to death unconfirmed', '2 sharks', 'Shark involvement prior to death unconfirmed', 'Questionable incident', 'Shark involvement prior to death unconfirmed', '16 shark', '16 shark', '4 ground shark ', 'Remains recovered from shark caught days later', 'Shark involvement prior to deaths unconfirmed', 'Shark involvement prior to death unconfirmed', 'Invalid', 'White shark', 'Tiger shark pregnant ', '234 lb shark', 'White shark', 'Shark involvement prior to death unconfirmed', 'Shark involvement prior to death unconfirmed', 'Invalid', 'White sharks', 'Said to involve a 6 m to 7 3 m 20 to 24 shark', '18 shark', 'Shark involvement prior to death unconfirmed', 'Shark involvement prior to death unconfirmed', 'Shark involvement prior to death unconfirmed', 'Said to be a 7 6 m 25 shark', ' a large shark ', 'Shark involvement prior to death unconfirmed', 'Shark involvement prior to death unconfirmed', 'Reported to involve a hammerhead shark', 'Invalid', 'Shark involvement prior to death unconfirmed', 'Invalid', 'Shark involvement prior to death unconfirmed', 'Thought to involve a porbeagle or mako shark', 'Shark involvement prior to death unconfirmed', '12 shark', 'Tiger shark ', 'White sharks', 'Description of shark does not ring true', ' The fish was harpooned dried and presented to the sailor who went round Europe exhibiting it It was said to be 20 feet long ', 'Shark involvement prior to death unconfirmed', 'White shark 1600 lb female ', 'White shark', 'Questionable', 'Possibly white sharks', ' Galapagos shark 6 ', 'Basking shark', 'Blacktip shark 5 ', 'said to involve 2 5 m hammerhead sharks', 'Whale shark', 'Tiger shark', 'Tiger shark', '1 8 m 6 shark', 'Silvertip shark', 'A large hammerhead shark', 'Bull shark', 'Nurse shark 2 1 m 7 ', 'Questionable', 'Shovelnose guitarfish adult male ', 'Invalid', '0 9 m 3 shark', '1 8 m 6 shark', ' A pack of sharks ', 'Tiger shark', 'Bull shark', 'Bull shark', 'White shark 7 to 8 ', 'White shark 1 900 lb ', 'Nurse shark 2 1 m 7 ', 'Bull shark caught leg recovered buried beside the man s body', '1 2 m 4 shark', 'Bull shark', ' a black tipped shark ', '6 shark', 'White shark', '12 tiger shark', 'Blue pointer', 'Blue pointer', 'Blue pointers', 'Said to involve a grey nurse shark that leapt out of the water and seized the boy but species identification is questionable']\n"
     ]
    }
   ],
   "source": [
    "Species2_values= []\n",
    "for i in df3['species2'].values:\n",
    "    Species2_values.append(i)\n",
    "print(Species2_values)"
   ]
  },
  {
   "cell_type": "code",
   "execution_count": 29,
   "id": "a72d7ce1",
   "metadata": {},
   "outputs": [
    {
     "data": {
      "text/plain": [
       "3464"
      ]
     },
     "execution_count": 29,
     "metadata": {},
     "output_type": "execute_result"
    }
   ],
   "source": [
    "len(Species2_values)"
   ]
  },
  {
   "cell_type": "code",
   "execution_count": 30,
   "id": "02d0395d",
   "metadata": {},
   "outputs": [
    {
     "name": "stderr",
     "output_type": "stream",
     "text": [
      "C:\\Users\\pagob\\AppData\\Local\\Temp\\ipykernel_10164\\3392782633.py:1: SettingWithCopyWarning: \n",
      "A value is trying to be set on a copy of a slice from a DataFrame.\n",
      "Try using .loc[row_indexer,col_indexer] = value instead\n",
      "\n",
      "See the caveats in the documentation: https://pandas.pydata.org/pandas-docs/stable/user_guide/indexing.html#returning-a-view-versus-a-copy\n",
      "  df3['species2']=df3['species2'].apply(lambda x: re.sub(r'\\d.?', '', x, flags=re.IGNORECASE))\n"
     ]
    }
   ],
   "source": [
    "df3['species2']=df3['species2'].apply(lambda x: re.sub(r'\\d.?', '', x, flags=re.IGNORECASE))"
   ]
  },
  {
   "cell_type": "code",
   "execution_count": 31,
   "id": "d9e6ddc7",
   "metadata": {},
   "outputs": [],
   "source": [
    "shark_not_involved = df3['species2'] == 'Shark involvement prior to death unconfirmed'\n",
    "df3 = df3.drop(df3[shark_not_involved].index)"
   ]
  },
  {
   "cell_type": "code",
   "execution_count": 32,
   "id": "9d99d508",
   "metadata": {},
   "outputs": [],
   "source": [
    "shark_not_involved2 = df3['species2'] == 'Shark involvement prior to death not confirmed'\n",
    "df3 = df3.drop(df3[shark_not_involved2].index)"
   ]
  },
  {
   "cell_type": "code",
   "execution_count": 33,
   "id": "36890265",
   "metadata": {},
   "outputs": [],
   "source": [
    "shark_not_involved3 = df3['species2'] =='Shark involvement suspected but not confirmed'\n",
    "df3 = df3.drop(df3[shark_not_involved3].index)"
   ]
  },
  {
   "cell_type": "code",
   "execution_count": 34,
   "id": "89d8d154",
   "metadata": {},
   "outputs": [],
   "source": [
    "invaled = df3['species2'] =='Invalid'\n",
    "df3 = df3.drop(df3[invaled].index)"
   ]
  },
  {
   "cell_type": "code",
   "execution_count": 35,
   "id": "4c4a120f",
   "metadata": {},
   "outputs": [
    {
     "data": {
      "text/plain": [
       "3277"
      ]
     },
     "execution_count": 35,
     "metadata": {},
     "output_type": "execute_result"
    }
   ],
   "source": [
    "Species2_values= []\n",
    "for i in df3['species2'].values:\n",
    "    Species2_values.append(i)\n",
    "len(Species2_values)"
   ]
  },
  {
   "cell_type": "code",
   "execution_count": 36,
   "id": "69093f0e",
   "metadata": {},
   "outputs": [
    {
     "name": "stdout",
     "output_type": "stream",
     "text": [
      "['White shark', 'm shark', 'Tiger shark ', 'Tiger shark', 'Lemon shark ', 'Bull shark ', 'Grey reef shark', 'Invalid incident', 'Tawny nurse shark ', 'Shark involvement not confirmed', 'Questionable', 'White shark m', 'shark', 'Juvenile bull shark', 'Bull shark', 'Tiger shark  ', 'Wobbegong shark', 'Blacktip shark', 'Juvenile white shark to m', 'Bull shark m', 'Possibly a wobbegong', 'Injury believed caused by an eel not a shark', 'Galapagos shark ', ' shark', 'Bull shark m ', 'Grey reef shark m', 'small shark', 'Wobbegong shark ', 'Juvenile nurse shark', 'Nurse shark ', 'Tiger shark female', 'Some drowned but other may have been killed by blue sharks', 'Cookiecutter shark', 'Wobbegong shark m', 'Spinner shark to feet', 'Tiger shark to  feet', 'Death may have been due to drowning', 'to shark', 'Porbeagle m', 'White shark ', 'White shark to  ', 'Nurse shark', 'Shark involvement questionable', 'White shark to ', 'Possibly a juvenile blacktip shark', 'Oceanic whitetip shark to m', 'White shark  ', 'A small shark', 'Sandtiger shark ', 'Blue shark ', ' A small shark ', 'White shark  to  ', 'Bull shark to ', 'Tiger shark kg', 'No shark invovlement ', 'Seven gill shark', ' shark probably a smooth hound', 'Shark involvement highly doubtful', 'No shark invovlement it ws a publicity stunt', 'Lemon shark', 'Lemon shark pup', 'White shark female  ', 'Caribbean reef shark', 'a small shark', 'Broadnose sevengill shark m', ' to shark', 'Blue shark', 'reef shark ', 'Angel shark', 'dogfish shark', 'Tawny nurse shark', 'Caribbean reef shark ', 'Said to involve an shark but more likely damage caused by debris', 'Mako shark', 'Bronze whaler sharks x ', 'Blacktip shark ', 'Mako shark m ', 'Tiger shark m', 'Nurse shark ft', 'Bronze whaler', 'Sandtiger shark', 'No shark involvement', 'Reef shark ', 'Bull sharks x ', 'Silky shark ', 'Bronze whaler shark ', 'Tiger shark m ', 'Galapagos shark', 'Spinner shark ', 'Bull shark to m', 'Hammerhead sp ', 'Blacktip shark to ', 'juvenile shark', 'Hammerhead shark', 'Hammerhead shark ', 'shark ', 'Hammerhead shark to ', 'Blacktip or spinner shark ', 'Thought to involve a to shark but shark involvement not confirmed', 'White shark to m', 'Mako shark lb', 'Shark involvement not cofirmed', 'White shark  to m', 'small nurse shark', ' to m shark', 'to foot shark', 'Blue shark to feet', 'Blacktip Reef shark ', 'to m shark', 'm to m shark', 'White shark or oceanic whitetip shark', 'Raggedtooth shark m', 'Shark involvement prior to death still to be determined', 'Shark involvement not confirmed highly unlikely', 'Goblin shark', ' to  shark', 'to  shark', 'white shark  ', 'Spinner shark', 'Spinner shark or blacktip shark', 'reef shark', ' Bull shark ', 'Bull shark to  ', 'tp shark', 'Possibly juvenile tiger shark', 'metre shark', ' White shark ', 'Oceanic whitetip shark ', 'Caribbean reef shark to ', ' Lemon shark m', ' Sandbar shark to ', ' Bull shark  ', ' Tawney nurse shark ', ' white shark  ', 'Cow shark', ' Raggedtooth shark ', 'm to m white shark', 'Blacktip reef shark ', 'gill shark ', 'gill shark', 'Oceanic whitetip shark', 'Reported to involve a bull shark', 'Tiger shark  to  ', ' Wobbegong shark to  ', 'Thought to involve a white shark', 'Reported to involve a white shark', 'Thought to involve a bull shark', 'Reported to involve a m white shark', 'Whitetip reef shark to ', 'Small bull shark', 'Salmon shark', 'Mako shark ', 'Tiger shark to  ', 'Possibly a Bull shark ', 'Wobbegong ', 'Grey nurse shark ', 'Possibly a blacktip reef shark', 'shark involvement not confirmed', ' small sharks ', 'Bull shark  ', 'Possibly a m bull shark', 'Porbeagle shark ', 'Lemon shark to ', 'Lemon shark  to  ', 'White shark or bronze whaler', 'Salmon shark suspected but unlikely', 'possibly a bull shark', 'a small reef shark', 'small blacktip shark ', 'Tiger shark to ', 'White shark m to  ', 'Possibly a bull shark', 'Possibly a to bull shark', 'Tawny nurse shark cm', 'Grey nurse shark', 'Blue shark  kg blue shark', 'Allegedly a m tiger shark', 'to shark ', 'Raggedtooth shark', 'Port Jackson shark ', 'shark possibly a blactip or spinner shark', 'Possibly a to sandtiger shark', 'Grey reef shark ', 'White shark  to ', 'Bull shark  female', 'White shark k', 'Sevengill shark to ', 'Zambesi shark', ' Tiger shark ', 'Sandbar shark ', 'possibly a bronze whaler shark', ' Bull shark m', 'Blacktip shark pup', 'White shark x ', 'Oceanic whitetip shark  ', 'Oceanic whitetip shark  female', 'Possibly a lemon shark', 'Shark involvement prior to death was not confirmed', 'Possibly a small blacktip shark', 'Sandtiger shark to ', 'A small spinner shark', 'Nurse shark juvenile ', ' to kg shark', 'Possibly a blue shark', 'Thought to involve a juvenile hammerhead shark', 'Whitetip reef shark ', 'Zambesi shark  ', 'White shark to m ', 'Thresher shark', 'Spurdog', 'White shark to juvenile ', 'Thought to involve a Bronze whale shark ', 'Shark involvement probable but not confirmed', 'Oceanic whitetip shark to ', ' kg shark', 'blacktip or spinner shark', 'White shark  to  female', 'Blacktip reef shark pup', 'Thought to involve a cookie cutter shark', 'Wobbegong shark cm', 'White shark m ', 'White sharks', 'Dusky shark ', 'Broadnose sevengill shark', 'to  white shark', 'Raggedtooth shark ', 'Zambesi shark ', 'Bronze whaler shark', ' reef shark ', 'm white shark', 'to juvenile shark', 'bull shark or Caribbean reef shark', 'white shark or gill shark', 'to reef shark', 'Starry smoothhound shark ', 'Basking shark', 'Tiger sharks in area', 'small bull sharks', 'Tiger shark  female', 'Reported by media as shark attack but shark involvement prior to death was not confirmed', 'Shark involvement not confirmed thought to be a barracuda bite', 'A bull shark according to some of the divers on the boat', 'Goblin shark ', 'Mako shark kg', 'Nurse shark  ', 'Possibly a hammerhead shark', ' a small shark ', 'Not a shark attack it was a hoax', ' m shark', 'Oceanic whitetip sharks were in the vicinity', 'Gray reef shark', 'Nurse shark to ', 'Possibly a spinner shark', 'Sand shark', ' ', 'Possibly a  bull shark', 'Bronze whaler shark m ', 'small spotted catshark Scyliorhinus canicula', 'Questionable Incident', 'Lemon shark female ', 'A  year old  pound pregnant blacktip reef shark', 'Lesser spotted dogfish Scyliorhinus canicula less than  cm in length', 'Lemon shark m ', 'to shark possibly a tiger shark', 'Raggedtooth shark kg', 'small catsharks', 'Thought to involve a mako shark but possibly a sea lion', 'Angel shark  ', 'Shark involvement not confirmed injury may have been caused by a bluefish', 'Bull or tiger shark', 'to spinner or bull shark', 'm blacktip reef shark', 'Possibly a to blacktip or spinner shark', ' white shark', 'Grey reef shark to ', 'Wobbegong shark m ', 'Bull shark to bull shark', 'Bronze whaler shark a juvenile ', 'Raggedtooth shark m to m ', 'm kg shark', 'Bronze whaler shark m', 'Said to involve a m shark', 'Whitetip reef shark', 'Raggedtooth shark  ', ' to  white shark', 'Tiger shark less than  ', 'Caribbean reef sharks', 'm  white shark', 'm  shark kg shark T', 'juvenile white shark', 'Possibly a sandbar shark or small blacktip shark', 'm  shark', ' to ', 'm bull shark', 'On   anglers from New Zealand caught a m kg lb shark at the same spot It was believed this was the same shark that killed Alysha', 'Unknown but it was reported that a shark tooth was recovered from the wound', 'Mr Burgess of ISAF announced the injury was the bite of a m to year old white shark Subsequent investigation revealed there was no shark involvement in this incident', ' small shark ', 'Tiger shark m  ', 'm  copper shark', 'm blacktip shark', 'small hammerhead shark', 'Sandtiger shark m ', 'Bronze whaler shark m  ', 'm Caribbean reef shark', 'Bronze whaler shark m to m  to  ', 'm m white shark ', 'm  bull shark', 'm to m to white shark', 'Tiger shark m to m to  ', 'Raggedtooth shark to m to  ', 'Thought to involve a m bull or tiger shark', 'm to m  to  white shark', 'm to m to shark', 'Longfin mako shark m  kg lb ', 'sharks m m ', ' black tipped shark', 'white shark', 'm to m to  shark', 'm Caribbean reef shark Carcharhinus perezi ', 'Wobbegong shark m k', 'White shark m  ', 'small sharks', 'bull shark', 'm  sevengill shark', ' cm  blind or brown shark', 'Possibily a to m sandtiger shark', 'Shark involvement doubtful', 'Bull shark  m was speared killed', 'Bull shark kg lb ', 'Mako shark m to m  to  ', 'Raggedtooth shark m  ', 'Shortfin mako shark', 'oceanic whitetip shark', 'Nurse shark  cm to  cm to ', 'm shark either a bronze whaler or a grey nurse shark', 'm grey colored shark ', 'm cow shark', 'Unidentified species', 'great hammerhead shark', 'cm shark', ' small brown shark ', 'm to m  to  shark', ' sand shark ', 'm reef shark or a m to m to grey colored shark', ' cm to  cm to bite diameter just below left knee', 'Mako shark m  ', ' cm captive shark', 'Species unidentified', 'Thought to involve a m  grey nurse shark', 'Thought to involve a m  bull shark', 'Reported to involve a hammerhead shark', 'White shark m white shark', 'Shark involvement not confirmed injury may be due to a stingray', 'm to m to  grey colored shark', 'm to m to Caribbean Reef Shark ', 'Possibly a bull shark or tiger shark', 'Blacktip or spinner shark', 'Tiger shark m k', 'to hammerhead or bonnethed shark', 'Nurse shark m ', 'Sandtiger shark m  ', 'm blacktip or sandbar shark', 'Bull shark m to m to ', 'Mako shark lb ', 'm to m to shark possibly a bull shark', 'Tiger shark m to m to ', 'm to m to shark Tooth fragment recovered from hand', 'to m to  copper shark', 'blacktip shark', 'White shark   ', 'Bull shark lb ', 'Spinner shark to ', 'Shark involvement prior to death unconfired', 'm whaler shark ', 'C leucas tooth fragment recovered from kayak', 'Unidentified', 'Questionable incident shark bite may have precipitated drowning', ' sandtiger shark', 'A large white shark was filmed by divers on a local wreck days prior to the incident ', 'Possibly a blacktip or spinner shark', 'shark possibly a blacktip or spinner shark', 'Mako shark  ', 'White shark m to m to  ', 'Possibly a juvenile blacktip or spinner shark', 'Possibly a m blacktip or spinner shark', 'm shark possibly whitetip reef shark', 'Spinner shark m to m to ', 'Bronze whaler shark m  k', 'm to m to black finned shark ', 'Porbeagle shark m  rk', 'to m to shark', 'White shark m to m  to  ', 'kg lb dead blue shark', ' cm to  cm to shark', 'White shark m  male ', 'Thought to involve a Zambesi shark', 'A shark was seen in the area by witnesses', 'Thought to involve a m lb bull shark', 'Tiger shark m to m  to  ', 'Blacktip shark m to m to  ', 'm grey colored shark', 'Grey reef shark m  ', 'Lemon shark m to m to ', 'm shark probably a blacktip or spinner shark', 'Blacktip shark m to m to ', 'Tiger sharks bull sharks  sharks in all ', 'Shortfin mako shark m to m  to  ', 'Miami a  cm blacktip shark and two  cm bamboo catsharks', 'Sevengill shark', 'Thought to involve a white bull or tiger shark', 'Grey reef shark m ', 'Said to involve a m  white shark', 'm bull shark or Caribbean reef shark', 'Blacktip shark m ', 'bull sharks', 'Sevengill shark m ', 'to kg shark', 'Mako shark m gaffed ', 'm to m  to  shark seen in the vicinity', 'Bronze whaler or tiger shark', 'Possibly a white shark', 'A small shark ', 'Though to involve a white shark', 'Dusky shark  ', 'Caribbean reef shark m to m to ', 'Sandtiger shark m male ', 'Raggedtooth shark m ', 'Thought to involve a m white shark named Kong', 'Lemon shark m identified by the surfer', 'm shark possibly a blacktip', 'spinner shark', 'Small dusky shark or blackfin shark', 'sandtiger shark', 'Shark involvement prior to death suspected but not confirmed', 'Possibly a blacktip shark', 'Soupfin shark', 'small blacktip shark', 'Thought to involve an oceanic whitetip shark or a white shark', ' juvenile shark ', 'm shark spinner shark ', 'Possibly a sand shark', 'Possibly a Caribbean reef shark', ' to m white shark', ' a young shark ', 'm to m to hammerhead shark', 'said to involve an oceanic whitetip shark', 'm  white shark ', ' cm to  cm to blacktip or spinner shark', 'nurse shark', 'Possibly a tiger shark', 'Tiger shark kg lb ', 'm to m  to  bull shark', ' sand shark', 'Two m to m to sharks', 'White shark tooth fragment recovered ', 'Though to involve a tiger shark', 'Leopard shark', 'Thought to involve a small sand shark', 'Small shark', 'to m  to  bull shark', 'm spinner shark', 'm  kg lb bull shark', 'Tiger shark said to be to m  to  ', 'On  Jan  his remains washed ashore A m tiger shark thought to be involved', 'Tiger shark caught days later with diver s remains in its gut', ' m  white shark', 'm blacktip shark or Caribbean reef shark', ' m white shark according to witnesses', 'm to m to shark tooth fragments recovered ', 'Thought to involve a tiger shark', 'Remains recovered from m  white shark', 'Possiby white shark', 'Tiger shark m  tooth fragment recovered from wound ', 'Two m  oceanic whitetip sharks', 'to blacktip shark', 'm hammerhead shark', 'Unidentified shark', 'm to m  to  white shark ', 'Questionable incident', 'Nurse shark  lb ', 'Bull shark or lemon shark', 'White shark identification by K Nakaya', 'm  kg white shark', 'm  white shark identification by K Nakaya', 'Said to involve a m to m  to  white shark', 'm grey shark', 'Zambesi shark m ', 'Possibly a m blacktip shark', 'Tiger shark m m to  ', 'm  kg lb shark', 'sand shark', 'Lemon shark  lb ', 'm lb reef shark', 'Tiger shark to m  to  ', 'm bull or lemon shark', 'm  female white shark named Notchfin ', 'kg m shark', 'female shark', ' Shark had a very large girth ', 'Grey nurse shark m', 'm shark ', 'Shark involvement prior to death could not be determined', 'm hammerhead', 'm  white shark identified by witnesses tooth marks', 'm white shark identified by M Smale', 'Two sharks seen in vicinity m  m  TL', 'm shark possibly a bronze whaler', 'White shark identified by tooth pattern', 'lb shark', 'to m white shark', 'Sandbar shark', 'Blue Shark ', 'm sandtiger shark', 'm  gaffed shark', 'silvertip shark', 'm to m to  white shark', 'Sand shark ', 'Zambezi shark tooth fragments recovered ', 'Mako shark m  kg lb ', 'm copper shark', ' to  sharks attacked survivors in the water', 'Bronze whaler shark m to m ', 'Doubtful Unconfirmed attack Unable to verify in local records', 'm to m to spinner or blacktip shark', 'Raggedtooth shark  m kg ', 'Lemon shark m to m to tooth fragment recovered', 'Tooth fragment of a white shark recovered Authorities believed shark was m  total length', 'm dusky shark', ' m white shark', 'm to m  to  sixgill or sevengill shark', 'Thought to involve a Tiger shark m  ', 'm silky shark', 'Possibly a small hammerhead shark', ' kg  lb shark', 'm white shark tooth fragments recovered', 'Shark involvement not confirmed officials considered barracua', 'Hammerhead shark O', 'small blue shark', 'm to  white shark', 'Raggedtooth shark  kg lb ', ' m dusky shark', 'm white tipped reef shark', 'to bull shark', 'hammerhead shark', 'Raggedtooth shark m tooth fragment recovered ', 'm Zambezi shark', 'Blue sharks', 'Believed to involve a m white shark', 'Questionable incident reported as shark attack but thought to involve a pinniped instead ', 'm shark possibly a spinner shark', 'm white shark species identity confirmed by tooth fragment', 'Reported as a shark attack the story was a hoax', 'm white shark species identity confirmed by witnesses tooth pattern in surfboard', 'm to m to reef shark ', 'm  kg  lb hooked shot white shark', 'm shark with a very flat head that had followed the boat for days', 'Said to involve a tiger shark or a hammerhead shark', 'm shark species identity questionable', 'Shark involvement prior to death remains unconfirmed', 'Mako shark tooth fragments recovered ', ' sandshark ', 'Possibly a m Zambezi shark', ' gray shark ', ' lb thresher shark', 'm to m to bull sandbar or dusky shark', 'C maculpinnis or C limbatus', 'Juvenile dusky or blacktip shark', 'm Zambesi shark', 'm dogfish', 'Said to involve a white shark but shark involvement not confirmed', 'Raggedtooth shark  kg lb m  gaffed ', 'White shark m tooth fragment recovered', 'Sevengill shark m', 'kg shark', 'Thought to involve a blacktip shark', 'm  white shark Tooth recovered from boat ', 'to m to  shark', 'Mako shark m kg ', 'White shark m  k', 'm lemon shark or bull shark', 'White shark m  species identity confirmed by tooth fragment', 'Blue shark  ', 'Mako shark kg lb ', 'Whale shark', 'White shark named Spotty ', 'Grey nurse shark  ', 'Juvenile dusky shark', 'Shark involvement unconfirmed', 'm whaler shark', 'White shark kg  lb ', 'Carpet shark  ', 'Copper shark  kg b ', 'blue shark', 'White shark m to m ', 'Shortfin mako shark m ', 'small sharks ', 'm  sharks', 'm to m to blacktip shark', 'm shark possibly a dusky or blacktip shark', 'm to m to shark observed in area', 'Bronze whaler shark  ', 'Oceanic whitetip shark x ', 'm grey reef shark', 'White shark m  rk', 'White shark m  species identity confirmed by witnesses tooth pattern in leg board ', 'm porbeagle shark', 'White shark according to tooth pattern and witnesses', 'to m C albimarginatus', ' Dog shark ', 'Raggedtooth shark m year old captive female ', 'Carpet shark', 'White shark m m  to  ', 'Considered a Doubtful incident', 'White shark identified by tooth fragments in surfboard', 'scalloped hammerhead sharks m m ', ' kg blackfin shark', 'White shark m  tooth fragment recovered ', 'a small hammerhead shark', '  shark', 'Not authenticated', 'm to m to  Caribbean reef shark ', ' Blue whaler Galeolamna ', 'm to  to shark', 'Nurse shark cm  lb male ', 'm to m to sandbar shark', 'White shark to m  to  ', 'White shark or thresher shark', 'Grey nurse shark m ', 'Bronze whaler shark m a tooth was embedded in the speargun ', 'A pack of sharks', 'Spinner or blacktip sharks', 'Lemon shark or sandtiger shark', 'Local authorities speculated that the water was too cold for sharks but a m lb pregnant sandbar shark was caught next day', 'Believed white shark and other smaller species of sharks involved ', 'Alleged to involve a White shark m  ', 'White shark m  an immature female previously injured', 'Copper shark', 'm to m to Zambesi shark', ' cm carpet shark', 'm carpet shark', 'm lb shark', 'sharks involved', 'kg lb shark', 'Lemon shark m', 'Tiger shark tooth fragment recovered', 'm kg lb shark ', 'm  whaler', 'Nurse shark  m to m to ', 'Small shark with white tipped dorsal fin', 'm to m to shark possibly a mako shark', 'White shark m lb ', 'Less than m ', 'Tiger shark m lb female', 'White shark m k', 'Wobbegong', 'm   lb shark', 'Dusky shark m ', 'to lb Zambesi shark', 'Possibly a broadnose gill shark', ' m tiger shark', 'Silky shark m ', 'Dooley believed his Injury was caused by stingray Dasyatidae family ', 'sharks', 'Hand found in gut of m to m to   Galapagos shark C galapagensis', 'to m  to  shark seen in vicinity', 'Tooth fragments of whaler shark were recovered a bull shark according to Edwards', 'White shark  lb ', 'White shark m  or bronze whaler ', 'White shark m to   to  ', 'm  blue whaler', ' Blacktip shark C maculipinnis m to m to ', ' A long thin brown colored shark ', 'Horn shar k Heterodontus francisci m ', 'Unknown', 'm to m to  sharks', 'Possibly a bronze whaler shark', ' Sevengill shark m ', ' cm shark ', 'Bronze whaler shark   ', 'Said to involve a m  red shark ', ' Grey nurse shark m  ', 'Bronze whaler shark m shark', 'Said to involve a Grey nurse shark m  ', 'Next morning a m  shark was caught that had Andrews leg in its gut', 'Two shark s teeth recovered from canoe', 'Oceanic whitetip shar identified by Dr W C Schoeder on photograph Dr L P L Schultz on sketch by observer', 'White shark m   lb ', 'Hammerhead shark llb ', 'm yellow belly captive shark Shark destroyed by aquarium staff next day', 'Wobbegong shark O barbatus m identified by G P Whitley', ' gummy shark Rhizoprionodon or Loxodon m ', 'Grey nurse shark m lb ', 'Bronze whaler shark m Identified by Clyde Buttery', 'Grey reef shark m grey reef shark identified by Dr L P L Schultz based on photographs identified as C melanopterus by Stewart', 'banjo shark ', 'm  kg shark', 'White shark based on bite pattern', 'Hammerhead shark m ', 'Six Zambesi sharks seen to m in length', 'White shark m  tooth fragment from wounds identified as that of a white shark', 'White shark tooth fragments recovered from hull of boat ', 'White shark  mm tooth fragment recovered from the hull', 'Lemon shark  mm immature male identified by V G Springer', ' lb hooked shark', 'Mako shark m to m to with hook wire leader caught in mouth', 'Dusky shark m dusky shark C obscurus identified by S Springer on tooth recovered', 'Lemon shark m male N breviostris identified by W A Stark II later the same day a pregnant female lemon shark bit the bow of the boat', 'White shark m based on tooth pattern', 'Bronze whaler shark m  lb', 'Raggedtooth shark lb ', 'Bronze whaler shark m  identified by G P Whitley based on description', 'White shark tooth fragments recovered ', 'm possibly larger shark', 'Two m sharks', 'According to Benjamin the injury was inflicted by a barracuda not a shark', 'Tiger shark m  captured', 'Shark involvement prior to deaths was not confirmed', 'm  shark captured', 'Blue pointer', 'Blacktail reef shark', 'Blacktip reef shark', 'm  tiger shark', 'Thresher shark m  ', 'Blue shark m ', 'Carpet shark m ', 'White shark m  identified by Dr W I Follett on tooth marks', 'A hammerhead shark then to  other sharks were said to be involved', 'Said to involve white shark but species identify questionable', 'White shark m  identified by W I Follett on tooth fragments', 'White shark based on teeth retrieved from rudder', 'Blue shark m  ', 'Hammerhead shark m S zygena identified by C Limbaugh on description', 'Hammerhead shark m  ', 'Nurse shark  cm  identified by Dr L P L Schultz on photograph', 'Oceanic whitetip shark m ', 'Reported to involve a White shark m to   to  ', 'White shark m  identifed by Dr W I Follett on tooth marks', 'Mako shark m lb identified by Dr L P L Schultz on photograph', 'Bitten by several m sharks', 'Said to involve sharks m m   ', 'White shark m to m to according to Shreuder and a witness', 'm to m to sharks', 'Sharks averaged m in length', 'Nurse shark m identified by Dr E Clark on description of shark', 'Tiger shark m TL', 'Nurse shark m identified by Dr E Clark on color tooth impressions', 'Several sharks involved', ' m  shark', 'Identified as carcharinid shark based on its behavior by Dr D P L Schultz mako shark according to Huges', 'm bull shark identified by Capt W Gray', 'Said to involve a m white shark but thought that it was more likely a blue shark', 'Shark seen feeding on turtle scraps thrown overboard prior to incident ', 'Said to involve a large mako shark', 'm  shark ', 'm tiger shark caught  hours later with shorts of the boy in its gut', 'White shark according to witnesses', 'a sand shark', 'White shark    lb female ', 'Porbeagle or white shark', 'm  shark may have been another shark nearby', ' lb sand shark', 'Survivors said species of sharks were involved oceanic whitetip sharks and another species', 'Survivors said species of sharks were involved oceanic whitetip sharks and another species ', 'thresher or blue shark The shark was killed following the incident', 'Tooth fragments recovered from hull', 'm sand shark', ' small brown colored shark ', 'Leopard shark Triakis semifasciata identified by J W DeWitt  ', 'm white shark or bronze whaler ', 'm  shark x ', ' a little shark ', 'Blacktip reef shark m ', 'Nurse shark   lb ', 'm shark possibly a dusky shark', 'White shark tooth fragment recovered from ankle identified by Dr W I Follett', 'Bull shark suspected due to freshwater habitat', 'a small shark ', 'Said to involve a m  shark', 'm  shark seen in vicinity', 'White shark m  to kg lb identified by W C Shroeder based on tooth fragment ebedded in gunwale', 'm shark probable bull shark', 'Carpet shark ', ' A m brown shark ', 'a small slim brown shark ', 'Bull shark m was captured dragged on the sand where tissue taken from Eggink was found in its gut Species identification was made by S Springer based on photographs of the shark ', ' Attacked by a number of sharks ', 'White shark  seen in area and hooked days later', 'unknown possibly a white shark', 'm to m to spear eye shark ', 'small carpet shark', 'White shark m  according to witnesses', 'White shark m kg male', 'Whtietip reef shark', 'Alleged to involve a white shark with little yellow eyes ', 'm shark with black tipped pectoral fins', 'Bonita sharkk lb', 'Whaler shark m to lb identified by G P Whitley', 'His hand was found in a m tiger shark caught ', 'Said to be m  shark', ' grey shark ', 'Possibly C leucas', 'Most likely a small shark', 'Blacktip shark m  ', 'Tiger shark to m  to   lb ', 'm blacktip shark or spinner shark', 'Bull sharks to m in length', 'White shark m Tooth fragment recovered from victim s shoulder identified by J T Nicholls ', 'm to m to sharks most were oceanic whitetip sharks', 'White shark m to m  to  according to witnesses', 'Tiger shark others', 'Porbeagle shark', 'Bull shark m  ', 'Said to be leopard sharks more probably tiger sharks', 'Reportedly oceanic whitetip sharks blue sharks tiger sharks bull sharks', 'Mako shark aka bonito shark m ', 'White shark species identity confirmed by tooth pattern', 'White shark kg lb identity confirmed by tooth pattern', ' White shark', 'Questionable incident said to involve a shark', 'm shark landed hours later', 'Blue pointer  ', 'whaler shark', 'Tiger shark m  tooth fragments retrieved from his wounds', ' a large shark ', 'Thought to involve bull sharks', ' grey colored shark ', 'Tiger shark m  kg  lb female contained Girvan s remains ', 'Whaler shark m  ', 'days later a lb shark was caught yards from the site', 'blue nosed shark', 'Thought to involve a  white shark', 'Large tiger shark seen in the vicinity the following morning', 'Shovelnose shark m  ', 'White shark identified by Dr Hugh Smith ', 'Blue shark m lb ', 'White shark kg ', ' Blue nose shark ', 'A blue nosed shark ', 'Mako shark m  identified by tooth fragments by G P Whitley', 'm  tiger shark a shark', 'm  shark seen in area previous week', 'Thought to involve a m lemon shark two m lemon sharks caught within yds of the site a week prior to a week after this incident', 'Thought to involve a mako or grey nurse shark', ' lb shark', 'Teeth in hull identified as those from a white shark m  in length', 'lb dog shark ', 'Raggedtooth shark m to m to ', 'Hammerhead shark m according to lifeguard Sam Barrows', ' a school of sharks ', 'm cocktail shark', 'shark s teeth found embedded in the woodwork of the boat', 'White shark m  identity confirmed by witness tooth pattern', 'foot shark', ' a dog shark ', ' Blue nose sharks ', 'Moreno s leg part of his swim suit found in shark caught two hours after the attack Identified as carcharhinid shark by L Schultz C Limbaugh on photograph', 'Species unknown possibly a white shark', 'Said to involve to m  to  white shark', ' whiptail shark thresher shark ', 'm white shark or sevengill shark', 'Questionable  shark suspected', 'According to Carlsmith the shark s mouth was wide', ' a blue shark ', 'Tiger shark m  female', 'Said to be a small shark ', 'Mako shark m Tooth fragment recovered identified by J T Nichols ', ' a very large shark ', 'Atkins remains were recovered from a dusky shark C obscurus by Capt W F Young shark fisherman', 'm blue shark', ' A pack of sharks ', 'White shark  identity confirmed by tooth fragment witness and photograph of captured shark ', 'm shark later captured by Mitchell Hedges', 'Comrades saw shark s tail appear about away', ' to  dog shark', 'm   lb shark Shark caught its jaw exhibited at the Carnegie Museum', 'Tiger sharks m to m to  ', 'Thought to involve a m white shark', 'Reported to involve a m  shark possibly a white shark', 'A  shark known as Old Tom ', 'said to involve a tiger shark', 'Said to involve a m hammerhead shark', 'm whaler shark captured days later with his remains in its gut', 'C macrurus captured  hours after attack with tissue removed from man in its gut species identified by G P Whitley reported as C obscurus by R Steel', 'Said to involve blue shark', ' foot shark', 'Remains recovered from sharks', 'Species unknown possible white shark', 'Allegedly a  foot shark', 'Shark involvement probable', 'Shortfin mako shark lb ', 'Remains recovered days later', 'Fishermen recovered partial remains from shark a week later', 'Shovelnose shark ', 'Sevengill shark  was caught in the vicinity', '  kg female shark', 'Unknown but the shark was caught and put on exhibition', 'Shark was said to have a very rough ½ thick skin ', 'Said to involve sharks', 'a school of sharks', ' a small shark', 'Blue or porbeagle shark', 'Wobbegongs', 'Identified as C gangeticus by Dr J Fayrer', ' Shark caught later ', 'ground shark ', 'Remains recovered from shark caught days later', 'Shark involvement prior to deaths unconfirmed', 'Tiger shark pregnant ', 'Said to involve a m to m  to  shark', 'Said to be a m  shark', 'Thought to involve a porbeagle or mako shark', 'Description of shark does not ring true', ' The fish was harpooned dried and presented to the sailor who went round Europe exhibiting it It was said to be  feet long ', 'White shark  lb female ', 'Possibly white sharks', ' Galapagos shark ', 'said to involve m hammerhead sharks', 'Silvertip shark', 'A large hammerhead shark', 'Shovelnose guitarfish adult male ', 'White shark lb ', 'Bull shark caught leg recovered buried beside the man s body', ' a black tipped shark ', ' tiger shark', 'Blue pointers', 'Said to involve a grey nurse shark that leapt out of the water and seized the boy but species identification is questionable']\n"
     ]
    }
   ],
   "source": [
    "Species_unique2= []\n",
    "for i in df3['species2'].unique():\n",
    "    Species_unique2.append(i)\n",
    "print(Species_unique2)"
   ]
  },
  {
   "cell_type": "code",
   "execution_count": 37,
   "id": "035d3c58",
   "metadata": {},
   "outputs": [
    {
     "data": {
      "text/plain": [
       "927"
      ]
     },
     "execution_count": 37,
     "metadata": {},
     "output_type": "execute_result"
    }
   ],
   "source": [
    "len(Species_unique2)"
   ]
  },
  {
   "cell_type": "code",
   "execution_count": 38,
   "id": "b92f8d98",
   "metadata": {},
   "outputs": [
    {
     "data": {
      "text/html": [
       "<div>\n",
       "<style scoped>\n",
       "    .dataframe tbody tr th:only-of-type {\n",
       "        vertical-align: middle;\n",
       "    }\n",
       "\n",
       "    .dataframe tbody tr th {\n",
       "        vertical-align: top;\n",
       "    }\n",
       "\n",
       "    .dataframe thead th {\n",
       "        text-align: right;\n",
       "    }\n",
       "</style>\n",
       "<table border=\"1\" class=\"dataframe\">\n",
       "  <thead>\n",
       "    <tr style=\"text-align: right;\">\n",
       "      <th></th>\n",
       "      <th>type</th>\n",
       "      <th>activity</th>\n",
       "      <th>injury</th>\n",
       "      <th>fatal_(y/n)</th>\n",
       "      <th>species</th>\n",
       "      <th>species2</th>\n",
       "    </tr>\n",
       "  </thead>\n",
       "  <tbody>\n",
       "    <tr>\n",
       "      <th>1594</th>\n",
       "      <td>Unprovoked</td>\n",
       "      <td>Spearfishing</td>\n",
       "      <td>Minor cuts above his right eye</td>\n",
       "      <td>N</td>\n",
       "      <td>2 m [6.75'] copper shark</td>\n",
       "      <td>m  copper shark</td>\n",
       "    </tr>\n",
       "  </tbody>\n",
       "</table>\n",
       "</div>"
      ],
      "text/plain": [
       "            type      activity                          injury fatal_(y/n)   \n",
       "1594  Unprovoked  Spearfishing  Minor cuts above his right eye           N  \\\n",
       "\n",
       "                       species         species2  \n",
       "1594  2 m [6.75'] copper shark  m  copper shark  "
      ]
     },
     "execution_count": 38,
     "metadata": {},
     "output_type": "execute_result"
    }
   ],
   "source": [
    "df3.sample()"
   ]
  },
  {
   "cell_type": "code",
   "execution_count": 39,
   "id": "eb2eb373",
   "metadata": {},
   "outputs": [],
   "source": [
    "#elimina las letras m y a si se encuentran entre espacios\n",
    "df3['species2'] = df3['species2'].str.replace(r'\\s[m|a]\\s', ' ', regex=True)"
   ]
  },
  {
   "cell_type": "code",
   "execution_count": 40,
   "id": "52175a93",
   "metadata": {},
   "outputs": [
    {
     "name": "stdout",
     "output_type": "stream",
     "text": [
      "['White shark', 'm shark', 'Tiger shark ', 'Tiger shark', 'Lemon shark ', 'Bull shark ', 'Grey reef shark', 'Invalid incident', 'Tawny nurse shark ', 'Shark involvement not confirmed', 'Questionable', 'White shark m', 'shark', 'Juvenile bull shark', 'Bull shark', 'Tiger shark  ', 'Wobbegong shark', 'Blacktip shark', 'Juvenile white shark to m', 'Bull shark m', 'Possibly wobbegong', 'Injury believed caused by an eel not shark', 'Galapagos shark ', ' shark', 'Grey reef shark m', 'small shark', 'Wobbegong shark ', 'Juvenile nurse shark', 'Nurse shark ', 'Tiger shark female', 'Some drowned but other may have been killed by blue sharks', 'Cookiecutter shark', 'Wobbegong shark m', 'Spinner shark to feet', 'Tiger shark to  feet', 'Death may have been due to drowning', 'to shark', 'Porbeagle m', 'White shark ', 'White shark to  ', 'Nurse shark', 'Shark involvement questionable', 'White shark to ', 'Possibly juvenile blacktip shark', 'Oceanic whitetip shark to m', 'White shark  ', 'A small shark', 'Sandtiger shark ', 'Blue shark ', ' A small shark ', 'White shark  to  ', 'Bull shark to ', 'Tiger shark kg', 'No shark invovlement ', 'Seven gill shark', ' shark probably smooth hound', 'Shark involvement highly doubtful', 'No shark invovlement it ws publicity stunt', 'Lemon shark', 'Lemon shark pup', 'White shark female  ', 'Caribbean reef shark', 'a small shark', 'Broadnose sevengill shark m', ' to shark', 'Blue shark', 'reef shark ', 'Angel shark', 'dogfish shark', 'Tawny nurse shark', 'Caribbean reef shark ', 'Said to involve an shark but more likely damage caused by debris', 'Mako shark', 'Bronze whaler sharks x ', 'Blacktip shark ', 'Mako shark ', 'Tiger shark m', 'Nurse shark ft', 'Bronze whaler', 'Sandtiger shark', 'No shark involvement', 'Reef shark ', 'Bull sharks x ', 'Silky shark ', 'Bronze whaler shark ', 'Galapagos shark', 'Spinner shark ', 'Bull shark to m', 'Hammerhead sp ', 'Blacktip shark to ', 'juvenile shark', 'Hammerhead shark', 'Hammerhead shark ', 'shark ', 'Hammerhead shark to ', 'Blacktip or spinner shark ', 'Thought to involve to shark but shark involvement not confirmed', 'White shark to m', 'Mako shark lb', 'Shark involvement not cofirmed', 'White shark  to m', 'small nurse shark', 'to foot shark', 'Blue shark to feet', 'Blacktip Reef shark ', 'm to shark', 'White shark or oceanic whitetip shark', 'Raggedtooth shark m', 'Shark involvement prior to death still to be determined', 'Shark involvement not confirmed highly unlikely', 'Goblin shark', ' to  shark', 'to  shark', 'white shark  ', 'Spinner shark', 'Spinner shark or blacktip shark', 'reef shark', ' Bull shark ', 'Bull shark to  ', 'tp shark', 'Possibly juvenile tiger shark', 'metre shark', ' White shark ', 'Oceanic whitetip shark ', 'Caribbean reef shark to ', ' Lemon shark m', ' Sandbar shark to ', ' Bull shark  ', ' Tawney nurse shark ', ' white shark  ', 'Cow shark', ' Raggedtooth shark ', 'm to white shark', 'Blacktip reef shark ', 'gill shark ', 'gill shark', 'Oceanic whitetip shark', 'Reported to involve bull shark', 'Tiger shark  to  ', ' Wobbegong shark to  ', 'Thought to involve white shark', 'Reported to involve white shark', 'Thought to involve bull shark', 'Reported to involve m white shark', 'Whitetip reef shark to ', 'Small bull shark', 'Salmon shark', 'Tiger shark to  ', 'Possibly Bull shark ', 'Wobbegong ', 'Grey nurse shark ', 'Possibly blacktip reef shark', 'shark involvement not confirmed', ' small sharks ', 'Bull shark  ', 'Possibly m bull shark', 'Porbeagle shark ', 'Lemon shark to ', 'Lemon shark  to  ', 'White shark or bronze whaler', 'Salmon shark suspected but unlikely', 'possibly bull shark', 'a small reef shark', 'small blacktip shark ', 'Tiger shark to ', 'Possibly bull shark', 'Possibly to bull shark', 'Tawny nurse shark cm', 'Grey nurse shark', 'Blue shark  kg blue shark', 'Allegedly m tiger shark', 'to shark ', 'Raggedtooth shark', 'Port Jackson shark ', 'shark possibly blactip or spinner shark', 'Possibly to sandtiger shark', 'Grey reef shark ', 'White shark  to ', 'Bull shark  female', 'White shark k', 'Sevengill shark to ', 'Zambesi shark', ' Tiger shark ', 'Sandbar shark ', 'possibly bronze whaler shark', ' Bull shark m', 'Blacktip shark pup', 'White shark x ', 'Oceanic whitetip shark  ', 'Oceanic whitetip shark  female', 'Possibly lemon shark', 'Shark involvement prior to death was not confirmed', 'Possibly small blacktip shark', 'Sandtiger shark to ', 'A small spinner shark', 'Nurse shark juvenile ', ' to kg shark', 'Possibly blue shark', 'Thought to involve juvenile hammerhead shark', 'Whitetip reef shark ', 'Zambesi shark  ', 'Thresher shark', 'Spurdog', 'White shark to juvenile ', 'Thought to involve Bronze whale shark ', 'Shark involvement probable but not confirmed', 'Oceanic whitetip shark to ', ' kg shark', 'blacktip or spinner shark', 'White shark  to  female', 'Blacktip reef shark pup', 'Thought to involve cookie cutter shark', 'Wobbegong shark cm', 'White sharks', 'Dusky shark ', 'Broadnose sevengill shark', 'to  white shark', 'Raggedtooth shark ', 'Zambesi shark ', 'Bronze whaler shark', ' reef shark ', 'm white shark', 'to juvenile shark', 'bull shark or Caribbean reef shark', 'white shark or gill shark', 'to reef shark', 'Starry smoothhound shark ', 'Basking shark', 'Tiger sharks in area', 'small bull sharks', 'Tiger shark  female', 'Reported by media as shark attack but shark involvement prior to death was not confirmed', 'Shark involvement not confirmed thought to be barracuda bite', 'A bull shark according to some of the divers on the boat', 'Goblin shark ', 'Mako shark kg', 'Nurse shark  ', 'Possibly hammerhead shark', ' small shark ', 'Not shark attack it was hoax', 'Oceanic whitetip sharks were in the vicinity', 'Gray reef shark', 'Nurse shark to ', 'Possibly spinner shark', 'Sand shark', ' ', 'Possibly  bull shark', 'small spotted catshark Scyliorhinus canicula', 'Questionable Incident', 'Lemon shark female ', 'A  year old  pound pregnant blacktip reef shark', 'Lesser spotted dogfish Scyliorhinus canicula less than  cm in length', 'to shark possibly tiger shark', 'Raggedtooth shark kg', 'small catsharks', 'Thought to involve mako shark but possibly sea lion', 'Angel shark  ', 'Shark involvement not confirmed injury may have been caused by bluefish', 'Bull or tiger shark', 'to spinner or bull shark', 'm blacktip reef shark', 'Possibly to blacktip or spinner shark', ' white shark', 'Grey reef shark to ', 'Bull shark to bull shark', 'Bronze whaler shark juvenile ', 'Raggedtooth shark to ', 'm kg shark', 'Bronze whaler shark m', 'Said to involve m shark', 'Whitetip reef shark', 'Raggedtooth shark  ', ' to  white shark', 'Tiger shark less than  ', 'Caribbean reef sharks', 'm  white shark', 'm  shark kg shark T', 'juvenile white shark', 'Possibly sandbar shark or small blacktip shark', 'm  shark', ' to ', 'm bull shark', 'On   anglers from New Zealand caught m kg lb shark at the same spot It was believed this was the same shark that killed Alysha', 'Unknown but it was reported that shark tooth was recovered from the wound', 'Mr Burgess of ISAF announced the injury was the bite of m to year old white shark Subsequent investigation revealed there was no shark involvement in this incident', 'm  copper shark', 'm blacktip shark', 'small hammerhead shark', 'Bronze whaler shark  ', 'm Caribbean reef shark', 'Bronze whaler shark to  to  ', 'm white shark ', 'm  bull shark', 'm to to white shark', 'Tiger shark to to  ', 'Raggedtooth shark to to  ', 'Thought to involve m bull or tiger shark', 'm to  to  white shark', 'm to to shark', 'Longfin mako shark  kg lb ', 'sharks m ', ' black tipped shark', 'white shark', 'm to to  shark', 'm Caribbean reef shark Carcharhinus perezi ', 'Wobbegong shark k', 'small sharks', 'bull shark', 'm  sevengill shark', ' cm  blind or brown shark', 'Possibily to sandtiger shark', 'Shark involvement doubtful', 'Bull shark  was speared killed', 'Bull shark kg lb ', 'Mako shark to  to  ', 'Shortfin mako shark', 'oceanic whitetip shark', 'Nurse shark  cm to  cm to ', 'm shark either bronze whaler or grey nurse shark', 'm grey colored shark ', 'm cow shark', 'Unidentified species', 'great hammerhead shark', 'cm shark', ' small brown shark ', 'm to  to  shark', ' sand shark ', 'm reef shark or m to to grey colored shark', ' cm to  cm to bite diameter just below left knee', 'Mako shark  ', ' cm captive shark', 'Species unidentified', 'Thought to involve m  grey nurse shark', 'Thought to involve m  bull shark', 'Reported to involve hammerhead shark', 'White shark white shark', 'Shark involvement not confirmed injury may be due to stingray', 'm to to  grey colored shark', 'm to to Caribbean Reef Shark ', 'Possibly bull shark or tiger shark', 'Blacktip or spinner shark', 'Tiger shark k', 'to hammerhead or bonnethed shark', 'Sandtiger shark  ', 'm blacktip or sandbar shark', 'Bull shark to to ', 'Mako shark lb ', 'm to to shark possibly bull shark', 'Tiger shark to to ', 'm to to shark Tooth fragment recovered from hand', 'to to  copper shark', 'blacktip shark', 'White shark   ', 'Bull shark lb ', 'Spinner shark to ', 'Shark involvement prior to death unconfired', 'm whaler shark ', 'C leucas tooth fragment recovered from kayak', 'Unidentified', 'Questionable incident shark bite may have precipitated drowning', ' sandtiger shark', 'A large white shark was filmed by divers on local wreck days prior to the incident ', 'Possibly blacktip or spinner shark', 'shark possibly blacktip or spinner shark', 'White shark to to  ', 'Possibly juvenile blacktip or spinner shark', 'Possibly m blacktip or spinner shark', 'm shark possibly whitetip reef shark', 'Spinner shark to to ', 'Bronze whaler shark  k', 'm to to black finned shark ', 'Porbeagle shark  rk', 'to to shark', 'White shark to  to  ', 'kg lb dead blue shark', ' cm to  cm to shark', 'White shark  male ', 'Thought to involve Zambesi shark', 'A shark was seen in the area by witnesses', 'Thought to involve m lb bull shark', 'Tiger shark to  to  ', 'Blacktip shark to to  ', 'm grey colored shark', 'Grey reef shark  ', 'Lemon shark to to ', 'm shark probably blacktip or spinner shark', 'Blacktip shark to to ', 'Tiger sharks bull sharks  sharks in all ', 'Shortfin mako shark to  to  ', 'Miami  cm blacktip shark and two  cm bamboo catsharks', 'Sevengill shark', 'Thought to involve white bull or tiger shark', 'Said to involve m  white shark', 'm bull shark or Caribbean reef shark', 'bull sharks', 'Sevengill shark ', 'to kg shark', 'Mako shark gaffed ', 'm to  to  shark seen in the vicinity', 'Bronze whaler or tiger shark', 'Possibly white shark', 'A small shark ', 'Though to involve white shark', 'Dusky shark  ', 'Caribbean reef shark to to ', 'Sandtiger shark male ', 'Thought to involve m white shark named Kong', 'Lemon shark identified by the surfer', 'm shark possibly blacktip', 'spinner shark', 'Small dusky shark or blackfin shark', 'sandtiger shark', 'Shark involvement prior to death suspected but not confirmed', 'Possibly blacktip shark', 'Soupfin shark', 'small blacktip shark', 'Thought to involve an oceanic whitetip shark or white shark', ' juvenile shark ', 'm shark spinner shark ', 'Possibly sand shark', 'Possibly Caribbean reef shark', ' to white shark', ' young shark ', 'm to to hammerhead shark', 'said to involve an oceanic whitetip shark', 'm  white shark ', ' cm to  cm to blacktip or spinner shark', 'nurse shark', 'Possibly tiger shark', 'Tiger shark kg lb ', 'm to  to  bull shark', ' sand shark', 'Two to to sharks', 'White shark tooth fragment recovered ', 'Though to involve tiger shark', 'Leopard shark', 'Thought to involve small sand shark', 'Small shark', 'to  to  bull shark', 'm spinner shark', 'm  kg lb bull shark', 'Tiger shark said to be to  to  ', 'On  Jan  his remains washed ashore A tiger shark thought to be involved', 'Tiger shark caught days later with diver s remains in its gut', '  white shark', 'm blacktip shark or Caribbean reef shark', ' white shark according to witnesses', 'm to to shark tooth fragments recovered ', 'Thought to involve tiger shark', 'Remains recovered from  white shark', 'Possiby white shark', 'Tiger shark  tooth fragment recovered from wound ', 'Two  oceanic whitetip sharks', 'to blacktip shark', 'm hammerhead shark', 'Unidentified shark', 'm to  to  white shark ', 'Questionable incident', 'Nurse shark  lb ', 'Bull shark or lemon shark', 'White shark identification by K Nakaya', 'm  kg white shark', 'm  white shark identification by K Nakaya', 'Said to involve m to  to  white shark', 'm grey shark', 'Possibly m blacktip shark', 'Tiger shark m to  ', 'm  kg lb shark', 'sand shark', 'Lemon shark  lb ', 'm lb reef shark', 'm bull or lemon shark', 'm  female white shark named Notchfin ', 'kg shark', 'female shark', ' Shark had very large girth ', 'Grey nurse shark m', 'm shark ', 'Shark involvement prior to death could not be determined', 'm hammerhead', 'm  white shark identified by witnesses tooth marks', 'm white shark identified by M Smale', 'Two sharks seen in vicinity   TL', 'm shark possibly bronze whaler', 'White shark identified by tooth pattern', 'lb shark', 'to white shark', 'Sandbar shark', 'Blue Shark ', 'm sandtiger shark', 'm  gaffed shark', 'silvertip shark', 'm to to  white shark', 'Sand shark ', 'Zambezi shark tooth fragments recovered ', 'Mako shark  kg lb ', 'm copper shark', ' to  sharks attacked survivors in the water', 'Bronze whaler shark to ', 'Doubtful Unconfirmed attack Unable to verify in local records', 'm to to spinner or blacktip shark', 'Raggedtooth shark  kg ', 'Lemon shark to to tooth fragment recovered', 'Tooth fragment of white shark recovered Authorities believed shark was  total length', 'm dusky shark', 'm to  to  sixgill or sevengill shark', 'Thought to involve Tiger shark  ', 'm silky shark', 'Possibly small hammerhead shark', ' kg  lb shark', 'm white shark tooth fragments recovered', 'Shark involvement not confirmed officials considered barracua', 'Hammerhead shark O', 'small blue shark', 'm to  white shark', 'Raggedtooth shark  kg lb ', ' dusky shark', 'm white tipped reef shark', 'to bull shark', 'hammerhead shark', 'Raggedtooth shark tooth fragment recovered ', 'm Zambezi shark', 'Blue sharks', 'Believed to involve m white shark', 'Questionable incident reported as shark attack but thought to involve pinniped instead ', 'm shark possibly spinner shark', 'm white shark species identity confirmed by tooth fragment', 'Reported as shark attack the story was hoax', 'm white shark species identity confirmed by witnesses tooth pattern in surfboard', 'm to to reef shark ', 'm  kg  lb hooked shot white shark', 'm shark with very flat head that had followed the boat for days', 'Said to involve tiger shark or hammerhead shark', 'm shark species identity questionable', 'Shark involvement prior to death remains unconfirmed', 'Mako shark tooth fragments recovered ', ' sandshark ', 'Possibly m Zambezi shark', ' gray shark ', ' lb thresher shark', 'm to to bull sandbar or dusky shark', 'C maculpinnis or C limbatus', 'Juvenile dusky or blacktip shark', 'm Zambesi shark', 'm dogfish', 'Said to involve white shark but shark involvement not confirmed', 'Raggedtooth shark  kg lb  gaffed ', 'White shark tooth fragment recovered', 'Sevengill shark m', 'Thought to involve blacktip shark', 'm  white shark Tooth recovered from boat ', 'to to  shark', 'Mako shark kg ', 'White shark  k', 'm lemon shark or bull shark', 'White shark  species identity confirmed by tooth fragment', 'Blue shark  ', 'Mako shark kg lb ', 'Whale shark', 'White shark named Spotty ', 'Grey nurse shark  ', 'Juvenile dusky shark', 'Shark involvement unconfirmed', 'm whaler shark', 'White shark kg  lb ', 'Carpet shark  ', 'Copper shark  kg b ', 'blue shark', 'Shortfin mako shark ', 'small sharks ', 'm  sharks', 'm to to blacktip shark', 'm shark possibly dusky or blacktip shark', 'm to to shark observed in area', 'Oceanic whitetip shark x ', 'm grey reef shark', 'White shark  rk', 'White shark  species identity confirmed by witnesses tooth pattern in leg board ', 'm porbeagle shark', 'White shark according to tooth pattern and witnesses', 'to C albimarginatus', ' Dog shark ', 'Raggedtooth shark year old captive female ', 'Carpet shark', 'White shark m  to  ', 'Considered Doubtful incident', 'White shark identified by tooth fragments in surfboard', 'scalloped hammerhead sharks m ', ' kg blackfin shark', 'White shark  tooth fragment recovered ', 'a small hammerhead shark', '  shark', 'Not authenticated', 'm to to  Caribbean reef shark ', ' Blue whaler Galeolamna ', 'm to  to shark', 'Nurse shark cm  lb male ', 'm to to sandbar shark', 'White shark or thresher shark', 'Bronze whaler shark a tooth was embedded in the speargun ', 'A pack of sharks', 'Spinner or blacktip sharks', 'Lemon shark or sandtiger shark', 'Local authorities speculated that the water was too cold for sharks but m lb pregnant sandbar shark was caught next day', 'Believed white shark and other smaller species of sharks involved ', 'Alleged to involve White shark  ', 'White shark  an immature female previously injured', 'Copper shark', 'm to to Zambesi shark', ' cm carpet shark', 'm carpet shark', 'm lb shark', 'sharks involved', 'kg lb shark', 'Lemon shark m', 'Tiger shark tooth fragment recovered', 'm kg lb shark ', 'm  whaler', 'Nurse shark  to to ', 'Small shark with white tipped dorsal fin', 'm to to shark possibly mako shark', 'White shark lb ', 'Less than ', 'Tiger shark lb female', 'Wobbegong', 'm   lb shark', 'to lb Zambesi shark', 'Possibly broadnose gill shark', ' tiger shark', 'Dooley believed his Injury was caused by stingray Dasyatidae family ', 'sharks', 'Hand found in gut of to to   Galapagos shark C galapagensis', 'to  to  shark seen in vicinity', 'Tooth fragments of whaler shark were recovered bull shark according to Edwards', 'White shark  lb ', 'White shark  or bronze whaler ', 'White shark to   to  ', 'm  blue whaler', ' Blacktip shark C maculipinnis to to ', ' A long thin brown colored shark ', 'Horn shar k Heterodontus francisci ', 'Unknown', 'm to to  sharks', 'Possibly bronze whaler shark', ' Sevengill shark ', ' cm shark ', 'Bronze whaler shark   ', 'Said to involve m  red shark ', ' Grey nurse shark  ', 'Bronze whaler shark shark', 'Said to involve Grey nurse shark  ', 'Next morning m  shark was caught that had Andrews leg in its gut', 'Two shark s teeth recovered from canoe', 'Oceanic whitetip shar identified by Dr W C Schoeder on photograph Dr L P L Schultz on sketch by observer', 'White shark   lb ', 'Hammerhead shark llb ', 'm yellow belly captive shark Shark destroyed by aquarium staff next day', 'Wobbegong shark O barbatus identified by G P Whitley', ' gummy shark Rhizoprionodon or Loxodon ', 'Grey nurse shark lb ', 'Bronze whaler shark Identified by Clyde Buttery', 'Grey reef shark grey reef shark identified by Dr L P L Schultz based on photographs identified as C melanopterus by Stewart', 'banjo shark ', 'm  kg shark', 'White shark based on bite pattern', 'Six Zambesi sharks seen to in length', 'White shark  tooth fragment from wounds identified as that of white shark', 'White shark tooth fragments recovered from hull of boat ', 'White shark  mm tooth fragment recovered from the hull', 'Lemon shark  mm immature male identified by V G Springer', ' lb hooked shark', 'Mako shark to to with hook wire leader caught in mouth', 'Dusky shark dusky shark C obscurus identified by S Springer on tooth recovered', 'Lemon shark male N breviostris identified by W A Stark II later the same day pregnant female lemon shark bit the bow of the boat', 'White shark based on tooth pattern', 'Bronze whaler shark  lb', 'Raggedtooth shark lb ', 'Bronze whaler shark  identified by G P Whitley based on description', 'White shark tooth fragments recovered ', 'm possibly larger shark', 'Two sharks', 'According to Benjamin the injury was inflicted by barracuda not shark', 'Tiger shark  captured', 'Shark involvement prior to deaths was not confirmed', 'm  shark captured', 'Blue pointer', 'Blacktail reef shark', 'Blacktip reef shark', 'm  tiger shark', 'Thresher shark  ', 'Carpet shark ', 'White shark  identified by Dr W I Follett on tooth marks', 'A hammerhead shark then to  other sharks were said to be involved', 'Said to involve white shark but species identify questionable', 'White shark  identified by W I Follett on tooth fragments', 'White shark based on teeth retrieved from rudder', 'Hammerhead shark S zygena identified by C Limbaugh on description', 'Hammerhead shark  ', 'Nurse shark  cm  identified by Dr L P L Schultz on photograph', 'Reported to involve White shark to   to  ', 'White shark  identifed by Dr W I Follett on tooth marks', 'Mako shark lb identified by Dr L P L Schultz on photograph', 'Bitten by several sharks', 'Said to involve sharks m   ', 'White shark to to according to Shreuder and witness', 'm to to sharks', 'Sharks averaged in length', 'Nurse shark identified by Dr E Clark on description of shark', 'Tiger shark TL', 'Nurse shark identified by Dr E Clark on color tooth impressions', 'Several sharks involved', 'Identified as carcharinid shark based on its behavior by Dr D P L Schultz mako shark according to Huges', 'm bull shark identified by Capt W Gray', 'Said to involve m white shark but thought that it was more likely blue shark', 'Shark seen feeding on turtle scraps thrown overboard prior to incident ', 'Said to involve large mako shark', 'm  shark ', 'm tiger shark caught  hours later with shorts of the boy in its gut', 'White shark according to witnesses', 'a sand shark', 'White shark    lb female ', 'Porbeagle or white shark', 'm  shark may have been another shark nearby', ' lb sand shark', 'Survivors said species of sharks were involved oceanic whitetip sharks and another species', 'Survivors said species of sharks were involved oceanic whitetip sharks and another species ', 'thresher or blue shark The shark was killed following the incident', 'Tooth fragments recovered from hull', 'm sand shark', ' small brown colored shark ', 'Leopard shark Triakis semifasciata identified by J W DeWitt  ', 'm white shark or bronze whaler ', 'm  shark x ', ' little shark ', 'Nurse shark   lb ', 'm shark possibly dusky shark', 'White shark tooth fragment recovered from ankle identified by Dr W I Follett', 'Bull shark suspected due to freshwater habitat', 'a small shark ', 'Said to involve m  shark', 'm  shark seen in vicinity', 'White shark  to kg lb identified by W C Shroeder based on tooth fragment ebedded in gunwale', 'm shark probable bull shark', ' A brown shark ', 'a small slim brown shark ', 'Bull shark was captured dragged on the sand where tissue taken from Eggink was found in its gut Species identification was made by S Springer based on photographs of the shark ', ' Attacked by number of sharks ', 'White shark  seen in area and hooked days later', 'unknown possibly white shark', 'm to to spear eye shark ', 'small carpet shark', 'White shark  according to witnesses', 'White shark kg male', 'Whtietip reef shark', 'Alleged to involve white shark with little yellow eyes ', 'm shark with black tipped pectoral fins', 'Bonita sharkk lb', 'Whaler shark to lb identified by G P Whitley', 'His hand was found in m tiger shark caught ', 'Said to be  shark', ' grey shark ', 'Possibly C leucas', 'Most likely small shark', 'Blacktip shark  ', 'Tiger shark to  to   lb ', 'm blacktip shark or spinner shark', 'Bull sharks to in length', 'White shark Tooth fragment recovered from victim s shoulder identified by J T Nicholls ', 'm to to sharks most were oceanic whitetip sharks', 'White shark to  to  according to witnesses', 'Tiger shark others', 'Porbeagle shark', 'Said to be leopard sharks more probably tiger sharks', 'Reportedly oceanic whitetip sharks blue sharks tiger sharks bull sharks', 'Mako shark aka bonito shark ', 'White shark species identity confirmed by tooth pattern', 'White shark kg lb identity confirmed by tooth pattern', ' White shark', 'Questionable incident said to involve shark', 'm shark landed hours later', 'Blue pointer  ', 'whaler shark', 'Tiger shark  tooth fragments retrieved from his wounds', ' large shark ', 'Thought to involve bull sharks', ' grey colored shark ', 'Tiger shark  kg  lb female contained Girvan s remains ', 'Whaler shark  ', 'days later lb shark was caught yards from the site', 'blue nosed shark', 'Thought to involve  white shark', 'Large tiger shark seen in the vicinity the following morning', 'Shovelnose shark  ', 'White shark identified by Dr Hugh Smith ', 'Blue shark lb ', 'White shark kg ', ' Blue nose shark ', 'A blue nosed shark ', 'Mako shark  identified by tooth fragments by G P Whitley', 'm  tiger shark shark', 'm  shark seen in area previous week', 'Thought to involve m lemon shark two lemon sharks caught within yds of the site week prior to week after this incident', 'Thought to involve mako or grey nurse shark', ' lb shark', 'Teeth in hull identified as those from white shark  in length', 'lb dog shark ', 'Raggedtooth shark to to ', 'Hammerhead shark according to lifeguard Sam Barrows', ' school of sharks ', 'm cocktail shark', 'shark s teeth found embedded in the woodwork of the boat', 'White shark  identity confirmed by witness tooth pattern', 'foot shark', ' dog shark ', ' Blue nose sharks ', 'Moreno s leg part of his swim suit found in shark caught two hours after the attack Identified as carcharhinid shark by L Schultz C Limbaugh on photograph', 'Species unknown possibly white shark', 'Said to involve to  to  white shark', ' whiptail shark thresher shark ', 'm white shark or sevengill shark', 'Questionable  shark suspected', 'According to Carlsmith the shark s mouth was wide', ' blue shark ', 'Said to be small shark ', 'Mako shark Tooth fragment recovered identified by J T Nichols ', ' very large shark ', 'Atkins remains were recovered from dusky shark C obscurus by Capt W F Young shark fisherman', 'm blue shark', ' A pack of sharks ', 'White shark  identity confirmed by tooth fragment witness and photograph of captured shark ', 'm shark later captured by Mitchell Hedges', 'Comrades saw shark s tail appear about away', ' to  dog shark', 'm   lb shark Shark caught its jaw exhibited at the Carnegie Museum', 'Tiger sharks to to  ', 'Thought to involve m white shark', 'Reported to involve m  shark possibly white shark', 'A  shark known as Old Tom ', 'said to involve tiger shark', 'Said to involve m hammerhead shark', 'm whaler shark captured days later with his remains in its gut', 'C macrurus captured  hours after attack with tissue removed from man in its gut species identified by G P Whitley reported as C obscurus by R Steel', 'Said to involve blue shark', ' foot shark', 'Remains recovered from sharks', 'Species unknown possible white shark', 'Allegedly  foot shark', 'Shark involvement probable', 'Shortfin mako shark lb ', 'Remains recovered days later', 'Fishermen recovered partial remains from shark week later', 'Shovelnose shark ', 'Sevengill shark  was caught in the vicinity', '  kg female shark', 'Unknown but the shark was caught and put on exhibition', 'Shark was said to have very rough ½ thick skin ', 'Said to involve sharks', 'a school of sharks', ' small shark', 'Blue or porbeagle shark', 'Wobbegongs', 'Identified as C gangeticus by Dr J Fayrer', ' Shark caught later ', 'ground shark ', 'Remains recovered from shark caught days later', 'Shark involvement prior to deaths unconfirmed', 'Tiger shark pregnant ', 'Said to involve m to  to  shark', 'Said to be m  shark', 'Thought to involve porbeagle or mako shark', 'Description of shark does not ring true', ' The fish was harpooned dried and presented to the sailor who went round Europe exhibiting it It was said to be  feet long ', 'White shark  lb female ', 'Possibly white sharks', ' Galapagos shark ', 'said to involve hammerhead sharks', 'Silvertip shark', 'A large hammerhead shark', 'Shovelnose guitarfish adult male ', 'Bull shark caught leg recovered buried beside the man s body', ' black tipped shark ', 'Blue pointers', 'Said to involve grey nurse shark that leapt out of the water and seized the boy but species identification is questionable']\n"
     ]
    }
   ],
   "source": [
    "Species_unique2= []\n",
    "for i in df3['species2'].unique():\n",
    "    Species_unique2.append(i)\n",
    "print(Species_unique2)"
   ]
  },
  {
   "cell_type": "code",
   "execution_count": 41,
   "id": "25273888",
   "metadata": {},
   "outputs": [
    {
     "data": {
      "text/plain": [
       "883"
      ]
     },
     "execution_count": 41,
     "metadata": {},
     "output_type": "execute_result"
    }
   ],
   "source": [
    "len(Species_unique2)"
   ]
  },
  {
   "cell_type": "code",
   "execution_count": 42,
   "id": "af3aac1e",
   "metadata": {},
   "outputs": [],
   "source": [
    "df3['species2'] = df3['species2'].str.replace(r'^m|a\\s', '', regex=True)"
   ]
  },
  {
   "cell_type": "code",
   "execution_count": 43,
   "id": "9c1472e7",
   "metadata": {},
   "outputs": [],
   "source": [
    "df3['species2'] = df3['species2'].str.replace(r'\\sm|as$', '', regex=True)"
   ]
  },
  {
   "cell_type": "code",
   "execution_count": null,
   "id": "25d771f2",
   "metadata": {},
   "outputs": [],
   "source": []
  },
  {
   "cell_type": "code",
   "execution_count": 44,
   "id": "0f92a5d2",
   "metadata": {},
   "outputs": [],
   "source": [
    "mask_white = df3['species2'].str.contains('white' or 'whites', case=False)\n",
    "\n",
    "# Reemplazar las palabras en las filas seleccionadas\n",
    "df3.loc[mask_white, 'species2'] = 'white shark'"
   ]
  },
  {
   "cell_type": "code",
   "execution_count": 45,
   "id": "d1731853",
   "metadata": {},
   "outputs": [],
   "source": [
    "mask_nurse = df3['species2'].str.contains('nurse' or 'nurses', case=False)\n",
    "\n",
    "# Reemplazar las palabras en las filas seleccionadas\n",
    "df3.loc[mask_nurse, 'species2'] = 'nurse shark'"
   ]
  },
  {
   "cell_type": "code",
   "execution_count": 46,
   "id": "955cbb69",
   "metadata": {},
   "outputs": [],
   "source": [
    "mask_tiger = df3['species2'].str.contains('tiger' or 'tigers', case=False)\n",
    "\n",
    "# Reemplazar las palabras en las filas seleccionadas\n",
    "df3.loc[mask_tiger, 'species2'] = 'tiger shark'"
   ]
  },
  {
   "cell_type": "code",
   "execution_count": 47,
   "id": "2b02f0fb",
   "metadata": {},
   "outputs": [],
   "source": [
    "mask_wobbegong = df3['species2'].str.contains('wobbegong' or 'wobbegongs', case=False)\n",
    "\n",
    "# Reemplazar las palabras en las filas seleccionadas\n",
    "df3.loc[mask_wobbegong, 'species2'] = 'wobbegong shark'"
   ]
  },
  {
   "cell_type": "code",
   "execution_count": 48,
   "id": "91a9d34a",
   "metadata": {},
   "outputs": [],
   "source": [
    "mask_bull = df3['species2'].str.contains('bull' or 'bulls' , case=False)\n",
    "\n",
    "# Reemplazar las palabras en las filas seleccionadas\n",
    "df3.loc[mask_bull, 'species2'] = 'bull shark'"
   ]
  },
  {
   "cell_type": "code",
   "execution_count": 49,
   "id": "2483b465",
   "metadata": {},
   "outputs": [],
   "source": [
    "mask_blacktip = df3['species2'].str.contains('blacktip' or 'blacktips', case=False)\n",
    "\n",
    "# Reemplazar las palabras en las filas seleccionadas\n",
    "df3.loc[mask_blacktip, 'species2'] = 'blacktip shark'"
   ]
  },
  {
   "cell_type": "code",
   "execution_count": 50,
   "id": "a1056e62",
   "metadata": {},
   "outputs": [],
   "source": [
    "mask_hammerhead = df3['species2'].str.contains('hammerhead' or 'hammerheads', case=False)\n",
    "\n",
    "# Reemplazar las palabras en las filas seleccionadas\n",
    "df3.loc[mask_hammerhead, 'species2'] = 'hammerhead shark'"
   ]
  },
  {
   "cell_type": "code",
   "execution_count": 51,
   "id": "7214491e",
   "metadata": {},
   "outputs": [],
   "source": [
    "mask_mako = df3['species2'].str.contains('Mako' or 'Makos', case=False)\n",
    "\n",
    "# Reemplazar las palabras en las filas seleccionadas\n",
    "df3.loc[mask_mako, 'species2'] = 'mako shark'\n"
   ]
  },
  {
   "cell_type": "code",
   "execution_count": 52,
   "id": "ad7270ee",
   "metadata": {},
   "outputs": [],
   "source": [
    "mask_lemon = df3['species2'].str.contains('lemon' or 'lemons', case=False)\n",
    "\n",
    "# Reemplazar las palabras en las filas seleccionadas\n",
    "df3.loc[mask_lemon, 'species2'] = 'lemon shark'\n"
   ]
  },
  {
   "cell_type": "code",
   "execution_count": 53,
   "id": "8580a8be",
   "metadata": {},
   "outputs": [],
   "source": [
    "mask_blacktip_spinner = df3['species2'].str.contains('blacktip or spinner shark' or 'blacktip or spinner sharks', case=False)\n",
    "\n",
    "# Reemplazar las palabras en las filas seleccionadas\n",
    "df3.loc[mask_blacktip_spinner, 'species2'] = 'blacktip or spinner shark'\n"
   ]
  },
  {
   "cell_type": "code",
   "execution_count": 54,
   "id": "e929c7a0",
   "metadata": {},
   "outputs": [],
   "source": [
    "mask_largeako = df3['species2'].str.contains('largeako' or 'largeakos', case=False)\n",
    "\n",
    "# Reemplazar las palabras en las filas seleccionadas\n",
    "df3.loc[mask_largeako, 'species2'] = 'largeako shark'\n"
   ]
  },
  {
   "cell_type": "code",
   "execution_count": 55,
   "id": "561d40d2",
   "metadata": {},
   "outputs": [],
   "source": [
    "mask_oceanic_whitetip = df3['species2'].str.contains('oceanic whitetip' or 'oceanic whitetips', case=False)\n",
    "\n",
    "# Reemplazar las palabras en las filas seleccionadas\n",
    "df3.loc[mask_oceanic_whitetip, 'species2'] = 'oceanic whitetip shark'"
   ]
  },
  {
   "cell_type": "code",
   "execution_count": 56,
   "id": "f7b69c7b",
   "metadata": {},
   "outputs": [],
   "source": [
    "mask_bronze_whaler = df3['species2'].str.contains('bronze whaler' or 'bronze whalers', case=False)\n",
    "\n",
    "# Reemplazar las palabras en las filas seleccionadas\n",
    "df3.loc[mask_bronze_whaler, 'species2'] = 'bronze whaler shark'"
   ]
  },
  {
   "cell_type": "code",
   "execution_count": 57,
   "id": "5f0b6992",
   "metadata": {},
   "outputs": [],
   "source": [
    "mask_spinner = df3['species2'].str.contains('spinner' or 'spinners', case=False)\n",
    "\n",
    "# Reemplazar las palabras en las filas seleccionadas\n",
    "df3.loc[mask_spinner, 'species2'] = 'spinner shark'"
   ]
  },
  {
   "cell_type": "code",
   "execution_count": 58,
   "id": "4927c353",
   "metadata": {},
   "outputs": [],
   "source": [
    "mask_caribbean_reef = df3['species2'].str.contains('caribbean reef' or 'caribbean reefs', case=False)\n",
    "\n",
    "# Reemplazar las palabras en las filas seleccionadas\n",
    "df3.loc[mask_caribbean_reef, 'species2'] = 'caribbean reef shark'\n"
   ]
  },
  {
   "cell_type": "code",
   "execution_count": 59,
   "id": "1b961ea5",
   "metadata": {},
   "outputs": [],
   "source": [
    "mask_blue_pointer = df3['species2'].str.contains('blue pointer' or 'blue pointers', case=False)\n",
    "\n",
    "# Reemplazar las palabras en las filas seleccionadas\n",
    "df3.loc[mask_blue_pointer, 'species2'] = 'blue pointer'"
   ]
  },
  {
   "cell_type": "code",
   "execution_count": 60,
   "id": "b5864418",
   "metadata": {},
   "outputs": [],
   "source": [
    "mask_blue_shark = df3['species2'].str.contains('blue shark' or 'blue sharks', case=False)\n",
    "\n",
    "# Reemplazar las palabras en las filas seleccionadas\n",
    "df3.loc[mask_blue_shark, 'species2'] = 'blue shark'"
   ]
  },
  {
   "cell_type": "code",
   "execution_count": 61,
   "id": "6155049a",
   "metadata": {},
   "outputs": [],
   "source": [
    "df3['species2'] = df3['species2'].apply(lambda x: ' '.join([word for word in x.split() if len(word) > 2]))"
   ]
  },
  {
   "cell_type": "code",
   "execution_count": 62,
   "id": "5e5a9fac",
   "metadata": {},
   "outputs": [
    {
     "data": {
      "text/plain": [
       "\"def species_mask(str):\\n    mask = df['species2'].str.contains(str, case=False)\\n    df.loc[mask, 'species2'] = str\\n    return df \""
      ]
     },
     "execution_count": 62,
     "metadata": {},
     "output_type": "execute_result"
    }
   ],
   "source": [
    "#def species_mask(str):\n",
    "    #return df3.loc[df3['species2'].str.contains(f'{str}', case=False), 'species2' ] = f'{str}'\n",
    "\n",
    "\"\"\"def species_mask(str):\n",
    "    mask = df['species2'].str.contains(str, case=False)\n",
    "    df.loc[mask, 'species2'] = str\n",
    "    return df \"\"\""
   ]
  },
  {
   "cell_type": "code",
   "execution_count": 63,
   "id": "df9bf525",
   "metadata": {},
   "outputs": [],
   "source": [
    "#species_mask('bull shark')"
   ]
  },
  {
   "cell_type": "code",
   "execution_count": 65,
   "id": "0e987617",
   "metadata": {},
   "outputs": [],
   "source": [
    "#startswith shark"
   ]
  },
  {
   "cell_type": "code",
   "execution_count": 66,
   "id": "990b74a4",
   "metadata": {},
   "outputs": [
    {
     "name": "stdout",
     "output_type": "stream",
     "text": [
      "['white shark', 'tiger shark', 'lemon shark', 'bull shark', 'Grey reef shark', 'Invalid incident', 'nurse shark', 'Shark involvement not confirmed', 'Questionable', 'wobbegong shark', 'blacktip shark', 'Injury believed caused eel not shark', 'Galapagos shark', 'small shark', 'blue shark', 'Cookiecutter shark', 'spinner shark', 'Deathay have been due drowning', 'Porbeagle', 'Shark involvement questionable', 'Seven gill shark', 'Shark involvement highly doubtful', 'caribbean reef shark', 'Broadnose sevengill shark', 'reef shark', 'Angel shark', 'dogfish shark', 'Said involve shark butore likely damage caused debris', 'mako shark', 'bronze whaler shark', 'Reef shark', 'Silky shark', 'hammerhead shark', 'juvenile shark', 'Thought involve shark but shark involvement not confirmed', 'Shark involvement not cofirmed', 'foot shark', 'Raggedtooth shark', 'Shark involvement prior death still determined', 'Shark involvement not confirmed highly unlikely', 'Goblin shark', 'etre shark', 'Sandbar shark', 'Cow shark', 'gill shark', 'Salmon shark', 'small sharks', 'Porbeagle shark', 'Salmon shark suspected but unlikely', 'small reef shark', 'Port Jackson shark', 'Sevengill shark', 'Zambesi shark', 'Shark involvement prior death was not confirmed', 'Thresher shark', 'Spurdog', 'Thought involve Bronze whale shark', 'Shark involvement probable but not confirmed', 'Thought involve cookie cutter shark', 'Dusky shark', 'Starry smoothhound shark', 'Basking shark', 'Reported byedias shark attack but shark involvement prior death was not confirmed', 'Shark involvement not confirmed thought barracudbite', 'Not shark attack was hoax', 'Gray reef shark', 'Sand shark', '', 'small spotted catshark Scyliorhinus canicula', 'Questionable Incident', 'Lesser spotted dogfish Scyliorhinus caniculless than length', 'small catsharks', 'Thought involveako shark but possibly selion', 'Shark involvement not confirmed injuryay have been caused bluefish', 'Said involve shark', 'anglers from New Zealand caught shark the same spot was believed this was the same shark that killed Alysha', 'Unknown but was reported that shark tooth was recovered from the wound', 'copper shark', 'Longfinako shark', 'black tipped shark', 'sevengill shark', 'blind brown shark', 'Shark involvement doubtful', 'Shortfinako shark', 'grey colored shark', 'cow shark', 'Unidentified species', 'small brown shark', 'sand shark', 'reef shark grey colored shark', 'bite diameter just below left knee', 'captive shark', 'Species unidentified', 'Shark involvement not confirmed injuryay due stingray', 'Shark involvement prior death unconfired', 'whaler shark', 'leucas tooth fragment recovered from kayak', 'Unidentified', 'Questionable incident shark biteay have precipitated drowning', 'black finned shark', 'Thought involve Zambesi shark', 'Small dusky shark blackfin shark', 'Shark involvement prior death suspected but not confirmed', 'Soupfin shark', 'Possibly sand shark', 'young shark', 'Two sharks', 'Leopard shark', 'Thought involve small sand shark', 'Small shark', 'Unidentified shark', 'Questionable incident', 'grey shark', 'female shark', 'Shark had very large girth', 'Shark involvement prior death could not determined', 'Two sharks seen vicinity', 'gaffed shark', 'silvertip shark', 'Zambezi shark tooth fragments recovered', 'Doubtful Unconfirmed attack Unable verify local records', 'dusky shark', 'sixgill sevengill shark', 'silky shark', 'Shark involvement not confirmed officials considered barracua', 'Raggedtooth shark tooth fragment recovered', 'Zambezi shark', 'Questionable incident reported shark attack but thought involve pinniped instead', 'Reported shark attack the story was hoax', 'Shark involvement prior death remains unconfirmed', 'sandshark', 'Possibly Zambezi shark', 'gray shark', 'thresher shark', 'Caculpinnis limbatus', 'dogfish', 'Raggedtooth shark gaffed', 'Whale shark', 'Juvenile dusky shark', 'Shark involvement unconfirmed', 'Carpet shark', 'Copper shark', 'grey reef shark', 'porbeagle shark', 'albimarginatus', 'Dog shark', 'Raggedtooth shark year old captive female', 'Considered Doubtful incident', 'blackfin shark', 'Not authenticated', 'Blue whaler Galeolamn', 'sandbar shark', 'pack sharks', 'Local authorities speculated that the water was too cold for sharks but pregnant sandbar shark was caught next day', 'carpet shark', 'whaler', 'Less than', 'Possibly broadnose gill shark', 'Dooley believed his Injury was caused stingray Dasyatidae family', 'Hand found gut Galapagos shark galapagensis', 'blue whaler', 'long thin brown colored shark', 'Horn shar Heterodontus francisci', 'Unknown', 'Said involve red shark', 'Nextorning shark was caught that had Andrews leg its gut', 'Two shark teeth recovered from canoe', 'yellow belly captive shark Shark destroyed aquarium staff next day', 'gummy shark Rhizoprionodon Loxodon', 'Grey reef shark grey reef shark identified Schultz based photographs identified Celanopterus Stewart', 'banjo shark', 'Six Zambesi sharks seen length', 'hooked shark', 'Dusky shark dusky shark obscurus identified Springer tooth recovered', 'possibly larger shark', 'According Benjamin the injury was inflicted barracudnot shark', 'Shark involvement prior deaths was not confirmed', 'blue pointer', 'Blacktail reef shark', 'Bitten several sharks', 'Said involve sharks', 'Sharks averaged length', 'Several sharks involved', 'Identified carcharinid shark based its behavior Schultzako shark according Huges', 'Shark seen feeding turtle scraps thrown overboard prior incident', 'largeako shark', 'Tooth fragments recovered from hull', 'small brown colored shark', 'Leopard shark Triakis semifasciatidentified DeWitt', 'little shark', 'brown shark', 'small slim brown shark', 'Attacked number sharks', 'spear eye shark', 'small carpet shark', 'Whtietip reef shark', 'Bonitsharkk', 'Whaler shark identified Whitley', 'Said shark', 'Possibly leuc', 'Most likely small shark', 'Questionable incident said involve shark', 'large shark', 'Whaler shark', 'days later shark was caught yards from the site', 'blue nosed shark', 'Shovelnose shark', 'Blue nose shark', 'dog shark', 'school sharks', 'cocktail shark', 'Blue nose sharks', 'Moreno leg part his swim suit found shark caught two hours after the attack Identified carcharhinid shark Schultz Limbaugh photograph', 'whiptail shark thresher shark', 'Questionable shark suspected', 'According Carlsmith the shark south was wide', 'Said small shark', 'very large shark', 'Atkins remains were recovered from dusky shark obscurus Capt Young shark fisherman', 'Comrades saw shark tail appear about away', 'whaler shark captured days later with his remains its gut', 'Cacrurus captured hours after attack with tissue removed froman its gut species identified Whitley reported obscurus Steel', 'Remains recovered from sharks', 'Allegedly foot shark', 'Shark involvement probable', 'Remains recovered days later', 'Fishermen recovered partial remains from shark week later', 'Sevengill shark was caught the vicinity', 'Unknown but the shark was caught and put exhibition', 'Shark was said have very rough thick skin', 'Blue porbeagle shark', 'Identified gangeticus Fayrer', 'Shark caught later', 'ground shark', 'Remains recovered from shark caught days later', 'Shark involvement prior deaths unconfirmed', 'Thought involve porbeagle orako shark', 'Description shark does not ring true', 'The fish was harpooned dried and presented the sailor who went round Europe exhibiting was said feet long', 'Silvertip shark', 'Shovelnose guitarfish adultale']\n"
     ]
    }
   ],
   "source": [
    "Species_unique2= []\n",
    "for i in df3['species2'].unique():\n",
    "    Species_unique2.append(i)\n",
    "print(Species_unique2)"
   ]
  },
  {
   "cell_type": "code",
   "execution_count": 67,
   "id": "25c09281",
   "metadata": {},
   "outputs": [
    {
     "data": {
      "text/plain": [
       "241"
      ]
     },
     "execution_count": 67,
     "metadata": {},
     "output_type": "execute_result"
    }
   ],
   "source": [
    "len(Species_unique2)"
   ]
  },
  {
   "cell_type": "code",
   "execution_count": 68,
   "id": "7ac202f0",
   "metadata": {},
   "outputs": [
    {
     "data": {
      "text/plain": [
       "0        white shark\n",
       "4        tiger shark\n",
       "6        tiger shark\n",
       "7        lemon shark\n",
       "8         bull shark\n",
       "            ...     \n",
       "6276     tiger shark\n",
       "6293    blue pointer\n",
       "6294    blue pointer\n",
       "6295    blue pointer\n",
       "6296     nurse shark\n",
       "Name: species2, Length: 2410, dtype: object"
      ]
     },
     "execution_count": 68,
     "metadata": {},
     "output_type": "execute_result"
    }
   ],
   "source": [
    "df3[\"species2\"]"
   ]
  },
  {
   "cell_type": "code",
   "execution_count": null,
   "id": "69a9fda6",
   "metadata": {},
   "outputs": [],
   "source": []
  }
 ],
 "metadata": {
  "kernelspec": {
   "display_name": "ironhack",
   "language": "python",
   "name": "ironhack"
  },
  "language_info": {
   "codemirror_mode": {
    "name": "ipython",
    "version": 3
   },
   "file_extension": ".py",
   "mimetype": "text/x-python",
   "name": "python",
   "nbconvert_exporter": "python",
   "pygments_lexer": "ipython3",
   "version": "3.10.9"
  }
 },
 "nbformat": 4,
 "nbformat_minor": 5
}
