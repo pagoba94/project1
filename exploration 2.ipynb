{
 "cells": [
  {
   "cell_type": "markdown",
   "id": "f5e99045",
   "metadata": {},
   "source": [
    "Análisis de la especie de tiburón: examinar las especies de tiburones implicadas en los ataques para entender cuáles son las más agresivas y peligrosas para los seres humanos. ¿Es realmente el tiburón blanco el más peligroso? ¿Cual es el porcentaje de tiburones que atacan respecto al total de especies del mundo? ¿que porcentaje de tiburones ha atacado siendo provocado?\n",
    "\n",
    "Analizar el perfil de las personas que han sido atacadas por las distintas especies de tiburones por género."
   ]
  },
  {
   "cell_type": "code",
   "execution_count": 1,
   "id": "4832822e",
   "metadata": {},
   "outputs": [],
   "source": [
    "import pandas as pd\n",
    "import seaborn as sns\n",
    "import matplotlib.pyplot as plt\n",
    "\n",
    "df=pd.read_csv('data/attacks.csv', encoding='latin')"
   ]
  },
  {
   "cell_type": "code",
   "execution_count": 2,
   "id": "38194f47",
   "metadata": {},
   "outputs": [],
   "source": [
    "#modificamos todas las letras a minúsculas\n",
    "df= df.applymap(lambda x: x.lower() if type(x) == str else x)"
   ]
  },
  {
   "cell_type": "markdown",
   "id": "a613753d",
   "metadata": {},
   "source": [
    "    # Eliminar las filas con valores NaN en la columna species2\n",
    "    df2.dropna(subset=['species2'], inplace=True)\n",
    "    #deletting anything that's not a letter\n",
    "    df2['species2'] =df2['species2'].apply(lambda x: re.sub(r'\\W+', ' ', x))\n",
    "    #It searches for any numeric character (\\d) followed by an optional character (.) and removes it\n",
    "    df2['species2'] = df2['species2'].apply(lambda x: re.sub(r'\\d.?', '', x, flags=re.IGNORECASE))\n",
    "    \n",
    "    "
   ]
  },
  {
   "cell_type": "code",
   "execution_count": 3,
   "id": "8c71213c",
   "metadata": {},
   "outputs": [],
   "source": [
    "#modificamos los espacios blancos en los titulos de las las columnas por añadimos _\n",
    "df.columns = [i.lower().replace(\" \", \"_\") for i in df.columns]"
   ]
  },
  {
   "cell_type": "code",
   "execution_count": 4,
   "id": "00481e61",
   "metadata": {},
   "outputs": [],
   "source": [
    "#drops all rows from DataFrame \"df\" that contain all missing values (NaN)\n",
    "df = df.dropna(how='all')"
   ]
  },
  {
   "cell_type": "code",
   "execution_count": 5,
   "id": "56fa4e61",
   "metadata": {},
   "outputs": [],
   "source": [
    "#eliminamos duplicados\n",
    "df= df.drop_duplicates()  "
   ]
  },
  {
   "cell_type": "code",
   "execution_count": 6,
   "id": "ee1e6808",
   "metadata": {},
   "outputs": [],
   "source": [
    "#creamos una copia del df princpal\n",
    "df1=df.copy()"
   ]
  },
  {
   "cell_type": "code",
   "execution_count": 7,
   "id": "88f84f44",
   "metadata": {},
   "outputs": [],
   "source": [
    " #eliminamos las columnas indicadas del df1\n",
    "df1.drop(['case_number', 'date', 'year', 'area', 'location', 'activity', 'name','investigator_or_source','pdf','href_formula', 'href', 'case_number.1', 'case_number.2', 'unnamed:_22','unnamed:_23' ], axis=1, inplace=True)"
   ]
  },
  {
   "cell_type": "code",
   "execution_count": 8,
   "id": "c1d55cf7",
   "metadata": {},
   "outputs": [],
   "source": [
    "#creamos una copia de la columna species\n",
    "df1['species2']=df1['species_'].copy()"
   ]
  },
  {
   "cell_type": "code",
   "execution_count": null,
   "id": "c6ceb682",
   "metadata": {},
   "outputs": [],
   "source": []
  },
  {
   "cell_type": "code",
   "execution_count": 9,
   "id": "228a3a06",
   "metadata": {},
   "outputs": [
    {
     "data": {
      "text/html": [
       "<div>\n",
       "<style scoped>\n",
       "    .dataframe tbody tr th:only-of-type {\n",
       "        vertical-align: middle;\n",
       "    }\n",
       "\n",
       "    .dataframe tbody tr th {\n",
       "        vertical-align: top;\n",
       "    }\n",
       "\n",
       "    .dataframe thead th {\n",
       "        text-align: right;\n",
       "    }\n",
       "</style>\n",
       "<table border=\"1\" class=\"dataframe\">\n",
       "  <thead>\n",
       "    <tr style=\"text-align: right;\">\n",
       "      <th></th>\n",
       "      <th>type</th>\n",
       "      <th>country</th>\n",
       "      <th>sex_</th>\n",
       "      <th>age</th>\n",
       "      <th>injury</th>\n",
       "      <th>fatal_(y/n)</th>\n",
       "      <th>time</th>\n",
       "      <th>species_</th>\n",
       "      <th>original_order</th>\n",
       "      <th>species2</th>\n",
       "    </tr>\n",
       "  </thead>\n",
       "  <tbody>\n",
       "    <tr>\n",
       "      <th>0</th>\n",
       "      <td>boating</td>\n",
       "      <td>usa</td>\n",
       "      <td>f</td>\n",
       "      <td>57</td>\n",
       "      <td>no injury to occupant, outrigger canoe and pad...</td>\n",
       "      <td>n</td>\n",
       "      <td>18h00</td>\n",
       "      <td>white shark</td>\n",
       "      <td>6303.0</td>\n",
       "      <td>white shark</td>\n",
       "    </tr>\n",
       "    <tr>\n",
       "      <th>1</th>\n",
       "      <td>unprovoked</td>\n",
       "      <td>usa</td>\n",
       "      <td>f</td>\n",
       "      <td>11</td>\n",
       "      <td>minor injury to left thigh</td>\n",
       "      <td>n</td>\n",
       "      <td>14h00  -15h00</td>\n",
       "      <td>NaN</td>\n",
       "      <td>6302.0</td>\n",
       "      <td>NaN</td>\n",
       "    </tr>\n",
       "    <tr>\n",
       "      <th>2</th>\n",
       "      <td>invalid</td>\n",
       "      <td>usa</td>\n",
       "      <td>m</td>\n",
       "      <td>48</td>\n",
       "      <td>injury to left lower leg from surfboard skeg</td>\n",
       "      <td>n</td>\n",
       "      <td>07h45</td>\n",
       "      <td>NaN</td>\n",
       "      <td>6301.0</td>\n",
       "      <td>NaN</td>\n",
       "    </tr>\n",
       "    <tr>\n",
       "      <th>3</th>\n",
       "      <td>unprovoked</td>\n",
       "      <td>australia</td>\n",
       "      <td>m</td>\n",
       "      <td>NaN</td>\n",
       "      <td>minor injury to lower leg</td>\n",
       "      <td>n</td>\n",
       "      <td>NaN</td>\n",
       "      <td>2 m shark</td>\n",
       "      <td>6300.0</td>\n",
       "      <td>2 m shark</td>\n",
       "    </tr>\n",
       "    <tr>\n",
       "      <th>4</th>\n",
       "      <td>provoked</td>\n",
       "      <td>mexico</td>\n",
       "      <td>m</td>\n",
       "      <td>NaN</td>\n",
       "      <td>lacerations to leg &amp; hand shark provoked incident</td>\n",
       "      <td>n</td>\n",
       "      <td>NaN</td>\n",
       "      <td>tiger shark, 3m</td>\n",
       "      <td>6299.0</td>\n",
       "      <td>tiger shark, 3m</td>\n",
       "    </tr>\n",
       "    <tr>\n",
       "      <th>...</th>\n",
       "      <td>...</td>\n",
       "      <td>...</td>\n",
       "      <td>...</td>\n",
       "      <td>...</td>\n",
       "      <td>...</td>\n",
       "      <td>...</td>\n",
       "      <td>...</td>\n",
       "      <td>...</td>\n",
       "      <td>...</td>\n",
       "      <td>...</td>\n",
       "    </tr>\n",
       "    <tr>\n",
       "      <th>6305</th>\n",
       "      <td>NaN</td>\n",
       "      <td>NaN</td>\n",
       "      <td>NaN</td>\n",
       "      <td>NaN</td>\n",
       "      <td>NaN</td>\n",
       "      <td>NaN</td>\n",
       "      <td>NaN</td>\n",
       "      <td>NaN</td>\n",
       "      <td>6307.0</td>\n",
       "      <td>NaN</td>\n",
       "    </tr>\n",
       "    <tr>\n",
       "      <th>6306</th>\n",
       "      <td>NaN</td>\n",
       "      <td>NaN</td>\n",
       "      <td>NaN</td>\n",
       "      <td>NaN</td>\n",
       "      <td>NaN</td>\n",
       "      <td>NaN</td>\n",
       "      <td>NaN</td>\n",
       "      <td>NaN</td>\n",
       "      <td>6308.0</td>\n",
       "      <td>NaN</td>\n",
       "    </tr>\n",
       "    <tr>\n",
       "      <th>6307</th>\n",
       "      <td>NaN</td>\n",
       "      <td>NaN</td>\n",
       "      <td>NaN</td>\n",
       "      <td>NaN</td>\n",
       "      <td>NaN</td>\n",
       "      <td>NaN</td>\n",
       "      <td>NaN</td>\n",
       "      <td>NaN</td>\n",
       "      <td>6309.0</td>\n",
       "      <td>NaN</td>\n",
       "    </tr>\n",
       "    <tr>\n",
       "      <th>6308</th>\n",
       "      <td>NaN</td>\n",
       "      <td>NaN</td>\n",
       "      <td>NaN</td>\n",
       "      <td>NaN</td>\n",
       "      <td>NaN</td>\n",
       "      <td>NaN</td>\n",
       "      <td>NaN</td>\n",
       "      <td>NaN</td>\n",
       "      <td>6310.0</td>\n",
       "      <td>NaN</td>\n",
       "    </tr>\n",
       "    <tr>\n",
       "      <th>6309</th>\n",
       "      <td>NaN</td>\n",
       "      <td>NaN</td>\n",
       "      <td>NaN</td>\n",
       "      <td>NaN</td>\n",
       "      <td>NaN</td>\n",
       "      <td>NaN</td>\n",
       "      <td>NaN</td>\n",
       "      <td>NaN</td>\n",
       "      <td>NaN</td>\n",
       "      <td>NaN</td>\n",
       "    </tr>\n",
       "  </tbody>\n",
       "</table>\n",
       "<p>6310 rows × 10 columns</p>\n",
       "</div>"
      ],
      "text/plain": [
       "            type    country sex_  age   \n",
       "0        boating        usa    f   57  \\\n",
       "1     unprovoked        usa    f   11   \n",
       "2        invalid        usa    m   48   \n",
       "3     unprovoked  australia    m  NaN   \n",
       "4       provoked     mexico    m  NaN   \n",
       "...          ...        ...  ...  ...   \n",
       "6305         NaN        NaN  NaN  NaN   \n",
       "6306         NaN        NaN  NaN  NaN   \n",
       "6307         NaN        NaN  NaN  NaN   \n",
       "6308         NaN        NaN  NaN  NaN   \n",
       "6309         NaN        NaN  NaN  NaN   \n",
       "\n",
       "                                                 injury fatal_(y/n)   \n",
       "0     no injury to occupant, outrigger canoe and pad...           n  \\\n",
       "1                            minor injury to left thigh           n   \n",
       "2          injury to left lower leg from surfboard skeg           n   \n",
       "3                             minor injury to lower leg           n   \n",
       "4     lacerations to leg & hand shark provoked incident           n   \n",
       "...                                                 ...         ...   \n",
       "6305                                                NaN         NaN   \n",
       "6306                                                NaN         NaN   \n",
       "6307                                                NaN         NaN   \n",
       "6308                                                NaN         NaN   \n",
       "6309                                                NaN         NaN   \n",
       "\n",
       "               time         species_  original_order         species2  \n",
       "0             18h00      white shark          6303.0      white shark  \n",
       "1     14h00  -15h00              NaN          6302.0              NaN  \n",
       "2             07h45              NaN          6301.0              NaN  \n",
       "3               NaN        2 m shark          6300.0        2 m shark  \n",
       "4               NaN  tiger shark, 3m          6299.0  tiger shark, 3m  \n",
       "...             ...              ...             ...              ...  \n",
       "6305            NaN              NaN          6307.0              NaN  \n",
       "6306            NaN              NaN          6308.0              NaN  \n",
       "6307            NaN              NaN          6309.0              NaN  \n",
       "6308            NaN              NaN          6310.0              NaN  \n",
       "6309            NaN              NaN             NaN              NaN  \n",
       "\n",
       "[6310 rows x 10 columns]"
      ]
     },
     "execution_count": 9,
     "metadata": {},
     "output_type": "execute_result"
    }
   ],
   "source": [
    "#eliminamos todas las filas de las columnas indicadas con duplicados\n",
    "df1.drop_duplicates() "
   ]
  },
  {
   "cell_type": "code",
   "execution_count": 10,
   "id": "cab68a58",
   "metadata": {},
   "outputs": [],
   "source": [
    "df1.dropna(subset=['type', 'fatal_(y/n)', 'species2'], how='all', inplace=True)"
   ]
  },
  {
   "cell_type": "code",
   "execution_count": null,
   "id": "482a1062",
   "metadata": {},
   "outputs": [],
   "source": []
  },
  {
   "cell_type": "code",
   "execution_count": null,
   "id": "ab8b0c9b",
   "metadata": {},
   "outputs": [],
   "source": []
  },
  {
   "cell_type": "code",
   "execution_count": 11,
   "id": "498e792b",
   "metadata": {},
   "outputs": [],
   "source": [
    "df1.rename(columns={'species_': 'species', 'fatal_(y/n)':'fatality', 'sex_' : 'sex'}, inplace=True)"
   ]
  },
  {
   "cell_type": "code",
   "execution_count": 12,
   "id": "92abef10",
   "metadata": {},
   "outputs": [
    {
     "data": {
      "text/html": [
       "<div>\n",
       "<style scoped>\n",
       "    .dataframe tbody tr th:only-of-type {\n",
       "        vertical-align: middle;\n",
       "    }\n",
       "\n",
       "    .dataframe tbody tr th {\n",
       "        vertical-align: top;\n",
       "    }\n",
       "\n",
       "    .dataframe thead th {\n",
       "        text-align: right;\n",
       "    }\n",
       "</style>\n",
       "<table border=\"1\" class=\"dataframe\">\n",
       "  <thead>\n",
       "    <tr style=\"text-align: right;\">\n",
       "      <th></th>\n",
       "      <th>type</th>\n",
       "      <th>country</th>\n",
       "      <th>sex</th>\n",
       "      <th>age</th>\n",
       "      <th>injury</th>\n",
       "      <th>fatality</th>\n",
       "      <th>time</th>\n",
       "      <th>species</th>\n",
       "      <th>original_order</th>\n",
       "      <th>species2</th>\n",
       "    </tr>\n",
       "  </thead>\n",
       "  <tbody>\n",
       "    <tr>\n",
       "      <th>4687</th>\n",
       "      <td>unprovoked</td>\n",
       "      <td>usa</td>\n",
       "      <td>m</td>\n",
       "      <td>NaN</td>\n",
       "      <td>calf nipped in each case</td>\n",
       "      <td>n</td>\n",
       "      <td>NaN</td>\n",
       "      <td>\"small sharks\"</td>\n",
       "      <td>1616.0</td>\n",
       "      <td>\"small sharks\"</td>\n",
       "    </tr>\n",
       "  </tbody>\n",
       "</table>\n",
       "</div>"
      ],
      "text/plain": [
       "            type country sex  age                    injury fatality time   \n",
       "4687  unprovoked     usa   m  NaN  calf nipped in each case        n  NaN  \\\n",
       "\n",
       "             species  original_order        species2  \n",
       "4687  \"small sharks\"          1616.0  \"small sharks\"  "
      ]
     },
     "execution_count": 12,
     "metadata": {},
     "output_type": "execute_result"
    }
   ],
   "source": [
    "df3= df1.copy()\n",
    "df3.sample()"
   ]
  },
  {
   "cell_type": "code",
   "execution_count": 13,
   "id": "dc11f901",
   "metadata": {},
   "outputs": [],
   "source": [
    "df3.dropna(subset=['species2'], how='all', inplace=True)\n"
   ]
  },
  {
   "cell_type": "code",
   "execution_count": 14,
   "id": "4c3228b8",
   "metadata": {},
   "outputs": [],
   "source": [
    "Species_unique= []\n",
    "for i in df3['species2'].unique():\n",
    "    Species_unique.append(i)\n"
   ]
  },
  {
   "cell_type": "code",
   "execution_count": 15,
   "id": "ac0756b2",
   "metadata": {},
   "outputs": [
    {
     "data": {
      "text/plain": [
       "1535"
      ]
     },
     "execution_count": 15,
     "metadata": {},
     "output_type": "execute_result"
    }
   ],
   "source": [
    "len(Species_unique)"
   ]
  },
  {
   "cell_type": "code",
   "execution_count": 16,
   "id": "578f969e",
   "metadata": {},
   "outputs": [],
   "source": [
    "Species_values= []\n",
    "for i in df3['species2'].values:\n",
    "    Species_values.append(i)\n"
   ]
  },
  {
   "cell_type": "code",
   "execution_count": 17,
   "id": "cff542dc",
   "metadata": {},
   "outputs": [
    {
     "data": {
      "text/plain": [
       "3464"
      ]
     },
     "execution_count": 17,
     "metadata": {},
     "output_type": "execute_result"
    }
   ],
   "source": [
    "len(Species_values)"
   ]
  },
  {
   "cell_type": "code",
   "execution_count": 18,
   "id": "2df77785",
   "metadata": {},
   "outputs": [],
   "source": [
    "import re"
   ]
  },
  {
   "cell_type": "code",
   "execution_count": 19,
   "id": "fe907e9d",
   "metadata": {},
   "outputs": [],
   "source": [
    "#df3['species2'] = df3['species'].apply(lambda x: re.sub(r'\\d+|[^\\w]*shark[^\\w]*', '', x, flags=re.IGNORECASE))\n"
   ]
  },
  {
   "cell_type": "code",
   "execution_count": 20,
   "id": "5f15b511",
   "metadata": {},
   "outputs": [],
   "source": [
    "#deletting anything that's not a letter\n",
    "df3['species2'] = df3['species2'].apply(lambda x: re.sub(r'\\W+', ' ', x))"
   ]
  },
  {
   "cell_type": "code",
   "execution_count": 21,
   "id": "05be2067",
   "metadata": {},
   "outputs": [],
   "source": [
    "Species2_values= []\n",
    "for i in df3['species2'].values:\n",
    "    Species2_values.append(i)\n"
   ]
  },
  {
   "cell_type": "code",
   "execution_count": 22,
   "id": "a72d7ce1",
   "metadata": {},
   "outputs": [
    {
     "data": {
      "text/plain": [
       "3464"
      ]
     },
     "execution_count": 22,
     "metadata": {},
     "output_type": "execute_result"
    }
   ],
   "source": [
    "len(Species2_values)"
   ]
  },
  {
   "cell_type": "code",
   "execution_count": 23,
   "id": "02d0395d",
   "metadata": {},
   "outputs": [],
   "source": [
    "#It searches for any numeric character (\\d) followed by an optional character (.) and removes it\n",
    "df3['species2']=df3['species2'].apply(lambda x: re.sub(r'\\d.?', '', x, flags=re.IGNORECASE))"
   ]
  },
  {
   "cell_type": "code",
   "execution_count": 24,
   "id": "d9e6ddc7",
   "metadata": {},
   "outputs": [],
   "source": [
    "#ok\n",
    "shark_not_involved = df3['species2'] == 'Shark involvement prior to death unconfirmed'\n",
    "df3 = df3.drop(df3[shark_not_involved].index)"
   ]
  },
  {
   "cell_type": "code",
   "execution_count": 25,
   "id": "9d99d508",
   "metadata": {},
   "outputs": [],
   "source": [
    "#ok\n",
    "shark_not_involved2 = df3['species2'] == 'Shark involvement prior to death not confirmed'\n",
    "df3 = df3.drop(df3[shark_not_involved2].index)"
   ]
  },
  {
   "cell_type": "code",
   "execution_count": 26,
   "id": "36890265",
   "metadata": {},
   "outputs": [],
   "source": [
    "#ok\n",
    "shark_not_involved3 = df3['species2'] =='Shark involvement suspected but not confirmed'\n",
    "df3 = df3.drop(df3[shark_not_involved3].index)"
   ]
  },
  {
   "cell_type": "code",
   "execution_count": 27,
   "id": "4e637b6d",
   "metadata": {},
   "outputs": [],
   "source": [
    "#ok\n",
    "shark_not_involved4 = df3['species2'] =='shark involvement not confirmed'\n",
    "df3 = df3.drop(df3[shark_not_involved4].index)"
   ]
  },
  {
   "cell_type": "code",
   "execution_count": 28,
   "id": "89d8d154",
   "metadata": {},
   "outputs": [],
   "source": [
    "#ok\n",
    "invaled = df3['species2'] =='Invalid'\n",
    "df3 = df3.drop(df3[invaled].index)"
   ]
  },
  {
   "cell_type": "code",
   "execution_count": 29,
   "id": "4c4a120f",
   "metadata": {},
   "outputs": [
    {
     "data": {
      "text/plain": [
       "3374"
      ]
     },
     "execution_count": 29,
     "metadata": {},
     "output_type": "execute_result"
    }
   ],
   "source": [
    "Species2_values= []\n",
    "for i in df3['species2'].values:\n",
    "    Species2_values.append(i)\n",
    "len(Species2_values)"
   ]
  },
  {
   "cell_type": "code",
   "execution_count": 30,
   "id": "69093f0e",
   "metadata": {},
   "outputs": [],
   "source": [
    "Species_unique2= []\n",
    "for i in df3['species2'].unique():\n",
    "    Species_unique2.append(i)\n"
   ]
  },
  {
   "cell_type": "code",
   "execution_count": 31,
   "id": "035d3c58",
   "metadata": {},
   "outputs": [
    {
     "data": {
      "text/plain": [
       "905"
      ]
     },
     "execution_count": 31,
     "metadata": {},
     "output_type": "execute_result"
    }
   ],
   "source": [
    "len(Species_unique2)"
   ]
  },
  {
   "cell_type": "code",
   "execution_count": 32,
   "id": "b92f8d98",
   "metadata": {},
   "outputs": [
    {
     "data": {
      "text/html": [
       "<div>\n",
       "<style scoped>\n",
       "    .dataframe tbody tr th:only-of-type {\n",
       "        vertical-align: middle;\n",
       "    }\n",
       "\n",
       "    .dataframe tbody tr th {\n",
       "        vertical-align: top;\n",
       "    }\n",
       "\n",
       "    .dataframe thead th {\n",
       "        text-align: right;\n",
       "    }\n",
       "</style>\n",
       "<table border=\"1\" class=\"dataframe\">\n",
       "  <thead>\n",
       "    <tr style=\"text-align: right;\">\n",
       "      <th></th>\n",
       "      <th>type</th>\n",
       "      <th>country</th>\n",
       "      <th>sex</th>\n",
       "      <th>age</th>\n",
       "      <th>injury</th>\n",
       "      <th>fatality</th>\n",
       "      <th>time</th>\n",
       "      <th>species</th>\n",
       "      <th>original_order</th>\n",
       "      <th>species2</th>\n",
       "    </tr>\n",
       "  </thead>\n",
       "  <tbody>\n",
       "    <tr>\n",
       "      <th>1894</th>\n",
       "      <td>unprovoked</td>\n",
       "      <td>south africa</td>\n",
       "      <td>m</td>\n",
       "      <td>NaN</td>\n",
       "      <td>no injury</td>\n",
       "      <td>n</td>\n",
       "      <td>NaN</td>\n",
       "      <td>mako shark, 2 m [6.75']</td>\n",
       "      <td>4409.0</td>\n",
       "      <td>mako shark m</td>\n",
       "    </tr>\n",
       "  </tbody>\n",
       "</table>\n",
       "</div>"
      ],
      "text/plain": [
       "            type       country sex  age     injury fatality time   \n",
       "1894  unprovoked  south africa   m  NaN  no injury        n  NaN  \\\n",
       "\n",
       "                       species  original_order        species2  \n",
       "1894  mako shark, 2 m [6.75']           4409.0  mako shark m    "
      ]
     },
     "execution_count": 32,
     "metadata": {},
     "output_type": "execute_result"
    }
   ],
   "source": [
    "df3.sample()"
   ]
  },
  {
   "cell_type": "code",
   "execution_count": 33,
   "id": "eb2eb373",
   "metadata": {},
   "outputs": [],
   "source": [
    "#elimina las letras m y a si se encuentran entre espacios\n",
    "df3['species2'] = df3['species2'].str.replace(r'\\s[m|a]\\s', ' ', regex=True)"
   ]
  },
  {
   "cell_type": "code",
   "execution_count": 34,
   "id": "52175a93",
   "metadata": {},
   "outputs": [],
   "source": [
    "Species_unique2= []\n",
    "for i in df3['species2'].unique():\n",
    "    Species_unique2.append(i)\n"
   ]
  },
  {
   "cell_type": "code",
   "execution_count": 35,
   "id": "25273888",
   "metadata": {},
   "outputs": [
    {
     "data": {
      "text/plain": [
       "860"
      ]
     },
     "execution_count": 35,
     "metadata": {},
     "output_type": "execute_result"
    }
   ],
   "source": [
    "len(Species_unique2)"
   ]
  },
  {
   "cell_type": "code",
   "execution_count": 36,
   "id": "af3aac1e",
   "metadata": {},
   "outputs": [],
   "source": [
    "# ok\n",
    "df3['species2'] = df3['species2'].str.replace(r'^m|a\\s', '', regex=True)"
   ]
  },
  {
   "cell_type": "code",
   "execution_count": 37,
   "id": "9c1472e7",
   "metadata": {},
   "outputs": [],
   "source": [
    "# ok\n",
    "df3['species2'] = df3['species2'].str.replace(r'\\sm|as$', '', regex=True)"
   ]
  },
  {
   "cell_type": "markdown",
   "id": "a03db302",
   "metadata": {},
   "source": [
    "LIMPIEZA NOMBRE ESPECIE"
   ]
  },
  {
   "cell_type": "code",
   "execution_count": 38,
   "id": "0f92a5d2",
   "metadata": {},
   "outputs": [],
   "source": [
    "mask_white = df3['species2'].str.contains('white shark|whites', case=False)\n",
    "\n",
    "# Reemplazar las palabras en las filas seleccionadas\n",
    "df3.loc[mask_white, 'species2'] = 'white shark'"
   ]
  },
  {
   "cell_type": "code",
   "execution_count": 39,
   "id": "d1731853",
   "metadata": {},
   "outputs": [],
   "source": [
    "mask_nurse = df3['species2'].str.contains('nurse|nurses', case=False)\n",
    "\n",
    "# Reemplazar las palabras en las filas seleccionadas\n",
    "df3.loc[mask_nurse, 'species2'] = 'nurse shark'"
   ]
  },
  {
   "cell_type": "code",
   "execution_count": 40,
   "id": "955cbb69",
   "metadata": {},
   "outputs": [],
   "source": [
    "mask_tiger = df3['species2'].str.contains('tiger|tigers', case=False)\n",
    "\n",
    "# Reemplazar las palabras en las filas seleccionadas\n",
    "df3.loc[mask_tiger, 'species2'] = 'tiger shark'"
   ]
  },
  {
   "cell_type": "code",
   "execution_count": 41,
   "id": "fbbc6239",
   "metadata": {},
   "outputs": [],
   "source": [
    "mask_grey = df3['species2'].str.contains('grey|greys|gray', case=False)\n",
    "\n",
    "# Reemplazar las palabras en las filas seleccionadas\n",
    "df3.loc[mask_grey, 'species2'] = 'grey reef shark'"
   ]
  },
  {
   "cell_type": "code",
   "execution_count": 42,
   "id": "2b02f0fb",
   "metadata": {},
   "outputs": [],
   "source": [
    "mask_wobbegong = df3['species2'].str.contains('wobbegong|wobbegongs', case=False)\n",
    "\n",
    "# Reemplazar las palabras en las filas seleccionadas\n",
    "df3.loc[mask_wobbegong, 'species2'] = 'wobbegong shark'"
   ]
  },
  {
   "cell_type": "code",
   "execution_count": 43,
   "id": "91a9d34a",
   "metadata": {},
   "outputs": [],
   "source": [
    "mask_bull = df3['species2'].str.contains('bull|bulls' , case=False)\n",
    "\n",
    "# Reemplazar las palabras en las filas seleccionadas\n",
    "df3.loc[mask_bull, 'species2'] = 'bull shark'"
   ]
  },
  {
   "cell_type": "code",
   "execution_count": 44,
   "id": "2483b465",
   "metadata": {},
   "outputs": [],
   "source": [
    "mask_blacktip = df3['species2'].str.contains('blacktip|blacktips|black tipped', case=False)\n",
    "\n",
    "# Reemplazar las palabras en las filas seleccionadas\n",
    "df3.loc[mask_blacktip, 'species2'] = 'blacktip shark'"
   ]
  },
  {
   "cell_type": "code",
   "execution_count": 45,
   "id": "a1056e62",
   "metadata": {},
   "outputs": [],
   "source": [
    "mask_hammerhead = df3['species2'].str.contains('hammerhead|hammerheads', case=False)\n",
    "\n",
    "# Reemplazar las palabras en las filas seleccionadas\n",
    "df3.loc[mask_hammerhead, 'species2'] = 'hammerhead shark'"
   ]
  },
  {
   "cell_type": "code",
   "execution_count": 46,
   "id": "7214491e",
   "metadata": {},
   "outputs": [],
   "source": [
    "mask_mako = df3['species2'].str.contains('Mako|Makos', case=False)\n",
    "\n",
    "# Reemplazar las palabras en las filas seleccionadas\n",
    "df3.loc[mask_mako, 'species2'] = 'mako shark'\n"
   ]
  },
  {
   "cell_type": "code",
   "execution_count": 47,
   "id": "37ab2f11",
   "metadata": {},
   "outputs": [],
   "source": [
    "mask_mako2 = df3['species2'].str.contains('ako|Akos', case=False)\n",
    "\n",
    "# Reemplazar las palabras en las filas seleccionadas\n",
    "df3.loc[mask_mako2, 'species2'] = 'mako shark'\n"
   ]
  },
  {
   "cell_type": "code",
   "execution_count": 48,
   "id": "ad7270ee",
   "metadata": {},
   "outputs": [],
   "source": [
    "mask_lemon = df3['species2'].str.contains('lemon|lemons', case=False)\n",
    "\n",
    "# Reemplazar las palabras en las filas seleccionadas\n",
    "df3.loc[mask_lemon, 'species2'] = 'lemon shark'\n"
   ]
  },
  {
   "cell_type": "code",
   "execution_count": 49,
   "id": "e929c7a0",
   "metadata": {},
   "outputs": [],
   "source": [
    "mask_largeako = df3['species2'].str.contains('largeako|largeakos', case=False)\n",
    "\n",
    "# Reemplazar las palabras en las filas seleccionadas\n",
    "df3.loc[mask_largeako, 'species2'] = 'largeako shark'\n"
   ]
  },
  {
   "cell_type": "code",
   "execution_count": 50,
   "id": "561d40d2",
   "metadata": {},
   "outputs": [],
   "source": [
    "mask_oceanic_whitetip = df3['species2'].str.contains('oceanic whitetip|oceanic whitetips', case=False)\n",
    "\n",
    "# Reemplazar las palabras en las filas seleccionadas\n",
    "df3.loc[mask_oceanic_whitetip, 'species2'] = 'oceanic whitetip shark'"
   ]
  },
  {
   "cell_type": "code",
   "execution_count": 51,
   "id": "99ed8e59",
   "metadata": {},
   "outputs": [],
   "source": [
    "mask_oceanic_whitetip2 = df3['species2'].str.contains('whtietip|white tipped|whitetip reef', case=False)\n",
    "\n",
    "# Reemplazar las palabras en las filas seleccionadas\n",
    "df3.loc[mask_oceanic_whitetip2, 'species2'] = 'whitetip reef shark'\n"
   ]
  },
  {
   "cell_type": "code",
   "execution_count": 52,
   "id": "f7b69c7b",
   "metadata": {},
   "outputs": [],
   "source": [
    "mask_bronze_whaler = df3['species2'].str.contains('bronze whaler|bronze whalers|bronze whale|Copper' , case=False)\n",
    "\n",
    "# Reemplazar las palabras en las filas seleccionadas\n",
    "df3.loc[mask_bronze_whaler, 'species2'] = 'bronze whaler shark'"
   ]
  },
  {
   "cell_type": "code",
   "execution_count": 53,
   "id": "5f0b6992",
   "metadata": {},
   "outputs": [],
   "source": [
    "mask_spinner = df3['species2'].str.contains('spinner|spinners', case=False)\n",
    "\n",
    "# Reemplazar las palabras en las filas seleccionadas\n",
    "df3.loc[mask_spinner, 'species2'] = 'spinner shark'"
   ]
  },
  {
   "cell_type": "code",
   "execution_count": 54,
   "id": "4927c353",
   "metadata": {},
   "outputs": [],
   "source": [
    "mask_caribbean_reef = df3['species2'].str.contains('caribbean reef|caribbean reefs', case=False)\n",
    "\n",
    "# Reemplazar las palabras en las filas seleccionadas\n",
    "df3.loc[mask_caribbean_reef, 'species2'] = 'caribbean reef shark'\n"
   ]
  },
  {
   "cell_type": "code",
   "execution_count": 55,
   "id": "1b961ea5",
   "metadata": {},
   "outputs": [],
   "source": [
    "mask_blue_pointer = df3['species2'].str.contains('blue pointer|blue pointers', case=False)\n",
    "\n",
    "# Reemplazar las palabras en las filas seleccionadas\n",
    "df3.loc[mask_blue_pointer, 'species2'] = 'blue shark'"
   ]
  },
  {
   "cell_type": "code",
   "execution_count": 56,
   "id": "b5864418",
   "metadata": {},
   "outputs": [],
   "source": [
    "mask_blue_shark = df3['species2'].str.contains('blue shark|blue sharks', case=False)\n",
    "\n",
    "# Reemplazar las palabras en las filas seleccionadas\n",
    "df3.loc[mask_blue_shark, 'species2'] = 'blue shark'"
   ]
  },
  {
   "cell_type": "code",
   "execution_count": 57,
   "id": "eb3c2e3c",
   "metadata": {},
   "outputs": [],
   "source": [
    "mask_blue_shark2 = df3['species2'].str.contains('blue nose', case=False)\n",
    "\n",
    "# Reemplazar las palabras en las filas seleccionadas\n",
    "df3.loc[mask_blue_shark2, 'species2'] = 'blue shark'"
   ]
  },
  {
   "cell_type": "code",
   "execution_count": 58,
   "id": "50c7b80f",
   "metadata": {},
   "outputs": [],
   "source": [
    "mask_bull = df3['species2'].str.contains('bull|bull sharks', case=False)\n",
    "\n",
    "# Reemplazar las palabras en las filas seleccionadas\n",
    "df3.loc[mask_bull, 'species2'] = 'bull shark'"
   ]
  },
  {
   "cell_type": "code",
   "execution_count": 59,
   "id": "a5296a93",
   "metadata": {},
   "outputs": [],
   "source": [
    "mask_brown = df3['species2'].str.contains('brown|brown sharks', case=False)\n",
    "\n",
    "# Reemplazar las palabras en las filas seleccionadas\n",
    "df3.loc[mask_brown, 'species2'] = 'sandbar shark'"
   ]
  },
  {
   "cell_type": "code",
   "execution_count": 60,
   "id": "89813f35",
   "metadata": {},
   "outputs": [],
   "source": [
    "mask_sandbar = df3['species2'].str.contains('sand|sandbar', case=False)\n",
    "\n",
    "# Reemplazar las palabras en las filas seleccionadas\n",
    "df3.loc[mask_sandbar, 'species2'] = 'sandbar shark'"
   ]
  },
  {
   "cell_type": "code",
   "execution_count": 61,
   "id": "3ac4c8cb",
   "metadata": {},
   "outputs": [],
   "source": [
    "mask_zambezi = df3['species2'].str.contains('zambezi|zambesi', case=False)\n",
    "\n",
    "# Reemplazar las palabras en las filas seleccionadas\n",
    "df3.loc[mask_zambezi, 'species2'] = 'bull shark'\n"
   ]
  },
  {
   "cell_type": "code",
   "execution_count": 62,
   "id": "085e86fe",
   "metadata": {},
   "outputs": [],
   "source": [
    "mask_raggedtooth = df3['species2'].str.contains('raggedtooth', case=False)\n",
    "\n",
    "# Reemplazar las palabras en las filas seleccionadas\n",
    "df3.loc[mask_raggedtooth, 'species2'] = 'raggedtooth shark'"
   ]
  },
  {
   "cell_type": "code",
   "execution_count": 63,
   "id": "a8dae3f2",
   "metadata": {},
   "outputs": [],
   "source": [
    "mask_dogfish = df3['species2'].str.contains('dog|dogfish', case=False)\n",
    "\n",
    "# Reemplazar las palabras en las filas seleccionadas\n",
    "df3.loc[mask_dogfish, 'species2'] = 'dogfish shark'"
   ]
  },
  {
   "cell_type": "code",
   "execution_count": 64,
   "id": "4e06b412",
   "metadata": {},
   "outputs": [],
   "source": [
    "mask_unidentified= df3['species2'].str.contains('unidentified|unknown', case=False)\n",
    "\n",
    "# Reemplazar las palabras en las filas seleccionadas\n",
    "df3.loc[mask_unidentified, 'species2'] = 'unidentified shark'"
   ]
  },
  {
   "cell_type": "markdown",
   "id": "7bba8b9b",
   "metadata": {},
   "source": [
    "ELIMINAR PALABRAS DE DOS LETRAS"
   ]
  },
  {
   "cell_type": "code",
   "execution_count": 65,
   "id": "6155049a",
   "metadata": {},
   "outputs": [],
   "source": [
    "#ELIMINAR PALABRAS DE DOS LETRAS\n",
    "df3['species2'] = df3['species2'].apply(lambda x: ' '.join([word for word in x.split() if len(word) > 2]))"
   ]
  },
  {
   "cell_type": "code",
   "execution_count": 66,
   "id": "df9bf525",
   "metadata": {},
   "outputs": [],
   "source": [
    "#ELIMINAR LAS FILAS QUE EN TYPE PONGA INVALID\n",
    "invalid= df3['type'] =='invalid'\n",
    "df3 = df3.drop(df3[invalid].index)"
   ]
  },
  {
   "cell_type": "code",
   "execution_count": 67,
   "id": "99f99dad",
   "metadata": {},
   "outputs": [
    {
     "data": {
      "text/plain": [
       "type\n",
       "unprovoked      2235\n",
       "provoked         412\n",
       "boating          136\n",
       "boat             112\n",
       "sea disaster      33\n",
       "questionable       1\n",
       "Name: count, dtype: int64"
      ]
     },
     "execution_count": 67,
     "metadata": {},
     "output_type": "execute_result"
    }
   ],
   "source": [
    "df3.type.value_counts()"
   ]
  },
  {
   "cell_type": "code",
   "execution_count": 68,
   "id": "0e987617",
   "metadata": {},
   "outputs": [],
   "source": [
    "#startswith shark"
   ]
  },
  {
   "cell_type": "code",
   "execution_count": 69,
   "id": "990b74a4",
   "metadata": {},
   "outputs": [
    {
     "data": {
      "text/plain": [
       "['white shark',\n",
       " 'shark',\n",
       " 'tiger shark',\n",
       " 'lemon shark',\n",
       " 'bull shark',\n",
       " 'grey reef shark',\n",
       " 'nurse shark',\n",
       " 'questionable',\n",
       " 'wobbegong shark',\n",
       " 'blacktip shark',\n",
       " 'galapagos shark',\n",
       " 'small shark',\n",
       " 'blue shark',\n",
       " 'cookiecutter shark',\n",
       " 'spinner shark',\n",
       " 'porbeagle',\n",
       " 'oceanic whitetip shark',\n",
       " 'seven gill shark',\n",
       " 'shark probably smooth hound',\n",
       " 'caribbean reef shark',\n",
       " 'broadnose sevengill shark',\n",
       " 'reef shark',\n",
       " 'angel shark',\n",
       " 'dogfish shark',\n",
       " 'mako shark',\n",
       " 'bronze whaler shark',\n",
       " 'silky shark',\n",
       " 'hammerhead shark',\n",
       " 'juvenile shark',\n",
       " 'foot shark',\n",
       " 'raggedtooth shark',\n",
       " 'shark involvement prior death still determined',\n",
       " 'goblin shark',\n",
       " 'etre shark',\n",
       " 'sandbar shark',\n",
       " 'cow shark',\n",
       " 'gill shark',\n",
       " 'whitetip reef shark',\n",
       " 'salmon shark',\n",
       " 'small sharks',\n",
       " 'porbeagle shark',\n",
       " 'small reef shark',\n",
       " 'port jackson shark',\n",
       " 'sevengill shark',\n",
       " 'thresher shark',\n",
       " 'thought involve cookie cutter shark',\n",
       " 'dusky shark',\n",
       " 'starry smoothhound shark',\n",
       " 'basking shark',\n",
       " '',\n",
       " 'small spotted catshark scyliorhinus canicula',\n",
       " 'small catsharks',\n",
       " 'said involve shark',\n",
       " 'shark shark',\n",
       " 'anglers from new zealand caught shark the same spot was believed this was the same shark that killed alysha',\n",
       " 'unidentified shark',\n",
       " 'sharks',\n",
       " 'bite diameter just below left knee',\n",
       " 'captive shark',\n",
       " 'shark tooth fragment recovered from hand',\n",
       " 'whaler shark',\n",
       " 'leucas tooth fragment recovered from kayak',\n",
       " 'black finned shark',\n",
       " 'shark was seen the areby witnesses',\n",
       " 'shark seen the vicinity',\n",
       " 'small dusky shark blackfin shark',\n",
       " 'soupfin shark',\n",
       " 'young shark',\n",
       " 'two sharks',\n",
       " 'leopard shark',\n",
       " 'shark tooth fragments recovered',\n",
       " 'female shark',\n",
       " 'shark had very large girth',\n",
       " 'two sharks seen vicinity',\n",
       " 'gaffed shark',\n",
       " 'silvertip shark',\n",
       " 'sharks attacked survivors the water',\n",
       " 'sixgill sevengill shark',\n",
       " 'shark with very flat head that had followed the boat for days',\n",
       " 'shark species identity questionable',\n",
       " 'caculpinnis limbatus',\n",
       " 'whale shark',\n",
       " 'juvenile dusky shark',\n",
       " 'carpet shark',\n",
       " 'shark observed area',\n",
       " 'albimarginatus',\n",
       " 'blackfin shark',\n",
       " 'shark involvement prior death was not confirmed',\n",
       " 'blue whaler galeolamn',\n",
       " 'pack sharks',\n",
       " 'sharks involved',\n",
       " 'whaler',\n",
       " 'less than',\n",
       " 'possibly broadnose gill shark',\n",
       " 'hand found gut galapagos shark galapagensis',\n",
       " 'shark seen vicinity',\n",
       " 'blue whaler',\n",
       " 'horn shar heterodontus francisci',\n",
       " 'said involve red shark',\n",
       " 'nextorning shark was caught that had andrews leg its gut',\n",
       " 'two shark teeth recovered from canoe',\n",
       " 'yellow belly captive shark shark destroyed aquarium staff next day',\n",
       " 'gummy shark rhizoprionodon loxodon',\n",
       " 'banjo shark',\n",
       " 'hooked shark',\n",
       " 'dusky shark dusky shark obscurus identified springer tooth recovered',\n",
       " 'possibly larger shark',\n",
       " 'shark captured',\n",
       " 'blacktail reef shark',\n",
       " 'bitten several sharks',\n",
       " 'said involve sharks',\n",
       " 'sharks averaged length',\n",
       " 'several sharks involved',\n",
       " 'shark seen feeding turtle scraps thrown overboard prior incident',\n",
       " 'sharkay have been another shark nearby',\n",
       " 'tooth fragments recovered from hull',\n",
       " 'leopard shark triakis semifasciatidentified dewitt',\n",
       " 'little shark',\n",
       " 'shark possibly dusky shark',\n",
       " 'attacked number sharks',\n",
       " 'spear eye shark',\n",
       " 'small carpet shark',\n",
       " 'bonitsharkk',\n",
       " 'whaler shark identified whitley',\n",
       " 'said shark',\n",
       " 'possibly leuc',\n",
       " 'ost likely small shark',\n",
       " 'shark landed hours later',\n",
       " 'large shark',\n",
       " 'days later shark was caught yards from the site',\n",
       " 'shovelnose shark',\n",
       " 'shark seen areprevious week',\n",
       " 'school sharks',\n",
       " 'cocktail shark',\n",
       " 'shark teeth found embedded the woodwork the boat',\n",
       " 'oreno leg part his swim suit found shark caught two hours after the attack identified carcharhinid shark schultz limbaugh photograph',\n",
       " 'whiptail shark thresher shark',\n",
       " 'according carlsmith the shark south was wide',\n",
       " 'said small shark',\n",
       " 'very large shark',\n",
       " 'shark later captured byitchell hedges',\n",
       " 'comrades saw shark tail appear about away',\n",
       " 'shark shark caught its jaw exhibited the carnegieuseum',\n",
       " 'shark known old tom',\n",
       " 'whaler shark captured days later with his remains its gut',\n",
       " 'cacrurus captured hours after attack with tissue removed froman its gut species identified whitley reported obscurus steel',\n",
       " 'remains recovered from sharks',\n",
       " 'allegedly foot shark',\n",
       " 'shark involvement probable',\n",
       " 'remains recovered days later',\n",
       " 'fishermen recovered partial remains from shark week later',\n",
       " 'sevengill shark was caught the vicinity',\n",
       " 'shark was said have very rough thick skin',\n",
       " 'blue porbeagle shark',\n",
       " 'identified gangeticus fayrer',\n",
       " 'shark caught later',\n",
       " 'ground shark',\n",
       " 'remains recovered from shark caught days later',\n",
       " 'the fish was harpooned dried and presented the sailor who went round europe exhibiting was said feet long',\n",
       " 'shovelnose guitarfish adultale']"
      ]
     },
     "execution_count": 69,
     "metadata": {},
     "output_type": "execute_result"
    }
   ],
   "source": [
    "Species_unique2= []\n",
    "for i in df3['species2'].unique():\n",
    "    Species_unique2.append(i)\n",
    "Species_unique2"
   ]
  },
  {
   "cell_type": "code",
   "execution_count": 70,
   "id": "25c09281",
   "metadata": {},
   "outputs": [
    {
     "data": {
      "text/plain": [
       "160"
      ]
     },
     "execution_count": 70,
     "metadata": {},
     "output_type": "execute_result"
    }
   ],
   "source": [
    "len(Species_unique2)"
   ]
  },
  {
   "cell_type": "code",
   "execution_count": 71,
   "id": "69a9fda6",
   "metadata": {},
   "outputs": [],
   "source": [
    "# ok\n",
    "species_counts= {}\n",
    "for i,x in df3['species2'].value_counts().items():\n",
    "    species_counts[i]=x\n"
   ]
  },
  {
   "cell_type": "code",
   "execution_count": 72,
   "id": "dce2f996",
   "metadata": {},
   "outputs": [
    {
     "data": {
      "text/plain": [
       "{'shark': 801,\n",
       " 'white shark': 628,\n",
       " 'tiger shark': 283,\n",
       " 'bull shark': 208,\n",
       " 'blacktip shark': 104,\n",
       " 'nurse shark': 97,\n",
       " 'bronze whaler shark': 69,\n",
       " 'mako shark': 53,\n",
       " 'blue shark': 52,\n",
       " 'wobbegong shark': 49,\n",
       " 'hammerhead shark': 48,\n",
       " 'small shark': 47,\n",
       " 'raggedtooth shark': 43,\n",
       " 'lemon shark': 34,\n",
       " 'sandbar shark': 30,\n",
       " 'grey reef shark': 29,\n",
       " 'oceanic whitetip shark': 24,\n",
       " 'spinner shark': 21,\n",
       " 'unidentified shark': 16,\n",
       " 'caribbean reef shark': 16,\n",
       " 'reef shark': 13,\n",
       " 'sharks': 11,\n",
       " 'dogfish shark': 10,\n",
       " '': 10,\n",
       " 'sevengill shark': 9,\n",
       " 'dusky shark': 7,\n",
       " 'whitetip reef shark': 7,\n",
       " 'carpet shark': 7,\n",
       " 'basking shark': 7,\n",
       " 'angel shark': 6,\n",
       " 'small sharks': 6,\n",
       " 'galapagos shark': 6,\n",
       " 'porbeagle shark': 5,\n",
       " 'juvenile shark': 5,\n",
       " 'said involve shark': 5,\n",
       " 'silky shark': 4,\n",
       " 'gill shark': 4,\n",
       " 'whaler shark': 4,\n",
       " 'pack sharks': 4,\n",
       " 'shark seen vicinity': 4,\n",
       " 'thresher shark': 3,\n",
       " 'foot shark': 3,\n",
       " 'said shark': 2,\n",
       " 'possibly leuc': 2,\n",
       " 'two sharks': 2,\n",
       " 'shark involvement probable': 2,\n",
       " 'juvenile dusky shark': 2,\n",
       " 'whale shark': 2,\n",
       " 'female shark': 2,\n",
       " 'school sharks': 2,\n",
       " 'silvertip shark': 2,\n",
       " 'salmon shark': 2,\n",
       " 'cow shark': 2,\n",
       " 'large shark': 2,\n",
       " 'questionable': 2,\n",
       " 'seven gill shark': 2,\n",
       " 'said involve sharks': 2,\n",
       " 'broadnose sevengill shark': 2,\n",
       " 'sharks averaged length': 2,\n",
       " 'goblin shark': 2,\n",
       " 'shovelnose shark': 2,\n",
       " 'shark seen feeding turtle scraps thrown overboard prior incident': 1,\n",
       " 'bonitsharkk': 1,\n",
       " 'whaler shark identified whitley': 1,\n",
       " 'little shark': 1,\n",
       " 'several sharks involved': 1,\n",
       " 'ost likely small shark': 1,\n",
       " 'small carpet shark': 1,\n",
       " 'spear eye shark': 1,\n",
       " 'attacked number sharks': 1,\n",
       " 'sharkay have been another shark nearby': 1,\n",
       " 'tooth fragments recovered from hull': 1,\n",
       " 'bitten several sharks': 1,\n",
       " 'blacktail reef shark': 1,\n",
       " 'shark landed hours later': 1,\n",
       " 'shark possibly dusky shark': 1,\n",
       " 'leopard shark triakis semifasciatidentified dewitt': 1,\n",
       " 'allegedly foot shark': 1,\n",
       " 'days later shark was caught yards from the site': 1,\n",
       " 'shark seen areprevious week': 1,\n",
       " 'the fish was harpooned dried and presented the sailor who went round europe exhibiting was said feet long': 1,\n",
       " 'remains recovered from shark caught days later': 1,\n",
       " 'ground shark': 1,\n",
       " 'shark caught later': 1,\n",
       " 'identified gangeticus fayrer': 1,\n",
       " 'blue porbeagle shark': 1,\n",
       " 'shark was said have very rough thick skin': 1,\n",
       " 'sevengill shark was caught the vicinity': 1,\n",
       " 'fishermen recovered partial remains from shark week later': 1,\n",
       " 'remains recovered days later': 1,\n",
       " 'possibly larger shark': 1,\n",
       " 'remains recovered from sharks': 1,\n",
       " 'cacrurus captured hours after attack with tissue removed froman its gut species identified whitley reported obscurus steel': 1,\n",
       " 'whaler shark captured days later with his remains its gut': 1,\n",
       " 'shark known old tom': 1,\n",
       " 'shark shark caught its jaw exhibited the carnegieuseum': 1,\n",
       " 'comrades saw shark tail appear about away': 1,\n",
       " 'shark later captured byitchell hedges': 1,\n",
       " 'very large shark': 1,\n",
       " 'said small shark': 1,\n",
       " 'according carlsmith the shark south was wide': 1,\n",
       " 'whiptail shark thresher shark': 1,\n",
       " 'oreno leg part his swim suit found shark caught two hours after the attack identified carcharhinid shark schultz limbaugh photograph': 1,\n",
       " 'shark teeth found embedded the woodwork the boat': 1,\n",
       " 'cocktail shark': 1,\n",
       " 'shark captured': 1,\n",
       " 'caculpinnis limbatus': 1,\n",
       " 'dusky shark dusky shark obscurus identified springer tooth recovered': 1,\n",
       " 'shark tooth fragments recovered': 1,\n",
       " 'young shark': 1,\n",
       " 'soupfin shark': 1,\n",
       " 'small dusky shark blackfin shark': 1,\n",
       " 'shark seen the vicinity': 1,\n",
       " 'shark was seen the areby witnesses': 1,\n",
       " 'black finned shark': 1,\n",
       " 'leucas tooth fragment recovered from kayak': 1,\n",
       " 'shark tooth fragment recovered from hand': 1,\n",
       " 'captive shark': 1,\n",
       " 'bite diameter just below left knee': 1,\n",
       " 'anglers from new zealand caught shark the same spot was believed this was the same shark that killed alysha': 1,\n",
       " 'shark shark': 1,\n",
       " 'small catsharks': 1,\n",
       " 'small spotted catshark scyliorhinus canicula': 1,\n",
       " 'starry smoothhound shark': 1,\n",
       " 'thought involve cookie cutter shark': 1,\n",
       " 'port jackson shark': 1,\n",
       " 'small reef shark': 1,\n",
       " 'etre shark': 1,\n",
       " 'shark involvement prior death still determined': 1,\n",
       " 'shark probably smooth hound': 1,\n",
       " 'porbeagle': 1,\n",
       " 'cookiecutter shark': 1,\n",
       " 'leopard shark': 1,\n",
       " 'shark had very large girth': 1,\n",
       " 'hooked shark': 1,\n",
       " 'two sharks seen vicinity': 1,\n",
       " 'banjo shark': 1,\n",
       " 'gummy shark rhizoprionodon loxodon': 1,\n",
       " 'yellow belly captive shark shark destroyed aquarium staff next day': 1,\n",
       " 'two shark teeth recovered from canoe': 1,\n",
       " 'nextorning shark was caught that had andrews leg its gut': 1,\n",
       " 'said involve red shark': 1,\n",
       " 'horn shar heterodontus francisci': 1,\n",
       " 'blue whaler': 1,\n",
       " 'hand found gut galapagos shark galapagensis': 1,\n",
       " 'possibly broadnose gill shark': 1,\n",
       " 'less than': 1,\n",
       " 'whaler': 1,\n",
       " 'sharks involved': 1,\n",
       " 'blue whaler galeolamn': 1,\n",
       " 'shark involvement prior death was not confirmed': 1,\n",
       " 'blackfin shark': 1,\n",
       " 'albimarginatus': 1,\n",
       " 'shark observed area': 1,\n",
       " 'shark species identity questionable': 1,\n",
       " 'shark with very flat head that had followed the boat for days': 1,\n",
       " 'sixgill sevengill shark': 1,\n",
       " 'sharks attacked survivors the water': 1,\n",
       " 'gaffed shark': 1,\n",
       " 'shovelnose guitarfish adultale': 1}"
      ]
     },
     "execution_count": 72,
     "metadata": {},
     "output_type": "execute_result"
    }
   ],
   "source": [
    "species_counts"
   ]
  },
  {
   "cell_type": "code",
   "execution_count": 73,
   "id": "4edf98a3",
   "metadata": {},
   "outputs": [
    {
     "data": {
      "text/plain": [
       "dict_keys(['shark', 'white shark', 'tiger shark', 'bull shark', 'blacktip shark', 'nurse shark', 'bronze whaler shark', 'mako shark', 'blue shark', 'wobbegong shark', 'hammerhead shark', 'small shark', 'raggedtooth shark', 'lemon shark', 'sandbar shark', 'grey reef shark', 'oceanic whitetip shark', 'spinner shark', 'unidentified shark', 'caribbean reef shark', 'reef shark', 'sharks', 'dogfish shark', '', 'sevengill shark', 'dusky shark', 'whitetip reef shark', 'carpet shark', 'basking shark', 'angel shark', 'small sharks', 'galapagos shark'])"
      ]
     },
     "execution_count": 73,
     "metadata": {},
     "output_type": "execute_result"
    }
   ],
   "source": [
    "# ok\n",
    "for key, value in dict(species_counts).items():\n",
    "    if value < 6:\n",
    "        species_counts.pop(key)\n",
    "\n",
    "species_counts.keys()"
   ]
  },
  {
   "cell_type": "code",
   "execution_count": 74,
   "id": "e6f8f6fb",
   "metadata": {},
   "outputs": [],
   "source": [
    "df4=df3.copy()"
   ]
  },
  {
   "cell_type": "code",
   "execution_count": 75,
   "id": "62962e45",
   "metadata": {},
   "outputs": [
    {
     "data": {
      "text/html": [
       "<div>\n",
       "<style scoped>\n",
       "    .dataframe tbody tr th:only-of-type {\n",
       "        vertical-align: middle;\n",
       "    }\n",
       "\n",
       "    .dataframe tbody tr th {\n",
       "        vertical-align: top;\n",
       "    }\n",
       "\n",
       "    .dataframe thead th {\n",
       "        text-align: right;\n",
       "    }\n",
       "</style>\n",
       "<table border=\"1\" class=\"dataframe\">\n",
       "  <thead>\n",
       "    <tr style=\"text-align: right;\">\n",
       "      <th></th>\n",
       "      <th>type</th>\n",
       "      <th>country</th>\n",
       "      <th>sex</th>\n",
       "      <th>age</th>\n",
       "      <th>injury</th>\n",
       "      <th>fatality</th>\n",
       "      <th>time</th>\n",
       "      <th>species</th>\n",
       "      <th>original_order</th>\n",
       "      <th>species2</th>\n",
       "    </tr>\n",
       "  </thead>\n",
       "  <tbody>\n",
       "    <tr>\n",
       "      <th>0</th>\n",
       "      <td>boating</td>\n",
       "      <td>usa</td>\n",
       "      <td>f</td>\n",
       "      <td>57</td>\n",
       "      <td>no injury to occupant, outrigger canoe and pad...</td>\n",
       "      <td>n</td>\n",
       "      <td>18h00</td>\n",
       "      <td>white shark</td>\n",
       "      <td>6303.0</td>\n",
       "      <td>white shark</td>\n",
       "    </tr>\n",
       "    <tr>\n",
       "      <th>3</th>\n",
       "      <td>unprovoked</td>\n",
       "      <td>australia</td>\n",
       "      <td>m</td>\n",
       "      <td>NaN</td>\n",
       "      <td>minor injury to lower leg</td>\n",
       "      <td>n</td>\n",
       "      <td>NaN</td>\n",
       "      <td>2 m shark</td>\n",
       "      <td>6300.0</td>\n",
       "      <td>shark</td>\n",
       "    </tr>\n",
       "    <tr>\n",
       "      <th>4</th>\n",
       "      <td>provoked</td>\n",
       "      <td>mexico</td>\n",
       "      <td>m</td>\n",
       "      <td>NaN</td>\n",
       "      <td>lacerations to leg &amp; hand shark provoked incident</td>\n",
       "      <td>n</td>\n",
       "      <td>NaN</td>\n",
       "      <td>tiger shark, 3m</td>\n",
       "      <td>6299.0</td>\n",
       "      <td>tiger shark</td>\n",
       "    </tr>\n",
       "    <tr>\n",
       "      <th>6</th>\n",
       "      <td>unprovoked</td>\n",
       "      <td>brazil</td>\n",
       "      <td>m</td>\n",
       "      <td>18</td>\n",
       "      <td>fatal</td>\n",
       "      <td>y</td>\n",
       "      <td>late afternoon</td>\n",
       "      <td>tiger shark</td>\n",
       "      <td>6297.0</td>\n",
       "      <td>tiger shark</td>\n",
       "    </tr>\n",
       "    <tr>\n",
       "      <th>7</th>\n",
       "      <td>unprovoked</td>\n",
       "      <td>usa</td>\n",
       "      <td>m</td>\n",
       "      <td>52</td>\n",
       "      <td>minor injury to foot. provoked incident</td>\n",
       "      <td>n</td>\n",
       "      <td>NaN</td>\n",
       "      <td>lemon shark, 3'</td>\n",
       "      <td>6296.0</td>\n",
       "      <td>lemon shark</td>\n",
       "    </tr>\n",
       "    <tr>\n",
       "      <th>...</th>\n",
       "      <td>...</td>\n",
       "      <td>...</td>\n",
       "      <td>...</td>\n",
       "      <td>...</td>\n",
       "      <td>...</td>\n",
       "      <td>...</td>\n",
       "      <td>...</td>\n",
       "      <td>...</td>\n",
       "      <td>...</td>\n",
       "      <td>...</td>\n",
       "    </tr>\n",
       "    <tr>\n",
       "      <th>6276</th>\n",
       "      <td>unprovoked</td>\n",
       "      <td>belize</td>\n",
       "      <td>m</td>\n",
       "      <td>16</td>\n",
       "      <td>fatal</td>\n",
       "      <td>y</td>\n",
       "      <td>NaN</td>\n",
       "      <td>12' tiger shark</td>\n",
       "      <td>27.0</td>\n",
       "      <td>tiger shark</td>\n",
       "    </tr>\n",
       "    <tr>\n",
       "      <th>6293</th>\n",
       "      <td>unprovoked</td>\n",
       "      <td>australia</td>\n",
       "      <td>m</td>\n",
       "      <td>NaN</td>\n",
       "      <td>fatal, knocked overboard by tail of shark &amp; ca...</td>\n",
       "      <td>y</td>\n",
       "      <td>NaN</td>\n",
       "      <td>blue pointer</td>\n",
       "      <td>10.0</td>\n",
       "      <td>blue shark</td>\n",
       "    </tr>\n",
       "    <tr>\n",
       "      <th>6294</th>\n",
       "      <td>unprovoked</td>\n",
       "      <td>australia</td>\n",
       "      <td>m</td>\n",
       "      <td>NaN</td>\n",
       "      <td>fatal</td>\n",
       "      <td>y</td>\n",
       "      <td>NaN</td>\n",
       "      <td>blue pointer</td>\n",
       "      <td>9.0</td>\n",
       "      <td>blue shark</td>\n",
       "    </tr>\n",
       "    <tr>\n",
       "      <th>6295</th>\n",
       "      <td>unprovoked</td>\n",
       "      <td>australia</td>\n",
       "      <td>m</td>\n",
       "      <td>NaN</td>\n",
       "      <td>fatal</td>\n",
       "      <td>y</td>\n",
       "      <td>NaN</td>\n",
       "      <td>blue pointers</td>\n",
       "      <td>8.0</td>\n",
       "      <td>blue shark</td>\n",
       "    </tr>\n",
       "    <tr>\n",
       "      <th>6296</th>\n",
       "      <td>unprovoked</td>\n",
       "      <td>australia</td>\n",
       "      <td>m</td>\n",
       "      <td>NaN</td>\n",
       "      <td>fatal</td>\n",
       "      <td>y</td>\n",
       "      <td>NaN</td>\n",
       "      <td>said to involve a grey nurse shark that leapt ...</td>\n",
       "      <td>7.0</td>\n",
       "      <td>nurse shark</td>\n",
       "    </tr>\n",
       "  </tbody>\n",
       "</table>\n",
       "<p>2929 rows × 10 columns</p>\n",
       "</div>"
      ],
      "text/plain": [
       "            type    country sex  age   \n",
       "0        boating        usa   f   57  \\\n",
       "3     unprovoked  australia   m  NaN   \n",
       "4       provoked     mexico   m  NaN   \n",
       "6     unprovoked     brazil   m   18   \n",
       "7     unprovoked        usa   m   52   \n",
       "...          ...        ...  ..  ...   \n",
       "6276  unprovoked     belize   m   16   \n",
       "6293  unprovoked  australia   m  NaN   \n",
       "6294  unprovoked  australia   m  NaN   \n",
       "6295  unprovoked  australia   m  NaN   \n",
       "6296  unprovoked  australia   m  NaN   \n",
       "\n",
       "                                                 injury fatality   \n",
       "0     no injury to occupant, outrigger canoe and pad...        n  \\\n",
       "3                             minor injury to lower leg        n   \n",
       "4     lacerations to leg & hand shark provoked incident        n   \n",
       "6                                                 fatal        y   \n",
       "7               minor injury to foot. provoked incident        n   \n",
       "...                                                 ...      ...   \n",
       "6276                                              fatal        y   \n",
       "6293  fatal, knocked overboard by tail of shark & ca...        y   \n",
       "6294                                              fatal        y   \n",
       "6295                                              fatal        y   \n",
       "6296                                              fatal        y   \n",
       "\n",
       "                time                                            species   \n",
       "0              18h00                                        white shark  \\\n",
       "3                NaN                                          2 m shark   \n",
       "4                NaN                                    tiger shark, 3m   \n",
       "6     late afternoon                                        tiger shark   \n",
       "7                NaN                                    lemon shark, 3'   \n",
       "...              ...                                                ...   \n",
       "6276             NaN                                    12' tiger shark   \n",
       "6293             NaN                                       blue pointer   \n",
       "6294             NaN                                       blue pointer   \n",
       "6295             NaN                                      blue pointers   \n",
       "6296             NaN  said to involve a grey nurse shark that leapt ...   \n",
       "\n",
       "      original_order     species2  \n",
       "0             6303.0  white shark  \n",
       "3             6300.0        shark  \n",
       "4             6299.0  tiger shark  \n",
       "6             6297.0  tiger shark  \n",
       "7             6296.0  lemon shark  \n",
       "...              ...          ...  \n",
       "6276            27.0  tiger shark  \n",
       "6293            10.0   blue shark  \n",
       "6294             9.0   blue shark  \n",
       "6295             8.0   blue shark  \n",
       "6296             7.0  nurse shark  \n",
       "\n",
       "[2929 rows x 10 columns]"
      ]
     },
     "execution_count": 75,
     "metadata": {},
     "output_type": "execute_result"
    }
   ],
   "source": [
    "df4"
   ]
  },
  {
   "cell_type": "code",
   "execution_count": 76,
   "id": "654710d0",
   "metadata": {},
   "outputs": [],
   "source": [
    "df4.dropna(subset=['species2'], how='all', inplace=True)"
   ]
  },
  {
   "cell_type": "code",
   "execution_count": 77,
   "id": "254ad8d6",
   "metadata": {},
   "outputs": [],
   "source": [
    "species_counts2= {}\n",
    "for i,x in df4['species2'].value_counts().items():\n",
    "    species_counts2[i]=x\n",
    "    \n",
    "for key, value in dict(species_counts2).items():\n",
    "    if value < 6:\n",
    "        species_counts2.pop(key)\n",
    "    \n",
    "species_list = list(species_counts2.keys())"
   ]
  },
  {
   "cell_type": "code",
   "execution_count": 78,
   "id": "460fd673",
   "metadata": {},
   "outputs": [
    {
     "data": {
      "text/plain": [
       "'shark'"
      ]
     },
     "execution_count": 78,
     "metadata": {},
     "output_type": "execute_result"
    }
   ],
   "source": [
    "species_list.pop(0)"
   ]
  },
  {
   "cell_type": "code",
   "execution_count": 79,
   "id": "1bd78e67",
   "metadata": {},
   "outputs": [],
   "source": [
    "species_list.remove('')"
   ]
  },
  {
   "cell_type": "code",
   "execution_count": 80,
   "id": "ca4e957c",
   "metadata": {},
   "outputs": [],
   "source": [
    "species_list.remove('sharks')"
   ]
  },
  {
   "cell_type": "code",
   "execution_count": 81,
   "id": "94ca37fe",
   "metadata": {},
   "outputs": [
    {
     "data": {
      "text/plain": [
       "['white shark',\n",
       " 'tiger shark',\n",
       " 'bull shark',\n",
       " 'blacktip shark',\n",
       " 'nurse shark',\n",
       " 'bronze whaler shark',\n",
       " 'mako shark',\n",
       " 'blue shark',\n",
       " 'wobbegong shark',\n",
       " 'hammerhead shark',\n",
       " 'small shark',\n",
       " 'raggedtooth shark',\n",
       " 'lemon shark',\n",
       " 'sandbar shark',\n",
       " 'grey reef shark',\n",
       " 'oceanic whitetip shark',\n",
       " 'spinner shark',\n",
       " 'unidentified shark',\n",
       " 'caribbean reef shark',\n",
       " 'reef shark',\n",
       " 'dogfish shark',\n",
       " 'sevengill shark',\n",
       " 'dusky shark',\n",
       " 'whitetip reef shark',\n",
       " 'carpet shark',\n",
       " 'basking shark',\n",
       " 'angel shark',\n",
       " 'small sharks',\n",
       " 'galapagos shark']"
      ]
     },
     "execution_count": 81,
     "metadata": {},
     "output_type": "execute_result"
    }
   ],
   "source": [
    "species_list"
   ]
  },
  {
   "cell_type": "code",
   "execution_count": 82,
   "id": "ed37095d",
   "metadata": {},
   "outputs": [
    {
     "data": {
      "text/plain": [
       "type                0\n",
       "country             4\n",
       "sex               157\n",
       "age               613\n",
       "injury              4\n",
       "fatality            2\n",
       "time              737\n",
       "species             0\n",
       "original_order      0\n",
       "species2            0\n",
       "dtype: int64"
      ]
     },
     "execution_count": 82,
     "metadata": {},
     "output_type": "execute_result"
    }
   ],
   "source": [
    "df4 = df4[df4['species2'].isin(species_list)]\n",
    "df4.isnull().sum()"
   ]
  },
  {
   "cell_type": "code",
   "execution_count": 83,
   "id": "007e2105",
   "metadata": {},
   "outputs": [
    {
     "name": "stderr",
     "output_type": "stream",
     "text": [
      "C:\\Users\\pagob\\AppData\\Local\\Temp\\ipykernel_10504\\2971522852.py:1: SettingWithCopyWarning: \n",
      "A value is trying to be set on a copy of a slice from a DataFrame\n",
      "\n",
      "See the caveats in the documentation: https://pandas.pydata.org/pandas-docs/stable/user_guide/indexing.html#returning-a-view-versus-a-copy\n",
      "  df4.drop(['age', 'time'], axis=1, inplace=True)\n"
     ]
    }
   ],
   "source": [
    "df4.drop(['age', 'time'], axis=1, inplace=True)"
   ]
  },
  {
   "cell_type": "code",
   "execution_count": 84,
   "id": "f9eb9a2b",
   "metadata": {},
   "outputs": [
    {
     "data": {
      "text/plain": [
       "species2\n",
       "white shark               628\n",
       "tiger shark               283\n",
       "bull shark                208\n",
       "blacktip shark            104\n",
       "nurse shark                97\n",
       "bronze whaler shark        69\n",
       "mako shark                 53\n",
       "blue shark                 52\n",
       "wobbegong shark            49\n",
       "hammerhead shark           48\n",
       "small shark                47\n",
       "raggedtooth shark          43\n",
       "lemon shark                34\n",
       "sandbar shark              30\n",
       "grey reef shark            29\n",
       "oceanic whitetip shark     24\n",
       "spinner shark              21\n",
       "unidentified shark         16\n",
       "caribbean reef shark       16\n",
       "reef shark                 13\n",
       "dogfish shark              10\n",
       "sevengill shark             9\n",
       "whitetip reef shark         7\n",
       "dusky shark                 7\n",
       "basking shark               7\n",
       "carpet shark                7\n",
       "angel shark                 6\n",
       "small sharks                6\n",
       "galapagos shark             6\n",
       "Name: count, dtype: int64"
      ]
     },
     "execution_count": 84,
     "metadata": {},
     "output_type": "execute_result"
    }
   ],
   "source": [
    "df4['species2'].value_counts()"
   ]
  },
  {
   "cell_type": "markdown",
   "id": "199d627a",
   "metadata": {},
   "source": [
    "***LIMPIEZA COLUMNA FATALITY***"
   ]
  },
  {
   "cell_type": "code",
   "execution_count": 85,
   "id": "73b49d6b",
   "metadata": {},
   "outputs": [
    {
     "data": {
      "text/plain": [
       "fatality\n",
       "n          1617\n",
       "y           293\n",
       "unknown      12\n",
       " n            3\n",
       "m             1\n",
       "2017          1\n",
       "Name: count, dtype: int64"
      ]
     },
     "execution_count": 85,
     "metadata": {},
     "output_type": "execute_result"
    }
   ],
   "source": [
    "df4['fatality'].value_counts()"
   ]
  },
  {
   "cell_type": "code",
   "execution_count": 86,
   "id": "a62c89fd",
   "metadata": {},
   "outputs": [],
   "source": [
    "#modificamos los datos de la columna fatality\n",
    "mask_unknown = (df4['fatality'] == '2017')"
   ]
  },
  {
   "cell_type": "code",
   "execution_count": 87,
   "id": "3578b485",
   "metadata": {},
   "outputs": [],
   "source": [
    "# Reemplazar las palabras en las filas seleccionadas\n",
    "df4.loc[mask_unknown, 'fatality'] = 'unknown'"
   ]
  },
  {
   "cell_type": "code",
   "execution_count": 88,
   "id": "b0cd52fa",
   "metadata": {},
   "outputs": [],
   "source": [
    "#modificamos los datos de la columna fatality\n",
    "mask_no = (df4['fatality'] == ' n')"
   ]
  },
  {
   "cell_type": "code",
   "execution_count": 89,
   "id": "d6072662",
   "metadata": {},
   "outputs": [],
   "source": [
    "# Reemplazar las palabras en las filas seleccionadas\n",
    "df4.loc[mask_no, 'fatality'] = 'n'"
   ]
  },
  {
   "cell_type": "code",
   "execution_count": 90,
   "id": "7a7ac85b",
   "metadata": {},
   "outputs": [],
   "source": [
    "#modificamos los datos de la columna fatality\n",
    "mask_unknown2 = (df4['fatality'] == 'm')"
   ]
  },
  {
   "cell_type": "code",
   "execution_count": 91,
   "id": "96121b5e",
   "metadata": {},
   "outputs": [],
   "source": [
    "# Reemplazar las palabras en las filas seleccionadas\n",
    "df4.loc[mask_unknown2, 'fatality'] = 'unknown'"
   ]
  },
  {
   "cell_type": "code",
   "execution_count": 92,
   "id": "6c59daf5",
   "metadata": {},
   "outputs": [
    {
     "data": {
      "text/plain": [
       "sex\n",
       "m      1570\n",
       "f       199\n",
       "m         1\n",
       "lli       1\n",
       "n         1\n",
       "Name: count, dtype: int64"
      ]
     },
     "execution_count": 92,
     "metadata": {},
     "output_type": "execute_result"
    }
   ],
   "source": [
    "df4['sex'].value_counts()"
   ]
  },
  {
   "cell_type": "code",
   "execution_count": 93,
   "id": "7af34399",
   "metadata": {},
   "outputs": [
    {
     "name": "stderr",
     "output_type": "stream",
     "text": [
      "C:\\Users\\pagob\\AppData\\Local\\Temp\\ipykernel_10504\\1651844470.py:1: SettingWithCopyWarning: \n",
      "A value is trying to be set on a copy of a slice from a DataFrame.\n",
      "Try using .loc[row_indexer,col_indexer] = value instead\n",
      "\n",
      "See the caveats in the documentation: https://pandas.pydata.org/pandas-docs/stable/user_guide/indexing.html#returning-a-view-versus-a-copy\n",
      "  df4['sex']=df4['sex'].str.replace(r'm\\s', 'm', regex=True)\n"
     ]
    }
   ],
   "source": [
    "df4['sex']=df4['sex'].str.replace(r'm\\s', 'm', regex=True)"
   ]
  },
  {
   "cell_type": "code",
   "execution_count": 94,
   "id": "eda26316",
   "metadata": {},
   "outputs": [
    {
     "name": "stderr",
     "output_type": "stream",
     "text": [
      "C:\\Users\\pagob\\AppData\\Local\\Temp\\ipykernel_10504\\2255273193.py:1: SettingWithCopyWarning: \n",
      "A value is trying to be set on a copy of a slice from a DataFrame.\n",
      "Try using .loc[row_indexer,col_indexer] = value instead\n",
      "\n",
      "See the caveats in the documentation: https://pandas.pydata.org/pandas-docs/stable/user_guide/indexing.html#returning-a-view-versus-a-copy\n",
      "  df4['sex']=df4['sex'].str.replace(r'n', 'unknown', regex=True)\n"
     ]
    }
   ],
   "source": [
    "df4['sex']=df4['sex'].str.replace(r'n', 'unknown', regex=True)"
   ]
  },
  {
   "cell_type": "code",
   "execution_count": 95,
   "id": "10c84a92",
   "metadata": {},
   "outputs": [
    {
     "name": "stderr",
     "output_type": "stream",
     "text": [
      "C:\\Users\\pagob\\AppData\\Local\\Temp\\ipykernel_10504\\841491761.py:1: SettingWithCopyWarning: \n",
      "A value is trying to be set on a copy of a slice from a DataFrame.\n",
      "Try using .loc[row_indexer,col_indexer] = value instead\n",
      "\n",
      "See the caveats in the documentation: https://pandas.pydata.org/pandas-docs/stable/user_guide/indexing.html#returning-a-view-versus-a-copy\n",
      "  df4['sex']=df4['sex'].str.replace(r'lli', 'unknown', regex=True)\n"
     ]
    }
   ],
   "source": [
    "df4['sex']=df4['sex'].str.replace(r'lli', 'unknown', regex=True)"
   ]
  },
  {
   "cell_type": "code",
   "execution_count": 96,
   "id": "0a14e87c",
   "metadata": {},
   "outputs": [
    {
     "data": {
      "text/plain": [
       "sex\n",
       "m          1571\n",
       "f           199\n",
       "unknown       2\n",
       "Name: count, dtype: int64"
      ]
     },
     "execution_count": 96,
     "metadata": {},
     "output_type": "execute_result"
    }
   ],
   "source": [
    "df4['sex'].value_counts()"
   ]
  },
  {
   "cell_type": "markdown",
   "id": "c707b429",
   "metadata": {},
   "source": [
    "***VISUALIZATION***"
   ]
  },
  {
   "cell_type": "code",
   "execution_count": 97,
   "id": "2b47e506",
   "metadata": {},
   "outputs": [],
   "source": [
    "#creamos un df con la variable especies y fatality\n",
    "df5 = df4.loc[:, ['species2', 'fatality']]\n",
    "df5.rename(columns={'species2': 'species'}, inplace=True)"
   ]
  },
  {
   "cell_type": "code",
   "execution_count": 98,
   "id": "3802db60",
   "metadata": {},
   "outputs": [],
   "source": [
    "#modificamos los datos de la columna fatality por integers\n",
    "no_fatality = (df5['fatality'] == 'n')\n",
    "# Reemplazar las palabras en las filas seleccionadas\n",
    "df5.loc[no_fatality, 'fatality'] = 0"
   ]
  },
  {
   "cell_type": "code",
   "execution_count": 99,
   "id": "ac1c6fde",
   "metadata": {},
   "outputs": [],
   "source": [
    "#modificamos los datos de la columna fatality por integers\n",
    "yes_fatality = (df5['fatality'] == 'y')\n",
    "# Reemplazar las palabras en las filas seleccionadas\n",
    "df5.loc[yes_fatality, 'fatality'] = 1"
   ]
  },
  {
   "cell_type": "code",
   "execution_count": null,
   "id": "219bcd86",
   "metadata": {},
   "outputs": [],
   "source": []
  },
  {
   "cell_type": "code",
   "execution_count": 100,
   "id": "e0a796ed",
   "metadata": {},
   "outputs": [
    {
     "data": {
      "image/png": "[encoded data removed]",
      "text/plain": [
       "<Figure size 640x480 with 1 Axes>"
      ]
     },
     "metadata": {},
     "output_type": "display_data"
    }
   ],
   "source": [
    "sns.histplot(x=df5['species'])\n",
    "plt.xticks(rotation=90)\n",
    "plt.title('Shark species vs number of attacks')\n",
    "plt.xlabel('shark species')\n",
    "plt.ylabel('attacks')\n",
    "\n",
    "plt.show()"
   ]
  },
  {
   "cell_type": "code",
   "execution_count": 101,
   "id": "745992d2",
   "metadata": {},
   "outputs": [
    {
     "data": {
      "image/png": "[encoded data removed]",
      "text/plain": [
       "<Figure size 640x480 with 1 Axes>"
      ]
     },
     "metadata": {},
     "output_type": "display_data"
    }
   ],
   "source": [
    "sharks = df5[\"species\"].value_counts()\n",
    "sharks.plot.pie(autopct=\"%.1f%%\");\n"
   ]
  },
  {
   "cell_type": "code",
   "execution_count": 148,
   "id": "0a0f7131",
   "metadata": {},
   "outputs": [
    {
     "data": {
      "image/png": "[encoded data removed]",
      "text/plain": [
       "<Figure size 640x480 with 1 Axes>"
      ]
     },
     "metadata": {},
     "output_type": "display_data"
    }
   ],
   "source": [
    "sns.histplot(data=df5, x=\"species\", hue=\"fatality\", multiple=\"stack\")\n",
    "plt.xticks(rotation=90);\n",
    "plt.title('Shark species vs number of attacks and fatality')\n",
    "plt.xlabel('shark species')\n",
    "plt.ylabel('attacks');\n",
    "\n",
    "#ordenar\n",
    "#quitar unknown\n",
    "#"
   ]
  },
  {
   "cell_type": "code",
   "execution_count": 141,
   "id": "d9f4febc",
   "metadata": {},
   "outputs": [
    {
     "data": {
      "image/png": "[encoded data removed]",
      "text/plain": [
       "<Figure size 640x480 with 1 Axes>"
      ]
     },
     "metadata": {},
     "output_type": "display_data"
    }
   ],
   "source": [
    "df5.groupby(\"species\")[[\"species\", \"fatality\"]].agg({\"species\":\"count\"}).plot(kind=\"bar\");"
   ]
  },
  {
   "cell_type": "code",
   "execution_count": 128,
   "id": "2ca2fcc8",
   "metadata": {},
   "outputs": [
    {
     "ename": "ValueError",
     "evalue": "cannot insert species, already exists",
     "output_type": "error",
     "traceback": [
      "\u001b[1;31m---------------------------------------------------------------------------\u001b[0m",
      "\u001b[1;31mValueError\u001b[0m                                Traceback (most recent call last)",
      "Cell \u001b[1;32mIn[128], line 2\u001b[0m\n\u001b[0;32m      1\u001b[0m \u001b[38;5;66;03m# top bar -> sum all values(smoker=No and smoker=Yes) to find y position of the bars\u001b[39;00m\n\u001b[1;32m----> 2\u001b[0m df \u001b[38;5;241m=\u001b[39m \u001b[43mdf5\u001b[49m\u001b[38;5;241;43m.\u001b[39;49m\u001b[43mgroupby\u001b[49m\u001b[43m(\u001b[49m\u001b[38;5;124;43m'\u001b[39;49m\u001b[38;5;124;43mspecies\u001b[39;49m\u001b[38;5;124;43m'\u001b[39;49m\u001b[43m)\u001b[49m\u001b[43m[\u001b[49m\u001b[43m[\u001b[49m\u001b[38;5;124;43m\"\u001b[39;49m\u001b[38;5;124;43mspecies\u001b[39;49m\u001b[38;5;124;43m\"\u001b[39;49m\u001b[43m,\u001b[49m\u001b[43m \u001b[49m\u001b[38;5;124;43m\"\u001b[39;49m\u001b[38;5;124;43mfatality\u001b[39;49m\u001b[38;5;124;43m\"\u001b[39;49m\u001b[43m]\u001b[49m\u001b[43m]\u001b[49m\u001b[38;5;241;43m.\u001b[39;49m\u001b[43mcount\u001b[49m\u001b[43m(\u001b[49m\u001b[43m)\u001b[49m\u001b[38;5;241;43m.\u001b[39;49m\u001b[43mreset_index\u001b[49m\u001b[43m(\u001b[49m\u001b[43m)\u001b[49m\n\u001b[0;32m      3\u001b[0m \u001b[38;5;28mprint\u001b[39m(df)\n\u001b[0;32m      4\u001b[0m \u001b[38;5;66;03m# bar chart 1 -> top bars (group of 'smoker=No')\u001b[39;00m\n",
      "File \u001b[1;32m~\\miniconda3\\envs\\ironhack\\lib\\site-packages\\pandas\\core\\frame.py:6217\u001b[0m, in \u001b[0;36mDataFrame.reset_index\u001b[1;34m(self, level, drop, inplace, col_level, col_fill, allow_duplicates, names)\u001b[0m\n\u001b[0;32m   6211\u001b[0m         \u001b[38;5;28;01mif\u001b[39;00m lab \u001b[38;5;129;01mis\u001b[39;00m \u001b[38;5;129;01mnot\u001b[39;00m \u001b[38;5;28;01mNone\u001b[39;00m:\n\u001b[0;32m   6212\u001b[0m             \u001b[38;5;66;03m# if we have the codes, extract the values with a mask\u001b[39;00m\n\u001b[0;32m   6213\u001b[0m             level_values \u001b[38;5;241m=\u001b[39m algorithms\u001b[38;5;241m.\u001b[39mtake(\n\u001b[0;32m   6214\u001b[0m                 level_values, lab, allow_fill\u001b[38;5;241m=\u001b[39m\u001b[38;5;28;01mTrue\u001b[39;00m, fill_value\u001b[38;5;241m=\u001b[39mlev\u001b[38;5;241m.\u001b[39m_na_value\n\u001b[0;32m   6215\u001b[0m             )\n\u001b[1;32m-> 6217\u001b[0m         \u001b[43mnew_obj\u001b[49m\u001b[38;5;241;43m.\u001b[39;49m\u001b[43minsert\u001b[49m\u001b[43m(\u001b[49m\n\u001b[0;32m   6218\u001b[0m \u001b[43m            \u001b[49m\u001b[38;5;241;43m0\u001b[39;49m\u001b[43m,\u001b[49m\n\u001b[0;32m   6219\u001b[0m \u001b[43m            \u001b[49m\u001b[43mname\u001b[49m\u001b[43m,\u001b[49m\n\u001b[0;32m   6220\u001b[0m \u001b[43m            \u001b[49m\u001b[43mlevel_values\u001b[49m\u001b[43m,\u001b[49m\n\u001b[0;32m   6221\u001b[0m \u001b[43m            \u001b[49m\u001b[43mallow_duplicates\u001b[49m\u001b[38;5;241;43m=\u001b[39;49m\u001b[43mallow_duplicates\u001b[49m\u001b[43m,\u001b[49m\n\u001b[0;32m   6222\u001b[0m \u001b[43m        \u001b[49m\u001b[43m)\u001b[49m\n\u001b[0;32m   6224\u001b[0m new_obj\u001b[38;5;241m.\u001b[39mindex \u001b[38;5;241m=\u001b[39m new_index\n\u001b[0;32m   6225\u001b[0m \u001b[38;5;28;01mif\u001b[39;00m \u001b[38;5;129;01mnot\u001b[39;00m inplace:\n",
      "File \u001b[1;32m~\\miniconda3\\envs\\ironhack\\lib\\site-packages\\pandas\\core\\frame.py:4780\u001b[0m, in \u001b[0;36mDataFrame.insert\u001b[1;34m(self, loc, column, value, allow_duplicates)\u001b[0m\n\u001b[0;32m   4774\u001b[0m     \u001b[38;5;28;01mraise\u001b[39;00m \u001b[38;5;167;01mValueError\u001b[39;00m(\n\u001b[0;32m   4775\u001b[0m         \u001b[38;5;124m\"\u001b[39m\u001b[38;5;124mCannot specify \u001b[39m\u001b[38;5;124m'\u001b[39m\u001b[38;5;124mallow_duplicates=True\u001b[39m\u001b[38;5;124m'\u001b[39m\u001b[38;5;124m when \u001b[39m\u001b[38;5;124m\"\u001b[39m\n\u001b[0;32m   4776\u001b[0m         \u001b[38;5;124m\"\u001b[39m\u001b[38;5;124m'\u001b[39m\u001b[38;5;124mself.flags.allows_duplicate_labels\u001b[39m\u001b[38;5;124m'\u001b[39m\u001b[38;5;124m is False.\u001b[39m\u001b[38;5;124m\"\u001b[39m\n\u001b[0;32m   4777\u001b[0m     )\n\u001b[0;32m   4778\u001b[0m \u001b[38;5;28;01mif\u001b[39;00m \u001b[38;5;129;01mnot\u001b[39;00m allow_duplicates \u001b[38;5;129;01mand\u001b[39;00m column \u001b[38;5;129;01min\u001b[39;00m \u001b[38;5;28mself\u001b[39m\u001b[38;5;241m.\u001b[39mcolumns:\n\u001b[0;32m   4779\u001b[0m     \u001b[38;5;66;03m# Should this be a different kind of error??\u001b[39;00m\n\u001b[1;32m-> 4780\u001b[0m     \u001b[38;5;28;01mraise\u001b[39;00m \u001b[38;5;167;01mValueError\u001b[39;00m(\u001b[38;5;124mf\u001b[39m\u001b[38;5;124m\"\u001b[39m\u001b[38;5;124mcannot insert \u001b[39m\u001b[38;5;132;01m{\u001b[39;00mcolumn\u001b[38;5;132;01m}\u001b[39;00m\u001b[38;5;124m, already exists\u001b[39m\u001b[38;5;124m\"\u001b[39m)\n\u001b[0;32m   4781\u001b[0m \u001b[38;5;28;01mif\u001b[39;00m \u001b[38;5;129;01mnot\u001b[39;00m \u001b[38;5;28misinstance\u001b[39m(loc, \u001b[38;5;28mint\u001b[39m):\n\u001b[0;32m   4782\u001b[0m     \u001b[38;5;28;01mraise\u001b[39;00m \u001b[38;5;167;01mTypeError\u001b[39;00m(\u001b[38;5;124m\"\u001b[39m\u001b[38;5;124mloc must be int\u001b[39m\u001b[38;5;124m\"\u001b[39m)\n",
      "\u001b[1;31mValueError\u001b[0m: cannot insert species, already exists"
     ]
    }
   ],
   "source": [
    "# top bar -> sum all values(smoker=No and smoker=Yes) to find y position of the bars\n",
    "df = df5.groupby('species')[[\"species\", \"fatality\"]].count().reset_index()\n",
    "print(df)\n",
    "# bar chart 1 -> top bars (group of 'smoker=No')\n",
    "sns.barplot(x=\"species\",  y=\"fatality\", data=df, color='darkblue')\n",
    "\n",
    "plt.show()"
   ]
  },
  {
   "cell_type": "code",
   "execution_count": 115,
   "id": "0071de91",
   "metadata": {},
   "outputs": [
    {
     "data": {
      "text/html": [
       "<div>\n",
       "<style scoped>\n",
       "    .dataframe tbody tr th:only-of-type {\n",
       "        vertical-align: middle;\n",
       "    }\n",
       "\n",
       "    .dataframe tbody tr th {\n",
       "        vertical-align: top;\n",
       "    }\n",
       "\n",
       "    .dataframe thead th {\n",
       "        text-align: right;\n",
       "    }\n",
       "</style>\n",
       "<table border=\"1\" class=\"dataframe\">\n",
       "  <thead>\n",
       "    <tr style=\"text-align: right;\">\n",
       "      <th></th>\n",
       "      <th>species</th>\n",
       "      <th>fatality</th>\n",
       "    </tr>\n",
       "  </thead>\n",
       "  <tbody>\n",
       "    <tr>\n",
       "      <th>0</th>\n",
       "      <td>white shark</td>\n",
       "      <td>0</td>\n",
       "    </tr>\n",
       "    <tr>\n",
       "      <th>4</th>\n",
       "      <td>tiger shark</td>\n",
       "      <td>0</td>\n",
       "    </tr>\n",
       "    <tr>\n",
       "      <th>6</th>\n",
       "      <td>tiger shark</td>\n",
       "      <td>1</td>\n",
       "    </tr>\n",
       "    <tr>\n",
       "      <th>7</th>\n",
       "      <td>lemon shark</td>\n",
       "      <td>0</td>\n",
       "    </tr>\n",
       "    <tr>\n",
       "      <th>8</th>\n",
       "      <td>bull shark</td>\n",
       "      <td>0</td>\n",
       "    </tr>\n",
       "    <tr>\n",
       "      <th>...</th>\n",
       "      <td>...</td>\n",
       "      <td>...</td>\n",
       "    </tr>\n",
       "    <tr>\n",
       "      <th>6276</th>\n",
       "      <td>tiger shark</td>\n",
       "      <td>1</td>\n",
       "    </tr>\n",
       "    <tr>\n",
       "      <th>6293</th>\n",
       "      <td>blue shark</td>\n",
       "      <td>1</td>\n",
       "    </tr>\n",
       "    <tr>\n",
       "      <th>6294</th>\n",
       "      <td>blue shark</td>\n",
       "      <td>1</td>\n",
       "    </tr>\n",
       "    <tr>\n",
       "      <th>6295</th>\n",
       "      <td>blue shark</td>\n",
       "      <td>1</td>\n",
       "    </tr>\n",
       "    <tr>\n",
       "      <th>6296</th>\n",
       "      <td>nurse shark</td>\n",
       "      <td>1</td>\n",
       "    </tr>\n",
       "  </tbody>\n",
       "</table>\n",
       "<p>1929 rows × 2 columns</p>\n",
       "</div>"
      ],
      "text/plain": [
       "          species fatality\n",
       "0     white shark        0\n",
       "4     tiger shark        0\n",
       "6     tiger shark        1\n",
       "7     lemon shark        0\n",
       "8      bull shark        0\n",
       "...           ...      ...\n",
       "6276  tiger shark        1\n",
       "6293   blue shark        1\n",
       "6294   blue shark        1\n",
       "6295   blue shark        1\n",
       "6296  nurse shark        1\n",
       "\n",
       "[1929 rows x 2 columns]"
      ]
     },
     "execution_count": 115,
     "metadata": {},
     "output_type": "execute_result"
    }
   ],
   "source": [
    "df5"
   ]
  },
  {
   "cell_type": "code",
   "execution_count": 116,
   "id": "07bd4129",
   "metadata": {},
   "outputs": [
    {
     "data": {
      "text/html": [
       "<div>\n",
       "<style scoped>\n",
       "    .dataframe tbody tr th:only-of-type {\n",
       "        vertical-align: middle;\n",
       "    }\n",
       "\n",
       "    .dataframe tbody tr th {\n",
       "        vertical-align: top;\n",
       "    }\n",
       "\n",
       "    .dataframe thead th {\n",
       "        text-align: right;\n",
       "    }\n",
       "</style>\n",
       "<table border=\"1\" class=\"dataframe\">\n",
       "  <thead>\n",
       "    <tr style=\"text-align: right;\">\n",
       "      <th></th>\n",
       "      <th>fatality</th>\n",
       "    </tr>\n",
       "    <tr>\n",
       "      <th>species</th>\n",
       "      <th></th>\n",
       "    </tr>\n",
       "  </thead>\n",
       "  <tbody>\n",
       "    <tr>\n",
       "      <th>angel shark</th>\n",
       "      <td>6</td>\n",
       "    </tr>\n",
       "    <tr>\n",
       "      <th>basking shark</th>\n",
       "      <td>7</td>\n",
       "    </tr>\n",
       "    <tr>\n",
       "      <th>blacktip shark</th>\n",
       "      <td>104</td>\n",
       "    </tr>\n",
       "    <tr>\n",
       "      <th>blue shark</th>\n",
       "      <td>52</td>\n",
       "    </tr>\n",
       "    <tr>\n",
       "      <th>bronze whaler shark</th>\n",
       "      <td>68</td>\n",
       "    </tr>\n",
       "    <tr>\n",
       "      <th>bull shark</th>\n",
       "      <td>208</td>\n",
       "    </tr>\n",
       "    <tr>\n",
       "      <th>caribbean reef shark</th>\n",
       "      <td>16</td>\n",
       "    </tr>\n",
       "    <tr>\n",
       "      <th>carpet shark</th>\n",
       "      <td>7</td>\n",
       "    </tr>\n",
       "    <tr>\n",
       "      <th>dogfish shark</th>\n",
       "      <td>10</td>\n",
       "    </tr>\n",
       "    <tr>\n",
       "      <th>dusky shark</th>\n",
       "      <td>7</td>\n",
       "    </tr>\n",
       "    <tr>\n",
       "      <th>galapagos shark</th>\n",
       "      <td>6</td>\n",
       "    </tr>\n",
       "    <tr>\n",
       "      <th>grey reef shark</th>\n",
       "      <td>29</td>\n",
       "    </tr>\n",
       "    <tr>\n",
       "      <th>hammerhead shark</th>\n",
       "      <td>48</td>\n",
       "    </tr>\n",
       "    <tr>\n",
       "      <th>lemon shark</th>\n",
       "      <td>34</td>\n",
       "    </tr>\n",
       "    <tr>\n",
       "      <th>mako shark</th>\n",
       "      <td>53</td>\n",
       "    </tr>\n",
       "    <tr>\n",
       "      <th>nurse shark</th>\n",
       "      <td>97</td>\n",
       "    </tr>\n",
       "    <tr>\n",
       "      <th>oceanic whitetip shark</th>\n",
       "      <td>24</td>\n",
       "    </tr>\n",
       "    <tr>\n",
       "      <th>raggedtooth shark</th>\n",
       "      <td>43</td>\n",
       "    </tr>\n",
       "    <tr>\n",
       "      <th>reef shark</th>\n",
       "      <td>13</td>\n",
       "    </tr>\n",
       "    <tr>\n",
       "      <th>sandbar shark</th>\n",
       "      <td>30</td>\n",
       "    </tr>\n",
       "    <tr>\n",
       "      <th>sevengill shark</th>\n",
       "      <td>9</td>\n",
       "    </tr>\n",
       "    <tr>\n",
       "      <th>small shark</th>\n",
       "      <td>47</td>\n",
       "    </tr>\n",
       "    <tr>\n",
       "      <th>small sharks</th>\n",
       "      <td>6</td>\n",
       "    </tr>\n",
       "    <tr>\n",
       "      <th>spinner shark</th>\n",
       "      <td>21</td>\n",
       "    </tr>\n",
       "    <tr>\n",
       "      <th>tiger shark</th>\n",
       "      <td>283</td>\n",
       "    </tr>\n",
       "    <tr>\n",
       "      <th>unidentified shark</th>\n",
       "      <td>16</td>\n",
       "    </tr>\n",
       "    <tr>\n",
       "      <th>white shark</th>\n",
       "      <td>627</td>\n",
       "    </tr>\n",
       "    <tr>\n",
       "      <th>whitetip reef shark</th>\n",
       "      <td>7</td>\n",
       "    </tr>\n",
       "    <tr>\n",
       "      <th>wobbegong shark</th>\n",
       "      <td>49</td>\n",
       "    </tr>\n",
       "  </tbody>\n",
       "</table>\n",
       "</div>"
      ],
      "text/plain": [
       "                        fatality\n",
       "species                         \n",
       "angel shark                    6\n",
       "basking shark                  7\n",
       "blacktip shark               104\n",
       "blue shark                    52\n",
       "bronze whaler shark           68\n",
       "bull shark                   208\n",
       "caribbean reef shark          16\n",
       "carpet shark                   7\n",
       "dogfish shark                 10\n",
       "dusky shark                    7\n",
       "galapagos shark                6\n",
       "grey reef shark               29\n",
       "hammerhead shark              48\n",
       "lemon shark                   34\n",
       "mako shark                    53\n",
       "nurse shark                   97\n",
       "oceanic whitetip shark        24\n",
       "raggedtooth shark             43\n",
       "reef shark                    13\n",
       "sandbar shark                 30\n",
       "sevengill shark                9\n",
       "small shark                   47\n",
       "small sharks                   6\n",
       "spinner shark                 21\n",
       "tiger shark                  283\n",
       "unidentified shark            16\n",
       "white shark                  627\n",
       "whitetip reef shark            7\n",
       "wobbegong shark               49"
      ]
     },
     "execution_count": 116,
     "metadata": {},
     "output_type": "execute_result"
    }
   ],
   "source": [
    "df5.groupby(\"species\").agg(\"count\")"
   ]
  },
  {
   "cell_type": "code",
   "execution_count": null,
   "id": "643f2264",
   "metadata": {},
   "outputs": [],
   "source": []
  },
  {
   "cell_type": "code",
   "execution_count": null,
   "id": "6a3b43e7",
   "metadata": {},
   "outputs": [],
   "source": []
  }
 ],
 "metadata": {
  "kernelspec": {
   "display_name": "ironhack",
   "language": "python",
   "name": "ironhack"
  },
  "language_info": {
   "codemirror_mode": {
    "name": "ipython",
    "version": 3
   },
   "file_extension": ".py",
   "mimetype": "text/x-python",
   "name": "python",
   "nbconvert_exporter": "python",
   "pygments_lexer": "ipython3",
   "version": "3.10.9"
  }
 },
 "nbformat": 4,
 "nbformat_minor": 5
}
