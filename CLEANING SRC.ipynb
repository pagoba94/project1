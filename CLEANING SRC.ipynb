{
 "cells": [
  {
   "cell_type": "code",
   "execution_count": 12,
   "id": "3f282255",
   "metadata": {},
   "outputs": [],
   "source": [
    "import pandas as pd\n",
    "import src"
   ]
  },
  {
   "cell_type": "code",
   "execution_count": 13,
   "id": "fde1bcd4",
   "metadata": {},
   "outputs": [],
   "source": [
    "df=pd.read_csv('data/attacks.csv', encoding='latin')"
   ]
  },
  {
   "cell_type": "code",
   "execution_count": 14,
   "id": "744f7070",
   "metadata": {},
   "outputs": [
    {
     "ename": "NameError",
     "evalue": "name 'basic_cleaning' is not defined",
     "output_type": "error",
     "traceback": [
      "\u001b[1;31m---------------------------------------------------------------------------\u001b[0m",
      "\u001b[1;31mNameError\u001b[0m                                 Traceback (most recent call last)",
      "Cell \u001b[1;32mIn[14], line 1\u001b[0m\n\u001b[1;32m----> 1\u001b[0m df_clean \u001b[38;5;241m=\u001b[39m \u001b[43mbasic_cleaning\u001b[49m()\n",
      "\u001b[1;31mNameError\u001b[0m: name 'basic_cleaning' is not defined"
     ]
    }
   ],
   "source": [
    "df_clean = basic_cleaning()"
   ]
  },
  {
   "cell_type": "code",
   "execution_count": null,
   "id": "04026ebf",
   "metadata": {},
   "outputs": [],
   "source": []
  }
 ],
 "metadata": {
  "kernelspec": {
   "display_name": "ironhack",
   "language": "python",
   "name": "ironhack"
  },
  "language_info": {
   "codemirror_mode": {
    "name": "ipython",
    "version": 3
   },
   "file_extension": ".py",
   "mimetype": "text/x-python",
   "name": "python",
   "nbconvert_exporter": "python",
   "pygments_lexer": "ipython3",
   "version": "3.10.9"
  }
 },
 "nbformat": 4,
 "nbformat_minor": 5
}
