{
 "cells": [
  {
   "cell_type": "code",
   "execution_count": 14,
   "id": "3421f44d",
   "metadata": {},
   "outputs": [],
   "source": [
    "import pandas as pd\n",
    "import re"
   ]
  },
  {
   "cell_type": "code",
   "execution_count": 15,
   "id": "85b29a26",
   "metadata": {},
   "outputs": [],
   "source": [
    "def basic_cleaning(df):\n",
    "    #modificamos los espacios blancos en los titulos de las las columnas por añadimos _\n",
    "    df= df.applymap(lambda x: x.lower() if type(x) == str else x)\n",
    "    df= df.columns = [i.lower().replace(\" \", \"_\") for i in df.columns]\n",
    "\n",
    "    return df"
   ]
  },
  {
   "cell_type": "code",
   "execution_count": 3,
   "id": "eb3d5743",
   "metadata": {},
   "outputs": [],
   "source": [
    "def cleaning_df1():\n",
    "    \n",
    "    df1=df.copy()\n",
    "    df.dropna(subset=['date', 'type', 'country', 'area', 'location', 'activity', 'sex_', 'species_', ], how='all')\n",
    "    df1.rename(columns={'species_': 'species'}, inplace=True)\n",
    "    \n",
    "    return df1"
   ]
  },
  {
   "cell_type": "code",
   "execution_count": 4,
   "id": "eae9eac8",
   "metadata": {},
   "outputs": [],
   "source": [
    "def cleaning_df2():\n",
    "    df_no_dates= df1.drop(['case_number', 'date','year'], axis=1)\n",
    "    df2=df_no_dates.copy()\n",
    "    \n",
    "    return df2"
   ]
  },
  {
   "cell_type": "code",
   "execution_count": 5,
   "id": "b15e473d",
   "metadata": {},
   "outputs": [],
   "source": [
    "def cleaning_df3():\n",
    "    df_species=df2.dropna(subset=['species'])\n",
    "    df3=df_species.copy()\n",
    "    #deletting anything that's not a letter\n",
    "    df3['species2'] = df3['species'].apply(lambda x: re.sub(r'\\W+', ' ', x))\n",
    "    #It searches for any numeric character (\\d) followed by an optional character (.) and removes it\n",
    "    df3['species2']=df3['species2'].apply(lambda x: re.sub(r'\\d.?', '', x, flags=re.IGNORECASE))\n",
    "    \n",
    "    \n",
    "    return df3"
   ]
  },
  {
   "cell_type": "code",
   "execution_count": 6,
   "id": "f7400303",
   "metadata": {},
   "outputs": [],
   "source": [
    "def species_cleaning():\n",
    "    species_values=['white', 'nurse', 'blacktip', 'tiger', 'wobbegong', 'bull', 'blacktip', 'hammerhead', 'Mako', 'lemon', 'blacktip or spinner shark', 'largeako', 'oceanic whitetip', 'bronze whaler', 'spinner', 'caribbean reef', 'blue pointer', 'blue shark' ]\n",
    "    not_involved= ['Shark involvement prior to death unconfirmed', 'Shark involvement prior to death not confirmed', 'Shark involvement suspected but not confirmed', 'Invalid']\n",
    "    \n",
    "    for case in not_involved:\n",
    "        df3.drop((df3['species2'] == case).index)\n",
    "\n",
    "    #modificamos las celdas donde aparece una especie\n",
    "    for specie in species_values:\n",
    "        mask = df3['species2'].str.contains(specie, case=False)\n",
    "        df.loc[mask, 'species2'] = specie\n",
    "        \n",
    "    #elimina las letras m y a si se encuentran fuera de palabras\n",
    "    df3['species2'].str.replace(r'\\s[m|a]\\s', ' ', regex=True)\n",
    "    df3['species2'].str.replace(r'^m|a\\s', '', regex=True)\n",
    "    df3['species2'].str.replace(r'\\sm|as$', '', regex=True)\n",
    "    \n",
    "    #eliminamos las palabras con dos letras de toda la columna\n",
    "    df3['species2'].apply(lambda x: ' '.join([word for word in x.split() if len(word) > 2]))\n",
    "    \n",
    "    \n",
    "    return df3"
   ]
  },
  {
   "cell_type": "code",
   "execution_count": 7,
   "id": "ef50b4f9",
   "metadata": {},
   "outputs": [],
   "source": [
    "df=pd.read_csv('data/attacks.csv', encoding='latin')"
   ]
  },
  {
   "cell_type": "code",
   "execution_count": 16,
   "id": "174d2736",
   "metadata": {},
   "outputs": [
    {
     "ename": "AttributeError",
     "evalue": "'list' object has no attribute 'columns'",
     "output_type": "error",
     "traceback": [
      "\u001b[1;31m---------------------------------------------------------------------------\u001b[0m",
      "\u001b[1;31mAttributeError\u001b[0m                            Traceback (most recent call last)",
      "Cell \u001b[1;32mIn[16], line 1\u001b[0m\n\u001b[1;32m----> 1\u001b[0m df_clean \u001b[38;5;241m=\u001b[39m \u001b[43mbasic_cleaning\u001b[49m\u001b[43m(\u001b[49m\u001b[43mdf\u001b[49m\u001b[43m)\u001b[49m\n",
      "Cell \u001b[1;32mIn[15], line 4\u001b[0m, in \u001b[0;36mbasic_cleaning\u001b[1;34m(df)\u001b[0m\n\u001b[0;32m      1\u001b[0m \u001b[38;5;28;01mdef\u001b[39;00m \u001b[38;5;21mbasic_cleaning\u001b[39m(df):\n\u001b[0;32m      2\u001b[0m     \u001b[38;5;66;03m#modificamos los espacios blancos en los titulos de las las columnas por añadimos _\u001b[39;00m\n\u001b[0;32m      3\u001b[0m     df\u001b[38;5;241m=\u001b[39m df\u001b[38;5;241m.\u001b[39mapplymap(\u001b[38;5;28;01mlambda\u001b[39;00m x: x\u001b[38;5;241m.\u001b[39mlower() \u001b[38;5;28;01mif\u001b[39;00m \u001b[38;5;28mtype\u001b[39m(x) \u001b[38;5;241m==\u001b[39m \u001b[38;5;28mstr\u001b[39m \u001b[38;5;28;01melse\u001b[39;00m x)\n\u001b[1;32m----> 4\u001b[0m     df\u001b[38;5;241m=\u001b[39m df\u001b[38;5;241m.\u001b[39mcolumns \u001b[38;5;241m=\u001b[39m [i\u001b[38;5;241m.\u001b[39mlower()\u001b[38;5;241m.\u001b[39mreplace(\u001b[38;5;124m\"\u001b[39m\u001b[38;5;124m \u001b[39m\u001b[38;5;124m\"\u001b[39m, \u001b[38;5;124m\"\u001b[39m\u001b[38;5;124m_\u001b[39m\u001b[38;5;124m\"\u001b[39m) \u001b[38;5;28;01mfor\u001b[39;00m i \u001b[38;5;129;01min\u001b[39;00m df\u001b[38;5;241m.\u001b[39mcolumns]\n\u001b[0;32m      6\u001b[0m     \u001b[38;5;28;01mreturn\u001b[39;00m df\n",
      "\u001b[1;31mAttributeError\u001b[0m: 'list' object has no attribute 'columns'"
     ]
    }
   ],
   "source": [
    "df_clean = basic_cleaning()"
   ]
  },
  {
   "cell_type": "code",
   "execution_count": null,
   "id": "096a65f9",
   "metadata": {},
   "outputs": [],
   "source": []
  },
  {
   "cell_type": "code",
   "execution_count": null,
   "id": "8043aae5",
   "metadata": {},
   "outputs": [],
   "source": []
  },
  {
   "cell_type": "code",
   "execution_count": null,
   "id": "924dc8cf",
   "metadata": {},
   "outputs": [],
   "source": []
  },
  {
   "cell_type": "code",
   "execution_count": null,
   "id": "c22a2f0e",
   "metadata": {},
   "outputs": [],
   "source": []
  }
 ],
 "metadata": {
  "kernelspec": {
   "display_name": "ironhack",
   "language": "python",
   "name": "ironhack"
  },
  "language_info": {
   "codemirror_mode": {
    "name": "ipython",
    "version": 3
   },
   "file_extension": ".py",
   "mimetype": "text/x-python",
   "name": "python",
   "nbconvert_exporter": "python",
   "pygments_lexer": "ipython3",
   "version": "3.10.9"
  }
 },
 "nbformat": 4,
 "nbformat_minor": 5
}
