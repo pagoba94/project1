{
 "cells": [
  {
   "cell_type": "code",
   "execution_count": 7,
   "id": "355d845c",
   "metadata": {},
   "outputs": [],
   "source": [
    "species_values=['white', 'nurse', 'blacktip', 'tiger', 'wobbegong', 'bull', 'blacktip', 'hammerhead', 'Mako', 'lemon', 'blacktip or spinner shark', 'largeako', 'oceanic whitetip', 'bronze whaler', 'spinner', 'caribbean reef', 'blue pointer', 'blue shark' ]\n"
   ]
  },
  {
   "cell_type": "code",
   "execution_count": 8,
   "id": "557d4f02",
   "metadata": {},
   "outputs": [],
   "source": [
    "def basic_cleaning():\n",
    "    #modificamos los espacios blancos en los titulos de las las columnas por añadimos _\n",
    "    df.applymap(lambda x: x.lower() if type(x) == str else x)\n",
    "    df.columns = [i.lower().replace(\" \", \"_\") for i in df.columns]\n",
    "\n",
    "    return df"
   ]
  },
  {
   "cell_type": "code",
   "execution_count": 11,
   "id": "c3387e08",
   "metadata": {},
   "outputs": [],
   "source": [
    "def cleaning_df1():\n",
    "    \n",
    "    df1=df.copy()\n",
    "    df.dropna(subset=['date', 'type', 'country', 'area', 'location', 'activity', 'sex_', 'species_', ], how='all')\n",
    "    df1.rename(columns={'species_': 'species'}, inplace=True)\n",
    "    \n",
    "    return df1"
   ]
  },
  {
   "cell_type": "code",
   "execution_count": 12,
   "id": "1587b9c0",
   "metadata": {},
   "outputs": [],
   "source": [
    "def cleaning_df2():\n",
    "    df_no_dates= df1.drop(['case_number', 'date','year'], axis=1)\n",
    "    df2=df_no_dates.copy()\n",
    "    \n",
    "    return df2"
   ]
  },
  {
   "cell_type": "code",
   "execution_count": 13,
   "id": "8d4bdd16",
   "metadata": {},
   "outputs": [],
   "source": [
    "def cleaning_df3():\n",
    "    df_species=df2.dropna(subset=['species'])\n",
    "    df3=df_species.copy()\n",
    "    #deletting anything that's not a letter\n",
    "    df3['species2'] = df3['species'].apply(lambda x: re.sub(r'\\W+', ' ', x))\n",
    "    #It searches for any numeric character (\\d) followed by an optional character (.) and removes it\n",
    "    df3['species2']=df3['species2'].apply(lambda x: re.sub(r'\\d.?', '', x, flags=re.IGNORECASE))\n",
    "    \n",
    "    \n",
    "    \n",
    "    \n",
    "    \n",
    "    return df3"
   ]
  },
  {
   "cell_type": "code",
   "execution_count": 14,
   "id": "b9a475a6",
   "metadata": {},
   "outputs": [],
   "source": [
    "species_values=['white', 'nurse', 'blacktip', 'tiger', 'wobbegong', 'bull', 'blacktip', 'hammerhead', 'Mako', 'lemon', 'blacktip or spinner shark', 'largeako', 'oceanic whitetip', 'bronze whaler', 'spinner', 'caribbean reef', 'blue pointer', 'blue shark' ]"
   ]
  },
  {
   "cell_type": "code",
   "execution_count": 17,
   "id": "05fa901b",
   "metadata": {},
   "outputs": [],
   "source": [
    "not_involved= ['Shark involvement prior to death unconfirmed', 'Shark involvement prior to death not confirmed', 'Shark involvement suspected but not confirmed', 'Invalid']"
   ]
  },
  {
   "cell_type": "code",
   "execution_count": 18,
   "id": "45528a94",
   "metadata": {},
   "outputs": [],
   "source": [
    "def species_cleaning():\n",
    "    \n",
    "    for case in not_involved:\n",
    "        df3.drop((df3['species2'] == case).index)\n",
    "\n",
    "    #modificamos las celdas donde aparece una especie\n",
    "    for specie in species_values:\n",
    "        mask = df3['species2'].str.contains(specie, case=False)\n",
    "        df.loc[mask, 'species2'] = specie\n",
    "        \n",
    "    #elimina las letras m y a si se encuentran entre espacios\n",
    "    df3['species2'].str.replace(r'\\s[m|a]\\s', ' ', regex=True)\n",
    "    df3['species2'] = df3['species2'].str.replace(r'^m|a\\s', '', regex=True)\n",
    "    df3['species2'] = df3['species2'].str.replace(r'\\sm|as$', '', regex=True)\n",
    "    \n",
    "    return df3"
   ]
  },
  {
   "cell_type": "code",
   "execution_count": null,
   "id": "e9ea88f3",
   "metadata": {},
   "outputs": [],
   "source": []
  }
 ],
 "metadata": {
  "kernelspec": {
   "display_name": "ironhack",
   "language": "python",
   "name": "ironhack"
  },
  "language_info": {
   "codemirror_mode": {
    "name": "ipython",
    "version": 3
   },
   "file_extension": ".py",
   "mimetype": "text/x-python",
   "name": "python",
   "nbconvert_exporter": "python",
   "pygments_lexer": "ipython3",
   "version": "3.10.9"
  }
 },
 "nbformat": 4,
 "nbformat_minor": 5
}
